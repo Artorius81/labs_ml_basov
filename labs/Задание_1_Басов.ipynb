{
  "nbformat": 4,
  "nbformat_minor": 0,
  "metadata": {
    "colab": {
      "provenance": [],
      "include_colab_link": true
    },
    "kernelspec": {
      "name": "python3",
      "display_name": "Python 3"
    },
    "language_info": {
      "name": "python"
    }
  },
  "cells": [
    {
      "cell_type": "markdown",
      "metadata": {
        "id": "view-in-github",
        "colab_type": "text"
      },
      "source": [
        "<a href=\"https://colab.research.google.com/github/Artorius81/labs_ml_basov/blob/main/%D0%97%D0%B0%D0%B4%D0%B0%D0%BD%D0%B8%D0%B5_1_%D0%91%D0%B0%D1%81%D0%BE%D0%B2.ipynb\" target=\"_parent\"><img src=\"https://colab.research.google.com/assets/colab-badge.svg\" alt=\"Open In Colab\"/></a>"
      ]
    },
    {
      "cell_type": "markdown",
      "source": [
        "#Задание по практике 1"
      ],
      "metadata": {
        "id": "GPeCjINIB7yD"
      }
    },
    {
      "cell_type": "markdown",
      "source": [
        "##Загрузка датасета\n",
        "В файле classification datasets расположены ссылки на датасеты. Выберите один в соответствии со своим вариантом, скачайте и прочитайте файл\n",
        "\n",
        "**Не забудьте загрузить нужные библиотеки**\n",
        "\n",
        "Например: pip3 install pandas"
      ],
      "metadata": {
        "id": "GE87C5erCBDJ"
      }
    },
    {
      "cell_type": "code",
      "source": [
        "import pandas as pd"
      ],
      "metadata": {
        "id": "WnSz-AhVEk3h"
      },
      "execution_count": 1,
      "outputs": []
    },
    {
      "cell_type": "code",
      "execution_count": 3,
      "metadata": {
        "id": "ohUbus7eB5q6",
        "colab": {
          "base_uri": "https://localhost:8080/",
          "height": 493
        },
        "outputId": "25769412-12b4-4902-a948-52914b5da925"
      },
      "outputs": [
        {
          "output_type": "execute_result",
          "data": {
            "text/plain": [
              "             City Population Violent crime  \\\n",
              "0        Adelanto     33,005           212   \n",
              "1    Agoura Hills     20,970            15   \n",
              "2         Alameda     78,613           148   \n",
              "3          Albany     19,723            34   \n",
              "4       Alhambra3     86,175           168   \n",
              "..            ...        ...           ...   \n",
              "455   Yountville3      3,030             7   \n",
              "456         Yreka      7,507            47   \n",
              "457     Yuba City     65,974           216   \n",
              "458       Yucaipa     53,498            94   \n",
              "459  Yucca Valley     21,672           151   \n",
              "\n",
              "     Murder and nonnegligent manslaughter Rape (revised definition)  \\\n",
              "0                                       2                        14   \n",
              "1                                       0                         1   \n",
              "2                                       2                         7   \n",
              "3                                       1                         6   \n",
              "4                                       1                        13   \n",
              "..                                    ...                       ...   \n",
              "455                                     0                         0   \n",
              "456                                     1                         4   \n",
              "457                                     0                        28   \n",
              "458                                     2                         8   \n",
              "459                                     0                         8   \n",
              "\n",
              "     Rape (legacy definition) Robbery Aggravated assault Property crime  \\\n",
              "0                         NaN      48                148            808   \n",
              "1                         NaN       6                  8            310   \n",
              "2                         NaN      61                 78          1,819   \n",
              "3                         NaN      16                 11            605   \n",
              "4                         NaN      74                 80          1,929   \n",
              "..                        ...     ...                ...            ...   \n",
              "455                       NaN       0                  7             46   \n",
              "456                       NaN       4                 38            309   \n",
              "457                       NaN      66                122          1,792   \n",
              "458                       NaN      22                 62          1,309   \n",
              "459                       NaN      30                113            664   \n",
              "\n",
              "    Burglary Larceny-theft Motor vehicle theft Arson  \n",
              "0        434           254                 120    24  \n",
              "1         82           217                  11     0  \n",
              "2        228         1,245                 346    18  \n",
              "3         95           447                  63     0  \n",
              "4        305         1,413                 211     6  \n",
              "..       ...           ...                 ...   ...  \n",
              "455        7            36                   3     0  \n",
              "456       85           188                  36     1  \n",
              "457      429         1,160                 203    14  \n",
              "458      263           838                 208    12  \n",
              "459      217           381                  66     8  \n",
              "\n",
              "[460 rows x 13 columns]"
            ],
            "text/html": [
              "\n",
              "  <div id=\"df-3cec4a6d-6c49-434c-ae58-34beb6c69519\" class=\"colab-df-container\">\n",
              "    <div>\n",
              "<style scoped>\n",
              "    .dataframe tbody tr th:only-of-type {\n",
              "        vertical-align: middle;\n",
              "    }\n",
              "\n",
              "    .dataframe tbody tr th {\n",
              "        vertical-align: top;\n",
              "    }\n",
              "\n",
              "    .dataframe thead th {\n",
              "        text-align: right;\n",
              "    }\n",
              "</style>\n",
              "<table border=\"1\" class=\"dataframe\">\n",
              "  <thead>\n",
              "    <tr style=\"text-align: right;\">\n",
              "      <th></th>\n",
              "      <th>City</th>\n",
              "      <th>Population</th>\n",
              "      <th>Violent crime</th>\n",
              "      <th>Murder and nonnegligent manslaughter</th>\n",
              "      <th>Rape (revised definition)</th>\n",
              "      <th>Rape (legacy definition)</th>\n",
              "      <th>Robbery</th>\n",
              "      <th>Aggravated assault</th>\n",
              "      <th>Property crime</th>\n",
              "      <th>Burglary</th>\n",
              "      <th>Larceny-theft</th>\n",
              "      <th>Motor vehicle theft</th>\n",
              "      <th>Arson</th>\n",
              "    </tr>\n",
              "  </thead>\n",
              "  <tbody>\n",
              "    <tr>\n",
              "      <th>0</th>\n",
              "      <td>Adelanto</td>\n",
              "      <td>33,005</td>\n",
              "      <td>212</td>\n",
              "      <td>2</td>\n",
              "      <td>14</td>\n",
              "      <td>NaN</td>\n",
              "      <td>48</td>\n",
              "      <td>148</td>\n",
              "      <td>808</td>\n",
              "      <td>434</td>\n",
              "      <td>254</td>\n",
              "      <td>120</td>\n",
              "      <td>24</td>\n",
              "    </tr>\n",
              "    <tr>\n",
              "      <th>1</th>\n",
              "      <td>Agoura Hills</td>\n",
              "      <td>20,970</td>\n",
              "      <td>15</td>\n",
              "      <td>0</td>\n",
              "      <td>1</td>\n",
              "      <td>NaN</td>\n",
              "      <td>6</td>\n",
              "      <td>8</td>\n",
              "      <td>310</td>\n",
              "      <td>82</td>\n",
              "      <td>217</td>\n",
              "      <td>11</td>\n",
              "      <td>0</td>\n",
              "    </tr>\n",
              "    <tr>\n",
              "      <th>2</th>\n",
              "      <td>Alameda</td>\n",
              "      <td>78,613</td>\n",
              "      <td>148</td>\n",
              "      <td>2</td>\n",
              "      <td>7</td>\n",
              "      <td>NaN</td>\n",
              "      <td>61</td>\n",
              "      <td>78</td>\n",
              "      <td>1,819</td>\n",
              "      <td>228</td>\n",
              "      <td>1,245</td>\n",
              "      <td>346</td>\n",
              "      <td>18</td>\n",
              "    </tr>\n",
              "    <tr>\n",
              "      <th>3</th>\n",
              "      <td>Albany</td>\n",
              "      <td>19,723</td>\n",
              "      <td>34</td>\n",
              "      <td>1</td>\n",
              "      <td>6</td>\n",
              "      <td>NaN</td>\n",
              "      <td>16</td>\n",
              "      <td>11</td>\n",
              "      <td>605</td>\n",
              "      <td>95</td>\n",
              "      <td>447</td>\n",
              "      <td>63</td>\n",
              "      <td>0</td>\n",
              "    </tr>\n",
              "    <tr>\n",
              "      <th>4</th>\n",
              "      <td>Alhambra3</td>\n",
              "      <td>86,175</td>\n",
              "      <td>168</td>\n",
              "      <td>1</td>\n",
              "      <td>13</td>\n",
              "      <td>NaN</td>\n",
              "      <td>74</td>\n",
              "      <td>80</td>\n",
              "      <td>1,929</td>\n",
              "      <td>305</td>\n",
              "      <td>1,413</td>\n",
              "      <td>211</td>\n",
              "      <td>6</td>\n",
              "    </tr>\n",
              "    <tr>\n",
              "      <th>...</th>\n",
              "      <td>...</td>\n",
              "      <td>...</td>\n",
              "      <td>...</td>\n",
              "      <td>...</td>\n",
              "      <td>...</td>\n",
              "      <td>...</td>\n",
              "      <td>...</td>\n",
              "      <td>...</td>\n",
              "      <td>...</td>\n",
              "      <td>...</td>\n",
              "      <td>...</td>\n",
              "      <td>...</td>\n",
              "      <td>...</td>\n",
              "    </tr>\n",
              "    <tr>\n",
              "      <th>455</th>\n",
              "      <td>Yountville3</td>\n",
              "      <td>3,030</td>\n",
              "      <td>7</td>\n",
              "      <td>0</td>\n",
              "      <td>0</td>\n",
              "      <td>NaN</td>\n",
              "      <td>0</td>\n",
              "      <td>7</td>\n",
              "      <td>46</td>\n",
              "      <td>7</td>\n",
              "      <td>36</td>\n",
              "      <td>3</td>\n",
              "      <td>0</td>\n",
              "    </tr>\n",
              "    <tr>\n",
              "      <th>456</th>\n",
              "      <td>Yreka</td>\n",
              "      <td>7,507</td>\n",
              "      <td>47</td>\n",
              "      <td>1</td>\n",
              "      <td>4</td>\n",
              "      <td>NaN</td>\n",
              "      <td>4</td>\n",
              "      <td>38</td>\n",
              "      <td>309</td>\n",
              "      <td>85</td>\n",
              "      <td>188</td>\n",
              "      <td>36</td>\n",
              "      <td>1</td>\n",
              "    </tr>\n",
              "    <tr>\n",
              "      <th>457</th>\n",
              "      <td>Yuba City</td>\n",
              "      <td>65,974</td>\n",
              "      <td>216</td>\n",
              "      <td>0</td>\n",
              "      <td>28</td>\n",
              "      <td>NaN</td>\n",
              "      <td>66</td>\n",
              "      <td>122</td>\n",
              "      <td>1,792</td>\n",
              "      <td>429</td>\n",
              "      <td>1,160</td>\n",
              "      <td>203</td>\n",
              "      <td>14</td>\n",
              "    </tr>\n",
              "    <tr>\n",
              "      <th>458</th>\n",
              "      <td>Yucaipa</td>\n",
              "      <td>53,498</td>\n",
              "      <td>94</td>\n",
              "      <td>2</td>\n",
              "      <td>8</td>\n",
              "      <td>NaN</td>\n",
              "      <td>22</td>\n",
              "      <td>62</td>\n",
              "      <td>1,309</td>\n",
              "      <td>263</td>\n",
              "      <td>838</td>\n",
              "      <td>208</td>\n",
              "      <td>12</td>\n",
              "    </tr>\n",
              "    <tr>\n",
              "      <th>459</th>\n",
              "      <td>Yucca Valley</td>\n",
              "      <td>21,672</td>\n",
              "      <td>151</td>\n",
              "      <td>0</td>\n",
              "      <td>8</td>\n",
              "      <td>NaN</td>\n",
              "      <td>30</td>\n",
              "      <td>113</td>\n",
              "      <td>664</td>\n",
              "      <td>217</td>\n",
              "      <td>381</td>\n",
              "      <td>66</td>\n",
              "      <td>8</td>\n",
              "    </tr>\n",
              "  </tbody>\n",
              "</table>\n",
              "<p>460 rows × 13 columns</p>\n",
              "</div>\n",
              "    <div class=\"colab-df-buttons\">\n",
              "\n",
              "  <div class=\"colab-df-container\">\n",
              "    <button class=\"colab-df-convert\" onclick=\"convertToInteractive('df-3cec4a6d-6c49-434c-ae58-34beb6c69519')\"\n",
              "            title=\"Convert this dataframe to an interactive table.\"\n",
              "            style=\"display:none;\">\n",
              "\n",
              "  <svg xmlns=\"http://www.w3.org/2000/svg\" height=\"24px\" viewBox=\"0 -960 960 960\">\n",
              "    <path d=\"M120-120v-720h720v720H120Zm60-500h600v-160H180v160Zm220 220h160v-160H400v160Zm0 220h160v-160H400v160ZM180-400h160v-160H180v160Zm440 0h160v-160H620v160ZM180-180h160v-160H180v160Zm440 0h160v-160H620v160Z\"/>\n",
              "  </svg>\n",
              "    </button>\n",
              "\n",
              "  <style>\n",
              "    .colab-df-container {\n",
              "      display:flex;\n",
              "      gap: 12px;\n",
              "    }\n",
              "\n",
              "    .colab-df-convert {\n",
              "      background-color: #E8F0FE;\n",
              "      border: none;\n",
              "      border-radius: 50%;\n",
              "      cursor: pointer;\n",
              "      display: none;\n",
              "      fill: #1967D2;\n",
              "      height: 32px;\n",
              "      padding: 0 0 0 0;\n",
              "      width: 32px;\n",
              "    }\n",
              "\n",
              "    .colab-df-convert:hover {\n",
              "      background-color: #E2EBFA;\n",
              "      box-shadow: 0px 1px 2px rgba(60, 64, 67, 0.3), 0px 1px 3px 1px rgba(60, 64, 67, 0.15);\n",
              "      fill: #174EA6;\n",
              "    }\n",
              "\n",
              "    .colab-df-buttons div {\n",
              "      margin-bottom: 4px;\n",
              "    }\n",
              "\n",
              "    [theme=dark] .colab-df-convert {\n",
              "      background-color: #3B4455;\n",
              "      fill: #D2E3FC;\n",
              "    }\n",
              "\n",
              "    [theme=dark] .colab-df-convert:hover {\n",
              "      background-color: #434B5C;\n",
              "      box-shadow: 0px 1px 3px 1px rgba(0, 0, 0, 0.15);\n",
              "      filter: drop-shadow(0px 1px 2px rgba(0, 0, 0, 0.3));\n",
              "      fill: #FFFFFF;\n",
              "    }\n",
              "  </style>\n",
              "\n",
              "    <script>\n",
              "      const buttonEl =\n",
              "        document.querySelector('#df-3cec4a6d-6c49-434c-ae58-34beb6c69519 button.colab-df-convert');\n",
              "      buttonEl.style.display =\n",
              "        google.colab.kernel.accessAllowed ? 'block' : 'none';\n",
              "\n",
              "      async function convertToInteractive(key) {\n",
              "        const element = document.querySelector('#df-3cec4a6d-6c49-434c-ae58-34beb6c69519');\n",
              "        const dataTable =\n",
              "          await google.colab.kernel.invokeFunction('convertToInteractive',\n",
              "                                                    [key], {});\n",
              "        if (!dataTable) return;\n",
              "\n",
              "        const docLinkHtml = 'Like what you see? Visit the ' +\n",
              "          '<a target=\"_blank\" href=https://colab.research.google.com/notebooks/data_table.ipynb>data table notebook</a>'\n",
              "          + ' to learn more about interactive tables.';\n",
              "        element.innerHTML = '';\n",
              "        dataTable['output_type'] = 'display_data';\n",
              "        await google.colab.output.renderOutput(dataTable, element);\n",
              "        const docLink = document.createElement('div');\n",
              "        docLink.innerHTML = docLinkHtml;\n",
              "        element.appendChild(docLink);\n",
              "      }\n",
              "    </script>\n",
              "  </div>\n",
              "\n",
              "\n",
              "<div id=\"df-43cee454-66c6-4482-97dc-3bd58d2fb2c5\">\n",
              "  <button class=\"colab-df-quickchart\" onclick=\"quickchart('df-43cee454-66c6-4482-97dc-3bd58d2fb2c5')\"\n",
              "            title=\"Suggest charts.\"\n",
              "            style=\"display:none;\">\n",
              "\n",
              "<svg xmlns=\"http://www.w3.org/2000/svg\" height=\"24px\"viewBox=\"0 0 24 24\"\n",
              "     width=\"24px\">\n",
              "    <g>\n",
              "        <path d=\"M19 3H5c-1.1 0-2 .9-2 2v14c0 1.1.9 2 2 2h14c1.1 0 2-.9 2-2V5c0-1.1-.9-2-2-2zM9 17H7v-7h2v7zm4 0h-2V7h2v10zm4 0h-2v-4h2v4z\"/>\n",
              "    </g>\n",
              "</svg>\n",
              "  </button>\n",
              "\n",
              "<style>\n",
              "  .colab-df-quickchart {\n",
              "      --bg-color: #E8F0FE;\n",
              "      --fill-color: #1967D2;\n",
              "      --hover-bg-color: #E2EBFA;\n",
              "      --hover-fill-color: #174EA6;\n",
              "      --disabled-fill-color: #AAA;\n",
              "      --disabled-bg-color: #DDD;\n",
              "  }\n",
              "\n",
              "  [theme=dark] .colab-df-quickchart {\n",
              "      --bg-color: #3B4455;\n",
              "      --fill-color: #D2E3FC;\n",
              "      --hover-bg-color: #434B5C;\n",
              "      --hover-fill-color: #FFFFFF;\n",
              "      --disabled-bg-color: #3B4455;\n",
              "      --disabled-fill-color: #666;\n",
              "  }\n",
              "\n",
              "  .colab-df-quickchart {\n",
              "    background-color: var(--bg-color);\n",
              "    border: none;\n",
              "    border-radius: 50%;\n",
              "    cursor: pointer;\n",
              "    display: none;\n",
              "    fill: var(--fill-color);\n",
              "    height: 32px;\n",
              "    padding: 0;\n",
              "    width: 32px;\n",
              "  }\n",
              "\n",
              "  .colab-df-quickchart:hover {\n",
              "    background-color: var(--hover-bg-color);\n",
              "    box-shadow: 0 1px 2px rgba(60, 64, 67, 0.3), 0 1px 3px 1px rgba(60, 64, 67, 0.15);\n",
              "    fill: var(--button-hover-fill-color);\n",
              "  }\n",
              "\n",
              "  .colab-df-quickchart-complete:disabled,\n",
              "  .colab-df-quickchart-complete:disabled:hover {\n",
              "    background-color: var(--disabled-bg-color);\n",
              "    fill: var(--disabled-fill-color);\n",
              "    box-shadow: none;\n",
              "  }\n",
              "\n",
              "  .colab-df-spinner {\n",
              "    border: 2px solid var(--fill-color);\n",
              "    border-color: transparent;\n",
              "    border-bottom-color: var(--fill-color);\n",
              "    animation:\n",
              "      spin 1s steps(1) infinite;\n",
              "  }\n",
              "\n",
              "  @keyframes spin {\n",
              "    0% {\n",
              "      border-color: transparent;\n",
              "      border-bottom-color: var(--fill-color);\n",
              "      border-left-color: var(--fill-color);\n",
              "    }\n",
              "    20% {\n",
              "      border-color: transparent;\n",
              "      border-left-color: var(--fill-color);\n",
              "      border-top-color: var(--fill-color);\n",
              "    }\n",
              "    30% {\n",
              "      border-color: transparent;\n",
              "      border-left-color: var(--fill-color);\n",
              "      border-top-color: var(--fill-color);\n",
              "      border-right-color: var(--fill-color);\n",
              "    }\n",
              "    40% {\n",
              "      border-color: transparent;\n",
              "      border-right-color: var(--fill-color);\n",
              "      border-top-color: var(--fill-color);\n",
              "    }\n",
              "    60% {\n",
              "      border-color: transparent;\n",
              "      border-right-color: var(--fill-color);\n",
              "    }\n",
              "    80% {\n",
              "      border-color: transparent;\n",
              "      border-right-color: var(--fill-color);\n",
              "      border-bottom-color: var(--fill-color);\n",
              "    }\n",
              "    90% {\n",
              "      border-color: transparent;\n",
              "      border-bottom-color: var(--fill-color);\n",
              "    }\n",
              "  }\n",
              "</style>\n",
              "\n",
              "  <script>\n",
              "    async function quickchart(key) {\n",
              "      const quickchartButtonEl =\n",
              "        document.querySelector('#' + key + ' button');\n",
              "      quickchartButtonEl.disabled = true;  // To prevent multiple clicks.\n",
              "      quickchartButtonEl.classList.add('colab-df-spinner');\n",
              "      try {\n",
              "        const charts = await google.colab.kernel.invokeFunction(\n",
              "            'suggestCharts', [key], {});\n",
              "      } catch (error) {\n",
              "        console.error('Error during call to suggestCharts:', error);\n",
              "      }\n",
              "      quickchartButtonEl.classList.remove('colab-df-spinner');\n",
              "      quickchartButtonEl.classList.add('colab-df-quickchart-complete');\n",
              "    }\n",
              "    (() => {\n",
              "      let quickchartButtonEl =\n",
              "        document.querySelector('#df-43cee454-66c6-4482-97dc-3bd58d2fb2c5 button');\n",
              "      quickchartButtonEl.style.display =\n",
              "        google.colab.kernel.accessAllowed ? 'block' : 'none';\n",
              "    })();\n",
              "  </script>\n",
              "</div>\n",
              "    </div>\n",
              "  </div>\n"
            ]
          },
          "metadata": {},
          "execution_count": 3
        }
      ],
      "source": [
        "df = pd.read_csv(\"/content/ca_offenses_by_agency.csv\")\n",
        "df"
      ]
    },
    {
      "cell_type": "markdown",
      "source": [
        "##Первое знакомство с датасетом\n",
        "В следующих ячейках выведите:\n",
        "\n",
        "\n",
        "1.   Колонки датасета\n",
        "2.   Первые 5 значений\n",
        "3.   Последние 5 значений\n",
        "4.   Статистику по числовым колонкам\n",
        "\n"
      ],
      "metadata": {
        "id": "ICeh1-0ECqVA"
      }
    },
    {
      "cell_type": "code",
      "source": [
        "#Колонки"
      ],
      "metadata": {
        "id": "wfMMJNZQDRGN"
      },
      "execution_count": null,
      "outputs": []
    },
    {
      "cell_type": "code",
      "source": [
        "#Первые 5 значений"
      ],
      "metadata": {
        "id": "u-qEDktXDTjV"
      },
      "execution_count": null,
      "outputs": []
    },
    {
      "cell_type": "code",
      "source": [
        "#Последние 5 значений"
      ],
      "metadata": {
        "id": "zp370c3wDT66"
      },
      "execution_count": null,
      "outputs": []
    },
    {
      "cell_type": "code",
      "source": [
        "#Статистику"
      ],
      "metadata": {
        "id": "orUf536tDUHK"
      },
      "execution_count": null,
      "outputs": []
    },
    {
      "cell_type": "markdown",
      "source": [
        "**Ответьте на следующие вопросы:**\n",
        "\n",
        "\n",
        "1.   Какие средние значения в каждой числовой колонке вашего датасета?\n",
        "2.   Минимальные и максимальные значения в каждой числовой колонке вашего датасета\n",
        "\n"
      ],
      "metadata": {
        "id": "xuB7JYzyDYEc"
      }
    },
    {
      "cell_type": "markdown",
      "source": [
        "\n",
        "\n",
        "1.   **Ответ 1.**\n",
        "2.   **Ответ 2.**\n",
        "\n"
      ],
      "metadata": {
        "id": "kgghkMkNE-4T"
      }
    },
    {
      "cell_type": "markdown",
      "source": [
        "##Типизация\n",
        "Присвойте соответствующим колонкам один из типов (category, float, int)"
      ],
      "metadata": {
        "id": "9IltihjID-yS"
      }
    },
    {
      "cell_type": "code",
      "source": [
        "\"\"\"\n",
        "\n",
        "Место для вашего кода\n",
        "\n",
        "\"\"\"\n",
        "#Вывести типы колонок тут"
      ],
      "metadata": {
        "id": "J0We0ixwEJY_"
      },
      "execution_count": null,
      "outputs": []
    },
    {
      "cell_type": "markdown",
      "source": [
        "Какие признаки вы можете выделить в своем датасете (категориальные, числовые и др., **минимум 3 разных**, помните что можно также выделить признаки более точно, например числовые - порядковые, количественные и т.д.)?"
      ],
      "metadata": {
        "id": "-Vxwu4V6EV5E"
      }
    },
    {
      "cell_type": "markdown",
      "source": [
        "##Фильтрация\n",
        "Офильтруйте 3 колонки вашего датасета и выведите результат"
      ],
      "metadata": {
        "id": "3wl_e1KAFjX8"
      }
    },
    {
      "cell_type": "code",
      "source": [
        "#Фильтр колонки 1"
      ],
      "metadata": {
        "id": "osXHN71AFr5W"
      },
      "execution_count": null,
      "outputs": []
    },
    {
      "cell_type": "code",
      "source": [
        "#Фильтр колонки 2"
      ],
      "metadata": {
        "id": "pN-YxYZ2Funs"
      },
      "execution_count": null,
      "outputs": []
    },
    {
      "cell_type": "code",
      "source": [
        "#Фильтр колонки 3"
      ],
      "metadata": {
        "id": "49C6UmFhFup2"
      },
      "execution_count": null,
      "outputs": []
    },
    {
      "cell_type": "markdown",
      "source": [
        "##Группировка\n",
        "Сгруппируйте датасет по какому-либо категориальному признаку и выведите среднее значение численных колонок (см. метод mean в pandas)"
      ],
      "metadata": {
        "id": "RSIqab5EFy7a"
      }
    },
    {
      "cell_type": "code",
      "source": [
        "#Группировка"
      ],
      "metadata": {
        "id": "qrW2zjeIGCKZ"
      },
      "execution_count": null,
      "outputs": []
    },
    {
      "cell_type": "markdown",
      "source": [
        "##Задание для гениев *\n",
        "Агрегируйте числовой признак по категориальному признаку с использованием метода **без использования** библиотеки pandas, и вычислите медиану и среднее значение для каждой категории."
      ],
      "metadata": {
        "id": "tzTVu1peEpMr"
      }
    },
    {
      "cell_type": "code",
      "source": [
        "#Агрегация"
      ],
      "metadata": {
        "id": "q50GFQVjFn1A"
      },
      "execution_count": null,
      "outputs": []
    }
  ]
}