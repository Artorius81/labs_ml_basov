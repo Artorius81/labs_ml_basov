{
  "nbformat": 4,
  "nbformat_minor": 0,
  "metadata": {
    "colab": {
      "provenance": [],
      "include_colab_link": true
    },
    "kernelspec": {
      "name": "python3",
      "display_name": "Python 3"
    },
    "language_info": {
      "name": "python"
    }
  },
  "cells": [
    {
      "cell_type": "markdown",
      "metadata": {
        "id": "view-in-github",
        "colab_type": "text"
      },
      "source": [
        "<a href=\"https://colab.research.google.com/github/Artorius81/labs_ml_basov/blob/main/labs/%D0%97%D0%B0%D0%B4%D0%B0%D0%BD%D0%B8%D0%B5_2_%D0%91%D0%B0%D1%81%D0%BE%D0%B2_ipynb%22.ipynb\" target=\"_parent\"><img src=\"https://colab.research.google.com/assets/colab-badge.svg\" alt=\"Open In Colab\"/></a>"
      ]
    },
    {
      "cell_type": "markdown",
      "source": [
        "#Задание по практике 2"
      ],
      "metadata": {
        "id": "_dGfjiUjUNab"
      }
    },
    {
      "cell_type": "code",
      "source": [
        "!pip install pandas\n",
        "!pip install seaborn"
      ],
      "metadata": {
        "id": "wXXP-hXKrxPW"
      },
      "execution_count": null,
      "outputs": []
    },
    {
      "cell_type": "code",
      "execution_count": 2,
      "metadata": {
        "id": "7u0VPzz-UKNu"
      },
      "outputs": [],
      "source": [
        "import pandas as pd\n",
        "import seaborn as sns\n",
        "import matplotlib.pyplot as plt"
      ]
    },
    {
      "cell_type": "markdown",
      "source": [
        "##Введение в описательную статистику"
      ],
      "metadata": {
        "id": "yKPA-E-VVSS-"
      }
    },
    {
      "cell_type": "markdown",
      "source": [
        "1. Выберите категориальную целевую переменную (**Y**)\n",
        "\n",
        "2. Выберите переменную для анализа относительно категории (**X**)\n",
        "\n",
        "3. Выведитие обобщенную статистическую информацию переменной (**X**)\n",
        "\n",
        "2. Вычислите среднее, медиану, моду, минимум, максимум, стандартное отклонение относительно целевой пременной из файла Classification datasets в соответствии с вашим вариантом\n",
        "\n",
        "3. Сделайте вывод относительно полученных результатов\n",
        "\n",
        "p.s если у вас нет категориальных признаков - преобразуйте любой числовой в категориальный (https://pandas.pydata.org/docs/reference/api/pandas.cut.html). Важно **не** использовать преобразованный Y вместе с этим же X (то есть, если вы преобразовали возраст в категорию, то вы не моежет использовать возраст в качестве X и возраст категорию в качестве Y)"
      ],
      "metadata": {
        "id": "Rrr4WPcGUwOx"
      }
    },
    {
      "cell_type": "markdown",
      "source": [
        "**ВЫБОР ПЕРЕМЕННЫХ**\n",
        "1. Категориальная целевая переменная - *Metropolitan/Nonmetropolitan*\n",
        "2. Переменная для анализа относительно категории - *Motor vehicle theft*"
      ],
      "metadata": {
        "id": "h3BH9PXiymC6"
      }
    },
    {
      "cell_type": "code",
      "source": [
        "df = pd.read_csv(\"/content/ca_offenses_by_county.csv\")\n",
        "df"
      ],
      "metadata": {
        "id": "wZiCpTwgUuYw",
        "colab": {
          "base_uri": "https://localhost:8080/",
          "height": 493
        },
        "outputId": "44300338-df09-4d3c-b5ff-8313fdebeac6"
      },
      "execution_count": 12,
      "outputs": [
        {
          "output_type": "execute_result",
          "data": {
            "text/plain": [
              "     Metropolitan/Nonmetropolitan        County Violent crime  \\\n",
              "0           Metropolitan Counties       Alameda           510   \n",
              "1           Metropolitan Counties        Butte3           155   \n",
              "2           Metropolitan Counties  Contra Costa           426   \n",
              "3           Metropolitan Counties    El Dorado3           252   \n",
              "4           Metropolitan Counties        Fresno           962   \n",
              "...                           ...           ...           ...   \n",
              "2587                          NaN           NaN           NaN   \n",
              "2588                          NaN           NaN           NaN   \n",
              "2589                          NaN           NaN           NaN   \n",
              "2590                          NaN           NaN           NaN   \n",
              "2591                          NaN           NaN           NaN   \n",
              "\n",
              "      Murder and nonnegligent manslaughter  Rape (revised definition)  \\\n",
              "0                                      6.0                       13.0   \n",
              "1                                      4.0                       20.0   \n",
              "2                                     14.0                       24.0   \n",
              "3                                      9.0                       46.0   \n",
              "4                                      8.0                       32.0   \n",
              "...                                    ...                        ...   \n",
              "2587                                   NaN                        NaN   \n",
              "2588                                   NaN                        NaN   \n",
              "2589                                   NaN                        NaN   \n",
              "2590                                   NaN                        NaN   \n",
              "2591                                   NaN                        NaN   \n",
              "\n",
              "      Rape(legacy definition) Robbery Aggravated assault Property crime  \\\n",
              "0                         NaN     177                314          2,077   \n",
              "1                         NaN      14                117          1,422   \n",
              "2                         NaN     153                235          2,013   \n",
              "3                         NaN      32                165          2,031   \n",
              "4                         NaN     112                810          3,810   \n",
              "...                       ...     ...                ...            ...   \n",
              "2587                      NaN     NaN                NaN            NaN   \n",
              "2588                      NaN     NaN                NaN            NaN   \n",
              "2589                      NaN     NaN                NaN            NaN   \n",
              "2590                      NaN     NaN                NaN            NaN   \n",
              "2591                      NaN     NaN                NaN            NaN   \n",
              "\n",
              "     Burglary Larceny-theft Motor vehicle theft  Arson  \n",
              "0         463           985                 629   11.0  \n",
              "1         708           693                  21    0.0  \n",
              "2         660         1,332                  21   18.0  \n",
              "3         577         1,412                  42    4.0  \n",
              "4       1,398         1,838                 574  145.0  \n",
              "...       ...           ...                 ...    ...  \n",
              "2587      NaN           NaN                 NaN    NaN  \n",
              "2588      NaN           NaN                 NaN    NaN  \n",
              "2589      NaN           NaN                 NaN    NaN  \n",
              "2590      NaN           NaN                 NaN    NaN  \n",
              "2591      NaN           NaN                 NaN    NaN  \n",
              "\n",
              "[2592 rows x 13 columns]"
            ],
            "text/html": [
              "\n",
              "  <div id=\"df-01c94f61-6559-479c-a4f9-3a7151fe19c2\" class=\"colab-df-container\">\n",
              "    <div>\n",
              "<style scoped>\n",
              "    .dataframe tbody tr th:only-of-type {\n",
              "        vertical-align: middle;\n",
              "    }\n",
              "\n",
              "    .dataframe tbody tr th {\n",
              "        vertical-align: top;\n",
              "    }\n",
              "\n",
              "    .dataframe thead th {\n",
              "        text-align: right;\n",
              "    }\n",
              "</style>\n",
              "<table border=\"1\" class=\"dataframe\">\n",
              "  <thead>\n",
              "    <tr style=\"text-align: right;\">\n",
              "      <th></th>\n",
              "      <th>Metropolitan/Nonmetropolitan</th>\n",
              "      <th>County</th>\n",
              "      <th>Violent crime</th>\n",
              "      <th>Murder and nonnegligent manslaughter</th>\n",
              "      <th>Rape (revised definition)</th>\n",
              "      <th>Rape(legacy definition)</th>\n",
              "      <th>Robbery</th>\n",
              "      <th>Aggravated assault</th>\n",
              "      <th>Property crime</th>\n",
              "      <th>Burglary</th>\n",
              "      <th>Larceny-theft</th>\n",
              "      <th>Motor vehicle theft</th>\n",
              "      <th>Arson</th>\n",
              "    </tr>\n",
              "  </thead>\n",
              "  <tbody>\n",
              "    <tr>\n",
              "      <th>0</th>\n",
              "      <td>Metropolitan Counties</td>\n",
              "      <td>Alameda</td>\n",
              "      <td>510</td>\n",
              "      <td>6.0</td>\n",
              "      <td>13.0</td>\n",
              "      <td>NaN</td>\n",
              "      <td>177</td>\n",
              "      <td>314</td>\n",
              "      <td>2,077</td>\n",
              "      <td>463</td>\n",
              "      <td>985</td>\n",
              "      <td>629</td>\n",
              "      <td>11.0</td>\n",
              "    </tr>\n",
              "    <tr>\n",
              "      <th>1</th>\n",
              "      <td>Metropolitan Counties</td>\n",
              "      <td>Butte3</td>\n",
              "      <td>155</td>\n",
              "      <td>4.0</td>\n",
              "      <td>20.0</td>\n",
              "      <td>NaN</td>\n",
              "      <td>14</td>\n",
              "      <td>117</td>\n",
              "      <td>1,422</td>\n",
              "      <td>708</td>\n",
              "      <td>693</td>\n",
              "      <td>21</td>\n",
              "      <td>0.0</td>\n",
              "    </tr>\n",
              "    <tr>\n",
              "      <th>2</th>\n",
              "      <td>Metropolitan Counties</td>\n",
              "      <td>Contra Costa</td>\n",
              "      <td>426</td>\n",
              "      <td>14.0</td>\n",
              "      <td>24.0</td>\n",
              "      <td>NaN</td>\n",
              "      <td>153</td>\n",
              "      <td>235</td>\n",
              "      <td>2,013</td>\n",
              "      <td>660</td>\n",
              "      <td>1,332</td>\n",
              "      <td>21</td>\n",
              "      <td>18.0</td>\n",
              "    </tr>\n",
              "    <tr>\n",
              "      <th>3</th>\n",
              "      <td>Metropolitan Counties</td>\n",
              "      <td>El Dorado3</td>\n",
              "      <td>252</td>\n",
              "      <td>9.0</td>\n",
              "      <td>46.0</td>\n",
              "      <td>NaN</td>\n",
              "      <td>32</td>\n",
              "      <td>165</td>\n",
              "      <td>2,031</td>\n",
              "      <td>577</td>\n",
              "      <td>1,412</td>\n",
              "      <td>42</td>\n",
              "      <td>4.0</td>\n",
              "    </tr>\n",
              "    <tr>\n",
              "      <th>4</th>\n",
              "      <td>Metropolitan Counties</td>\n",
              "      <td>Fresno</td>\n",
              "      <td>962</td>\n",
              "      <td>8.0</td>\n",
              "      <td>32.0</td>\n",
              "      <td>NaN</td>\n",
              "      <td>112</td>\n",
              "      <td>810</td>\n",
              "      <td>3,810</td>\n",
              "      <td>1,398</td>\n",
              "      <td>1,838</td>\n",
              "      <td>574</td>\n",
              "      <td>145.0</td>\n",
              "    </tr>\n",
              "    <tr>\n",
              "      <th>...</th>\n",
              "      <td>...</td>\n",
              "      <td>...</td>\n",
              "      <td>...</td>\n",
              "      <td>...</td>\n",
              "      <td>...</td>\n",
              "      <td>...</td>\n",
              "      <td>...</td>\n",
              "      <td>...</td>\n",
              "      <td>...</td>\n",
              "      <td>...</td>\n",
              "      <td>...</td>\n",
              "      <td>...</td>\n",
              "      <td>...</td>\n",
              "    </tr>\n",
              "    <tr>\n",
              "      <th>2587</th>\n",
              "      <td>NaN</td>\n",
              "      <td>NaN</td>\n",
              "      <td>NaN</td>\n",
              "      <td>NaN</td>\n",
              "      <td>NaN</td>\n",
              "      <td>NaN</td>\n",
              "      <td>NaN</td>\n",
              "      <td>NaN</td>\n",
              "      <td>NaN</td>\n",
              "      <td>NaN</td>\n",
              "      <td>NaN</td>\n",
              "      <td>NaN</td>\n",
              "      <td>NaN</td>\n",
              "    </tr>\n",
              "    <tr>\n",
              "      <th>2588</th>\n",
              "      <td>NaN</td>\n",
              "      <td>NaN</td>\n",
              "      <td>NaN</td>\n",
              "      <td>NaN</td>\n",
              "      <td>NaN</td>\n",
              "      <td>NaN</td>\n",
              "      <td>NaN</td>\n",
              "      <td>NaN</td>\n",
              "      <td>NaN</td>\n",
              "      <td>NaN</td>\n",
              "      <td>NaN</td>\n",
              "      <td>NaN</td>\n",
              "      <td>NaN</td>\n",
              "    </tr>\n",
              "    <tr>\n",
              "      <th>2589</th>\n",
              "      <td>NaN</td>\n",
              "      <td>NaN</td>\n",
              "      <td>NaN</td>\n",
              "      <td>NaN</td>\n",
              "      <td>NaN</td>\n",
              "      <td>NaN</td>\n",
              "      <td>NaN</td>\n",
              "      <td>NaN</td>\n",
              "      <td>NaN</td>\n",
              "      <td>NaN</td>\n",
              "      <td>NaN</td>\n",
              "      <td>NaN</td>\n",
              "      <td>NaN</td>\n",
              "    </tr>\n",
              "    <tr>\n",
              "      <th>2590</th>\n",
              "      <td>NaN</td>\n",
              "      <td>NaN</td>\n",
              "      <td>NaN</td>\n",
              "      <td>NaN</td>\n",
              "      <td>NaN</td>\n",
              "      <td>NaN</td>\n",
              "      <td>NaN</td>\n",
              "      <td>NaN</td>\n",
              "      <td>NaN</td>\n",
              "      <td>NaN</td>\n",
              "      <td>NaN</td>\n",
              "      <td>NaN</td>\n",
              "      <td>NaN</td>\n",
              "    </tr>\n",
              "    <tr>\n",
              "      <th>2591</th>\n",
              "      <td>NaN</td>\n",
              "      <td>NaN</td>\n",
              "      <td>NaN</td>\n",
              "      <td>NaN</td>\n",
              "      <td>NaN</td>\n",
              "      <td>NaN</td>\n",
              "      <td>NaN</td>\n",
              "      <td>NaN</td>\n",
              "      <td>NaN</td>\n",
              "      <td>NaN</td>\n",
              "      <td>NaN</td>\n",
              "      <td>NaN</td>\n",
              "      <td>NaN</td>\n",
              "    </tr>\n",
              "  </tbody>\n",
              "</table>\n",
              "<p>2592 rows × 13 columns</p>\n",
              "</div>\n",
              "    <div class=\"colab-df-buttons\">\n",
              "\n",
              "  <div class=\"colab-df-container\">\n",
              "    <button class=\"colab-df-convert\" onclick=\"convertToInteractive('df-01c94f61-6559-479c-a4f9-3a7151fe19c2')\"\n",
              "            title=\"Convert this dataframe to an interactive table.\"\n",
              "            style=\"display:none;\">\n",
              "\n",
              "  <svg xmlns=\"http://www.w3.org/2000/svg\" height=\"24px\" viewBox=\"0 -960 960 960\">\n",
              "    <path d=\"M120-120v-720h720v720H120Zm60-500h600v-160H180v160Zm220 220h160v-160H400v160Zm0 220h160v-160H400v160ZM180-400h160v-160H180v160Zm440 0h160v-160H620v160ZM180-180h160v-160H180v160Zm440 0h160v-160H620v160Z\"/>\n",
              "  </svg>\n",
              "    </button>\n",
              "\n",
              "  <style>\n",
              "    .colab-df-container {\n",
              "      display:flex;\n",
              "      gap: 12px;\n",
              "    }\n",
              "\n",
              "    .colab-df-convert {\n",
              "      background-color: #E8F0FE;\n",
              "      border: none;\n",
              "      border-radius: 50%;\n",
              "      cursor: pointer;\n",
              "      display: none;\n",
              "      fill: #1967D2;\n",
              "      height: 32px;\n",
              "      padding: 0 0 0 0;\n",
              "      width: 32px;\n",
              "    }\n",
              "\n",
              "    .colab-df-convert:hover {\n",
              "      background-color: #E2EBFA;\n",
              "      box-shadow: 0px 1px 2px rgba(60, 64, 67, 0.3), 0px 1px 3px 1px rgba(60, 64, 67, 0.15);\n",
              "      fill: #174EA6;\n",
              "    }\n",
              "\n",
              "    .colab-df-buttons div {\n",
              "      margin-bottom: 4px;\n",
              "    }\n",
              "\n",
              "    [theme=dark] .colab-df-convert {\n",
              "      background-color: #3B4455;\n",
              "      fill: #D2E3FC;\n",
              "    }\n",
              "\n",
              "    [theme=dark] .colab-df-convert:hover {\n",
              "      background-color: #434B5C;\n",
              "      box-shadow: 0px 1px 3px 1px rgba(0, 0, 0, 0.15);\n",
              "      filter: drop-shadow(0px 1px 2px rgba(0, 0, 0, 0.3));\n",
              "      fill: #FFFFFF;\n",
              "    }\n",
              "  </style>\n",
              "\n",
              "    <script>\n",
              "      const buttonEl =\n",
              "        document.querySelector('#df-01c94f61-6559-479c-a4f9-3a7151fe19c2 button.colab-df-convert');\n",
              "      buttonEl.style.display =\n",
              "        google.colab.kernel.accessAllowed ? 'block' : 'none';\n",
              "\n",
              "      async function convertToInteractive(key) {\n",
              "        const element = document.querySelector('#df-01c94f61-6559-479c-a4f9-3a7151fe19c2');\n",
              "        const dataTable =\n",
              "          await google.colab.kernel.invokeFunction('convertToInteractive',\n",
              "                                                    [key], {});\n",
              "        if (!dataTable) return;\n",
              "\n",
              "        const docLinkHtml = 'Like what you see? Visit the ' +\n",
              "          '<a target=\"_blank\" href=https://colab.research.google.com/notebooks/data_table.ipynb>data table notebook</a>'\n",
              "          + ' to learn more about interactive tables.';\n",
              "        element.innerHTML = '';\n",
              "        dataTable['output_type'] = 'display_data';\n",
              "        await google.colab.output.renderOutput(dataTable, element);\n",
              "        const docLink = document.createElement('div');\n",
              "        docLink.innerHTML = docLinkHtml;\n",
              "        element.appendChild(docLink);\n",
              "      }\n",
              "    </script>\n",
              "  </div>\n",
              "\n",
              "\n",
              "<div id=\"df-a3a4c3c8-af52-4e1f-8be7-bb4091132886\">\n",
              "  <button class=\"colab-df-quickchart\" onclick=\"quickchart('df-a3a4c3c8-af52-4e1f-8be7-bb4091132886')\"\n",
              "            title=\"Suggest charts.\"\n",
              "            style=\"display:none;\">\n",
              "\n",
              "<svg xmlns=\"http://www.w3.org/2000/svg\" height=\"24px\"viewBox=\"0 0 24 24\"\n",
              "     width=\"24px\">\n",
              "    <g>\n",
              "        <path d=\"M19 3H5c-1.1 0-2 .9-2 2v14c0 1.1.9 2 2 2h14c1.1 0 2-.9 2-2V5c0-1.1-.9-2-2-2zM9 17H7v-7h2v7zm4 0h-2V7h2v10zm4 0h-2v-4h2v4z\"/>\n",
              "    </g>\n",
              "</svg>\n",
              "  </button>\n",
              "\n",
              "<style>\n",
              "  .colab-df-quickchart {\n",
              "      --bg-color: #E8F0FE;\n",
              "      --fill-color: #1967D2;\n",
              "      --hover-bg-color: #E2EBFA;\n",
              "      --hover-fill-color: #174EA6;\n",
              "      --disabled-fill-color: #AAA;\n",
              "      --disabled-bg-color: #DDD;\n",
              "  }\n",
              "\n",
              "  [theme=dark] .colab-df-quickchart {\n",
              "      --bg-color: #3B4455;\n",
              "      --fill-color: #D2E3FC;\n",
              "      --hover-bg-color: #434B5C;\n",
              "      --hover-fill-color: #FFFFFF;\n",
              "      --disabled-bg-color: #3B4455;\n",
              "      --disabled-fill-color: #666;\n",
              "  }\n",
              "\n",
              "  .colab-df-quickchart {\n",
              "    background-color: var(--bg-color);\n",
              "    border: none;\n",
              "    border-radius: 50%;\n",
              "    cursor: pointer;\n",
              "    display: none;\n",
              "    fill: var(--fill-color);\n",
              "    height: 32px;\n",
              "    padding: 0;\n",
              "    width: 32px;\n",
              "  }\n",
              "\n",
              "  .colab-df-quickchart:hover {\n",
              "    background-color: var(--hover-bg-color);\n",
              "    box-shadow: 0 1px 2px rgba(60, 64, 67, 0.3), 0 1px 3px 1px rgba(60, 64, 67, 0.15);\n",
              "    fill: var(--button-hover-fill-color);\n",
              "  }\n",
              "\n",
              "  .colab-df-quickchart-complete:disabled,\n",
              "  .colab-df-quickchart-complete:disabled:hover {\n",
              "    background-color: var(--disabled-bg-color);\n",
              "    fill: var(--disabled-fill-color);\n",
              "    box-shadow: none;\n",
              "  }\n",
              "\n",
              "  .colab-df-spinner {\n",
              "    border: 2px solid var(--fill-color);\n",
              "    border-color: transparent;\n",
              "    border-bottom-color: var(--fill-color);\n",
              "    animation:\n",
              "      spin 1s steps(1) infinite;\n",
              "  }\n",
              "\n",
              "  @keyframes spin {\n",
              "    0% {\n",
              "      border-color: transparent;\n",
              "      border-bottom-color: var(--fill-color);\n",
              "      border-left-color: var(--fill-color);\n",
              "    }\n",
              "    20% {\n",
              "      border-color: transparent;\n",
              "      border-left-color: var(--fill-color);\n",
              "      border-top-color: var(--fill-color);\n",
              "    }\n",
              "    30% {\n",
              "      border-color: transparent;\n",
              "      border-left-color: var(--fill-color);\n",
              "      border-top-color: var(--fill-color);\n",
              "      border-right-color: var(--fill-color);\n",
              "    }\n",
              "    40% {\n",
              "      border-color: transparent;\n",
              "      border-right-color: var(--fill-color);\n",
              "      border-top-color: var(--fill-color);\n",
              "    }\n",
              "    60% {\n",
              "      border-color: transparent;\n",
              "      border-right-color: var(--fill-color);\n",
              "    }\n",
              "    80% {\n",
              "      border-color: transparent;\n",
              "      border-right-color: var(--fill-color);\n",
              "      border-bottom-color: var(--fill-color);\n",
              "    }\n",
              "    90% {\n",
              "      border-color: transparent;\n",
              "      border-bottom-color: var(--fill-color);\n",
              "    }\n",
              "  }\n",
              "</style>\n",
              "\n",
              "  <script>\n",
              "    async function quickchart(key) {\n",
              "      const quickchartButtonEl =\n",
              "        document.querySelector('#' + key + ' button');\n",
              "      quickchartButtonEl.disabled = true;  // To prevent multiple clicks.\n",
              "      quickchartButtonEl.classList.add('colab-df-spinner');\n",
              "      try {\n",
              "        const charts = await google.colab.kernel.invokeFunction(\n",
              "            'suggestCharts', [key], {});\n",
              "      } catch (error) {\n",
              "        console.error('Error during call to suggestCharts:', error);\n",
              "      }\n",
              "      quickchartButtonEl.classList.remove('colab-df-spinner');\n",
              "      quickchartButtonEl.classList.add('colab-df-quickchart-complete');\n",
              "    }\n",
              "    (() => {\n",
              "      let quickchartButtonEl =\n",
              "        document.querySelector('#df-a3a4c3c8-af52-4e1f-8be7-bb4091132886 button');\n",
              "      quickchartButtonEl.style.display =\n",
              "        google.colab.kernel.accessAllowed ? 'block' : 'none';\n",
              "    })();\n",
              "  </script>\n",
              "</div>\n",
              "    </div>\n",
              "  </div>\n"
            ]
          },
          "metadata": {},
          "execution_count": 12
        }
      ]
    },
    {
      "cell_type": "code",
      "source": [
        "# фикс\n",
        "from numpy import nan\n",
        "\n",
        "def convert_to_float(df, column_name):\n",
        "    # Convert the column to string, replace non-numeric values and NaN with empty strings, then convert to float\n",
        "    df[column_name] = df[column_name].astype(str).str.replace('[^0-9.]', '', regex=True).replace('', nan).astype(float)\n",
        "    return df[column_name]\n",
        "\n",
        "# Example for replace the column dtype\n",
        "df['Motor vehicle theft'] = convert_to_float(df, 'Motor vehicle theft')\n",
        "df['Violent crime'] = convert_to_float(df, 'Violent crime')\n",
        "df['Motor vehicle theft']"
      ],
      "metadata": {
        "colab": {
          "base_uri": "https://localhost:8080/"
        },
        "id": "3_dP1qnEzVHy",
        "outputId": "5303ab19-a7fe-43ae-a25f-62154e1fdb33"
      },
      "execution_count": 52,
      "outputs": [
        {
          "output_type": "execute_result",
          "data": {
            "text/plain": [
              "0       629.0\n",
              "1        21.0\n",
              "2        21.0\n",
              "3        42.0\n",
              "4       574.0\n",
              "        ...  \n",
              "2587      NaN\n",
              "2588      NaN\n",
              "2589      NaN\n",
              "2590      NaN\n",
              "2591      NaN\n",
              "Name: Motor vehicle theft, Length: 2592, dtype: float64"
            ]
          },
          "metadata": {},
          "execution_count": 52
        }
      ]
    },
    {
      "cell_type": "code",
      "source": [
        "df.describe()"
      ],
      "metadata": {
        "id": "u3OeTGcGp2sY",
        "colab": {
          "base_uri": "https://localhost:8080/",
          "height": 300
        },
        "outputId": "8498aff2-d588-47ec-a882-5799cca28507"
      },
      "execution_count": 14,
      "outputs": [
        {
          "output_type": "execute_result",
          "data": {
            "text/plain": [
              "       Murder and nonnegligent manslaughter  Rape (revised definition)  \\\n",
              "count                             57.000000                  57.000000   \n",
              "mean                               6.614035                  32.385965   \n",
              "std                               14.315020                  49.598659   \n",
              "min                                0.000000                   0.000000   \n",
              "25%                                1.000000                   7.000000   \n",
              "50%                                3.000000                  18.000000   \n",
              "75%                                6.000000                  32.000000   \n",
              "max                               98.000000                 304.000000   \n",
              "\n",
              "       Rape(legacy definition)  Motor vehicle theft       Arson  \n",
              "count                      0.0            57.000000   57.000000  \n",
              "mean                       NaN           219.192982   20.526316  \n",
              "std                        NaN           651.523721   50.934519  \n",
              "min                        NaN             0.000000    0.000000  \n",
              "25%                        NaN             4.000000    0.000000  \n",
              "50%                        NaN            14.000000    6.000000  \n",
              "75%                        NaN            51.000000   15.000000  \n",
              "max                        NaN          4203.000000  300.000000  "
            ],
            "text/html": [
              "\n",
              "  <div id=\"df-cfafcc0c-21d4-45a5-b4a8-15efcb0ce4b7\" class=\"colab-df-container\">\n",
              "    <div>\n",
              "<style scoped>\n",
              "    .dataframe tbody tr th:only-of-type {\n",
              "        vertical-align: middle;\n",
              "    }\n",
              "\n",
              "    .dataframe tbody tr th {\n",
              "        vertical-align: top;\n",
              "    }\n",
              "\n",
              "    .dataframe thead th {\n",
              "        text-align: right;\n",
              "    }\n",
              "</style>\n",
              "<table border=\"1\" class=\"dataframe\">\n",
              "  <thead>\n",
              "    <tr style=\"text-align: right;\">\n",
              "      <th></th>\n",
              "      <th>Murder and nonnegligent manslaughter</th>\n",
              "      <th>Rape (revised definition)</th>\n",
              "      <th>Rape(legacy definition)</th>\n",
              "      <th>Motor vehicle theft</th>\n",
              "      <th>Arson</th>\n",
              "    </tr>\n",
              "  </thead>\n",
              "  <tbody>\n",
              "    <tr>\n",
              "      <th>count</th>\n",
              "      <td>57.000000</td>\n",
              "      <td>57.000000</td>\n",
              "      <td>0.0</td>\n",
              "      <td>57.000000</td>\n",
              "      <td>57.000000</td>\n",
              "    </tr>\n",
              "    <tr>\n",
              "      <th>mean</th>\n",
              "      <td>6.614035</td>\n",
              "      <td>32.385965</td>\n",
              "      <td>NaN</td>\n",
              "      <td>219.192982</td>\n",
              "      <td>20.526316</td>\n",
              "    </tr>\n",
              "    <tr>\n",
              "      <th>std</th>\n",
              "      <td>14.315020</td>\n",
              "      <td>49.598659</td>\n",
              "      <td>NaN</td>\n",
              "      <td>651.523721</td>\n",
              "      <td>50.934519</td>\n",
              "    </tr>\n",
              "    <tr>\n",
              "      <th>min</th>\n",
              "      <td>0.000000</td>\n",
              "      <td>0.000000</td>\n",
              "      <td>NaN</td>\n",
              "      <td>0.000000</td>\n",
              "      <td>0.000000</td>\n",
              "    </tr>\n",
              "    <tr>\n",
              "      <th>25%</th>\n",
              "      <td>1.000000</td>\n",
              "      <td>7.000000</td>\n",
              "      <td>NaN</td>\n",
              "      <td>4.000000</td>\n",
              "      <td>0.000000</td>\n",
              "    </tr>\n",
              "    <tr>\n",
              "      <th>50%</th>\n",
              "      <td>3.000000</td>\n",
              "      <td>18.000000</td>\n",
              "      <td>NaN</td>\n",
              "      <td>14.000000</td>\n",
              "      <td>6.000000</td>\n",
              "    </tr>\n",
              "    <tr>\n",
              "      <th>75%</th>\n",
              "      <td>6.000000</td>\n",
              "      <td>32.000000</td>\n",
              "      <td>NaN</td>\n",
              "      <td>51.000000</td>\n",
              "      <td>15.000000</td>\n",
              "    </tr>\n",
              "    <tr>\n",
              "      <th>max</th>\n",
              "      <td>98.000000</td>\n",
              "      <td>304.000000</td>\n",
              "      <td>NaN</td>\n",
              "      <td>4203.000000</td>\n",
              "      <td>300.000000</td>\n",
              "    </tr>\n",
              "  </tbody>\n",
              "</table>\n",
              "</div>\n",
              "    <div class=\"colab-df-buttons\">\n",
              "\n",
              "  <div class=\"colab-df-container\">\n",
              "    <button class=\"colab-df-convert\" onclick=\"convertToInteractive('df-cfafcc0c-21d4-45a5-b4a8-15efcb0ce4b7')\"\n",
              "            title=\"Convert this dataframe to an interactive table.\"\n",
              "            style=\"display:none;\">\n",
              "\n",
              "  <svg xmlns=\"http://www.w3.org/2000/svg\" height=\"24px\" viewBox=\"0 -960 960 960\">\n",
              "    <path d=\"M120-120v-720h720v720H120Zm60-500h600v-160H180v160Zm220 220h160v-160H400v160Zm0 220h160v-160H400v160ZM180-400h160v-160H180v160Zm440 0h160v-160H620v160ZM180-180h160v-160H180v160Zm440 0h160v-160H620v160Z\"/>\n",
              "  </svg>\n",
              "    </button>\n",
              "\n",
              "  <style>\n",
              "    .colab-df-container {\n",
              "      display:flex;\n",
              "      gap: 12px;\n",
              "    }\n",
              "\n",
              "    .colab-df-convert {\n",
              "      background-color: #E8F0FE;\n",
              "      border: none;\n",
              "      border-radius: 50%;\n",
              "      cursor: pointer;\n",
              "      display: none;\n",
              "      fill: #1967D2;\n",
              "      height: 32px;\n",
              "      padding: 0 0 0 0;\n",
              "      width: 32px;\n",
              "    }\n",
              "\n",
              "    .colab-df-convert:hover {\n",
              "      background-color: #E2EBFA;\n",
              "      box-shadow: 0px 1px 2px rgba(60, 64, 67, 0.3), 0px 1px 3px 1px rgba(60, 64, 67, 0.15);\n",
              "      fill: #174EA6;\n",
              "    }\n",
              "\n",
              "    .colab-df-buttons div {\n",
              "      margin-bottom: 4px;\n",
              "    }\n",
              "\n",
              "    [theme=dark] .colab-df-convert {\n",
              "      background-color: #3B4455;\n",
              "      fill: #D2E3FC;\n",
              "    }\n",
              "\n",
              "    [theme=dark] .colab-df-convert:hover {\n",
              "      background-color: #434B5C;\n",
              "      box-shadow: 0px 1px 3px 1px rgba(0, 0, 0, 0.15);\n",
              "      filter: drop-shadow(0px 1px 2px rgba(0, 0, 0, 0.3));\n",
              "      fill: #FFFFFF;\n",
              "    }\n",
              "  </style>\n",
              "\n",
              "    <script>\n",
              "      const buttonEl =\n",
              "        document.querySelector('#df-cfafcc0c-21d4-45a5-b4a8-15efcb0ce4b7 button.colab-df-convert');\n",
              "      buttonEl.style.display =\n",
              "        google.colab.kernel.accessAllowed ? 'block' : 'none';\n",
              "\n",
              "      async function convertToInteractive(key) {\n",
              "        const element = document.querySelector('#df-cfafcc0c-21d4-45a5-b4a8-15efcb0ce4b7');\n",
              "        const dataTable =\n",
              "          await google.colab.kernel.invokeFunction('convertToInteractive',\n",
              "                                                    [key], {});\n",
              "        if (!dataTable) return;\n",
              "\n",
              "        const docLinkHtml = 'Like what you see? Visit the ' +\n",
              "          '<a target=\"_blank\" href=https://colab.research.google.com/notebooks/data_table.ipynb>data table notebook</a>'\n",
              "          + ' to learn more about interactive tables.';\n",
              "        element.innerHTML = '';\n",
              "        dataTable['output_type'] = 'display_data';\n",
              "        await google.colab.output.renderOutput(dataTable, element);\n",
              "        const docLink = document.createElement('div');\n",
              "        docLink.innerHTML = docLinkHtml;\n",
              "        element.appendChild(docLink);\n",
              "      }\n",
              "    </script>\n",
              "  </div>\n",
              "\n",
              "\n",
              "<div id=\"df-3f1981e0-a9d3-4ebe-bc7a-5e2689f31928\">\n",
              "  <button class=\"colab-df-quickchart\" onclick=\"quickchart('df-3f1981e0-a9d3-4ebe-bc7a-5e2689f31928')\"\n",
              "            title=\"Suggest charts.\"\n",
              "            style=\"display:none;\">\n",
              "\n",
              "<svg xmlns=\"http://www.w3.org/2000/svg\" height=\"24px\"viewBox=\"0 0 24 24\"\n",
              "     width=\"24px\">\n",
              "    <g>\n",
              "        <path d=\"M19 3H5c-1.1 0-2 .9-2 2v14c0 1.1.9 2 2 2h14c1.1 0 2-.9 2-2V5c0-1.1-.9-2-2-2zM9 17H7v-7h2v7zm4 0h-2V7h2v10zm4 0h-2v-4h2v4z\"/>\n",
              "    </g>\n",
              "</svg>\n",
              "  </button>\n",
              "\n",
              "<style>\n",
              "  .colab-df-quickchart {\n",
              "      --bg-color: #E8F0FE;\n",
              "      --fill-color: #1967D2;\n",
              "      --hover-bg-color: #E2EBFA;\n",
              "      --hover-fill-color: #174EA6;\n",
              "      --disabled-fill-color: #AAA;\n",
              "      --disabled-bg-color: #DDD;\n",
              "  }\n",
              "\n",
              "  [theme=dark] .colab-df-quickchart {\n",
              "      --bg-color: #3B4455;\n",
              "      --fill-color: #D2E3FC;\n",
              "      --hover-bg-color: #434B5C;\n",
              "      --hover-fill-color: #FFFFFF;\n",
              "      --disabled-bg-color: #3B4455;\n",
              "      --disabled-fill-color: #666;\n",
              "  }\n",
              "\n",
              "  .colab-df-quickchart {\n",
              "    background-color: var(--bg-color);\n",
              "    border: none;\n",
              "    border-radius: 50%;\n",
              "    cursor: pointer;\n",
              "    display: none;\n",
              "    fill: var(--fill-color);\n",
              "    height: 32px;\n",
              "    padding: 0;\n",
              "    width: 32px;\n",
              "  }\n",
              "\n",
              "  .colab-df-quickchart:hover {\n",
              "    background-color: var(--hover-bg-color);\n",
              "    box-shadow: 0 1px 2px rgba(60, 64, 67, 0.3), 0 1px 3px 1px rgba(60, 64, 67, 0.15);\n",
              "    fill: var(--button-hover-fill-color);\n",
              "  }\n",
              "\n",
              "  .colab-df-quickchart-complete:disabled,\n",
              "  .colab-df-quickchart-complete:disabled:hover {\n",
              "    background-color: var(--disabled-bg-color);\n",
              "    fill: var(--disabled-fill-color);\n",
              "    box-shadow: none;\n",
              "  }\n",
              "\n",
              "  .colab-df-spinner {\n",
              "    border: 2px solid var(--fill-color);\n",
              "    border-color: transparent;\n",
              "    border-bottom-color: var(--fill-color);\n",
              "    animation:\n",
              "      spin 1s steps(1) infinite;\n",
              "  }\n",
              "\n",
              "  @keyframes spin {\n",
              "    0% {\n",
              "      border-color: transparent;\n",
              "      border-bottom-color: var(--fill-color);\n",
              "      border-left-color: var(--fill-color);\n",
              "    }\n",
              "    20% {\n",
              "      border-color: transparent;\n",
              "      border-left-color: var(--fill-color);\n",
              "      border-top-color: var(--fill-color);\n",
              "    }\n",
              "    30% {\n",
              "      border-color: transparent;\n",
              "      border-left-color: var(--fill-color);\n",
              "      border-top-color: var(--fill-color);\n",
              "      border-right-color: var(--fill-color);\n",
              "    }\n",
              "    40% {\n",
              "      border-color: transparent;\n",
              "      border-right-color: var(--fill-color);\n",
              "      border-top-color: var(--fill-color);\n",
              "    }\n",
              "    60% {\n",
              "      border-color: transparent;\n",
              "      border-right-color: var(--fill-color);\n",
              "    }\n",
              "    80% {\n",
              "      border-color: transparent;\n",
              "      border-right-color: var(--fill-color);\n",
              "      border-bottom-color: var(--fill-color);\n",
              "    }\n",
              "    90% {\n",
              "      border-color: transparent;\n",
              "      border-bottom-color: var(--fill-color);\n",
              "    }\n",
              "  }\n",
              "</style>\n",
              "\n",
              "  <script>\n",
              "    async function quickchart(key) {\n",
              "      const quickchartButtonEl =\n",
              "        document.querySelector('#' + key + ' button');\n",
              "      quickchartButtonEl.disabled = true;  // To prevent multiple clicks.\n",
              "      quickchartButtonEl.classList.add('colab-df-spinner');\n",
              "      try {\n",
              "        const charts = await google.colab.kernel.invokeFunction(\n",
              "            'suggestCharts', [key], {});\n",
              "      } catch (error) {\n",
              "        console.error('Error during call to suggestCharts:', error);\n",
              "      }\n",
              "      quickchartButtonEl.classList.remove('colab-df-spinner');\n",
              "      quickchartButtonEl.classList.add('colab-df-quickchart-complete');\n",
              "    }\n",
              "    (() => {\n",
              "      let quickchartButtonEl =\n",
              "        document.querySelector('#df-3f1981e0-a9d3-4ebe-bc7a-5e2689f31928 button');\n",
              "      quickchartButtonEl.style.display =\n",
              "        google.colab.kernel.accessAllowed ? 'block' : 'none';\n",
              "    })();\n",
              "  </script>\n",
              "</div>\n",
              "    </div>\n",
              "  </div>\n"
            ]
          },
          "metadata": {},
          "execution_count": 14
        }
      ]
    },
    {
      "cell_type": "code",
      "source": [
        "# среднее\n",
        "mean = df['Motor vehicle theft'].mean()\n",
        "# медиана\n",
        "median = df['Motor vehicle theft'].median()\n",
        "# мода\n",
        "mode = df.groupby([\"Metropolitan/Nonmetropolitan\"])[\"Motor vehicle theft\"].agg(pd.Series.mode)\n",
        "# минимум\n",
        "min = df['Motor vehicle theft'].min()\n",
        "# максимум\n",
        "max = df['Motor vehicle theft'].max()\n",
        "# стандартное отклонение\n",
        "std = df['Motor vehicle theft'].std()\n",
        "\n",
        "print(f'Среднее: {mean}')\n",
        "print(f'Медиана: {median}')\n",
        "print(f'Мода: {mode}')\n",
        "print(f'Минимум: {min}')\n",
        "print(f'Максимум: {max}')\n",
        "print(f'Стандартное отклонение: {std}')"
      ],
      "metadata": {
        "id": "ud5DMETOU8hS",
        "colab": {
          "base_uri": "https://localhost:8080/"
        },
        "outputId": "7e8eb5c3-b6ab-4e41-d7ef-16df4d1a8519"
      },
      "execution_count": 18,
      "outputs": [
        {
          "output_type": "stream",
          "name": "stdout",
          "text": [
            "Среднее: 219.19298245614036\n",
            "Медиана: 14.0\n",
            "Мода: Metropolitan/Nonmetropolitan\n",
            "Metropolitan Counties       42.0\n",
            "Nonmetropolitan Counties     1.0\n",
            "Name: Motor vehicle theft, dtype: float64\n",
            "Минимум: 0.0\n",
            "Максимум: 4203.0\n",
            "Стандартное отклонение: 651.5237206129209\n"
          ]
        }
      ]
    },
    {
      "cell_type": "markdown",
      "source": [
        "Вычислите следующие квантили: 25%, 50% (медиана), 75% для числового признака вашего датасета. Затем найдите интерквартильный размах."
      ],
      "metadata": {
        "id": "dZEVd9QIVMyV"
      }
    },
    {
      "cell_type": "code",
      "source": [
        "# 25% квантиль\n",
        "q1 = df['Motor vehicle theft'].quantile(0.25)\n",
        "# 50% квантиль\n",
        "q2 = df['Motor vehicle theft'].quantile(0.5)\n",
        "# 75% квантиль\n",
        "q3 = df['Motor vehicle theft'].quantile(0.75)\n",
        "# интерквантильный размах\n",
        "iqr = q3 - q1\n",
        "\n",
        "print(f'25% квантиль: {q1}')\n",
        "print(f'50% квантиль: {q2}')\n",
        "print(f'75% квантиль: {q3}')\n",
        "print(f'интерквантильный размах: {iqr}')"
      ],
      "metadata": {
        "id": "2UMcBq9dVbVE",
        "colab": {
          "base_uri": "https://localhost:8080/"
        },
        "outputId": "1f58b306-ea6c-400f-ed33-3110605aad63"
      },
      "execution_count": 16,
      "outputs": [
        {
          "output_type": "stream",
          "name": "stdout",
          "text": [
            "25% квантиль: 4.0\n",
            "50% квантиль: 14.0\n",
            "75% квантиль: 51.0\n",
            "интерквантильный размах: 47.0\n"
          ]
        }
      ]
    },
    {
      "cell_type": "markdown",
      "source": [
        "Какие выводы можно сделать исходя из полученных статистических данных?"
      ],
      "metadata": {
        "id": "vm0-5sY4WX2I"
      }
    },
    {
      "cell_type": "markdown",
      "source": [
        "**Ответ здесь**\n",
        "\n",
        "```\n",
        "Well, можно точно сделать вывод, что в Metropolitan Counties совершается больше хищений автомобилей, чем в Nonmetropolitans Counties.\n",
        "\n",
        "Стандартное отклонение довольно большое. Что может значить - довольно большой разброс данных.\n",
        "```\n"
      ],
      "metadata": {
        "id": "OnO1hVGyWe8D"
      }
    },
    {
      "cell_type": "markdown",
      "source": [
        "##Основы визуализации"
      ],
      "metadata": {
        "id": "zDISZbQVWk6m"
      }
    },
    {
      "cell_type": "markdown",
      "source": [
        " Постройте гистограмму переменной (X) относительно категориального признака (Y) из своего датасета."
      ],
      "metadata": {
        "id": "aU8cakZvZBuj"
      }
    },
    {
      "cell_type": "code",
      "source": [
        "import plotly.express as px\n",
        "summ = df.groupby([\"County\"])[\"Motor vehicle theft\", \"Metropolitan/Nonmetropolitan\"].agg(pd.Series.sum)\n",
        "px.histogram(summ, y='Metropolitan/Nonmetropolitan', x='Motor vehicle theft', barmode='group')"
      ],
      "metadata": {
        "id": "9-KTIzdfZLmP",
        "colab": {
          "base_uri": "https://localhost:8080/",
          "height": 611
        },
        "outputId": "dfc64a22-8113-4864-8616-abf64aa466ce"
      },
      "execution_count": 65,
      "outputs": [
        {
          "output_type": "stream",
          "name": "stderr",
          "text": [
            "<ipython-input-65-f12918a17cd7>:2: FutureWarning:\n",
            "\n",
            "Indexing with multiple keys (implicitly converted to a tuple of keys) will be deprecated, use a list instead.\n",
            "\n"
          ]
        },
        {
          "output_type": "display_data",
          "data": {
            "text/html": [
              "<html>\n",
              "<head><meta charset=\"utf-8\" /></head>\n",
              "<body>\n",
              "    <div>            <script src=\"https://cdnjs.cloudflare.com/ajax/libs/mathjax/2.7.5/MathJax.js?config=TeX-AMS-MML_SVG\"></script><script type=\"text/javascript\">if (window.MathJax && window.MathJax.Hub && window.MathJax.Hub.Config) {window.MathJax.Hub.Config({SVG: {font: \"STIX-Web\"}});}</script>                <script type=\"text/javascript\">window.PlotlyConfig = {MathJaxConfig: 'local'};</script>\n",
              "        <script charset=\"utf-8\" src=\"https://cdn.plot.ly/plotly-2.24.1.min.js\"></script>                <div id=\"fcb3ce49-5631-4dea-8438-6cb82caf8db3\" class=\"plotly-graph-div\" style=\"height:525px; width:100%;\"></div>            <script type=\"text/javascript\">                                    window.PLOTLYENV=window.PLOTLYENV || {};                                    if (document.getElementById(\"fcb3ce49-5631-4dea-8438-6cb82caf8db3\")) {                    Plotly.newPlot(                        \"fcb3ce49-5631-4dea-8438-6cb82caf8db3\",                        [{\"alignmentgroup\":\"True\",\"bingroup\":\"y\",\"histfunc\":\"sum\",\"hovertemplate\":\"sum of Motor vehicle theft=%{x}\\u003cbr\\u003eMetropolitan\\u002fNonmetropolitan=%{y}\\u003cextra\\u003e\\u003c\\u002fextra\\u003e\",\"legendgroup\":\"\",\"marker\":{\"color\":\"#636efa\",\"pattern\":{\"shape\":\"\"}},\"name\":\"\",\"offsetgroup\":\"\",\"orientation\":\"h\",\"showlegend\":false,\"x\":[629.0,1.0,5.0,21.0,19.0,1.0,21.0,4.0,42.0,574.0,2.0,31.0,28.0,1.0,1883.0,12.0,5.0,0.0,4203.0,10.0,3.0,2.0,6.0,54.0,0.0,1.0,27.0,1.0,15.0,142.0,42.0,4.0,1479.0,126.0,10.0,1225.0,788.0,144.0,13.0,376.0,13.0,198.0,8.0,46.0,3.0,9.0,42.0,14.0,51.0,45.0,1.0,3.0,0.0,6.0,83.0,15.0,7.0],\"xaxis\":\"x\",\"y\":[\"Metropolitan Counties\",\"Nonmetropolitan Counties\",\"Nonmetropolitan Counties\",\"Metropolitan Counties\",\"Nonmetropolitan Counties\",\"Nonmetropolitan Counties\",\"Metropolitan Counties\",\"Nonmetropolitan Counties\",\"Metropolitan Counties\",\"Metropolitan Counties\",\"Nonmetropolitan Counties\",\"Nonmetropolitan Counties\",\"Metropolitan Counties\",\"Nonmetropolitan Counties\",\"Metropolitan Counties\",\"Metropolitan Counties\",\"Nonmetropolitan Counties\",\"Nonmetropolitan Counties\",\"Metropolitan Counties\",\"Metropolitan Counties\",\"Metropolitan Counties\",\"Nonmetropolitan Counties\",\"Nonmetropolitan Counties\",\"Metropolitan Counties\",\"Nonmetropolitan Counties\",\"Nonmetropolitan Counties\",\"Metropolitan Counties\",\"Metropolitan Counties\",\"Nonmetropolitan Counties\",\"Metropolitan Counties\",\"Metropolitan Counties\",\"Nonmetropolitan Counties\",\"Metropolitan Counties\",\"Metropolitan Counties\",\"Metropolitan Counties\",\"Metropolitan Counties\",\"Metropolitan Counties\",\"Metropolitan Counties\",\"Metropolitan Counties\",\"Metropolitan Counties\",\"Metropolitan Counties\",\"Metropolitan Counties\",\"Metropolitan Counties\",\"Metropolitan Counties\",\"Nonmetropolitan Counties\",\"Nonmetropolitan Counties\",\"Metropolitan Counties\",\"Metropolitan Counties\",\"Metropolitan Counties\",\"Metropolitan Counties\",\"Nonmetropolitan Counties\",\"Nonmetropolitan Counties\",\"Metropolitan Counties\",\"Nonmetropolitan Counties\",\"Metropolitan Counties\",\"Metropolitan Counties\",\"Metropolitan Counties\"],\"yaxis\":\"y\",\"type\":\"histogram\"}],                        {\"template\":{\"data\":{\"histogram2dcontour\":[{\"type\":\"histogram2dcontour\",\"colorbar\":{\"outlinewidth\":0,\"ticks\":\"\"},\"colorscale\":[[0.0,\"#0d0887\"],[0.1111111111111111,\"#46039f\"],[0.2222222222222222,\"#7201a8\"],[0.3333333333333333,\"#9c179e\"],[0.4444444444444444,\"#bd3786\"],[0.5555555555555556,\"#d8576b\"],[0.6666666666666666,\"#ed7953\"],[0.7777777777777778,\"#fb9f3a\"],[0.8888888888888888,\"#fdca26\"],[1.0,\"#f0f921\"]]}],\"choropleth\":[{\"type\":\"choropleth\",\"colorbar\":{\"outlinewidth\":0,\"ticks\":\"\"}}],\"histogram2d\":[{\"type\":\"histogram2d\",\"colorbar\":{\"outlinewidth\":0,\"ticks\":\"\"},\"colorscale\":[[0.0,\"#0d0887\"],[0.1111111111111111,\"#46039f\"],[0.2222222222222222,\"#7201a8\"],[0.3333333333333333,\"#9c179e\"],[0.4444444444444444,\"#bd3786\"],[0.5555555555555556,\"#d8576b\"],[0.6666666666666666,\"#ed7953\"],[0.7777777777777778,\"#fb9f3a\"],[0.8888888888888888,\"#fdca26\"],[1.0,\"#f0f921\"]]}],\"heatmap\":[{\"type\":\"heatmap\",\"colorbar\":{\"outlinewidth\":0,\"ticks\":\"\"},\"colorscale\":[[0.0,\"#0d0887\"],[0.1111111111111111,\"#46039f\"],[0.2222222222222222,\"#7201a8\"],[0.3333333333333333,\"#9c179e\"],[0.4444444444444444,\"#bd3786\"],[0.5555555555555556,\"#d8576b\"],[0.6666666666666666,\"#ed7953\"],[0.7777777777777778,\"#fb9f3a\"],[0.8888888888888888,\"#fdca26\"],[1.0,\"#f0f921\"]]}],\"heatmapgl\":[{\"type\":\"heatmapgl\",\"colorbar\":{\"outlinewidth\":0,\"ticks\":\"\"},\"colorscale\":[[0.0,\"#0d0887\"],[0.1111111111111111,\"#46039f\"],[0.2222222222222222,\"#7201a8\"],[0.3333333333333333,\"#9c179e\"],[0.4444444444444444,\"#bd3786\"],[0.5555555555555556,\"#d8576b\"],[0.6666666666666666,\"#ed7953\"],[0.7777777777777778,\"#fb9f3a\"],[0.8888888888888888,\"#fdca26\"],[1.0,\"#f0f921\"]]}],\"contourcarpet\":[{\"type\":\"contourcarpet\",\"colorbar\":{\"outlinewidth\":0,\"ticks\":\"\"}}],\"contour\":[{\"type\":\"contour\",\"colorbar\":{\"outlinewidth\":0,\"ticks\":\"\"},\"colorscale\":[[0.0,\"#0d0887\"],[0.1111111111111111,\"#46039f\"],[0.2222222222222222,\"#7201a8\"],[0.3333333333333333,\"#9c179e\"],[0.4444444444444444,\"#bd3786\"],[0.5555555555555556,\"#d8576b\"],[0.6666666666666666,\"#ed7953\"],[0.7777777777777778,\"#fb9f3a\"],[0.8888888888888888,\"#fdca26\"],[1.0,\"#f0f921\"]]}],\"surface\":[{\"type\":\"surface\",\"colorbar\":{\"outlinewidth\":0,\"ticks\":\"\"},\"colorscale\":[[0.0,\"#0d0887\"],[0.1111111111111111,\"#46039f\"],[0.2222222222222222,\"#7201a8\"],[0.3333333333333333,\"#9c179e\"],[0.4444444444444444,\"#bd3786\"],[0.5555555555555556,\"#d8576b\"],[0.6666666666666666,\"#ed7953\"],[0.7777777777777778,\"#fb9f3a\"],[0.8888888888888888,\"#fdca26\"],[1.0,\"#f0f921\"]]}],\"mesh3d\":[{\"type\":\"mesh3d\",\"colorbar\":{\"outlinewidth\":0,\"ticks\":\"\"}}],\"scatter\":[{\"fillpattern\":{\"fillmode\":\"overlay\",\"size\":10,\"solidity\":0.2},\"type\":\"scatter\"}],\"parcoords\":[{\"type\":\"parcoords\",\"line\":{\"colorbar\":{\"outlinewidth\":0,\"ticks\":\"\"}}}],\"scatterpolargl\":[{\"type\":\"scatterpolargl\",\"marker\":{\"colorbar\":{\"outlinewidth\":0,\"ticks\":\"\"}}}],\"bar\":[{\"error_x\":{\"color\":\"#2a3f5f\"},\"error_y\":{\"color\":\"#2a3f5f\"},\"marker\":{\"line\":{\"color\":\"#E5ECF6\",\"width\":0.5},\"pattern\":{\"fillmode\":\"overlay\",\"size\":10,\"solidity\":0.2}},\"type\":\"bar\"}],\"scattergeo\":[{\"type\":\"scattergeo\",\"marker\":{\"colorbar\":{\"outlinewidth\":0,\"ticks\":\"\"}}}],\"scatterpolar\":[{\"type\":\"scatterpolar\",\"marker\":{\"colorbar\":{\"outlinewidth\":0,\"ticks\":\"\"}}}],\"histogram\":[{\"marker\":{\"pattern\":{\"fillmode\":\"overlay\",\"size\":10,\"solidity\":0.2}},\"type\":\"histogram\"}],\"scattergl\":[{\"type\":\"scattergl\",\"marker\":{\"colorbar\":{\"outlinewidth\":0,\"ticks\":\"\"}}}],\"scatter3d\":[{\"type\":\"scatter3d\",\"line\":{\"colorbar\":{\"outlinewidth\":0,\"ticks\":\"\"}},\"marker\":{\"colorbar\":{\"outlinewidth\":0,\"ticks\":\"\"}}}],\"scattermapbox\":[{\"type\":\"scattermapbox\",\"marker\":{\"colorbar\":{\"outlinewidth\":0,\"ticks\":\"\"}}}],\"scatterternary\":[{\"type\":\"scatterternary\",\"marker\":{\"colorbar\":{\"outlinewidth\":0,\"ticks\":\"\"}}}],\"scattercarpet\":[{\"type\":\"scattercarpet\",\"marker\":{\"colorbar\":{\"outlinewidth\":0,\"ticks\":\"\"}}}],\"carpet\":[{\"aaxis\":{\"endlinecolor\":\"#2a3f5f\",\"gridcolor\":\"white\",\"linecolor\":\"white\",\"minorgridcolor\":\"white\",\"startlinecolor\":\"#2a3f5f\"},\"baxis\":{\"endlinecolor\":\"#2a3f5f\",\"gridcolor\":\"white\",\"linecolor\":\"white\",\"minorgridcolor\":\"white\",\"startlinecolor\":\"#2a3f5f\"},\"type\":\"carpet\"}],\"table\":[{\"cells\":{\"fill\":{\"color\":\"#EBF0F8\"},\"line\":{\"color\":\"white\"}},\"header\":{\"fill\":{\"color\":\"#C8D4E3\"},\"line\":{\"color\":\"white\"}},\"type\":\"table\"}],\"barpolar\":[{\"marker\":{\"line\":{\"color\":\"#E5ECF6\",\"width\":0.5},\"pattern\":{\"fillmode\":\"overlay\",\"size\":10,\"solidity\":0.2}},\"type\":\"barpolar\"}],\"pie\":[{\"automargin\":true,\"type\":\"pie\"}]},\"layout\":{\"autotypenumbers\":\"strict\",\"colorway\":[\"#636efa\",\"#EF553B\",\"#00cc96\",\"#ab63fa\",\"#FFA15A\",\"#19d3f3\",\"#FF6692\",\"#B6E880\",\"#FF97FF\",\"#FECB52\"],\"font\":{\"color\":\"#2a3f5f\"},\"hovermode\":\"closest\",\"hoverlabel\":{\"align\":\"left\"},\"paper_bgcolor\":\"white\",\"plot_bgcolor\":\"#E5ECF6\",\"polar\":{\"bgcolor\":\"#E5ECF6\",\"angularaxis\":{\"gridcolor\":\"white\",\"linecolor\":\"white\",\"ticks\":\"\"},\"radialaxis\":{\"gridcolor\":\"white\",\"linecolor\":\"white\",\"ticks\":\"\"}},\"ternary\":{\"bgcolor\":\"#E5ECF6\",\"aaxis\":{\"gridcolor\":\"white\",\"linecolor\":\"white\",\"ticks\":\"\"},\"baxis\":{\"gridcolor\":\"white\",\"linecolor\":\"white\",\"ticks\":\"\"},\"caxis\":{\"gridcolor\":\"white\",\"linecolor\":\"white\",\"ticks\":\"\"}},\"coloraxis\":{\"colorbar\":{\"outlinewidth\":0,\"ticks\":\"\"}},\"colorscale\":{\"sequential\":[[0.0,\"#0d0887\"],[0.1111111111111111,\"#46039f\"],[0.2222222222222222,\"#7201a8\"],[0.3333333333333333,\"#9c179e\"],[0.4444444444444444,\"#bd3786\"],[0.5555555555555556,\"#d8576b\"],[0.6666666666666666,\"#ed7953\"],[0.7777777777777778,\"#fb9f3a\"],[0.8888888888888888,\"#fdca26\"],[1.0,\"#f0f921\"]],\"sequentialminus\":[[0.0,\"#0d0887\"],[0.1111111111111111,\"#46039f\"],[0.2222222222222222,\"#7201a8\"],[0.3333333333333333,\"#9c179e\"],[0.4444444444444444,\"#bd3786\"],[0.5555555555555556,\"#d8576b\"],[0.6666666666666666,\"#ed7953\"],[0.7777777777777778,\"#fb9f3a\"],[0.8888888888888888,\"#fdca26\"],[1.0,\"#f0f921\"]],\"diverging\":[[0,\"#8e0152\"],[0.1,\"#c51b7d\"],[0.2,\"#de77ae\"],[0.3,\"#f1b6da\"],[0.4,\"#fde0ef\"],[0.5,\"#f7f7f7\"],[0.6,\"#e6f5d0\"],[0.7,\"#b8e186\"],[0.8,\"#7fbc41\"],[0.9,\"#4d9221\"],[1,\"#276419\"]]},\"xaxis\":{\"gridcolor\":\"white\",\"linecolor\":\"white\",\"ticks\":\"\",\"title\":{\"standoff\":15},\"zerolinecolor\":\"white\",\"automargin\":true,\"zerolinewidth\":2},\"yaxis\":{\"gridcolor\":\"white\",\"linecolor\":\"white\",\"ticks\":\"\",\"title\":{\"standoff\":15},\"zerolinecolor\":\"white\",\"automargin\":true,\"zerolinewidth\":2},\"scene\":{\"xaxis\":{\"backgroundcolor\":\"#E5ECF6\",\"gridcolor\":\"white\",\"linecolor\":\"white\",\"showbackground\":true,\"ticks\":\"\",\"zerolinecolor\":\"white\",\"gridwidth\":2},\"yaxis\":{\"backgroundcolor\":\"#E5ECF6\",\"gridcolor\":\"white\",\"linecolor\":\"white\",\"showbackground\":true,\"ticks\":\"\",\"zerolinecolor\":\"white\",\"gridwidth\":2},\"zaxis\":{\"backgroundcolor\":\"#E5ECF6\",\"gridcolor\":\"white\",\"linecolor\":\"white\",\"showbackground\":true,\"ticks\":\"\",\"zerolinecolor\":\"white\",\"gridwidth\":2}},\"shapedefaults\":{\"line\":{\"color\":\"#2a3f5f\"}},\"annotationdefaults\":{\"arrowcolor\":\"#2a3f5f\",\"arrowhead\":0,\"arrowwidth\":1},\"geo\":{\"bgcolor\":\"white\",\"landcolor\":\"#E5ECF6\",\"subunitcolor\":\"white\",\"showland\":true,\"showlakes\":true,\"lakecolor\":\"white\"},\"title\":{\"x\":0.05},\"mapbox\":{\"style\":\"light\"}}},\"xaxis\":{\"anchor\":\"y\",\"domain\":[0.0,1.0],\"title\":{\"text\":\"sum of Motor vehicle theft\"}},\"yaxis\":{\"anchor\":\"x\",\"domain\":[0.0,1.0],\"title\":{\"text\":\"Metropolitan\\u002fNonmetropolitan\"}},\"legend\":{\"tracegroupgap\":0},\"margin\":{\"t\":60},\"barmode\":\"group\"},                        {\"responsive\": true}                    ).then(function(){\n",
              "                            \n",
              "var gd = document.getElementById('fcb3ce49-5631-4dea-8438-6cb82caf8db3');\n",
              "var x = new MutationObserver(function (mutations, observer) {{\n",
              "        var display = window.getComputedStyle(gd).display;\n",
              "        if (!display || display === 'none') {{\n",
              "            console.log([gd, 'removed!']);\n",
              "            Plotly.purge(gd);\n",
              "            observer.disconnect();\n",
              "        }}\n",
              "}});\n",
              "\n",
              "// Listen for the removal of the full notebook cells\n",
              "var notebookContainer = gd.closest('#notebook-container');\n",
              "if (notebookContainer) {{\n",
              "    x.observe(notebookContainer, {childList: true});\n",
              "}}\n",
              "\n",
              "// Listen for the clearing of the current output cell\n",
              "var outputEl = gd.closest('.output');\n",
              "if (outputEl) {{\n",
              "    x.observe(outputEl, {childList: true});\n",
              "}}\n",
              "\n",
              "                        })                };                            </script>        </div>\n",
              "</body>\n",
              "</html>"
            ]
          },
          "metadata": {}
        }
      ]
    },
    {
      "cell_type": "markdown",
      "source": [
        "Постройте boxplot любого признака из своего датасета.\n",
        "\n",
        "1) boxplot числовой переменной;\n",
        "\n",
        "2) boxplot числовой переменной относительно категориальный переменной;\n",
        "\n",
        "*p.s. Если у вас только один числовой признак, преобразуйте категориальный при помощи LabelEncoder (https://scikit-learn.org/stable/modules/generated/sklearn.preprocessing.LabelEncoder.html)*"
      ],
      "metadata": {
        "id": "zPsEO4m1ZWDy"
      }
    },
    {
      "cell_type": "code",
      "source": [
        "px.box(df['Violent crime'])"
      ],
      "metadata": {
        "id": "ccJLh1r-Zdne",
        "colab": {
          "base_uri": "https://localhost:8080/",
          "height": 542
        },
        "outputId": "8a096248-2360-4f7b-fbcd-c39fa8653b9a"
      },
      "execution_count": 73,
      "outputs": [
        {
          "output_type": "display_data",
          "data": {
            "text/html": [
              "<html>\n",
              "<head><meta charset=\"utf-8\" /></head>\n",
              "<body>\n",
              "    <div>            <script src=\"https://cdnjs.cloudflare.com/ajax/libs/mathjax/2.7.5/MathJax.js?config=TeX-AMS-MML_SVG\"></script><script type=\"text/javascript\">if (window.MathJax && window.MathJax.Hub && window.MathJax.Hub.Config) {window.MathJax.Hub.Config({SVG: {font: \"STIX-Web\"}});}</script>                <script type=\"text/javascript\">window.PlotlyConfig = {MathJaxConfig: 'local'};</script>\n",
              "        <script charset=\"utf-8\" src=\"https://cdn.plot.ly/plotly-2.24.1.min.js\"></script>                <div id=\"d722cb0c-33a0-475d-8917-1dac925fb068\" class=\"plotly-graph-div\" style=\"height:525px; width:100%;\"></div>            <script type=\"text/javascript\">                                    window.PLOTLYENV=window.PLOTLYENV || {};                                    if (document.getElementById(\"d722cb0c-33a0-475d-8917-1dac925fb068\")) {                    Plotly.newPlot(                        \"d722cb0c-33a0-475d-8917-1dac925fb068\",                        [{\"alignmentgroup\":\"True\",\"hovertemplate\":\"variable=%{x}\\u003cbr\\u003evalue=%{y}\\u003cextra\\u003e\\u003c\\u002fextra\\u003e\",\"legendgroup\":\"\",\"marker\":{\"color\":\"#636efa\"},\"name\":\"\",\"notched\":false,\"offsetgroup\":\"\",\"orientation\":\"v\",\"showlegend\":false,\"x\":[\"Violent crime\",\"Violent crime\",\"Violent crime\",\"Violent crime\",\"Violent crime\",\"Violent crime\",\"Violent crime\",\"Violent crime\",\"Violent crime\",\"Violent crime\",\"Violent crime\",\"Violent crime\",\"Violent crime\",\"Violent crime\",\"Violent crime\",\"Violent crime\",\"Violent crime\",\"Violent crime\",\"Violent crime\",\"Violent crime\",\"Violent crime\",\"Violent crime\",\"Violent crime\",\"Violent crime\",\"Violent crime\",\"Violent crime\",\"Violent crime\",\"Violent crime\",\"Violent crime\",\"Violent crime\",\"Violent crime\",\"Violent crime\",\"Violent crime\",\"Violent crime\",\"Violent crime\",\"Violent crime\",\"Violent crime\",\"Violent crime\",\"Violent crime\",\"Violent crime\",\"Violent crime\",\"Violent crime\",\"Violent crime\",\"Violent crime\",\"Violent crime\",\"Violent crime\",\"Violent crime\",\"Violent crime\",\"Violent crime\",\"Violent crime\",\"Violent crime\",\"Violent crime\",\"Violent crime\",\"Violent crime\",\"Violent crime\",\"Violent crime\",\"Violent crime\",\"Violent crime\",\"Violent crime\",\"Violent crime\",\"Violent crime\",\"Violent crime\",\"Violent crime\",\"Violent crime\",\"Violent crime\",\"Violent crime\",\"Violent crime\",\"Violent crime\",\"Violent crime\",\"Violent crime\",\"Violent crime\",\"Violent crime\",\"Violent crime\",\"Violent crime\",\"Violent crime\",\"Violent crime\",\"Violent crime\",\"Violent crime\",\"Violent crime\",\"Violent crime\",\"Violent crime\",\"Violent crime\",\"Violent crime\",\"Violent crime\",\"Violent crime\",\"Violent crime\",\"Violent crime\",\"Violent crime\",\"Violent crime\",\"Violent crime\",\"Violent crime\",\"Violent crime\",\"Violent crime\",\"Violent crime\",\"Violent crime\",\"Violent crime\",\"Violent crime\",\"Violent crime\",\"Violent crime\",\"Violent crime\",\"Violent crime\",\"Violent crime\",\"Violent crime\",\"Violent crime\",\"Violent crime\",\"Violent crime\",\"Violent crime\",\"Violent crime\",\"Violent crime\",\"Violent crime\",\"Violent crime\",\"Violent crime\",\"Violent crime\",\"Violent crime\",\"Violent crime\",\"Violent crime\",\"Violent crime\",\"Violent crime\",\"Violent crime\",\"Violent crime\",\"Violent crime\",\"Violent crime\",\"Violent crime\",\"Violent crime\",\"Violent crime\",\"Violent crime\",\"Violent crime\",\"Violent crime\",\"Violent crime\",\"Violent crime\",\"Violent crime\",\"Violent crime\",\"Violent crime\",\"Violent crime\",\"Violent crime\",\"Violent crime\",\"Violent crime\",\"Violent crime\",\"Violent crime\",\"Violent crime\",\"Violent crime\",\"Violent crime\",\"Violent crime\",\"Violent crime\",\"Violent crime\",\"Violent crime\",\"Violent crime\",\"Violent crime\",\"Violent crime\",\"Violent crime\",\"Violent crime\",\"Violent crime\",\"Violent crime\",\"Violent crime\",\"Violent crime\",\"Violent crime\",\"Violent crime\",\"Violent crime\",\"Violent crime\",\"Violent crime\",\"Violent crime\",\"Violent crime\",\"Violent crime\",\"Violent crime\",\"Violent crime\",\"Violent crime\",\"Violent crime\",\"Violent crime\",\"Violent crime\",\"Violent crime\",\"Violent crime\",\"Violent crime\",\"Violent crime\",\"Violent crime\",\"Violent crime\",\"Violent crime\",\"Violent crime\",\"Violent crime\",\"Violent crime\",\"Violent crime\",\"Violent crime\",\"Violent crime\",\"Violent crime\",\"Violent crime\",\"Violent crime\",\"Violent crime\",\"Violent crime\",\"Violent crime\",\"Violent crime\",\"Violent crime\",\"Violent crime\",\"Violent crime\",\"Violent crime\",\"Violent crime\",\"Violent crime\",\"Violent crime\",\"Violent crime\",\"Violent crime\",\"Violent crime\",\"Violent crime\",\"Violent crime\",\"Violent crime\",\"Violent crime\",\"Violent crime\",\"Violent crime\",\"Violent crime\",\"Violent crime\",\"Violent crime\",\"Violent crime\",\"Violent crime\",\"Violent crime\",\"Violent crime\",\"Violent crime\",\"Violent crime\",\"Violent crime\",\"Violent crime\",\"Violent crime\",\"Violent crime\",\"Violent crime\",\"Violent crime\",\"Violent crime\",\"Violent crime\",\"Violent crime\",\"Violent crime\",\"Violent crime\",\"Violent crime\",\"Violent crime\",\"Violent crime\",\"Violent crime\",\"Violent crime\",\"Violent crime\",\"Violent crime\",\"Violent crime\",\"Violent crime\",\"Violent crime\",\"Violent crime\",\"Violent crime\",\"Violent crime\",\"Violent crime\",\"Violent crime\",\"Violent crime\",\"Violent crime\",\"Violent crime\",\"Violent crime\",\"Violent crime\",\"Violent crime\",\"Violent crime\",\"Violent crime\",\"Violent crime\",\"Violent crime\",\"Violent crime\",\"Violent crime\",\"Violent crime\",\"Violent crime\",\"Violent crime\",\"Violent crime\",\"Violent crime\",\"Violent crime\",\"Violent crime\",\"Violent crime\",\"Violent crime\",\"Violent crime\",\"Violent crime\",\"Violent crime\",\"Violent crime\",\"Violent crime\",\"Violent crime\",\"Violent crime\",\"Violent crime\",\"Violent crime\",\"Violent crime\",\"Violent crime\",\"Violent crime\",\"Violent crime\",\"Violent crime\",\"Violent crime\",\"Violent crime\",\"Violent crime\",\"Violent crime\",\"Violent crime\",\"Violent crime\",\"Violent crime\",\"Violent crime\",\"Violent crime\",\"Violent crime\",\"Violent crime\",\"Violent crime\",\"Violent crime\",\"Violent crime\",\"Violent crime\",\"Violent crime\",\"Violent crime\",\"Violent crime\",\"Violent crime\",\"Violent crime\",\"Violent crime\",\"Violent crime\",\"Violent crime\",\"Violent crime\",\"Violent crime\",\"Violent crime\",\"Violent crime\",\"Violent crime\",\"Violent crime\",\"Violent crime\",\"Violent crime\",\"Violent crime\",\"Violent crime\",\"Violent crime\",\"Violent crime\",\"Violent crime\",\"Violent crime\",\"Violent crime\",\"Violent crime\",\"Violent crime\",\"Violent crime\",\"Violent crime\",\"Violent crime\",\"Violent crime\",\"Violent crime\",\"Violent crime\",\"Violent crime\",\"Violent crime\",\"Violent crime\",\"Violent crime\",\"Violent crime\",\"Violent crime\",\"Violent crime\",\"Violent crime\",\"Violent crime\",\"Violent crime\",\"Violent crime\",\"Violent crime\",\"Violent crime\",\"Violent crime\",\"Violent crime\",\"Violent crime\",\"Violent crime\",\"Violent crime\",\"Violent crime\",\"Violent crime\",\"Violent crime\",\"Violent crime\",\"Violent crime\",\"Violent crime\",\"Violent crime\",\"Violent crime\",\"Violent crime\",\"Violent crime\",\"Violent crime\",\"Violent crime\",\"Violent crime\",\"Violent crime\",\"Violent crime\",\"Violent crime\",\"Violent crime\",\"Violent crime\",\"Violent crime\",\"Violent crime\",\"Violent crime\",\"Violent crime\",\"Violent crime\",\"Violent crime\",\"Violent crime\",\"Violent crime\",\"Violent crime\",\"Violent crime\",\"Violent crime\",\"Violent crime\",\"Violent crime\",\"Violent crime\",\"Violent crime\",\"Violent crime\",\"Violent crime\",\"Violent crime\",\"Violent crime\",\"Violent crime\",\"Violent crime\",\"Violent crime\",\"Violent crime\",\"Violent crime\",\"Violent crime\",\"Violent crime\",\"Violent crime\",\"Violent crime\",\"Violent crime\",\"Violent crime\",\"Violent crime\",\"Violent crime\",\"Violent crime\",\"Violent crime\",\"Violent crime\",\"Violent crime\",\"Violent crime\",\"Violent crime\",\"Violent crime\",\"Violent crime\",\"Violent crime\",\"Violent crime\",\"Violent crime\",\"Violent crime\",\"Violent crime\",\"Violent crime\",\"Violent crime\",\"Violent crime\",\"Violent crime\",\"Violent crime\",\"Violent crime\",\"Violent crime\",\"Violent crime\",\"Violent crime\",\"Violent crime\",\"Violent crime\",\"Violent crime\",\"Violent crime\",\"Violent crime\",\"Violent crime\",\"Violent crime\",\"Violent crime\",\"Violent crime\",\"Violent crime\",\"Violent crime\",\"Violent crime\",\"Violent crime\",\"Violent crime\",\"Violent crime\",\"Violent crime\",\"Violent crime\",\"Violent crime\",\"Violent crime\",\"Violent crime\",\"Violent crime\",\"Violent crime\",\"Violent crime\",\"Violent crime\",\"Violent crime\",\"Violent crime\",\"Violent crime\",\"Violent crime\",\"Violent crime\",\"Violent crime\",\"Violent crime\",\"Violent crime\",\"Violent crime\",\"Violent crime\",\"Violent crime\",\"Violent crime\",\"Violent crime\",\"Violent crime\",\"Violent crime\",\"Violent crime\",\"Violent crime\",\"Violent crime\",\"Violent crime\",\"Violent crime\",\"Violent crime\",\"Violent crime\",\"Violent crime\",\"Violent crime\",\"Violent crime\",\"Violent crime\",\"Violent crime\",\"Violent crime\",\"Violent crime\",\"Violent crime\",\"Violent crime\",\"Violent crime\",\"Violent crime\",\"Violent crime\",\"Violent crime\",\"Violent crime\",\"Violent crime\",\"Violent crime\",\"Violent crime\",\"Violent crime\",\"Violent crime\",\"Violent crime\",\"Violent crime\",\"Violent crime\",\"Violent crime\",\"Violent crime\",\"Violent crime\",\"Violent crime\",\"Violent crime\",\"Violent crime\",\"Violent crime\",\"Violent crime\",\"Violent crime\",\"Violent crime\",\"Violent crime\",\"Violent crime\",\"Violent crime\",\"Violent crime\",\"Violent crime\",\"Violent crime\",\"Violent crime\",\"Violent crime\",\"Violent crime\",\"Violent crime\",\"Violent crime\",\"Violent crime\",\"Violent crime\",\"Violent crime\",\"Violent crime\",\"Violent crime\",\"Violent crime\",\"Violent crime\",\"Violent crime\",\"Violent crime\",\"Violent crime\",\"Violent crime\",\"Violent crime\",\"Violent crime\",\"Violent crime\",\"Violent crime\",\"Violent crime\",\"Violent crime\",\"Violent crime\",\"Violent crime\",\"Violent crime\",\"Violent crime\",\"Violent crime\",\"Violent crime\",\"Violent crime\",\"Violent crime\",\"Violent crime\",\"Violent crime\",\"Violent crime\",\"Violent crime\",\"Violent crime\",\"Violent crime\",\"Violent crime\",\"Violent crime\",\"Violent crime\",\"Violent crime\",\"Violent crime\",\"Violent crime\",\"Violent crime\",\"Violent crime\",\"Violent crime\",\"Violent crime\",\"Violent crime\",\"Violent crime\",\"Violent crime\",\"Violent crime\",\"Violent crime\",\"Violent crime\",\"Violent crime\",\"Violent crime\",\"Violent crime\",\"Violent crime\",\"Violent crime\",\"Violent crime\",\"Violent crime\",\"Violent crime\",\"Violent crime\",\"Violent crime\",\"Violent crime\",\"Violent crime\",\"Violent crime\",\"Violent crime\",\"Violent crime\",\"Violent crime\",\"Violent crime\",\"Violent crime\",\"Violent crime\",\"Violent crime\",\"Violent crime\",\"Violent crime\",\"Violent crime\",\"Violent crime\",\"Violent crime\",\"Violent crime\",\"Violent crime\",\"Violent crime\",\"Violent crime\",\"Violent crime\",\"Violent crime\",\"Violent crime\",\"Violent crime\",\"Violent crime\",\"Violent crime\",\"Violent crime\",\"Violent crime\",\"Violent crime\",\"Violent crime\",\"Violent crime\",\"Violent crime\",\"Violent crime\",\"Violent crime\",\"Violent crime\",\"Violent crime\",\"Violent crime\",\"Violent crime\",\"Violent crime\",\"Violent crime\",\"Violent crime\",\"Violent crime\",\"Violent crime\",\"Violent crime\",\"Violent crime\",\"Violent crime\",\"Violent crime\",\"Violent crime\",\"Violent crime\",\"Violent crime\",\"Violent crime\",\"Violent crime\",\"Violent crime\",\"Violent crime\",\"Violent crime\",\"Violent crime\",\"Violent crime\",\"Violent crime\",\"Violent crime\",\"Violent crime\",\"Violent crime\",\"Violent crime\",\"Violent crime\",\"Violent crime\",\"Violent crime\",\"Violent crime\",\"Violent crime\",\"Violent crime\",\"Violent crime\",\"Violent crime\",\"Violent crime\",\"Violent crime\",\"Violent crime\",\"Violent crime\",\"Violent crime\",\"Violent crime\",\"Violent crime\",\"Violent crime\",\"Violent crime\",\"Violent crime\",\"Violent crime\",\"Violent crime\",\"Violent crime\",\"Violent crime\",\"Violent crime\",\"Violent crime\",\"Violent crime\",\"Violent crime\",\"Violent crime\",\"Violent crime\",\"Violent crime\",\"Violent crime\",\"Violent crime\",\"Violent crime\",\"Violent crime\",\"Violent crime\",\"Violent crime\",\"Violent crime\",\"Violent crime\",\"Violent crime\",\"Violent crime\",\"Violent crime\",\"Violent crime\",\"Violent crime\",\"Violent crime\",\"Violent crime\",\"Violent crime\",\"Violent crime\",\"Violent crime\",\"Violent crime\",\"Violent crime\",\"Violent crime\",\"Violent crime\",\"Violent crime\",\"Violent crime\",\"Violent crime\",\"Violent crime\",\"Violent crime\",\"Violent crime\",\"Violent crime\",\"Violent crime\",\"Violent crime\",\"Violent crime\",\"Violent crime\",\"Violent crime\",\"Violent crime\",\"Violent crime\",\"Violent crime\",\"Violent crime\",\"Violent crime\",\"Violent crime\",\"Violent crime\",\"Violent crime\",\"Violent crime\",\"Violent crime\",\"Violent crime\",\"Violent crime\",\"Violent crime\",\"Violent crime\",\"Violent crime\",\"Violent crime\",\"Violent crime\",\"Violent crime\",\"Violent crime\",\"Violent crime\",\"Violent crime\",\"Violent crime\",\"Violent crime\",\"Violent crime\",\"Violent crime\",\"Violent crime\",\"Violent crime\",\"Violent crime\",\"Violent crime\",\"Violent crime\",\"Violent crime\",\"Violent crime\",\"Violent crime\",\"Violent crime\",\"Violent crime\",\"Violent crime\",\"Violent crime\",\"Violent crime\",\"Violent crime\",\"Violent crime\",\"Violent crime\",\"Violent crime\",\"Violent crime\",\"Violent crime\",\"Violent crime\",\"Violent crime\",\"Violent crime\",\"Violent crime\",\"Violent crime\",\"Violent crime\",\"Violent crime\",\"Violent crime\",\"Violent crime\",\"Violent crime\",\"Violent crime\",\"Violent crime\",\"Violent crime\",\"Violent crime\",\"Violent crime\",\"Violent crime\",\"Violent crime\",\"Violent crime\",\"Violent crime\",\"Violent crime\",\"Violent crime\",\"Violent crime\",\"Violent crime\",\"Violent crime\",\"Violent crime\",\"Violent crime\",\"Violent crime\",\"Violent crime\",\"Violent crime\",\"Violent crime\",\"Violent crime\",\"Violent crime\",\"Violent crime\",\"Violent crime\",\"Violent crime\",\"Violent crime\",\"Violent crime\",\"Violent crime\",\"Violent crime\",\"Violent crime\",\"Violent crime\",\"Violent crime\",\"Violent crime\",\"Violent crime\",\"Violent crime\",\"Violent crime\",\"Violent crime\",\"Violent crime\",\"Violent crime\",\"Violent crime\",\"Violent crime\",\"Violent crime\",\"Violent crime\",\"Violent crime\",\"Violent crime\",\"Violent crime\",\"Violent crime\",\"Violent crime\",\"Violent crime\",\"Violent crime\",\"Violent crime\",\"Violent crime\",\"Violent crime\",\"Violent crime\",\"Violent crime\",\"Violent crime\",\"Violent crime\",\"Violent crime\",\"Violent crime\",\"Violent crime\",\"Violent crime\",\"Violent crime\",\"Violent crime\",\"Violent crime\",\"Violent crime\",\"Violent crime\",\"Violent crime\",\"Violent crime\",\"Violent crime\",\"Violent crime\",\"Violent crime\",\"Violent crime\",\"Violent crime\",\"Violent crime\",\"Violent crime\",\"Violent crime\",\"Violent crime\",\"Violent crime\",\"Violent crime\",\"Violent crime\",\"Violent crime\",\"Violent crime\",\"Violent crime\",\"Violent crime\",\"Violent crime\",\"Violent crime\",\"Violent crime\",\"Violent crime\",\"Violent crime\",\"Violent crime\",\"Violent crime\",\"Violent crime\",\"Violent crime\",\"Violent crime\",\"Violent crime\",\"Violent crime\",\"Violent crime\",\"Violent crime\",\"Violent crime\",\"Violent crime\",\"Violent crime\",\"Violent crime\",\"Violent crime\",\"Violent crime\",\"Violent crime\",\"Violent crime\",\"Violent crime\",\"Violent crime\",\"Violent crime\",\"Violent crime\",\"Violent crime\",\"Violent crime\",\"Violent crime\",\"Violent crime\",\"Violent crime\",\"Violent crime\",\"Violent crime\",\"Violent crime\",\"Violent crime\",\"Violent crime\",\"Violent crime\",\"Violent crime\",\"Violent crime\",\"Violent crime\",\"Violent crime\",\"Violent crime\",\"Violent crime\",\"Violent crime\",\"Violent crime\",\"Violent crime\",\"Violent crime\",\"Violent crime\",\"Violent crime\",\"Violent crime\",\"Violent crime\",\"Violent crime\",\"Violent crime\",\"Violent crime\",\"Violent crime\",\"Violent crime\",\"Violent crime\",\"Violent crime\",\"Violent crime\",\"Violent crime\",\"Violent crime\",\"Violent crime\",\"Violent crime\",\"Violent crime\",\"Violent crime\",\"Violent crime\",\"Violent crime\",\"Violent crime\",\"Violent crime\",\"Violent crime\",\"Violent crime\",\"Violent crime\",\"Violent crime\",\"Violent crime\",\"Violent crime\",\"Violent crime\",\"Violent crime\",\"Violent crime\",\"Violent crime\",\"Violent crime\",\"Violent crime\",\"Violent crime\",\"Violent crime\",\"Violent crime\",\"Violent crime\",\"Violent crime\",\"Violent crime\",\"Violent crime\",\"Violent crime\",\"Violent crime\",\"Violent crime\",\"Violent crime\",\"Violent crime\",\"Violent crime\",\"Violent crime\",\"Violent crime\",\"Violent crime\",\"Violent crime\",\"Violent crime\",\"Violent crime\",\"Violent crime\",\"Violent crime\",\"Violent crime\",\"Violent crime\",\"Violent crime\",\"Violent crime\",\"Violent crime\",\"Violent crime\",\"Violent crime\",\"Violent crime\",\"Violent crime\",\"Violent crime\",\"Violent crime\",\"Violent crime\",\"Violent crime\",\"Violent crime\",\"Violent crime\",\"Violent crime\",\"Violent crime\",\"Violent crime\",\"Violent crime\",\"Violent crime\",\"Violent crime\",\"Violent crime\",\"Violent crime\",\"Violent crime\",\"Violent crime\",\"Violent crime\",\"Violent crime\",\"Violent crime\",\"Violent crime\",\"Violent crime\",\"Violent crime\",\"Violent crime\",\"Violent crime\",\"Violent crime\",\"Violent crime\",\"Violent crime\",\"Violent crime\",\"Violent crime\",\"Violent crime\",\"Violent crime\",\"Violent crime\",\"Violent crime\",\"Violent crime\",\"Violent crime\",\"Violent crime\",\"Violent crime\",\"Violent crime\",\"Violent crime\",\"Violent crime\",\"Violent crime\",\"Violent crime\",\"Violent crime\",\"Violent crime\",\"Violent crime\",\"Violent crime\",\"Violent crime\",\"Violent crime\",\"Violent crime\",\"Violent crime\",\"Violent crime\",\"Violent crime\",\"Violent crime\",\"Violent crime\",\"Violent crime\",\"Violent crime\",\"Violent crime\",\"Violent crime\",\"Violent crime\",\"Violent crime\",\"Violent crime\",\"Violent crime\",\"Violent crime\",\"Violent crime\",\"Violent crime\",\"Violent crime\",\"Violent crime\",\"Violent crime\",\"Violent crime\",\"Violent crime\",\"Violent crime\",\"Violent crime\",\"Violent crime\",\"Violent crime\",\"Violent crime\",\"Violent crime\",\"Violent crime\",\"Violent crime\",\"Violent crime\",\"Violent crime\",\"Violent crime\",\"Violent crime\",\"Violent crime\",\"Violent crime\",\"Violent crime\",\"Violent crime\",\"Violent crime\",\"Violent crime\",\"Violent crime\",\"Violent crime\",\"Violent crime\",\"Violent crime\",\"Violent crime\",\"Violent crime\",\"Violent crime\",\"Violent crime\",\"Violent crime\",\"Violent crime\",\"Violent crime\",\"Violent crime\",\"Violent crime\",\"Violent crime\",\"Violent crime\",\"Violent crime\",\"Violent crime\",\"Violent crime\",\"Violent crime\",\"Violent crime\",\"Violent crime\",\"Violent crime\",\"Violent crime\",\"Violent crime\",\"Violent crime\",\"Violent crime\",\"Violent crime\",\"Violent crime\",\"Violent crime\",\"Violent crime\",\"Violent crime\",\"Violent crime\",\"Violent crime\",\"Violent crime\",\"Violent crime\",\"Violent crime\",\"Violent crime\",\"Violent crime\",\"Violent crime\",\"Violent crime\",\"Violent crime\",\"Violent crime\",\"Violent crime\",\"Violent crime\",\"Violent crime\",\"Violent crime\",\"Violent crime\",\"Violent crime\",\"Violent crime\",\"Violent crime\",\"Violent crime\",\"Violent crime\",\"Violent crime\",\"Violent crime\",\"Violent crime\",\"Violent crime\",\"Violent crime\",\"Violent crime\",\"Violent crime\",\"Violent crime\",\"Violent crime\",\"Violent crime\",\"Violent crime\",\"Violent crime\",\"Violent crime\",\"Violent crime\",\"Violent crime\",\"Violent crime\",\"Violent crime\",\"Violent crime\",\"Violent crime\",\"Violent crime\",\"Violent crime\",\"Violent crime\",\"Violent crime\",\"Violent crime\",\"Violent crime\",\"Violent crime\",\"Violent crime\",\"Violent crime\",\"Violent crime\",\"Violent crime\",\"Violent crime\",\"Violent crime\",\"Violent crime\",\"Violent crime\",\"Violent crime\",\"Violent crime\",\"Violent crime\",\"Violent crime\",\"Violent crime\",\"Violent crime\",\"Violent crime\",\"Violent crime\",\"Violent crime\",\"Violent crime\",\"Violent crime\",\"Violent crime\",\"Violent crime\",\"Violent crime\",\"Violent crime\",\"Violent crime\",\"Violent crime\",\"Violent crime\",\"Violent crime\",\"Violent crime\",\"Violent crime\",\"Violent crime\",\"Violent crime\",\"Violent crime\",\"Violent crime\",\"Violent crime\",\"Violent crime\",\"Violent crime\",\"Violent crime\",\"Violent crime\",\"Violent crime\",\"Violent crime\",\"Violent crime\",\"Violent crime\",\"Violent crime\",\"Violent crime\",\"Violent crime\",\"Violent crime\",\"Violent crime\",\"Violent crime\",\"Violent crime\",\"Violent crime\",\"Violent crime\",\"Violent crime\",\"Violent crime\",\"Violent crime\",\"Violent crime\",\"Violent crime\",\"Violent crime\",\"Violent crime\",\"Violent crime\",\"Violent crime\",\"Violent crime\",\"Violent crime\",\"Violent crime\",\"Violent crime\",\"Violent crime\",\"Violent crime\",\"Violent crime\",\"Violent crime\",\"Violent crime\",\"Violent crime\",\"Violent crime\",\"Violent crime\",\"Violent crime\",\"Violent crime\",\"Violent crime\",\"Violent crime\",\"Violent crime\",\"Violent crime\",\"Violent crime\",\"Violent crime\",\"Violent crime\",\"Violent crime\",\"Violent crime\",\"Violent crime\",\"Violent crime\",\"Violent crime\",\"Violent crime\",\"Violent crime\",\"Violent crime\",\"Violent crime\",\"Violent crime\",\"Violent crime\",\"Violent crime\",\"Violent crime\",\"Violent crime\",\"Violent crime\",\"Violent crime\",\"Violent crime\",\"Violent crime\",\"Violent crime\",\"Violent crime\",\"Violent crime\",\"Violent crime\",\"Violent crime\",\"Violent crime\",\"Violent crime\",\"Violent crime\",\"Violent crime\",\"Violent crime\",\"Violent crime\",\"Violent crime\",\"Violent crime\",\"Violent crime\",\"Violent crime\",\"Violent crime\",\"Violent crime\",\"Violent crime\",\"Violent crime\",\"Violent crime\",\"Violent crime\",\"Violent crime\",\"Violent crime\",\"Violent crime\",\"Violent crime\",\"Violent crime\",\"Violent crime\",\"Violent crime\",\"Violent crime\",\"Violent crime\",\"Violent crime\",\"Violent crime\",\"Violent crime\",\"Violent crime\",\"Violent crime\",\"Violent crime\",\"Violent crime\",\"Violent crime\",\"Violent crime\",\"Violent crime\",\"Violent crime\",\"Violent crime\",\"Violent crime\",\"Violent crime\",\"Violent crime\",\"Violent crime\",\"Violent crime\",\"Violent crime\",\"Violent crime\",\"Violent crime\",\"Violent crime\",\"Violent crime\",\"Violent crime\",\"Violent crime\",\"Violent crime\",\"Violent crime\",\"Violent crime\",\"Violent crime\",\"Violent crime\",\"Violent crime\",\"Violent crime\",\"Violent crime\",\"Violent crime\",\"Violent crime\",\"Violent crime\",\"Violent crime\",\"Violent crime\",\"Violent crime\",\"Violent crime\",\"Violent crime\",\"Violent crime\",\"Violent crime\",\"Violent crime\",\"Violent crime\",\"Violent crime\",\"Violent crime\",\"Violent crime\",\"Violent crime\",\"Violent crime\",\"Violent crime\",\"Violent crime\",\"Violent crime\",\"Violent crime\",\"Violent crime\",\"Violent crime\",\"Violent crime\",\"Violent crime\",\"Violent crime\",\"Violent crime\",\"Violent crime\",\"Violent crime\",\"Violent crime\",\"Violent crime\",\"Violent crime\",\"Violent crime\",\"Violent crime\",\"Violent crime\",\"Violent crime\",\"Violent crime\",\"Violent crime\",\"Violent crime\",\"Violent crime\",\"Violent crime\",\"Violent crime\",\"Violent crime\",\"Violent crime\",\"Violent crime\",\"Violent crime\",\"Violent crime\",\"Violent crime\",\"Violent crime\",\"Violent crime\",\"Violent crime\",\"Violent crime\",\"Violent crime\",\"Violent crime\",\"Violent crime\",\"Violent crime\",\"Violent crime\",\"Violent crime\",\"Violent crime\",\"Violent crime\",\"Violent crime\",\"Violent crime\",\"Violent crime\",\"Violent crime\",\"Violent crime\",\"Violent crime\",\"Violent crime\",\"Violent crime\",\"Violent crime\",\"Violent crime\",\"Violent crime\",\"Violent crime\",\"Violent crime\",\"Violent crime\",\"Violent crime\",\"Violent crime\",\"Violent crime\",\"Violent crime\",\"Violent crime\",\"Violent crime\",\"Violent crime\",\"Violent crime\",\"Violent crime\",\"Violent crime\",\"Violent crime\",\"Violent crime\",\"Violent crime\",\"Violent crime\",\"Violent crime\",\"Violent crime\",\"Violent crime\",\"Violent crime\",\"Violent crime\",\"Violent crime\",\"Violent crime\",\"Violent crime\",\"Violent crime\",\"Violent crime\",\"Violent crime\",\"Violent crime\",\"Violent crime\",\"Violent crime\",\"Violent crime\",\"Violent crime\",\"Violent crime\",\"Violent crime\",\"Violent crime\",\"Violent crime\",\"Violent crime\",\"Violent crime\",\"Violent crime\",\"Violent crime\",\"Violent crime\",\"Violent crime\",\"Violent crime\",\"Violent crime\",\"Violent crime\",\"Violent crime\",\"Violent crime\",\"Violent crime\",\"Violent crime\",\"Violent crime\",\"Violent crime\",\"Violent crime\",\"Violent crime\",\"Violent crime\",\"Violent crime\",\"Violent crime\",\"Violent crime\",\"Violent crime\",\"Violent crime\",\"Violent crime\",\"Violent crime\",\"Violent crime\",\"Violent crime\",\"Violent crime\",\"Violent crime\",\"Violent crime\",\"Violent crime\",\"Violent crime\",\"Violent crime\",\"Violent crime\",\"Violent crime\",\"Violent crime\",\"Violent crime\",\"Violent crime\",\"Violent crime\",\"Violent crime\",\"Violent crime\",\"Violent crime\",\"Violent crime\",\"Violent crime\",\"Violent crime\",\"Violent crime\",\"Violent crime\",\"Violent crime\",\"Violent crime\",\"Violent crime\",\"Violent crime\",\"Violent crime\",\"Violent crime\",\"Violent crime\",\"Violent crime\",\"Violent crime\",\"Violent crime\",\"Violent crime\",\"Violent crime\",\"Violent crime\",\"Violent crime\",\"Violent crime\",\"Violent crime\",\"Violent crime\",\"Violent crime\",\"Violent crime\",\"Violent crime\",\"Violent crime\",\"Violent crime\",\"Violent crime\",\"Violent crime\",\"Violent crime\",\"Violent crime\",\"Violent crime\",\"Violent crime\",\"Violent crime\",\"Violent crime\",\"Violent crime\",\"Violent crime\",\"Violent crime\",\"Violent crime\",\"Violent crime\",\"Violent crime\",\"Violent crime\",\"Violent crime\",\"Violent crime\",\"Violent crime\",\"Violent crime\",\"Violent crime\",\"Violent crime\",\"Violent crime\",\"Violent crime\",\"Violent crime\",\"Violent crime\",\"Violent crime\",\"Violent crime\",\"Violent crime\",\"Violent crime\",\"Violent crime\",\"Violent crime\",\"Violent crime\",\"Violent crime\",\"Violent crime\",\"Violent crime\",\"Violent crime\",\"Violent crime\",\"Violent crime\",\"Violent crime\",\"Violent crime\",\"Violent crime\",\"Violent crime\",\"Violent crime\",\"Violent crime\",\"Violent crime\",\"Violent crime\",\"Violent crime\",\"Violent crime\",\"Violent crime\",\"Violent crime\",\"Violent crime\",\"Violent crime\",\"Violent crime\",\"Violent crime\",\"Violent crime\",\"Violent crime\",\"Violent crime\",\"Violent crime\",\"Violent crime\",\"Violent crime\",\"Violent crime\",\"Violent crime\",\"Violent crime\",\"Violent crime\",\"Violent crime\",\"Violent crime\",\"Violent crime\",\"Violent crime\",\"Violent crime\",\"Violent crime\",\"Violent crime\",\"Violent crime\",\"Violent crime\",\"Violent crime\",\"Violent crime\",\"Violent crime\",\"Violent crime\",\"Violent crime\",\"Violent crime\",\"Violent crime\",\"Violent crime\",\"Violent crime\",\"Violent crime\",\"Violent crime\",\"Violent crime\",\"Violent crime\",\"Violent crime\",\"Violent crime\",\"Violent crime\",\"Violent crime\",\"Violent crime\",\"Violent crime\",\"Violent crime\",\"Violent crime\",\"Violent crime\",\"Violent crime\",\"Violent crime\",\"Violent crime\",\"Violent crime\",\"Violent crime\",\"Violent crime\",\"Violent crime\",\"Violent crime\",\"Violent crime\",\"Violent crime\",\"Violent crime\",\"Violent crime\",\"Violent crime\",\"Violent crime\",\"Violent crime\",\"Violent crime\",\"Violent crime\",\"Violent crime\",\"Violent crime\",\"Violent crime\",\"Violent crime\",\"Violent crime\",\"Violent crime\",\"Violent crime\",\"Violent crime\",\"Violent crime\",\"Violent crime\",\"Violent crime\",\"Violent crime\",\"Violent crime\",\"Violent crime\",\"Violent crime\",\"Violent crime\",\"Violent crime\",\"Violent crime\",\"Violent crime\",\"Violent crime\",\"Violent crime\",\"Violent crime\",\"Violent crime\",\"Violent crime\",\"Violent crime\",\"Violent crime\",\"Violent crime\",\"Violent crime\",\"Violent crime\",\"Violent crime\",\"Violent crime\",\"Violent crime\",\"Violent crime\",\"Violent crime\",\"Violent crime\",\"Violent crime\",\"Violent crime\",\"Violent crime\",\"Violent crime\",\"Violent crime\",\"Violent crime\",\"Violent crime\",\"Violent crime\",\"Violent crime\",\"Violent crime\",\"Violent crime\",\"Violent crime\",\"Violent crime\",\"Violent crime\",\"Violent crime\",\"Violent crime\",\"Violent crime\",\"Violent crime\",\"Violent crime\",\"Violent crime\",\"Violent crime\",\"Violent crime\",\"Violent crime\",\"Violent crime\",\"Violent crime\",\"Violent crime\",\"Violent crime\",\"Violent crime\",\"Violent crime\",\"Violent crime\",\"Violent crime\",\"Violent crime\",\"Violent crime\",\"Violent crime\",\"Violent crime\",\"Violent crime\",\"Violent crime\",\"Violent crime\",\"Violent crime\",\"Violent crime\",\"Violent crime\",\"Violent crime\",\"Violent crime\",\"Violent crime\",\"Violent crime\",\"Violent crime\",\"Violent crime\",\"Violent crime\",\"Violent crime\",\"Violent crime\",\"Violent crime\",\"Violent crime\",\"Violent crime\",\"Violent crime\",\"Violent crime\",\"Violent crime\",\"Violent crime\",\"Violent crime\",\"Violent crime\",\"Violent crime\",\"Violent crime\",\"Violent crime\",\"Violent crime\",\"Violent crime\",\"Violent crime\",\"Violent crime\",\"Violent crime\",\"Violent crime\",\"Violent crime\",\"Violent crime\",\"Violent crime\",\"Violent crime\",\"Violent crime\",\"Violent crime\",\"Violent crime\",\"Violent crime\",\"Violent crime\",\"Violent crime\",\"Violent crime\",\"Violent crime\",\"Violent crime\",\"Violent crime\",\"Violent crime\",\"Violent crime\",\"Violent crime\",\"Violent crime\",\"Violent crime\",\"Violent crime\",\"Violent crime\",\"Violent crime\",\"Violent crime\",\"Violent crime\",\"Violent crime\",\"Violent crime\",\"Violent crime\",\"Violent crime\",\"Violent crime\",\"Violent crime\",\"Violent crime\",\"Violent crime\",\"Violent crime\",\"Violent crime\",\"Violent crime\",\"Violent crime\",\"Violent crime\",\"Violent crime\",\"Violent crime\",\"Violent crime\",\"Violent crime\",\"Violent crime\",\"Violent crime\",\"Violent crime\",\"Violent crime\",\"Violent crime\",\"Violent crime\",\"Violent crime\",\"Violent crime\",\"Violent crime\",\"Violent crime\",\"Violent crime\",\"Violent crime\",\"Violent crime\",\"Violent crime\",\"Violent crime\",\"Violent crime\",\"Violent crime\",\"Violent crime\",\"Violent crime\",\"Violent crime\",\"Violent crime\",\"Violent crime\",\"Violent crime\",\"Violent crime\",\"Violent crime\",\"Violent crime\",\"Violent crime\",\"Violent crime\",\"Violent crime\",\"Violent crime\",\"Violent crime\",\"Violent crime\",\"Violent crime\",\"Violent crime\",\"Violent crime\",\"Violent crime\",\"Violent crime\",\"Violent crime\",\"Violent crime\",\"Violent crime\",\"Violent crime\",\"Violent crime\",\"Violent crime\",\"Violent crime\",\"Violent crime\",\"Violent crime\",\"Violent crime\",\"Violent crime\",\"Violent crime\",\"Violent crime\",\"Violent crime\",\"Violent crime\",\"Violent crime\",\"Violent crime\",\"Violent crime\",\"Violent crime\",\"Violent crime\",\"Violent crime\",\"Violent crime\",\"Violent crime\",\"Violent crime\",\"Violent crime\",\"Violent crime\",\"Violent crime\",\"Violent crime\",\"Violent crime\",\"Violent crime\",\"Violent crime\",\"Violent crime\",\"Violent crime\",\"Violent crime\",\"Violent crime\",\"Violent crime\",\"Violent crime\",\"Violent crime\",\"Violent crime\",\"Violent crime\",\"Violent crime\",\"Violent crime\",\"Violent crime\",\"Violent crime\",\"Violent crime\",\"Violent crime\",\"Violent crime\",\"Violent crime\",\"Violent crime\",\"Violent crime\",\"Violent crime\",\"Violent crime\",\"Violent crime\",\"Violent crime\",\"Violent crime\",\"Violent crime\",\"Violent crime\",\"Violent crime\",\"Violent crime\",\"Violent crime\",\"Violent crime\",\"Violent crime\",\"Violent crime\",\"Violent crime\",\"Violent crime\",\"Violent crime\",\"Violent crime\",\"Violent crime\",\"Violent crime\",\"Violent crime\",\"Violent crime\",\"Violent crime\",\"Violent crime\",\"Violent crime\",\"Violent crime\",\"Violent crime\",\"Violent crime\",\"Violent crime\",\"Violent crime\",\"Violent crime\",\"Violent crime\",\"Violent crime\",\"Violent crime\",\"Violent crime\",\"Violent crime\",\"Violent crime\",\"Violent crime\",\"Violent crime\",\"Violent crime\",\"Violent crime\",\"Violent crime\",\"Violent crime\",\"Violent crime\",\"Violent crime\",\"Violent crime\",\"Violent crime\",\"Violent crime\",\"Violent crime\",\"Violent crime\",\"Violent crime\",\"Violent crime\",\"Violent crime\",\"Violent crime\",\"Violent crime\",\"Violent crime\",\"Violent crime\",\"Violent crime\",\"Violent crime\",\"Violent crime\",\"Violent crime\",\"Violent crime\",\"Violent crime\",\"Violent crime\",\"Violent crime\",\"Violent crime\",\"Violent crime\",\"Violent crime\",\"Violent crime\",\"Violent crime\",\"Violent crime\",\"Violent crime\",\"Violent crime\",\"Violent crime\",\"Violent crime\",\"Violent crime\",\"Violent crime\",\"Violent crime\",\"Violent crime\",\"Violent crime\",\"Violent crime\",\"Violent crime\",\"Violent crime\",\"Violent crime\",\"Violent crime\",\"Violent crime\",\"Violent crime\",\"Violent crime\",\"Violent crime\",\"Violent crime\",\"Violent crime\",\"Violent crime\",\"Violent crime\",\"Violent crime\",\"Violent crime\",\"Violent crime\",\"Violent crime\",\"Violent crime\",\"Violent crime\",\"Violent crime\",\"Violent crime\",\"Violent crime\",\"Violent crime\",\"Violent crime\",\"Violent crime\",\"Violent crime\",\"Violent crime\",\"Violent crime\",\"Violent crime\",\"Violent crime\",\"Violent crime\",\"Violent crime\",\"Violent crime\",\"Violent crime\",\"Violent crime\",\"Violent crime\",\"Violent crime\",\"Violent crime\",\"Violent crime\",\"Violent crime\",\"Violent crime\",\"Violent crime\",\"Violent crime\",\"Violent crime\",\"Violent crime\",\"Violent crime\",\"Violent crime\",\"Violent crime\",\"Violent crime\",\"Violent crime\",\"Violent crime\",\"Violent crime\",\"Violent crime\",\"Violent crime\",\"Violent crime\",\"Violent crime\",\"Violent crime\",\"Violent crime\",\"Violent crime\",\"Violent crime\",\"Violent crime\",\"Violent crime\",\"Violent crime\",\"Violent crime\",\"Violent crime\",\"Violent crime\",\"Violent crime\",\"Violent crime\",\"Violent crime\",\"Violent crime\",\"Violent crime\",\"Violent crime\",\"Violent crime\",\"Violent crime\",\"Violent crime\",\"Violent crime\",\"Violent crime\",\"Violent crime\",\"Violent crime\",\"Violent crime\",\"Violent crime\",\"Violent crime\",\"Violent crime\",\"Violent crime\",\"Violent crime\",\"Violent crime\",\"Violent crime\",\"Violent crime\",\"Violent crime\",\"Violent crime\",\"Violent crime\",\"Violent crime\",\"Violent crime\",\"Violent crime\",\"Violent crime\",\"Violent crime\",\"Violent crime\",\"Violent crime\",\"Violent crime\",\"Violent crime\",\"Violent crime\",\"Violent crime\",\"Violent crime\",\"Violent crime\",\"Violent crime\",\"Violent crime\",\"Violent crime\",\"Violent crime\",\"Violent crime\",\"Violent crime\",\"Violent crime\",\"Violent crime\",\"Violent crime\",\"Violent crime\",\"Violent crime\",\"Violent crime\",\"Violent crime\",\"Violent crime\",\"Violent crime\",\"Violent crime\",\"Violent crime\",\"Violent crime\",\"Violent crime\",\"Violent crime\",\"Violent crime\",\"Violent crime\",\"Violent crime\",\"Violent crime\",\"Violent crime\",\"Violent crime\",\"Violent crime\",\"Violent crime\",\"Violent crime\",\"Violent crime\",\"Violent crime\",\"Violent crime\",\"Violent crime\",\"Violent crime\",\"Violent crime\",\"Violent crime\",\"Violent crime\",\"Violent crime\",\"Violent crime\",\"Violent crime\",\"Violent crime\",\"Violent crime\",\"Violent crime\",\"Violent crime\",\"Violent crime\",\"Violent crime\",\"Violent crime\",\"Violent crime\",\"Violent crime\",\"Violent crime\",\"Violent crime\",\"Violent crime\",\"Violent crime\",\"Violent crime\",\"Violent crime\",\"Violent crime\",\"Violent crime\",\"Violent crime\",\"Violent crime\",\"Violent crime\",\"Violent crime\",\"Violent crime\",\"Violent crime\",\"Violent crime\",\"Violent crime\",\"Violent crime\",\"Violent crime\",\"Violent crime\",\"Violent crime\",\"Violent crime\",\"Violent crime\",\"Violent crime\",\"Violent crime\",\"Violent crime\",\"Violent crime\",\"Violent crime\",\"Violent crime\",\"Violent crime\",\"Violent crime\",\"Violent crime\",\"Violent crime\",\"Violent crime\",\"Violent crime\",\"Violent crime\",\"Violent crime\",\"Violent crime\",\"Violent crime\",\"Violent crime\",\"Violent crime\",\"Violent crime\",\"Violent crime\",\"Violent crime\",\"Violent crime\",\"Violent crime\",\"Violent crime\",\"Violent crime\",\"Violent crime\",\"Violent crime\",\"Violent crime\",\"Violent crime\",\"Violent crime\",\"Violent crime\",\"Violent crime\",\"Violent crime\",\"Violent crime\",\"Violent crime\",\"Violent crime\",\"Violent crime\",\"Violent crime\",\"Violent crime\",\"Violent crime\",\"Violent crime\",\"Violent crime\",\"Violent crime\",\"Violent crime\",\"Violent crime\",\"Violent crime\",\"Violent crime\",\"Violent crime\",\"Violent crime\",\"Violent crime\",\"Violent crime\",\"Violent crime\",\"Violent crime\",\"Violent crime\",\"Violent crime\",\"Violent crime\",\"Violent crime\",\"Violent crime\",\"Violent crime\",\"Violent crime\",\"Violent crime\",\"Violent crime\",\"Violent crime\",\"Violent crime\",\"Violent crime\",\"Violent crime\",\"Violent crime\",\"Violent crime\",\"Violent crime\",\"Violent crime\",\"Violent crime\",\"Violent crime\",\"Violent crime\",\"Violent crime\",\"Violent crime\",\"Violent crime\",\"Violent crime\",\"Violent crime\",\"Violent crime\",\"Violent crime\",\"Violent crime\",\"Violent crime\",\"Violent crime\",\"Violent crime\",\"Violent crime\",\"Violent crime\",\"Violent crime\",\"Violent crime\",\"Violent crime\",\"Violent crime\",\"Violent crime\",\"Violent crime\",\"Violent crime\",\"Violent crime\",\"Violent crime\",\"Violent crime\",\"Violent crime\",\"Violent crime\",\"Violent crime\",\"Violent crime\",\"Violent crime\",\"Violent crime\",\"Violent crime\",\"Violent crime\",\"Violent crime\",\"Violent crime\",\"Violent crime\",\"Violent crime\",\"Violent crime\",\"Violent crime\",\"Violent crime\",\"Violent crime\",\"Violent crime\",\"Violent crime\",\"Violent crime\",\"Violent crime\",\"Violent crime\",\"Violent crime\",\"Violent crime\",\"Violent crime\",\"Violent crime\",\"Violent crime\",\"Violent crime\",\"Violent crime\",\"Violent crime\",\"Violent crime\",\"Violent crime\",\"Violent crime\",\"Violent crime\",\"Violent crime\",\"Violent crime\",\"Violent crime\",\"Violent crime\",\"Violent crime\",\"Violent crime\",\"Violent crime\",\"Violent crime\",\"Violent crime\",\"Violent crime\",\"Violent crime\",\"Violent crime\",\"Violent crime\",\"Violent crime\",\"Violent crime\",\"Violent crime\",\"Violent crime\",\"Violent crime\",\"Violent crime\",\"Violent crime\",\"Violent crime\",\"Violent crime\",\"Violent crime\",\"Violent crime\",\"Violent crime\",\"Violent crime\",\"Violent crime\",\"Violent crime\",\"Violent crime\",\"Violent crime\",\"Violent crime\",\"Violent crime\",\"Violent crime\",\"Violent crime\",\"Violent crime\",\"Violent crime\",\"Violent crime\",\"Violent crime\",\"Violent crime\",\"Violent crime\",\"Violent crime\",\"Violent crime\",\"Violent crime\",\"Violent crime\",\"Violent crime\",\"Violent crime\",\"Violent crime\",\"Violent crime\",\"Violent crime\",\"Violent crime\",\"Violent crime\",\"Violent crime\",\"Violent crime\",\"Violent crime\",\"Violent crime\",\"Violent crime\",\"Violent crime\",\"Violent crime\",\"Violent crime\",\"Violent crime\",\"Violent crime\",\"Violent crime\",\"Violent crime\",\"Violent crime\",\"Violent crime\",\"Violent crime\",\"Violent crime\",\"Violent crime\",\"Violent crime\",\"Violent crime\",\"Violent crime\",\"Violent crime\",\"Violent crime\",\"Violent crime\",\"Violent crime\",\"Violent crime\",\"Violent crime\",\"Violent crime\",\"Violent crime\",\"Violent crime\",\"Violent crime\",\"Violent crime\",\"Violent crime\",\"Violent crime\",\"Violent crime\",\"Violent crime\",\"Violent crime\",\"Violent crime\",\"Violent crime\",\"Violent crime\",\"Violent crime\",\"Violent crime\",\"Violent crime\",\"Violent crime\",\"Violent crime\",\"Violent crime\",\"Violent crime\",\"Violent crime\",\"Violent crime\",\"Violent crime\",\"Violent crime\",\"Violent crime\",\"Violent crime\",\"Violent crime\",\"Violent crime\",\"Violent crime\",\"Violent crime\",\"Violent crime\",\"Violent crime\",\"Violent crime\",\"Violent crime\",\"Violent crime\",\"Violent crime\",\"Violent crime\",\"Violent crime\",\"Violent crime\",\"Violent crime\",\"Violent crime\",\"Violent crime\",\"Violent crime\",\"Violent crime\",\"Violent crime\",\"Violent crime\",\"Violent crime\",\"Violent crime\",\"Violent crime\",\"Violent crime\",\"Violent crime\",\"Violent crime\",\"Violent crime\",\"Violent crime\",\"Violent crime\",\"Violent crime\",\"Violent crime\",\"Violent crime\",\"Violent crime\",\"Violent crime\",\"Violent crime\",\"Violent crime\",\"Violent crime\",\"Violent crime\",\"Violent crime\",\"Violent crime\",\"Violent crime\",\"Violent crime\",\"Violent crime\",\"Violent crime\",\"Violent crime\",\"Violent crime\",\"Violent crime\",\"Violent crime\",\"Violent crime\",\"Violent crime\",\"Violent crime\",\"Violent crime\",\"Violent crime\",\"Violent crime\",\"Violent crime\",\"Violent crime\",\"Violent crime\",\"Violent crime\",\"Violent crime\",\"Violent crime\",\"Violent crime\",\"Violent crime\",\"Violent crime\",\"Violent crime\",\"Violent crime\",\"Violent crime\",\"Violent crime\",\"Violent crime\",\"Violent crime\",\"Violent crime\",\"Violent crime\",\"Violent crime\",\"Violent crime\",\"Violent crime\",\"Violent crime\",\"Violent crime\",\"Violent crime\",\"Violent crime\",\"Violent crime\",\"Violent crime\",\"Violent crime\",\"Violent crime\",\"Violent crime\",\"Violent crime\",\"Violent crime\",\"Violent crime\",\"Violent crime\",\"Violent crime\",\"Violent crime\",\"Violent crime\",\"Violent crime\",\"Violent crime\",\"Violent crime\",\"Violent crime\",\"Violent crime\",\"Violent crime\",\"Violent crime\",\"Violent crime\",\"Violent crime\",\"Violent crime\",\"Violent crime\",\"Violent crime\",\"Violent crime\",\"Violent crime\",\"Violent crime\",\"Violent crime\",\"Violent crime\",\"Violent crime\",\"Violent crime\",\"Violent crime\",\"Violent crime\",\"Violent crime\",\"Violent crime\",\"Violent crime\",\"Violent crime\",\"Violent crime\",\"Violent crime\",\"Violent crime\",\"Violent crime\",\"Violent crime\",\"Violent crime\",\"Violent crime\",\"Violent crime\",\"Violent crime\",\"Violent crime\",\"Violent crime\",\"Violent crime\",\"Violent crime\",\"Violent crime\",\"Violent crime\",\"Violent crime\",\"Violent crime\",\"Violent crime\",\"Violent crime\",\"Violent crime\",\"Violent crime\",\"Violent crime\",\"Violent crime\",\"Violent crime\",\"Violent crime\",\"Violent crime\",\"Violent crime\",\"Violent crime\",\"Violent crime\",\"Violent crime\",\"Violent crime\",\"Violent crime\",\"Violent crime\",\"Violent crime\",\"Violent crime\",\"Violent crime\",\"Violent crime\",\"Violent crime\",\"Violent crime\",\"Violent crime\",\"Violent crime\",\"Violent crime\",\"Violent crime\",\"Violent crime\",\"Violent crime\",\"Violent crime\",\"Violent crime\",\"Violent crime\",\"Violent crime\",\"Violent crime\",\"Violent crime\",\"Violent crime\",\"Violent crime\",\"Violent crime\",\"Violent crime\",\"Violent crime\",\"Violent crime\",\"Violent crime\",\"Violent crime\",\"Violent crime\",\"Violent crime\",\"Violent crime\",\"Violent crime\",\"Violent crime\",\"Violent crime\",\"Violent crime\",\"Violent crime\",\"Violent crime\",\"Violent crime\",\"Violent crime\",\"Violent crime\",\"Violent crime\",\"Violent crime\",\"Violent crime\",\"Violent crime\",\"Violent crime\",\"Violent crime\",\"Violent crime\",\"Violent crime\",\"Violent crime\",\"Violent crime\",\"Violent crime\",\"Violent crime\",\"Violent crime\",\"Violent crime\",\"Violent crime\",\"Violent crime\",\"Violent crime\",\"Violent crime\",\"Violent crime\",\"Violent crime\",\"Violent crime\",\"Violent crime\",\"Violent crime\",\"Violent crime\",\"Violent crime\",\"Violent crime\",\"Violent crime\",\"Violent crime\",\"Violent crime\",\"Violent crime\",\"Violent crime\",\"Violent crime\",\"Violent crime\",\"Violent crime\",\"Violent crime\",\"Violent crime\",\"Violent crime\",\"Violent crime\",\"Violent crime\",\"Violent crime\",\"Violent crime\",\"Violent crime\",\"Violent crime\",\"Violent crime\",\"Violent crime\",\"Violent crime\",\"Violent crime\",\"Violent crime\",\"Violent crime\",\"Violent crime\",\"Violent crime\",\"Violent crime\",\"Violent crime\",\"Violent crime\",\"Violent crime\",\"Violent crime\",\"Violent crime\",\"Violent crime\",\"Violent crime\",\"Violent crime\",\"Violent crime\",\"Violent crime\",\"Violent crime\",\"Violent crime\",\"Violent crime\",\"Violent crime\",\"Violent crime\",\"Violent crime\",\"Violent crime\",\"Violent crime\",\"Violent crime\",\"Violent crime\",\"Violent crime\",\"Violent crime\",\"Violent crime\",\"Violent crime\",\"Violent crime\",\"Violent crime\",\"Violent crime\",\"Violent crime\",\"Violent crime\",\"Violent crime\",\"Violent crime\",\"Violent crime\",\"Violent crime\",\"Violent crime\",\"Violent crime\",\"Violent crime\",\"Violent crime\",\"Violent crime\",\"Violent crime\",\"Violent crime\",\"Violent crime\",\"Violent crime\",\"Violent crime\",\"Violent crime\",\"Violent crime\",\"Violent crime\",\"Violent crime\",\"Violent crime\",\"Violent crime\",\"Violent crime\",\"Violent crime\",\"Violent crime\",\"Violent crime\",\"Violent crime\",\"Violent crime\",\"Violent crime\",\"Violent crime\",\"Violent crime\",\"Violent crime\",\"Violent crime\",\"Violent crime\",\"Violent crime\",\"Violent crime\",\"Violent crime\",\"Violent crime\",\"Violent crime\",\"Violent crime\",\"Violent crime\",\"Violent crime\",\"Violent crime\",\"Violent crime\",\"Violent crime\",\"Violent crime\",\"Violent crime\",\"Violent crime\",\"Violent crime\",\"Violent crime\",\"Violent crime\",\"Violent crime\",\"Violent crime\",\"Violent crime\",\"Violent crime\",\"Violent crime\",\"Violent crime\",\"Violent crime\",\"Violent crime\",\"Violent crime\",\"Violent crime\",\"Violent crime\",\"Violent crime\",\"Violent crime\"],\"x0\":\" \",\"xaxis\":\"x\",\"y\":[510.0,155.0,426.0,252.0,962.0,219.0,2235.0,122.0,5173.0,334.0,95.0,432.0,244.0,79.0,213.0,299.0,885.0,3117.0,41.0,920.0,1161.0,845.0,324.0,330.0,266.0,232.0,295.0,697.0,101.0,638.0,394.0,104.0,383.0,169.0,87.0,227.0,9.0,50.0,111.0,33.0,101.0,44.0,265.0,58.0,200.0,47.0,89.0,324.0,34.0,14.0,139.0,82.0,3.0,39.0,167.0,34.0,185.0,null,null,null,null,null,null,null,null,null,null,null,null,null,null,null,null,null,null,null,null,null,null,null,null,null,null,null,null,null,null,null,null,null,null,null,null,null,null,null,null,null,null,null,null,null,null,null,null,null,null,null,null,null,null,null,null,null,null,null,null,null,null,null,null,null,null,null,null,null,null,null,null,null,null,null,null,null,null,null,null,null,null,null,null,null,null,null,null,null,null,null,null,null,null,null,null,null,null,null,null,null,null,null,null,null,null,null,null,null,null,null,null,null,null,null,null,null,null,null,null,null,null,null,null,null,null,null,null,null,null,null,null,null,null,null,null,null,null,null,null,null,null,null,null,null,null,null,null,null,null,null,null,null,null,null,null,null,null,null,null,null,null,null,null,null,null,null,null,null,null,null,null,null,null,null,null,null,null,null,null,null,null,null,null,null,null,null,null,null,null,null,null,null,null,null,null,null,null,null,null,null,null,null,null,null,null,null,null,null,null,null,null,null,null,null,null,null,null,null,null,null,null,null,null,null,null,null,null,null,null,null,null,null,null,null,null,null,null,null,null,null,null,null,null,null,null,null,null,null,null,null,null,null,null,null,null,null,null,null,null,null,null,null,null,null,null,null,null,null,null,null,null,null,null,null,null,null,null,null,null,null,null,null,null,null,null,null,null,null,null,null,null,null,null,null,null,null,null,null,null,null,null,null,null,null,null,null,null,null,null,null,null,null,null,null,null,null,null,null,null,null,null,null,null,null,null,null,null,null,null,null,null,null,null,null,null,null,null,null,null,null,null,null,null,null,null,null,null,null,null,null,null,null,null,null,null,null,null,null,null,null,null,null,null,null,null,null,null,null,null,null,null,null,null,null,null,null,null,null,null,null,null,null,null,null,null,null,null,null,null,null,null,null,null,null,null,null,null,null,null,null,null,null,null,null,null,null,null,null,null,null,null,null,null,null,null,null,null,null,null,null,null,null,null,null,null,null,null,null,null,null,null,null,null,null,null,null,null,null,null,null,null,null,null,null,null,null,null,null,null,null,null,null,null,null,null,null,null,null,null,null,null,null,null,null,null,null,null,null,null,null,null,null,null,null,null,null,null,null,null,null,null,null,null,null,null,null,null,null,null,null,null,null,null,null,null,null,null,null,null,null,null,null,null,null,null,null,null,null,null,null,null,null,null,null,null,null,null,null,null,null,null,null,null,null,null,null,null,null,null,null,null,null,null,null,null,null,null,null,null,null,null,null,null,null,null,null,null,null,null,null,null,null,null,null,null,null,null,null,null,null,null,null,null,null,null,null,null,null,null,null,null,null,null,null,null,null,null,null,null,null,null,null,null,null,null,null,null,null,null,null,null,null,null,null,null,null,null,null,null,null,null,null,null,null,null,null,null,null,null,null,null,null,null,null,null,null,null,null,null,null,null,null,null,null,null,null,null,null,null,null,null,null,null,null,null,null,null,null,null,null,null,null,null,null,null,null,null,null,null,null,null,null,null,null,null,null,null,null,null,null,null,null,null,null,null,null,null,null,null,null,null,null,null,null,null,null,null,null,null,null,null,null,null,null,null,null,null,null,null,null,null,null,null,null,null,null,null,null,null,null,null,null,null,null,null,null,null,null,null,null,null,null,null,null,null,null,null,null,null,null,null,null,null,null,null,null,null,null,null,null,null,null,null,null,null,null,null,null,null,null,null,null,null,null,null,null,null,null,null,null,null,null,null,null,null,null,null,null,null,null,null,null,null,null,null,null,null,null,null,null,null,null,null,null,null,null,null,null,null,null,null,null,null,null,null,null,null,null,null,null,null,null,null,null,null,null,null,null,null,null,null,null,null,null,null,null,null,null,null,null,null,null,null,null,null,null,null,null,null,null,null,null,null,null,null,null,null,null,null,null,null,null,null,null,null,null,null,null,null,null,null,null,null,null,null,null,null,null,null,null,null,null,null,null,null,null,null,null,null,null,null,null,null,null,null,null,null,null,null,null,null,null,null,null,null,null,null,null,null,null,null,null,null,null,null,null,null,null,null,null,null,null,null,null,null,null,null,null,null,null,null,null,null,null,null,null,null,null,null,null,null,null,null,null,null,null,null,null,null,null,null,null,null,null,null,null,null,null,null,null,null,null,null,null,null,null,null,null,null,null,null,null,null,null,null,null,null,null,null,null,null,null,null,null,null,null,null,null,null,null,null,null,null,null,null,null,null,null,null,null,null,null,null,null,null,null,null,null,null,null,null,null,null,null,null,null,null,null,null,null,null,null,null,null,null,null,null,null,null,null,null,null,null,null,null,null,null,null,null,null,null,null,null,null,null,null,null,null,null,null,null,null,null,null,null,null,null,null,null,null,null,null,null,null,null,null,null,null,null,null,null,null,null,null,null,null,null,null,null,null,null,null,null,null,null,null,null,null,null,null,null,null,null,null,null,null,null,null,null,null,null,null,null,null,null,null,null,null,null,null,null,null,null,null,null,null,null,null,null,null,null,null,null,null,null,null,null,null,null,null,null,null,null,null,null,null,null,null,null,null,null,null,null,null,null,null,null,null,null,null,null,null,null,null,null,null,null,null,null,null,null,null,null,null,null,null,null,null,null,null,null,null,null,null,null,null,null,null,null,null,null,null,null,null,null,null,null,null,null,null,null,null,null,null,null,null,null,null,null,null,null,null,null,null,null,null,null,null,null,null,null,null,null,null,null,null,null,null,null,null,null,null,null,null,null,null,null,null,null,null,null,null,null,null,null,null,null,null,null,null,null,null,null,null,null,null,null,null,null,null,null,null,null,null,null,null,null,null,null,null,null,null,null,null,null,null,null,null,null,null,null,null,null,null,null,null,null,null,null,null,null,null,null,null,null,null,null,null,null,null,null,null,null,null,null,null,null,null,null,null,null,null,null,null,null,null,null,null,null,null,null,null,null,null,null,null,null,null,null,null,null,null,null,null,null,null,null,null,null,null,null,null,null,null,null,null,null,null,null,null,null,null,null,null,null,null,null,null,null,null,null,null,null,null,null,null,null,null,null,null,null,null,null,null,null,null,null,null,null,null,null,null,null,null,null,null,null,null,null,null,null,null,null,null,null,null,null,null,null,null,null,null,null,null,null,null,null,null,null,null,null,null,null,null,null,null,null,null,null,null,null,null,null,null,null,null,null,null,null,null,null,null,null,null,null,null,null,null,null,null,null,null,null,null,null,null,null,null,null,null,null,null,null,null,null,null,null,null,null,null,null,null,null,null,null,null,null,null,null,null,null,null,null,null,null,null,null,null,null,null,null,null,null,null,null,null,null,null,null,null,null,null,null,null,null,null,null,null,null,null,null,null,null,null,null,null,null,null,null,null,null,null,null,null,null,null,null,null,null,null,null,null,null,null,null,null,null,null,null,null,null,null,null,null,null,null,null,null,null,null,null,null,null,null,null,null,null,null,null,null,null,null,null,null,null,null,null,null,null,null,null,null,null,null,null,null,null,null,null,null,null,null,null,null,null,null,null,null,null,null,null,null,null,null,null,null,null,null,null,null,null,null,null,null,null,null,null,null,null,null,null,null,null,null,null,null,null,null,null,null,null,null,null,null,null,null,null,null,null,null,null,null,null,null,null,null,null,null,null,null,null,null,null,null,null,null,null,null,null,null,null,null,null,null,null,null,null,null,null,null,null,null,null,null,null,null,null,null,null,null,null,null,null,null,null,null,null,null,null,null,null,null,null,null,null,null,null,null,null,null,null,null,null,null,null,null,null,null,null,null,null,null,null,null,null,null,null,null,null,null,null,null,null,null,null,null,null,null,null,null,null,null,null,null,null,null,null,null,null,null,null,null,null,null,null,null,null,null,null,null,null,null,null,null,null,null,null,null,null,null,null,null,null,null,null,null,null,null,null,null,null,null,null,null,null,null,null,null,null,null,null,null,null,null,null,null,null,null,null,null,null,null,null,null,null,null,null,null,null,null,null,null,null,null,null,null,null,null,null,null,null,null,null,null,null,null,null,null,null,null,null,null,null,null,null,null,null,null,null,null,null,null,null,null,null,null,null,null,null,null,null,null,null,null,null,null,null,null,null,null,null,null,null,null,null,null,null,null,null,null,null,null,null,null,null,null,null,null,null,null,null,null,null,null,null,null,null,null,null,null,null,null,null,null,null,null,null,null,null,null,null,null,null,null,null,null,null,null,null,null,null,null,null,null,null,null,null,null,null,null,null,null,null,null,null,null,null,null,null,null,null,null,null,null,null,null,null,null,null,null,null,null,null,null,null,null,null,null,null,null,null,null,null,null,null,null,null,null,null,null,null,null,null,null,null,null,null,null,null,null,null,null,null,null,null,null,null,null,null,null,null,null,null,null,null,null,null,null,null,null,null,null,null,null,null,null,null,null,null,null,null,null,null,null,null,null,null,null,null,null,null,null,null,null,null,null,null,null,null,null,null,null,null,null,null,null,null,null,null,null,null,null,null,null,null,null,null,null,null,null,null,null,null,null,null,null,null,null,null,null,null,null,null,null,null,null,null,null,null,null,null,null,null,null,null,null,null,null,null,null,null,null,null,null,null,null,null,null,null,null,null,null,null,null,null,null,null,null,null,null,null,null,null,null,null,null,null,null,null,null,null,null,null,null,null,null,null,null,null,null,null,null,null,null,null,null,null,null,null,null,null,null,null,null,null,null,null,null,null,null,null,null,null,null,null,null,null,null,null,null,null,null,null,null,null,null,null,null,null,null,null,null,null,null,null,null,null,null,null,null,null,null,null,null,null,null,null,null,null,null,null,null,null,null,null,null,null,null,null,null,null,null,null,null,null,null,null,null,null,null,null,null,null,null,null,null,null,null,null,null,null,null,null,null,null,null,null,null,null,null,null,null,null,null,null,null,null,null,null,null,null,null,null,null,null,null,null,null,null,null,null,null,null,null,null,null,null,null,null,null,null,null,null,null,null,null,null,null,null,null,null,null,null,null,null,null,null,null,null,null,null,null,null,null,null,null,null,null,null,null,null,null,null,null,null,null,null,null,null,null,null,null,null,null,null,null,null,null,null,null,null,null,null,null,null,null,null,null,null,null,null,null,null,null,null,null,null,null,null,null,null,null,null,null,null,null,null,null,null,null,null,null,null,null,null,null,null,null,null,null,null,null,null,null,null,null,null,null,null,null,null,null,null,null,null,null,null,null,null,null,null,null,null,null,null,null,null,null,null,null,null,null,null,null,null,null,null,null,null,null,null,null,null,null,null,null,null,null,null,null,null,null,null,null,null,null,null,null,null,null,null,null,null,null,null,null,null,null,null,null,null,null,null,null,null,null,null,null,null,null,null,null,null,null,null,null,null,null,null,null,null,null,null,null,null,null,null,null,null,null,null,null,null,null,null,null,null,null,null,null,null,null,null,null,null,null,null,null,null,null,null,null,null,null,null,null,null,null,null,null,null,null,null,null,null,null,null,null,null,null,null,null,null,null,null,null,null,null,null,null,null,null,null,null,null,null,null,null,null,null,null,null,null,null,null,null,null,null,null,null,null,null,null,null,null,null,null,null,null,null,null,null,null,null,null,null,null,null,null,null,null,null,null,null,null,null,null,null,null,null,null,null,null,null,null,null,null,null,null,null,null,null,null,null,null,null,null,null,null,null,null,null,null,null,null,null,null,null,null,null,null,null,null,null,null,null,null,null,null,null,null,null,null,null,null,null,null,null,null,null,null,null,null,null,null,null,null,null,null,null,null,null,null,null,null,null,null,null,null,null,null,null,null,null],\"y0\":\" \",\"yaxis\":\"y\",\"type\":\"box\"}],                        {\"template\":{\"data\":{\"histogram2dcontour\":[{\"type\":\"histogram2dcontour\",\"colorbar\":{\"outlinewidth\":0,\"ticks\":\"\"},\"colorscale\":[[0.0,\"#0d0887\"],[0.1111111111111111,\"#46039f\"],[0.2222222222222222,\"#7201a8\"],[0.3333333333333333,\"#9c179e\"],[0.4444444444444444,\"#bd3786\"],[0.5555555555555556,\"#d8576b\"],[0.6666666666666666,\"#ed7953\"],[0.7777777777777778,\"#fb9f3a\"],[0.8888888888888888,\"#fdca26\"],[1.0,\"#f0f921\"]]}],\"choropleth\":[{\"type\":\"choropleth\",\"colorbar\":{\"outlinewidth\":0,\"ticks\":\"\"}}],\"histogram2d\":[{\"type\":\"histogram2d\",\"colorbar\":{\"outlinewidth\":0,\"ticks\":\"\"},\"colorscale\":[[0.0,\"#0d0887\"],[0.1111111111111111,\"#46039f\"],[0.2222222222222222,\"#7201a8\"],[0.3333333333333333,\"#9c179e\"],[0.4444444444444444,\"#bd3786\"],[0.5555555555555556,\"#d8576b\"],[0.6666666666666666,\"#ed7953\"],[0.7777777777777778,\"#fb9f3a\"],[0.8888888888888888,\"#fdca26\"],[1.0,\"#f0f921\"]]}],\"heatmap\":[{\"type\":\"heatmap\",\"colorbar\":{\"outlinewidth\":0,\"ticks\":\"\"},\"colorscale\":[[0.0,\"#0d0887\"],[0.1111111111111111,\"#46039f\"],[0.2222222222222222,\"#7201a8\"],[0.3333333333333333,\"#9c179e\"],[0.4444444444444444,\"#bd3786\"],[0.5555555555555556,\"#d8576b\"],[0.6666666666666666,\"#ed7953\"],[0.7777777777777778,\"#fb9f3a\"],[0.8888888888888888,\"#fdca26\"],[1.0,\"#f0f921\"]]}],\"heatmapgl\":[{\"type\":\"heatmapgl\",\"colorbar\":{\"outlinewidth\":0,\"ticks\":\"\"},\"colorscale\":[[0.0,\"#0d0887\"],[0.1111111111111111,\"#46039f\"],[0.2222222222222222,\"#7201a8\"],[0.3333333333333333,\"#9c179e\"],[0.4444444444444444,\"#bd3786\"],[0.5555555555555556,\"#d8576b\"],[0.6666666666666666,\"#ed7953\"],[0.7777777777777778,\"#fb9f3a\"],[0.8888888888888888,\"#fdca26\"],[1.0,\"#f0f921\"]]}],\"contourcarpet\":[{\"type\":\"contourcarpet\",\"colorbar\":{\"outlinewidth\":0,\"ticks\":\"\"}}],\"contour\":[{\"type\":\"contour\",\"colorbar\":{\"outlinewidth\":0,\"ticks\":\"\"},\"colorscale\":[[0.0,\"#0d0887\"],[0.1111111111111111,\"#46039f\"],[0.2222222222222222,\"#7201a8\"],[0.3333333333333333,\"#9c179e\"],[0.4444444444444444,\"#bd3786\"],[0.5555555555555556,\"#d8576b\"],[0.6666666666666666,\"#ed7953\"],[0.7777777777777778,\"#fb9f3a\"],[0.8888888888888888,\"#fdca26\"],[1.0,\"#f0f921\"]]}],\"surface\":[{\"type\":\"surface\",\"colorbar\":{\"outlinewidth\":0,\"ticks\":\"\"},\"colorscale\":[[0.0,\"#0d0887\"],[0.1111111111111111,\"#46039f\"],[0.2222222222222222,\"#7201a8\"],[0.3333333333333333,\"#9c179e\"],[0.4444444444444444,\"#bd3786\"],[0.5555555555555556,\"#d8576b\"],[0.6666666666666666,\"#ed7953\"],[0.7777777777777778,\"#fb9f3a\"],[0.8888888888888888,\"#fdca26\"],[1.0,\"#f0f921\"]]}],\"mesh3d\":[{\"type\":\"mesh3d\",\"colorbar\":{\"outlinewidth\":0,\"ticks\":\"\"}}],\"scatter\":[{\"fillpattern\":{\"fillmode\":\"overlay\",\"size\":10,\"solidity\":0.2},\"type\":\"scatter\"}],\"parcoords\":[{\"type\":\"parcoords\",\"line\":{\"colorbar\":{\"outlinewidth\":0,\"ticks\":\"\"}}}],\"scatterpolargl\":[{\"type\":\"scatterpolargl\",\"marker\":{\"colorbar\":{\"outlinewidth\":0,\"ticks\":\"\"}}}],\"bar\":[{\"error_x\":{\"color\":\"#2a3f5f\"},\"error_y\":{\"color\":\"#2a3f5f\"},\"marker\":{\"line\":{\"color\":\"#E5ECF6\",\"width\":0.5},\"pattern\":{\"fillmode\":\"overlay\",\"size\":10,\"solidity\":0.2}},\"type\":\"bar\"}],\"scattergeo\":[{\"type\":\"scattergeo\",\"marker\":{\"colorbar\":{\"outlinewidth\":0,\"ticks\":\"\"}}}],\"scatterpolar\":[{\"type\":\"scatterpolar\",\"marker\":{\"colorbar\":{\"outlinewidth\":0,\"ticks\":\"\"}}}],\"histogram\":[{\"marker\":{\"pattern\":{\"fillmode\":\"overlay\",\"size\":10,\"solidity\":0.2}},\"type\":\"histogram\"}],\"scattergl\":[{\"type\":\"scattergl\",\"marker\":{\"colorbar\":{\"outlinewidth\":0,\"ticks\":\"\"}}}],\"scatter3d\":[{\"type\":\"scatter3d\",\"line\":{\"colorbar\":{\"outlinewidth\":0,\"ticks\":\"\"}},\"marker\":{\"colorbar\":{\"outlinewidth\":0,\"ticks\":\"\"}}}],\"scattermapbox\":[{\"type\":\"scattermapbox\",\"marker\":{\"colorbar\":{\"outlinewidth\":0,\"ticks\":\"\"}}}],\"scatterternary\":[{\"type\":\"scatterternary\",\"marker\":{\"colorbar\":{\"outlinewidth\":0,\"ticks\":\"\"}}}],\"scattercarpet\":[{\"type\":\"scattercarpet\",\"marker\":{\"colorbar\":{\"outlinewidth\":0,\"ticks\":\"\"}}}],\"carpet\":[{\"aaxis\":{\"endlinecolor\":\"#2a3f5f\",\"gridcolor\":\"white\",\"linecolor\":\"white\",\"minorgridcolor\":\"white\",\"startlinecolor\":\"#2a3f5f\"},\"baxis\":{\"endlinecolor\":\"#2a3f5f\",\"gridcolor\":\"white\",\"linecolor\":\"white\",\"minorgridcolor\":\"white\",\"startlinecolor\":\"#2a3f5f\"},\"type\":\"carpet\"}],\"table\":[{\"cells\":{\"fill\":{\"color\":\"#EBF0F8\"},\"line\":{\"color\":\"white\"}},\"header\":{\"fill\":{\"color\":\"#C8D4E3\"},\"line\":{\"color\":\"white\"}},\"type\":\"table\"}],\"barpolar\":[{\"marker\":{\"line\":{\"color\":\"#E5ECF6\",\"width\":0.5},\"pattern\":{\"fillmode\":\"overlay\",\"size\":10,\"solidity\":0.2}},\"type\":\"barpolar\"}],\"pie\":[{\"automargin\":true,\"type\":\"pie\"}]},\"layout\":{\"autotypenumbers\":\"strict\",\"colorway\":[\"#636efa\",\"#EF553B\",\"#00cc96\",\"#ab63fa\",\"#FFA15A\",\"#19d3f3\",\"#FF6692\",\"#B6E880\",\"#FF97FF\",\"#FECB52\"],\"font\":{\"color\":\"#2a3f5f\"},\"hovermode\":\"closest\",\"hoverlabel\":{\"align\":\"left\"},\"paper_bgcolor\":\"white\",\"plot_bgcolor\":\"#E5ECF6\",\"polar\":{\"bgcolor\":\"#E5ECF6\",\"angularaxis\":{\"gridcolor\":\"white\",\"linecolor\":\"white\",\"ticks\":\"\"},\"radialaxis\":{\"gridcolor\":\"white\",\"linecolor\":\"white\",\"ticks\":\"\"}},\"ternary\":{\"bgcolor\":\"#E5ECF6\",\"aaxis\":{\"gridcolor\":\"white\",\"linecolor\":\"white\",\"ticks\":\"\"},\"baxis\":{\"gridcolor\":\"white\",\"linecolor\":\"white\",\"ticks\":\"\"},\"caxis\":{\"gridcolor\":\"white\",\"linecolor\":\"white\",\"ticks\":\"\"}},\"coloraxis\":{\"colorbar\":{\"outlinewidth\":0,\"ticks\":\"\"}},\"colorscale\":{\"sequential\":[[0.0,\"#0d0887\"],[0.1111111111111111,\"#46039f\"],[0.2222222222222222,\"#7201a8\"],[0.3333333333333333,\"#9c179e\"],[0.4444444444444444,\"#bd3786\"],[0.5555555555555556,\"#d8576b\"],[0.6666666666666666,\"#ed7953\"],[0.7777777777777778,\"#fb9f3a\"],[0.8888888888888888,\"#fdca26\"],[1.0,\"#f0f921\"]],\"sequentialminus\":[[0.0,\"#0d0887\"],[0.1111111111111111,\"#46039f\"],[0.2222222222222222,\"#7201a8\"],[0.3333333333333333,\"#9c179e\"],[0.4444444444444444,\"#bd3786\"],[0.5555555555555556,\"#d8576b\"],[0.6666666666666666,\"#ed7953\"],[0.7777777777777778,\"#fb9f3a\"],[0.8888888888888888,\"#fdca26\"],[1.0,\"#f0f921\"]],\"diverging\":[[0,\"#8e0152\"],[0.1,\"#c51b7d\"],[0.2,\"#de77ae\"],[0.3,\"#f1b6da\"],[0.4,\"#fde0ef\"],[0.5,\"#f7f7f7\"],[0.6,\"#e6f5d0\"],[0.7,\"#b8e186\"],[0.8,\"#7fbc41\"],[0.9,\"#4d9221\"],[1,\"#276419\"]]},\"xaxis\":{\"gridcolor\":\"white\",\"linecolor\":\"white\",\"ticks\":\"\",\"title\":{\"standoff\":15},\"zerolinecolor\":\"white\",\"automargin\":true,\"zerolinewidth\":2},\"yaxis\":{\"gridcolor\":\"white\",\"linecolor\":\"white\",\"ticks\":\"\",\"title\":{\"standoff\":15},\"zerolinecolor\":\"white\",\"automargin\":true,\"zerolinewidth\":2},\"scene\":{\"xaxis\":{\"backgroundcolor\":\"#E5ECF6\",\"gridcolor\":\"white\",\"linecolor\":\"white\",\"showbackground\":true,\"ticks\":\"\",\"zerolinecolor\":\"white\",\"gridwidth\":2},\"yaxis\":{\"backgroundcolor\":\"#E5ECF6\",\"gridcolor\":\"white\",\"linecolor\":\"white\",\"showbackground\":true,\"ticks\":\"\",\"zerolinecolor\":\"white\",\"gridwidth\":2},\"zaxis\":{\"backgroundcolor\":\"#E5ECF6\",\"gridcolor\":\"white\",\"linecolor\":\"white\",\"showbackground\":true,\"ticks\":\"\",\"zerolinecolor\":\"white\",\"gridwidth\":2}},\"shapedefaults\":{\"line\":{\"color\":\"#2a3f5f\"}},\"annotationdefaults\":{\"arrowcolor\":\"#2a3f5f\",\"arrowhead\":0,\"arrowwidth\":1},\"geo\":{\"bgcolor\":\"white\",\"landcolor\":\"#E5ECF6\",\"subunitcolor\":\"white\",\"showland\":true,\"showlakes\":true,\"lakecolor\":\"white\"},\"title\":{\"x\":0.05},\"mapbox\":{\"style\":\"light\"}}},\"xaxis\":{\"anchor\":\"y\",\"domain\":[0.0,1.0],\"title\":{\"text\":\"variable\"}},\"yaxis\":{\"anchor\":\"x\",\"domain\":[0.0,1.0],\"title\":{\"text\":\"value\"}},\"legend\":{\"tracegroupgap\":0},\"margin\":{\"t\":60},\"boxmode\":\"group\"},                        {\"responsive\": true}                    ).then(function(){\n",
              "                            \n",
              "var gd = document.getElementById('d722cb0c-33a0-475d-8917-1dac925fb068');\n",
              "var x = new MutationObserver(function (mutations, observer) {{\n",
              "        var display = window.getComputedStyle(gd).display;\n",
              "        if (!display || display === 'none') {{\n",
              "            console.log([gd, 'removed!']);\n",
              "            Plotly.purge(gd);\n",
              "            observer.disconnect();\n",
              "        }}\n",
              "}});\n",
              "\n",
              "// Listen for the removal of the full notebook cells\n",
              "var notebookContainer = gd.closest('#notebook-container');\n",
              "if (notebookContainer) {{\n",
              "    x.observe(notebookContainer, {childList: true});\n",
              "}}\n",
              "\n",
              "// Listen for the clearing of the current output cell\n",
              "var outputEl = gd.closest('.output');\n",
              "if (outputEl) {{\n",
              "    x.observe(outputEl, {childList: true});\n",
              "}}\n",
              "\n",
              "                        })                };                            </script>        </div>\n",
              "</body>\n",
              "</html>"
            ]
          },
          "metadata": {}
        }
      ]
    },
    {
      "cell_type": "code",
      "source": [
        "px.box(df, x='Metropolitan/Nonmetropolitan', y='Motor vehicle theft')"
      ],
      "metadata": {
        "id": "9ZRV3jjlq9NN",
        "colab": {
          "base_uri": "https://localhost:8080/",
          "height": 542
        },
        "outputId": "76c27c9b-2f4f-48c5-cb52-269a1bdbb9e1"
      },
      "execution_count": 78,
      "outputs": [
        {
          "output_type": "display_data",
          "data": {
            "text/html": [
              "<html>\n",
              "<head><meta charset=\"utf-8\" /></head>\n",
              "<body>\n",
              "    <div>            <script src=\"https://cdnjs.cloudflare.com/ajax/libs/mathjax/2.7.5/MathJax.js?config=TeX-AMS-MML_SVG\"></script><script type=\"text/javascript\">if (window.MathJax && window.MathJax.Hub && window.MathJax.Hub.Config) {window.MathJax.Hub.Config({SVG: {font: \"STIX-Web\"}});}</script>                <script type=\"text/javascript\">window.PlotlyConfig = {MathJaxConfig: 'local'};</script>\n",
              "        <script charset=\"utf-8\" src=\"https://cdn.plot.ly/plotly-2.24.1.min.js\"></script>                <div id=\"b50bf4b4-a2af-4289-8b94-af92a0be7a35\" class=\"plotly-graph-div\" style=\"height:525px; width:100%;\"></div>            <script type=\"text/javascript\">                                    window.PLOTLYENV=window.PLOTLYENV || {};                                    if (document.getElementById(\"b50bf4b4-a2af-4289-8b94-af92a0be7a35\")) {                    Plotly.newPlot(                        \"b50bf4b4-a2af-4289-8b94-af92a0be7a35\",                        [{\"alignmentgroup\":\"True\",\"hovertemplate\":\"Metropolitan\\u002fNonmetropolitan=%{x}\\u003cbr\\u003eMotor vehicle theft=%{y}\\u003cextra\\u003e\\u003c\\u002fextra\\u003e\",\"legendgroup\":\"\",\"marker\":{\"color\":\"#636efa\"},\"name\":\"\",\"notched\":false,\"offsetgroup\":\"\",\"orientation\":\"v\",\"showlegend\":false,\"x\":[\"Metropolitan Counties\",\"Metropolitan Counties\",\"Metropolitan Counties\",\"Metropolitan Counties\",\"Metropolitan Counties\",\"Metropolitan Counties\",\"Metropolitan Counties\",\"Metropolitan Counties\",\"Metropolitan Counties\",\"Metropolitan Counties\",\"Metropolitan Counties\",\"Metropolitan Counties\",\"Metropolitan Counties\",\"Metropolitan Counties\",\"Metropolitan Counties\",\"Metropolitan Counties\",\"Metropolitan Counties\",\"Metropolitan Counties\",\"Metropolitan Counties\",\"Metropolitan Counties\",\"Metropolitan Counties\",\"Metropolitan Counties\",\"Metropolitan Counties\",\"Metropolitan Counties\",\"Metropolitan Counties\",\"Metropolitan Counties\",\"Metropolitan Counties\",\"Metropolitan Counties\",\"Metropolitan Counties\",\"Metropolitan Counties\",\"Metropolitan Counties\",\"Metropolitan Counties\",\"Metropolitan Counties\",\"Metropolitan Counties\",\"Metropolitan Counties\",\"Metropolitan Counties\",\"Nonmetropolitan Counties\",\"Nonmetropolitan Counties\",\"Nonmetropolitan Counties\",\"Nonmetropolitan Counties\",\"Nonmetropolitan Counties\",\"Nonmetropolitan Counties\",\"Nonmetropolitan Counties\",\"Nonmetropolitan Counties\",\"Nonmetropolitan Counties\",\"Nonmetropolitan Counties\",\"Nonmetropolitan Counties\",\"Nonmetropolitan Counties\",\"Nonmetropolitan Counties\",\"Nonmetropolitan Counties\",\"Nonmetropolitan Counties\",\"Nonmetropolitan Counties\",\"Nonmetropolitan Counties\",\"Nonmetropolitan Counties\",\"Nonmetropolitan Counties\",\"Nonmetropolitan Counties\",\"Nonmetropolitan Counties\",null,null,null,null,null,null,null,null,null,null,null,null,null,null,null,null,null,null,null,null,null,null,null,null,null,null,null,null,null,null,null,null,null,null,null,null,null,null,null,null,null,null,null,null,null,null,null,null,null,null,null,null,null,null,null,null,null,null,null,null,null,null,null,null,null,null,null,null,null,null,null,null,null,null,null,null,null,null,null,null,null,null,null,null,null,null,null,null,null,null,null,null,null,null,null,null,null,null,null,null,null,null,null,null,null,null,null,null,null,null,null,null,null,null,null,null,null,null,null,null,null,null,null,null,null,null,null,null,null,null,null,null,null,null,null,null,null,null,null,null,null,null,null,null,null,null,null,null,null,null,null,null,null,null,null,null,null,null,null,null,null,null,null,null,null,null,null,null,null,null,null,null,null,null,null,null,null,null,null,null,null,null,null,null,null,null,null,null,null,null,null,null,null,null,null,null,null,null,null,null,null,null,null,null,null,null,null,null,null,null,null,null,null,null,null,null,null,null,null,null,null,null,null,null,null,null,null,null,null,null,null,null,null,null,null,null,null,null,null,null,null,null,null,null,null,null,null,null,null,null,null,null,null,null,null,null,null,null,null,null,null,null,null,null,null,null,null,null,null,null,null,null,null,null,null,null,null,null,null,null,null,null,null,null,null,null,null,null,null,null,null,null,null,null,null,null,null,null,null,null,null,null,null,null,null,null,null,null,null,null,null,null,null,null,null,null,null,null,null,null,null,null,null,null,null,null,null,null,null,null,null,null,null,null,null,null,null,null,null,null,null,null,null,null,null,null,null,null,null,null,null,null,null,null,null,null,null,null,null,null,null,null,null,null,null,null,null,null,null,null,null,null,null,null,null,null,null,null,null,null,null,null,null,null,null,null,null,null,null,null,null,null,null,null,null,null,null,null,null,null,null,null,null,null,null,null,null,null,null,null,null,null,null,null,null,null,null,null,null,null,null,null,null,null,null,null,null,null,null,null,null,null,null,null,null,null,null,null,null,null,null,null,null,null,null,null,null,null,null,null,null,null,null,null,null,null,null,null,null,null,null,null,null,null,null,null,null,null,null,null,null,null,null,null,null,null,null,null,null,null,null,null,null,null,null,null,null,null,null,null,null,null,null,null,null,null,null,null,null,null,null,null,null,null,null,null,null,null,null,null,null,null,null,null,null,null,null,null,null,null,null,null,null,null,null,null,null,null,null,null,null,null,null,null,null,null,null,null,null,null,null,null,null,null,null,null,null,null,null,null,null,null,null,null,null,null,null,null,null,null,null,null,null,null,null,null,null,null,null,null,null,null,null,null,null,null,null,null,null,null,null,null,null,null,null,null,null,null,null,null,null,null,null,null,null,null,null,null,null,null,null,null,null,null,null,null,null,null,null,null,null,null,null,null,null,null,null,null,null,null,null,null,null,null,null,null,null,null,null,null,null,null,null,null,null,null,null,null,null,null,null,null,null,null,null,null,null,null,null,null,null,null,null,null,null,null,null,null,null,null,null,null,null,null,null,null,null,null,null,null,null,null,null,null,null,null,null,null,null,null,null,null,null,null,null,null,null,null,null,null,null,null,null,null,null,null,null,null,null,null,null,null,null,null,null,null,null,null,null,null,null,null,null,null,null,null,null,null,null,null,null,null,null,null,null,null,null,null,null,null,null,null,null,null,null,null,null,null,null,null,null,null,null,null,null,null,null,null,null,null,null,null,null,null,null,null,null,null,null,null,null,null,null,null,null,null,null,null,null,null,null,null,null,null,null,null,null,null,null,null,null,null,null,null,null,null,null,null,null,null,null,null,null,null,null,null,null,null,null,null,null,null,null,null,null,null,null,null,null,null,null,null,null,null,null,null,null,null,null,null,null,null,null,null,null,null,null,null,null,null,null,null,null,null,null,null,null,null,null,null,null,null,null,null,null,null,null,null,null,null,null,null,null,null,null,null,null,null,null,null,null,null,null,null,null,null,null,null,null,null,null,null,null,null,null,null,null,null,null,null,null,null,null,null,null,null,null,null,null,null,null,null,null,null,null,null,null,null,null,null,null,null,null,null,null,null,null,null,null,null,null,null,null,null,null,null,null,null,null,null,null,null,null,null,null,null,null,null,null,null,null,null,null,null,null,null,null,null,null,null,null,null,null,null,null,null,null,null,null,null,null,null,null,null,null,null,null,null,null,null,null,null,null,null,null,null,null,null,null,null,null,null,null,null,null,null,null,null,null,null,null,null,null,null,null,null,null,null,null,null,null,null,null,null,null,null,null,null,null,null,null,null,null,null,null,null,null,null,null,null,null,null,null,null,null,null,null,null,null,null,null,null,null,null,null,null,null,null,null,null,null,null,null,null,null,null,null,null,null,null,null,null,null,null,null,null,null,null,null,null,null,null,null,null,null,null,null,null,null,null,null,null,null,null,null,null,null,null,null,null,null,null,null,null,null,null,null,null,null,null,null,null,null,null,null,null,null,null,null,null,null,null,null,null,null,null,null,null,null,null,null,null,null,null,null,null,null,null,null,null,null,null,null,null,null,null,null,null,null,null,null,null,null,null,null,null,null,null,null,null,null,null,null,null,null,null,null,null,null,null,null,null,null,null,null,null,null,null,null,null,null,null,null,null,null,null,null,null,null,null,null,null,null,null,null,null,null,null,null,null,null,null,null,null,null,null,null,null,null,null,null,null,null,null,null,null,null,null,null,null,null,null,null,null,null,null,null,null,null,null,null,null,null,null,null,null,null,null,null,null,null,null,null,null,null,null,null,null,null,null,null,null,null,null,null,null,null,null,null,null,null,null,null,null,null,null,null,null,null,null,null,null,null,null,null,null,null,null,null,null,null,null,null,null,null,null,null,null,null,null,null,null,null,null,null,null,null,null,null,null,null,null,null,null,null,null,null,null,null,null,null,null,null,null,null,null,null,null,null,null,null,null,null,null,null,null,null,null,null,null,null,null,null,null,null,null,null,null,null,null,null,null,null,null,null,null,null,null,null,null,null,null,null,null,null,null,null,null,null,null,null,null,null,null,null,null,null,null,null,null,null,null,null,null,null,null,null,null,null,null,null,null,null,null,null,null,null,null,null,null,null,null,null,null,null,null,null,null,null,null,null,null,null,null,null,null,null,null,null,null,null,null,null,null,null,null,null,null,null,null,null,null,null,null,null,null,null,null,null,null,null,null,null,null,null,null,null,null,null,null,null,null,null,null,null,null,null,null,null,null,null,null,null,null,null,null,null,null,null,null,null,null,null,null,null,null,null,null,null,null,null,null,null,null,null,null,null,null,null,null,null,null,null,null,null,null,null,null,null,null,null,null,null,null,null,null,null,null,null,null,null,null,null,null,null,null,null,null,null,null,null,null,null,null,null,null,null,null,null,null,null,null,null,null,null,null,null,null,null,null,null,null,null,null,null,null,null,null,null,null,null,null,null,null,null,null,null,null,null,null,null,null,null,null,null,null,null,null,null,null,null,null,null,null,null,null,null,null,null,null,null,null,null,null,null,null,null,null,null,null,null,null,null,null,null,null,null,null,null,null,null,null,null,null,null,null,null,null,null,null,null,null,null,null,null,null,null,null,null,null,null,null,null,null,null,null,null,null,null,null,null,null,null,null,null,null,null,null,null,null,null,null,null,null,null,null,null,null,null,null,null,null,null,null,null,null,null,null,null,null,null,null,null,null,null,null,null,null,null,null,null,null,null,null,null,null,null,null,null,null,null,null,null,null,null,null,null,null,null,null,null,null,null,null,null,null,null,null,null,null,null,null,null,null,null,null,null,null,null,null,null,null,null,null,null,null,null,null,null,null,null,null,null,null,null,null,null,null,null,null,null,null,null,null,null,null,null,null,null,null,null,null,null,null,null,null,null,null,null,null,null,null,null,null,null,null,null,null,null,null,null,null,null,null,null,null,null,null,null,null,null,null,null,null,null,null,null,null,null,null,null,null,null,null,null,null,null,null,null,null,null,null,null,null,null,null,null,null,null,null,null,null,null,null,null,null,null,null,null,null,null,null,null,null,null,null,null,null,null,null,null,null,null,null,null,null,null,null,null,null,null,null,null,null,null,null,null,null,null,null,null,null,null,null,null,null,null,null,null,null,null,null,null,null,null,null,null,null,null,null,null,null,null,null,null,null,null,null,null,null,null,null,null,null,null,null,null,null,null,null,null,null,null,null,null,null,null,null,null,null,null,null,null,null,null,null,null,null,null,null,null,null,null,null,null,null,null,null,null,null,null,null,null,null,null,null,null,null,null,null,null,null,null,null,null,null,null,null,null,null,null,null,null,null,null,null,null,null,null,null,null,null,null,null,null,null,null,null,null,null,null,null,null,null,null,null,null,null,null,null,null,null,null,null,null,null,null,null,null,null,null,null,null,null,null,null,null,null,null,null,null,null,null,null,null,null,null,null,null,null,null,null,null,null,null,null,null,null,null,null,null,null,null,null,null,null,null,null,null,null,null,null,null,null,null,null,null,null,null,null,null,null,null,null,null,null,null,null,null,null,null,null,null,null,null,null,null,null,null,null,null,null,null,null,null,null,null,null,null,null,null,null,null,null,null,null,null,null,null,null,null,null,null,null,null,null,null,null,null,null,null,null,null,null,null,null,null,null,null,null,null,null,null,null,null,null,null,null,null,null,null,null,null,null,null,null,null,null,null,null,null,null,null,null,null,null,null,null,null,null,null,null,null,null,null,null,null,null,null,null,null,null,null,null,null,null,null,null,null,null,null,null,null,null,null,null,null,null,null,null,null,null,null,null,null,null,null,null,null,null,null,null,null,null,null,null,null,null,null,null,null,null,null,null,null,null,null,null,null,null,null,null,null,null,null,null,null,null,null,null,null,null,null,null,null,null,null,null,null,null,null,null,null,null,null,null,null,null,null,null,null,null,null,null,null,null,null,null,null,null,null,null,null,null,null,null,null,null,null,null,null,null,null,null,null,null,null,null,null,null,null,null,null,null,null,null,null,null,null,null,null,null,null,null,null,null,null,null,null,null,null,null,null,null,null,null,null,null,null,null,null,null,null,null,null,null,null,null,null,null,null,null,null,null,null,null,null,null,null,null,null,null,null,null,null,null,null,null,null,null,null,null,null,null,null,null,null,null,null,null,null,null,null,null,null,null,null,null,null,null,null,null,null,null,null,null,null,null,null,null,null,null,null,null,null,null,null,null,null,null,null,null,null,null,null,null,null,null,null,null,null,null,null,null,null,null,null,null,null,null,null,null,null,null,null,null,null,null,null,null,null,null,null,null,null,null,null,null,null,null,null,null,null,null,null,null,null,null,null,null,null,null,null,null,null,null,null,null,null,null,null,null,null,null,null,null,null,null,null,null,null,null,null,null,null,null,null,null,null,null,null,null,null,null,null,null,null,null,null,null,null,null,null,null,null,null,null,null,null,null,null,null,null,null,null,null,null,null,null,null,null,null,null,null,null,null,null,null,null,null,null,null,null,null,null,null,null,null,null,null,null,null,null,null,null,null,null,null,null,null,null,null,null,null,null,null,null,null,null,null,null,null,null,null,null,null,null,null,null,null,null,null,null,null,null,null,null,null,null,null,null,null,null,null,null,null,null,null,null,null,null,null,null,null,null,null,null,null,null,null,null,null,null,null,null,null,null,null,null,null,null,null,null,null,null,null,null,null,null,null,null,null,null,null,null,null,null,null,null,null,null,null,null,null,null,null,null,null,null,null,null,null,null,null,null,null,null,null,null,null,null,null,null,null,null],\"x0\":\" \",\"xaxis\":\"x\",\"y\":[629.0,21.0,21.0,42.0,574.0,28.0,1883.0,12.0,4203.0,10.0,3.0,54.0,27.0,1.0,142.0,42.0,1479.0,126.0,10.0,1225.0,788.0,144.0,13.0,376.0,13.0,198.0,8.0,46.0,42.0,14.0,51.0,45.0,0.0,83.0,15.0,7.0,1.0,5.0,19.0,1.0,4.0,2.0,31.0,1.0,5.0,0.0,2.0,6.0,0.0,1.0,15.0,4.0,3.0,9.0,1.0,3.0,6.0,null,null,null,null,null,null,null,null,null,null,null,null,null,null,null,null,null,null,null,null,null,null,null,null,null,null,null,null,null,null,null,null,null,null,null,null,null,null,null,null,null,null,null,null,null,null,null,null,null,null,null,null,null,null,null,null,null,null,null,null,null,null,null,null,null,null,null,null,null,null,null,null,null,null,null,null,null,null,null,null,null,null,null,null,null,null,null,null,null,null,null,null,null,null,null,null,null,null,null,null,null,null,null,null,null,null,null,null,null,null,null,null,null,null,null,null,null,null,null,null,null,null,null,null,null,null,null,null,null,null,null,null,null,null,null,null,null,null,null,null,null,null,null,null,null,null,null,null,null,null,null,null,null,null,null,null,null,null,null,null,null,null,null,null,null,null,null,null,null,null,null,null,null,null,null,null,null,null,null,null,null,null,null,null,null,null,null,null,null,null,null,null,null,null,null,null,null,null,null,null,null,null,null,null,null,null,null,null,null,null,null,null,null,null,null,null,null,null,null,null,null,null,null,null,null,null,null,null,null,null,null,null,null,null,null,null,null,null,null,null,null,null,null,null,null,null,null,null,null,null,null,null,null,null,null,null,null,null,null,null,null,null,null,null,null,null,null,null,null,null,null,null,null,null,null,null,null,null,null,null,null,null,null,null,null,null,null,null,null,null,null,null,null,null,null,null,null,null,null,null,null,null,null,null,null,null,null,null,null,null,null,null,null,null,null,null,null,null,null,null,null,null,null,null,null,null,null,null,null,null,null,null,null,null,null,null,null,null,null,null,null,null,null,null,null,null,null,null,null,null,null,null,null,null,null,null,null,null,null,null,null,null,null,null,null,null,null,null,null,null,null,null,null,null,null,null,null,null,null,null,null,null,null,null,null,null,null,null,null,null,null,null,null,null,null,null,null,null,null,null,null,null,null,null,null,null,null,null,null,null,null,null,null,null,null,null,null,null,null,null,null,null,null,null,null,null,null,null,null,null,null,null,null,null,null,null,null,null,null,null,null,null,null,null,null,null,null,null,null,null,null,null,null,null,null,null,null,null,null,null,null,null,null,null,null,null,null,null,null,null,null,null,null,null,null,null,null,null,null,null,null,null,null,null,null,null,null,null,null,null,null,null,null,null,null,null,null,null,null,null,null,null,null,null,null,null,null,null,null,null,null,null,null,null,null,null,null,null,null,null,null,null,null,null,null,null,null,null,null,null,null,null,null,null,null,null,null,null,null,null,null,null,null,null,null,null,null,null,null,null,null,null,null,null,null,null,null,null,null,null,null,null,null,null,null,null,null,null,null,null,null,null,null,null,null,null,null,null,null,null,null,null,null,null,null,null,null,null,null,null,null,null,null,null,null,null,null,null,null,null,null,null,null,null,null,null,null,null,null,null,null,null,null,null,null,null,null,null,null,null,null,null,null,null,null,null,null,null,null,null,null,null,null,null,null,null,null,null,null,null,null,null,null,null,null,null,null,null,null,null,null,null,null,null,null,null,null,null,null,null,null,null,null,null,null,null,null,null,null,null,null,null,null,null,null,null,null,null,null,null,null,null,null,null,null,null,null,null,null,null,null,null,null,null,null,null,null,null,null,null,null,null,null,null,null,null,null,null,null,null,null,null,null,null,null,null,null,null,null,null,null,null,null,null,null,null,null,null,null,null,null,null,null,null,null,null,null,null,null,null,null,null,null,null,null,null,null,null,null,null,null,null,null,null,null,null,null,null,null,null,null,null,null,null,null,null,null,null,null,null,null,null,null,null,null,null,null,null,null,null,null,null,null,null,null,null,null,null,null,null,null,null,null,null,null,null,null,null,null,null,null,null,null,null,null,null,null,null,null,null,null,null,null,null,null,null,null,null,null,null,null,null,null,null,null,null,null,null,null,null,null,null,null,null,null,null,null,null,null,null,null,null,null,null,null,null,null,null,null,null,null,null,null,null,null,null,null,null,null,null,null,null,null,null,null,null,null,null,null,null,null,null,null,null,null,null,null,null,null,null,null,null,null,null,null,null,null,null,null,null,null,null,null,null,null,null,null,null,null,null,null,null,null,null,null,null,null,null,null,null,null,null,null,null,null,null,null,null,null,null,null,null,null,null,null,null,null,null,null,null,null,null,null,null,null,null,null,null,null,null,null,null,null,null,null,null,null,null,null,null,null,null,null,null,null,null,null,null,null,null,null,null,null,null,null,null,null,null,null,null,null,null,null,null,null,null,null,null,null,null,null,null,null,null,null,null,null,null,null,null,null,null,null,null,null,null,null,null,null,null,null,null,null,null,null,null,null,null,null,null,null,null,null,null,null,null,null,null,null,null,null,null,null,null,null,null,null,null,null,null,null,null,null,null,null,null,null,null,null,null,null,null,null,null,null,null,null,null,null,null,null,null,null,null,null,null,null,null,null,null,null,null,null,null,null,null,null,null,null,null,null,null,null,null,null,null,null,null,null,null,null,null,null,null,null,null,null,null,null,null,null,null,null,null,null,null,null,null,null,null,null,null,null,null,null,null,null,null,null,null,null,null,null,null,null,null,null,null,null,null,null,null,null,null,null,null,null,null,null,null,null,null,null,null,null,null,null,null,null,null,null,null,null,null,null,null,null,null,null,null,null,null,null,null,null,null,null,null,null,null,null,null,null,null,null,null,null,null,null,null,null,null,null,null,null,null,null,null,null,null,null,null,null,null,null,null,null,null,null,null,null,null,null,null,null,null,null,null,null,null,null,null,null,null,null,null,null,null,null,null,null,null,null,null,null,null,null,null,null,null,null,null,null,null,null,null,null,null,null,null,null,null,null,null,null,null,null,null,null,null,null,null,null,null,null,null,null,null,null,null,null,null,null,null,null,null,null,null,null,null,null,null,null,null,null,null,null,null,null,null,null,null,null,null,null,null,null,null,null,null,null,null,null,null,null,null,null,null,null,null,null,null,null,null,null,null,null,null,null,null,null,null,null,null,null,null,null,null,null,null,null,null,null,null,null,null,null,null,null,null,null,null,null,null,null,null,null,null,null,null,null,null,null,null,null,null,null,null,null,null,null,null,null,null,null,null,null,null,null,null,null,null,null,null,null,null,null,null,null,null,null,null,null,null,null,null,null,null,null,null,null,null,null,null,null,null,null,null,null,null,null,null,null,null,null,null,null,null,null,null,null,null,null,null,null,null,null,null,null,null,null,null,null,null,null,null,null,null,null,null,null,null,null,null,null,null,null,null,null,null,null,null,null,null,null,null,null,null,null,null,null,null,null,null,null,null,null,null,null,null,null,null,null,null,null,null,null,null,null,null,null,null,null,null,null,null,null,null,null,null,null,null,null,null,null,null,null,null,null,null,null,null,null,null,null,null,null,null,null,null,null,null,null,null,null,null,null,null,null,null,null,null,null,null,null,null,null,null,null,null,null,null,null,null,null,null,null,null,null,null,null,null,null,null,null,null,null,null,null,null,null,null,null,null,null,null,null,null,null,null,null,null,null,null,null,null,null,null,null,null,null,null,null,null,null,null,null,null,null,null,null,null,null,null,null,null,null,null,null,null,null,null,null,null,null,null,null,null,null,null,null,null,null,null,null,null,null,null,null,null,null,null,null,null,null,null,null,null,null,null,null,null,null,null,null,null,null,null,null,null,null,null,null,null,null,null,null,null,null,null,null,null,null,null,null,null,null,null,null,null,null,null,null,null,null,null,null,null,null,null,null,null,null,null,null,null,null,null,null,null,null,null,null,null,null,null,null,null,null,null,null,null,null,null,null,null,null,null,null,null,null,null,null,null,null,null,null,null,null,null,null,null,null,null,null,null,null,null,null,null,null,null,null,null,null,null,null,null,null,null,null,null,null,null,null,null,null,null,null,null,null,null,null,null,null,null,null,null,null,null,null,null,null,null,null,null,null,null,null,null,null,null,null,null,null,null,null,null,null,null,null,null,null,null,null,null,null,null,null,null,null,null,null,null,null,null,null,null,null,null,null,null,null,null,null,null,null,null,null,null,null,null,null,null,null,null,null,null,null,null,null,null,null,null,null,null,null,null,null,null,null,null,null,null,null,null,null,null,null,null,null,null,null,null,null,null,null,null,null,null,null,null,null,null,null,null,null,null,null,null,null,null,null,null,null,null,null,null,null,null,null,null,null,null,null,null,null,null,null,null,null,null,null,null,null,null,null,null,null,null,null,null,null,null,null,null,null,null,null,null,null,null,null,null,null,null,null,null,null,null,null,null,null,null,null,null,null,null,null,null,null,null,null,null,null,null,null,null,null,null,null,null,null,null,null,null,null,null,null,null,null,null,null,null,null,null,null,null,null,null,null,null,null,null,null,null,null,null,null,null,null,null,null,null,null,null,null,null,null,null,null,null,null,null,null,null,null,null,null,null,null,null,null,null,null,null,null,null,null,null,null,null,null,null,null,null,null,null,null,null,null,null,null,null,null,null,null,null,null,null,null,null,null,null,null,null,null,null,null,null,null,null,null,null,null,null,null,null,null,null,null,null,null,null,null,null,null,null,null,null,null,null,null,null,null,null,null,null,null,null,null,null,null,null,null,null,null,null,null,null,null,null,null,null,null,null,null,null,null,null,null,null,null,null,null,null,null,null,null,null,null,null,null,null,null,null,null,null,null,null,null,null,null,null,null,null,null,null,null,null,null,null,null,null,null,null,null,null,null,null,null,null,null,null,null,null,null,null,null,null,null,null,null,null,null,null,null,null,null,null,null,null,null,null,null,null,null,null,null,null,null,null,null,null,null,null,null,null,null,null,null,null,null,null,null,null,null,null,null,null,null,null,null,null,null,null,null,null,null,null,null,null,null,null,null,null,null,null,null,null,null,null,null,null,null,null,null,null,null,null,null,null,null,null,null,null,null,null,null,null,null,null,null,null,null,null,null,null,null,null,null,null,null,null,null,null,null,null,null,null,null,null,null,null,null,null,null,null,null,null,null,null,null,null,null,null,null,null,null,null,null,null,null,null,null,null,null,null,null,null,null,null,null,null,null,null,null,null,null,null,null,null,null,null,null,null,null,null,null,null,null,null,null,null,null,null,null,null,null,null,null,null,null,null,null,null,null,null,null,null,null,null,null,null,null,null,null,null,null,null,null,null,null,null,null,null,null,null,null,null,null,null,null,null,null,null,null,null,null,null,null,null,null,null,null,null,null,null,null,null,null,null,null,null,null,null,null,null,null,null,null,null,null,null,null,null,null,null,null,null,null,null,null,null,null,null,null,null,null,null,null,null,null,null,null,null,null,null,null,null,null,null,null,null,null,null,null,null,null,null,null,null,null,null,null,null,null,null,null,null,null,null,null,null,null,null,null,null,null,null,null,null,null,null,null,null,null,null,null,null,null,null,null,null,null,null,null,null,null,null,null,null,null,null,null,null,null,null,null,null,null,null,null,null,null,null,null,null,null,null,null,null,null,null,null,null,null,null,null,null,null,null,null,null,null,null,null,null,null,null,null,null,null,null,null,null,null,null,null,null,null,null,null,null,null,null,null,null,null,null,null,null,null,null,null,null,null,null,null,null,null,null,null,null,null,null,null,null,null,null,null,null,null,null,null,null,null,null,null,null,null,null,null,null,null,null,null,null,null,null,null,null,null,null,null,null,null,null,null,null,null,null,null,null,null,null,null,null,null,null,null,null,null,null,null,null,null,null,null,null,null,null,null,null,null,null,null,null,null,null,null,null,null,null,null,null,null,null,null,null,null,null,null,null,null,null,null,null,null,null,null,null,null,null,null],\"y0\":\" \",\"yaxis\":\"y\",\"type\":\"box\"}],                        {\"template\":{\"data\":{\"histogram2dcontour\":[{\"type\":\"histogram2dcontour\",\"colorbar\":{\"outlinewidth\":0,\"ticks\":\"\"},\"colorscale\":[[0.0,\"#0d0887\"],[0.1111111111111111,\"#46039f\"],[0.2222222222222222,\"#7201a8\"],[0.3333333333333333,\"#9c179e\"],[0.4444444444444444,\"#bd3786\"],[0.5555555555555556,\"#d8576b\"],[0.6666666666666666,\"#ed7953\"],[0.7777777777777778,\"#fb9f3a\"],[0.8888888888888888,\"#fdca26\"],[1.0,\"#f0f921\"]]}],\"choropleth\":[{\"type\":\"choropleth\",\"colorbar\":{\"outlinewidth\":0,\"ticks\":\"\"}}],\"histogram2d\":[{\"type\":\"histogram2d\",\"colorbar\":{\"outlinewidth\":0,\"ticks\":\"\"},\"colorscale\":[[0.0,\"#0d0887\"],[0.1111111111111111,\"#46039f\"],[0.2222222222222222,\"#7201a8\"],[0.3333333333333333,\"#9c179e\"],[0.4444444444444444,\"#bd3786\"],[0.5555555555555556,\"#d8576b\"],[0.6666666666666666,\"#ed7953\"],[0.7777777777777778,\"#fb9f3a\"],[0.8888888888888888,\"#fdca26\"],[1.0,\"#f0f921\"]]}],\"heatmap\":[{\"type\":\"heatmap\",\"colorbar\":{\"outlinewidth\":0,\"ticks\":\"\"},\"colorscale\":[[0.0,\"#0d0887\"],[0.1111111111111111,\"#46039f\"],[0.2222222222222222,\"#7201a8\"],[0.3333333333333333,\"#9c179e\"],[0.4444444444444444,\"#bd3786\"],[0.5555555555555556,\"#d8576b\"],[0.6666666666666666,\"#ed7953\"],[0.7777777777777778,\"#fb9f3a\"],[0.8888888888888888,\"#fdca26\"],[1.0,\"#f0f921\"]]}],\"heatmapgl\":[{\"type\":\"heatmapgl\",\"colorbar\":{\"outlinewidth\":0,\"ticks\":\"\"},\"colorscale\":[[0.0,\"#0d0887\"],[0.1111111111111111,\"#46039f\"],[0.2222222222222222,\"#7201a8\"],[0.3333333333333333,\"#9c179e\"],[0.4444444444444444,\"#bd3786\"],[0.5555555555555556,\"#d8576b\"],[0.6666666666666666,\"#ed7953\"],[0.7777777777777778,\"#fb9f3a\"],[0.8888888888888888,\"#fdca26\"],[1.0,\"#f0f921\"]]}],\"contourcarpet\":[{\"type\":\"contourcarpet\",\"colorbar\":{\"outlinewidth\":0,\"ticks\":\"\"}}],\"contour\":[{\"type\":\"contour\",\"colorbar\":{\"outlinewidth\":0,\"ticks\":\"\"},\"colorscale\":[[0.0,\"#0d0887\"],[0.1111111111111111,\"#46039f\"],[0.2222222222222222,\"#7201a8\"],[0.3333333333333333,\"#9c179e\"],[0.4444444444444444,\"#bd3786\"],[0.5555555555555556,\"#d8576b\"],[0.6666666666666666,\"#ed7953\"],[0.7777777777777778,\"#fb9f3a\"],[0.8888888888888888,\"#fdca26\"],[1.0,\"#f0f921\"]]}],\"surface\":[{\"type\":\"surface\",\"colorbar\":{\"outlinewidth\":0,\"ticks\":\"\"},\"colorscale\":[[0.0,\"#0d0887\"],[0.1111111111111111,\"#46039f\"],[0.2222222222222222,\"#7201a8\"],[0.3333333333333333,\"#9c179e\"],[0.4444444444444444,\"#bd3786\"],[0.5555555555555556,\"#d8576b\"],[0.6666666666666666,\"#ed7953\"],[0.7777777777777778,\"#fb9f3a\"],[0.8888888888888888,\"#fdca26\"],[1.0,\"#f0f921\"]]}],\"mesh3d\":[{\"type\":\"mesh3d\",\"colorbar\":{\"outlinewidth\":0,\"ticks\":\"\"}}],\"scatter\":[{\"fillpattern\":{\"fillmode\":\"overlay\",\"size\":10,\"solidity\":0.2},\"type\":\"scatter\"}],\"parcoords\":[{\"type\":\"parcoords\",\"line\":{\"colorbar\":{\"outlinewidth\":0,\"ticks\":\"\"}}}],\"scatterpolargl\":[{\"type\":\"scatterpolargl\",\"marker\":{\"colorbar\":{\"outlinewidth\":0,\"ticks\":\"\"}}}],\"bar\":[{\"error_x\":{\"color\":\"#2a3f5f\"},\"error_y\":{\"color\":\"#2a3f5f\"},\"marker\":{\"line\":{\"color\":\"#E5ECF6\",\"width\":0.5},\"pattern\":{\"fillmode\":\"overlay\",\"size\":10,\"solidity\":0.2}},\"type\":\"bar\"}],\"scattergeo\":[{\"type\":\"scattergeo\",\"marker\":{\"colorbar\":{\"outlinewidth\":0,\"ticks\":\"\"}}}],\"scatterpolar\":[{\"type\":\"scatterpolar\",\"marker\":{\"colorbar\":{\"outlinewidth\":0,\"ticks\":\"\"}}}],\"histogram\":[{\"marker\":{\"pattern\":{\"fillmode\":\"overlay\",\"size\":10,\"solidity\":0.2}},\"type\":\"histogram\"}],\"scattergl\":[{\"type\":\"scattergl\",\"marker\":{\"colorbar\":{\"outlinewidth\":0,\"ticks\":\"\"}}}],\"scatter3d\":[{\"type\":\"scatter3d\",\"line\":{\"colorbar\":{\"outlinewidth\":0,\"ticks\":\"\"}},\"marker\":{\"colorbar\":{\"outlinewidth\":0,\"ticks\":\"\"}}}],\"scattermapbox\":[{\"type\":\"scattermapbox\",\"marker\":{\"colorbar\":{\"outlinewidth\":0,\"ticks\":\"\"}}}],\"scatterternary\":[{\"type\":\"scatterternary\",\"marker\":{\"colorbar\":{\"outlinewidth\":0,\"ticks\":\"\"}}}],\"scattercarpet\":[{\"type\":\"scattercarpet\",\"marker\":{\"colorbar\":{\"outlinewidth\":0,\"ticks\":\"\"}}}],\"carpet\":[{\"aaxis\":{\"endlinecolor\":\"#2a3f5f\",\"gridcolor\":\"white\",\"linecolor\":\"white\",\"minorgridcolor\":\"white\",\"startlinecolor\":\"#2a3f5f\"},\"baxis\":{\"endlinecolor\":\"#2a3f5f\",\"gridcolor\":\"white\",\"linecolor\":\"white\",\"minorgridcolor\":\"white\",\"startlinecolor\":\"#2a3f5f\"},\"type\":\"carpet\"}],\"table\":[{\"cells\":{\"fill\":{\"color\":\"#EBF0F8\"},\"line\":{\"color\":\"white\"}},\"header\":{\"fill\":{\"color\":\"#C8D4E3\"},\"line\":{\"color\":\"white\"}},\"type\":\"table\"}],\"barpolar\":[{\"marker\":{\"line\":{\"color\":\"#E5ECF6\",\"width\":0.5},\"pattern\":{\"fillmode\":\"overlay\",\"size\":10,\"solidity\":0.2}},\"type\":\"barpolar\"}],\"pie\":[{\"automargin\":true,\"type\":\"pie\"}]},\"layout\":{\"autotypenumbers\":\"strict\",\"colorway\":[\"#636efa\",\"#EF553B\",\"#00cc96\",\"#ab63fa\",\"#FFA15A\",\"#19d3f3\",\"#FF6692\",\"#B6E880\",\"#FF97FF\",\"#FECB52\"],\"font\":{\"color\":\"#2a3f5f\"},\"hovermode\":\"closest\",\"hoverlabel\":{\"align\":\"left\"},\"paper_bgcolor\":\"white\",\"plot_bgcolor\":\"#E5ECF6\",\"polar\":{\"bgcolor\":\"#E5ECF6\",\"angularaxis\":{\"gridcolor\":\"white\",\"linecolor\":\"white\",\"ticks\":\"\"},\"radialaxis\":{\"gridcolor\":\"white\",\"linecolor\":\"white\",\"ticks\":\"\"}},\"ternary\":{\"bgcolor\":\"#E5ECF6\",\"aaxis\":{\"gridcolor\":\"white\",\"linecolor\":\"white\",\"ticks\":\"\"},\"baxis\":{\"gridcolor\":\"white\",\"linecolor\":\"white\",\"ticks\":\"\"},\"caxis\":{\"gridcolor\":\"white\",\"linecolor\":\"white\",\"ticks\":\"\"}},\"coloraxis\":{\"colorbar\":{\"outlinewidth\":0,\"ticks\":\"\"}},\"colorscale\":{\"sequential\":[[0.0,\"#0d0887\"],[0.1111111111111111,\"#46039f\"],[0.2222222222222222,\"#7201a8\"],[0.3333333333333333,\"#9c179e\"],[0.4444444444444444,\"#bd3786\"],[0.5555555555555556,\"#d8576b\"],[0.6666666666666666,\"#ed7953\"],[0.7777777777777778,\"#fb9f3a\"],[0.8888888888888888,\"#fdca26\"],[1.0,\"#f0f921\"]],\"sequentialminus\":[[0.0,\"#0d0887\"],[0.1111111111111111,\"#46039f\"],[0.2222222222222222,\"#7201a8\"],[0.3333333333333333,\"#9c179e\"],[0.4444444444444444,\"#bd3786\"],[0.5555555555555556,\"#d8576b\"],[0.6666666666666666,\"#ed7953\"],[0.7777777777777778,\"#fb9f3a\"],[0.8888888888888888,\"#fdca26\"],[1.0,\"#f0f921\"]],\"diverging\":[[0,\"#8e0152\"],[0.1,\"#c51b7d\"],[0.2,\"#de77ae\"],[0.3,\"#f1b6da\"],[0.4,\"#fde0ef\"],[0.5,\"#f7f7f7\"],[0.6,\"#e6f5d0\"],[0.7,\"#b8e186\"],[0.8,\"#7fbc41\"],[0.9,\"#4d9221\"],[1,\"#276419\"]]},\"xaxis\":{\"gridcolor\":\"white\",\"linecolor\":\"white\",\"ticks\":\"\",\"title\":{\"standoff\":15},\"zerolinecolor\":\"white\",\"automargin\":true,\"zerolinewidth\":2},\"yaxis\":{\"gridcolor\":\"white\",\"linecolor\":\"white\",\"ticks\":\"\",\"title\":{\"standoff\":15},\"zerolinecolor\":\"white\",\"automargin\":true,\"zerolinewidth\":2},\"scene\":{\"xaxis\":{\"backgroundcolor\":\"#E5ECF6\",\"gridcolor\":\"white\",\"linecolor\":\"white\",\"showbackground\":true,\"ticks\":\"\",\"zerolinecolor\":\"white\",\"gridwidth\":2},\"yaxis\":{\"backgroundcolor\":\"#E5ECF6\",\"gridcolor\":\"white\",\"linecolor\":\"white\",\"showbackground\":true,\"ticks\":\"\",\"zerolinecolor\":\"white\",\"gridwidth\":2},\"zaxis\":{\"backgroundcolor\":\"#E5ECF6\",\"gridcolor\":\"white\",\"linecolor\":\"white\",\"showbackground\":true,\"ticks\":\"\",\"zerolinecolor\":\"white\",\"gridwidth\":2}},\"shapedefaults\":{\"line\":{\"color\":\"#2a3f5f\"}},\"annotationdefaults\":{\"arrowcolor\":\"#2a3f5f\",\"arrowhead\":0,\"arrowwidth\":1},\"geo\":{\"bgcolor\":\"white\",\"landcolor\":\"#E5ECF6\",\"subunitcolor\":\"white\",\"showland\":true,\"showlakes\":true,\"lakecolor\":\"white\"},\"title\":{\"x\":0.05},\"mapbox\":{\"style\":\"light\"}}},\"xaxis\":{\"anchor\":\"y\",\"domain\":[0.0,1.0],\"title\":{\"text\":\"Metropolitan\\u002fNonmetropolitan\"}},\"yaxis\":{\"anchor\":\"x\",\"domain\":[0.0,1.0],\"title\":{\"text\":\"Motor vehicle theft\"}},\"legend\":{\"tracegroupgap\":0},\"margin\":{\"t\":60},\"boxmode\":\"group\"},                        {\"responsive\": true}                    ).then(function(){\n",
              "                            \n",
              "var gd = document.getElementById('b50bf4b4-a2af-4289-8b94-af92a0be7a35');\n",
              "var x = new MutationObserver(function (mutations, observer) {{\n",
              "        var display = window.getComputedStyle(gd).display;\n",
              "        if (!display || display === 'none') {{\n",
              "            console.log([gd, 'removed!']);\n",
              "            Plotly.purge(gd);\n",
              "            observer.disconnect();\n",
              "        }}\n",
              "}});\n",
              "\n",
              "// Listen for the removal of the full notebook cells\n",
              "var notebookContainer = gd.closest('#notebook-container');\n",
              "if (notebookContainer) {{\n",
              "    x.observe(notebookContainer, {childList: true});\n",
              "}}\n",
              "\n",
              "// Listen for the clearing of the current output cell\n",
              "var outputEl = gd.closest('.output');\n",
              "if (outputEl) {{\n",
              "    x.observe(outputEl, {childList: true});\n",
              "}}\n",
              "\n",
              "                        })                };                            </script>        </div>\n",
              "</body>\n",
              "</html>"
            ]
          },
          "metadata": {}
        }
      ]
    },
    {
      "cell_type": "markdown",
      "source": [
        "Постройте диаграмму рассеивания для числовых признаков вашего датасета.\n",
        "\n",
        "*p.s. Если у вас только один числовой признак, преобразуйте категориальный при помощи LabelEncoder (https://scikit-learn.org/stable/modules/generated/sklearn.preprocessing.LabelEncoder.html)*"
      ],
      "metadata": {
        "id": "mj8cdITDZh53"
      }
    },
    {
      "cell_type": "code",
      "source": [
        "px.scatter(df, x = 'Motor vehicle theft', y = 'Arson')"
      ],
      "metadata": {
        "id": "V2-ZoNUcZ_2l",
        "colab": {
          "base_uri": "https://localhost:8080/",
          "height": 542
        },
        "outputId": "84209b0f-81fc-4ed4-ffeb-017472fc0bcc"
      },
      "execution_count": 80,
      "outputs": [
        {
          "output_type": "display_data",
          "data": {
            "text/html": [
              "<html>\n",
              "<head><meta charset=\"utf-8\" /></head>\n",
              "<body>\n",
              "    <div>            <script src=\"https://cdnjs.cloudflare.com/ajax/libs/mathjax/2.7.5/MathJax.js?config=TeX-AMS-MML_SVG\"></script><script type=\"text/javascript\">if (window.MathJax && window.MathJax.Hub && window.MathJax.Hub.Config) {window.MathJax.Hub.Config({SVG: {font: \"STIX-Web\"}});}</script>                <script type=\"text/javascript\">window.PlotlyConfig = {MathJaxConfig: 'local'};</script>\n",
              "        <script charset=\"utf-8\" src=\"https://cdn.plot.ly/plotly-2.24.1.min.js\"></script>                <div id=\"9e8a98dd-918b-4fc8-b8a3-42e67ed0fff2\" class=\"plotly-graph-div\" style=\"height:525px; width:100%;\"></div>            <script type=\"text/javascript\">                                    window.PLOTLYENV=window.PLOTLYENV || {};                                    if (document.getElementById(\"9e8a98dd-918b-4fc8-b8a3-42e67ed0fff2\")) {                    Plotly.newPlot(                        \"9e8a98dd-918b-4fc8-b8a3-42e67ed0fff2\",                        [{\"hovertemplate\":\"Motor vehicle theft=%{x}\\u003cbr\\u003eArson=%{y}\\u003cextra\\u003e\\u003c\\u002fextra\\u003e\",\"legendgroup\":\"\",\"marker\":{\"color\":\"#636efa\",\"symbol\":\"circle\"},\"mode\":\"markers\",\"name\":\"\",\"showlegend\":false,\"x\":[629.0,21.0,21.0,42.0,574.0,28.0,1883.0,12.0,4203.0,10.0,3.0,54.0,27.0,1.0,142.0,42.0,1479.0,126.0,10.0,1225.0,788.0,144.0,13.0,376.0,13.0,198.0,8.0,46.0,42.0,14.0,51.0,45.0,0.0,83.0,15.0,7.0,1.0,5.0,19.0,1.0,4.0,2.0,31.0,1.0,5.0,0.0,2.0,6.0,0.0,1.0,15.0,4.0,3.0,9.0,1.0,3.0,6.0,null,null,null,null,null,null,null,null,null,null,null,null,null,null,null,null,null,null,null,null,null,null,null,null,null,null,null,null,null,null,null,null,null,null,null,null,null,null,null,null,null,null,null,null,null,null,null,null,null,null,null,null,null,null,null,null,null,null,null,null,null,null,null,null,null,null,null,null,null,null,null,null,null,null,null,null,null,null,null,null,null,null,null,null,null,null,null,null,null,null,null,null,null,null,null,null,null,null,null,null,null,null,null,null,null,null,null,null,null,null,null,null,null,null,null,null,null,null,null,null,null,null,null,null,null,null,null,null,null,null,null,null,null,null,null,null,null,null,null,null,null,null,null,null,null,null,null,null,null,null,null,null,null,null,null,null,null,null,null,null,null,null,null,null,null,null,null,null,null,null,null,null,null,null,null,null,null,null,null,null,null,null,null,null,null,null,null,null,null,null,null,null,null,null,null,null,null,null,null,null,null,null,null,null,null,null,null,null,null,null,null,null,null,null,null,null,null,null,null,null,null,null,null,null,null,null,null,null,null,null,null,null,null,null,null,null,null,null,null,null,null,null,null,null,null,null,null,null,null,null,null,null,null,null,null,null,null,null,null,null,null,null,null,null,null,null,null,null,null,null,null,null,null,null,null,null,null,null,null,null,null,null,null,null,null,null,null,null,null,null,null,null,null,null,null,null,null,null,null,null,null,null,null,null,null,null,null,null,null,null,null,null,null,null,null,null,null,null,null,null,null,null,null,null,null,null,null,null,null,null,null,null,null,null,null,null,null,null,null,null,null,null,null,null,null,null,null,null,null,null,null,null,null,null,null,null,null,null,null,null,null,null,null,null,null,null,null,null,null,null,null,null,null,null,null,null,null,null,null,null,null,null,null,null,null,null,null,null,null,null,null,null,null,null,null,null,null,null,null,null,null,null,null,null,null,null,null,null,null,null,null,null,null,null,null,null,null,null,null,null,null,null,null,null,null,null,null,null,null,null,null,null,null,null,null,null,null,null,null,null,null,null,null,null,null,null,null,null,null,null,null,null,null,null,null,null,null,null,null,null,null,null,null,null,null,null,null,null,null,null,null,null,null,null,null,null,null,null,null,null,null,null,null,null,null,null,null,null,null,null,null,null,null,null,null,null,null,null,null,null,null,null,null,null,null,null,null,null,null,null,null,null,null,null,null,null,null,null,null,null,null,null,null,null,null,null,null,null,null,null,null,null,null,null,null,null,null,null,null,null,null,null,null,null,null,null,null,null,null,null,null,null,null,null,null,null,null,null,null,null,null,null,null,null,null,null,null,null,null,null,null,null,null,null,null,null,null,null,null,null,null,null,null,null,null,null,null,null,null,null,null,null,null,null,null,null,null,null,null,null,null,null,null,null,null,null,null,null,null,null,null,null,null,null,null,null,null,null,null,null,null,null,null,null,null,null,null,null,null,null,null,null,null,null,null,null,null,null,null,null,null,null,null,null,null,null,null,null,null,null,null,null,null,null,null,null,null,null,null,null,null,null,null,null,null,null,null,null,null,null,null,null,null,null,null,null,null,null,null,null,null,null,null,null,null,null,null,null,null,null,null,null,null,null,null,null,null,null,null,null,null,null,null,null,null,null,null,null,null,null,null,null,null,null,null,null,null,null,null,null,null,null,null,null,null,null,null,null,null,null,null,null,null,null,null,null,null,null,null,null,null,null,null,null,null,null,null,null,null,null,null,null,null,null,null,null,null,null,null,null,null,null,null,null,null,null,null,null,null,null,null,null,null,null,null,null,null,null,null,null,null,null,null,null,null,null,null,null,null,null,null,null,null,null,null,null,null,null,null,null,null,null,null,null,null,null,null,null,null,null,null,null,null,null,null,null,null,null,null,null,null,null,null,null,null,null,null,null,null,null,null,null,null,null,null,null,null,null,null,null,null,null,null,null,null,null,null,null,null,null,null,null,null,null,null,null,null,null,null,null,null,null,null,null,null,null,null,null,null,null,null,null,null,null,null,null,null,null,null,null,null,null,null,null,null,null,null,null,null,null,null,null,null,null,null,null,null,null,null,null,null,null,null,null,null,null,null,null,null,null,null,null,null,null,null,null,null,null,null,null,null,null,null,null,null,null,null,null,null,null,null,null,null,null,null,null,null,null,null,null,null,null,null,null,null,null,null,null,null,null,null,null,null,null,null,null,null,null,null,null,null,null,null,null,null,null,null,null,null,null,null,null,null,null,null,null,null,null,null,null,null,null,null,null,null,null,null,null,null,null,null,null,null,null,null,null,null,null,null,null,null,null,null,null,null,null,null,null,null,null,null,null,null,null,null,null,null,null,null,null,null,null,null,null,null,null,null,null,null,null,null,null,null,null,null,null,null,null,null,null,null,null,null,null,null,null,null,null,null,null,null,null,null,null,null,null,null,null,null,null,null,null,null,null,null,null,null,null,null,null,null,null,null,null,null,null,null,null,null,null,null,null,null,null,null,null,null,null,null,null,null,null,null,null,null,null,null,null,null,null,null,null,null,null,null,null,null,null,null,null,null,null,null,null,null,null,null,null,null,null,null,null,null,null,null,null,null,null,null,null,null,null,null,null,null,null,null,null,null,null,null,null,null,null,null,null,null,null,null,null,null,null,null,null,null,null,null,null,null,null,null,null,null,null,null,null,null,null,null,null,null,null,null,null,null,null,null,null,null,null,null,null,null,null,null,null,null,null,null,null,null,null,null,null,null,null,null,null,null,null,null,null,null,null,null,null,null,null,null,null,null,null,null,null,null,null,null,null,null,null,null,null,null,null,null,null,null,null,null,null,null,null,null,null,null,null,null,null,null,null,null,null,null,null,null,null,null,null,null,null,null,null,null,null,null,null,null,null,null,null,null,null,null,null,null,null,null,null,null,null,null,null,null,null,null,null,null,null,null,null,null,null,null,null,null,null,null,null,null,null,null,null,null,null,null,null,null,null,null,null,null,null,null,null,null,null,null,null,null,null,null,null,null,null,null,null,null,null,null,null,null,null,null,null,null,null,null,null,null,null,null,null,null,null,null,null,null,null,null,null,null,null,null,null,null,null,null,null,null,null,null,null,null,null,null,null,null,null,null,null,null,null,null,null,null,null,null,null,null,null,null,null,null,null,null,null,null,null,null,null,null,null,null,null,null,null,null,null,null,null,null,null,null,null,null,null,null,null,null,null,null,null,null,null,null,null,null,null,null,null,null,null,null,null,null,null,null,null,null,null,null,null,null,null,null,null,null,null,null,null,null,null,null,null,null,null,null,null,null,null,null,null,null,null,null,null,null,null,null,null,null,null,null,null,null,null,null,null,null,null,null,null,null,null,null,null,null,null,null,null,null,null,null,null,null,null,null,null,null,null,null,null,null,null,null,null,null,null,null,null,null,null,null,null,null,null,null,null,null,null,null,null,null,null,null,null,null,null,null,null,null,null,null,null,null,null,null,null,null,null,null,null,null,null,null,null,null,null,null,null,null,null,null,null,null,null,null,null,null,null,null,null,null,null,null,null,null,null,null,null,null,null,null,null,null,null,null,null,null,null,null,null,null,null,null,null,null,null,null,null,null,null,null,null,null,null,null,null,null,null,null,null,null,null,null,null,null,null,null,null,null,null,null,null,null,null,null,null,null,null,null,null,null,null,null,null,null,null,null,null,null,null,null,null,null,null,null,null,null,null,null,null,null,null,null,null,null,null,null,null,null,null,null,null,null,null,null,null,null,null,null,null,null,null,null,null,null,null,null,null,null,null,null,null,null,null,null,null,null,null,null,null,null,null,null,null,null,null,null,null,null,null,null,null,null,null,null,null,null,null,null,null,null,null,null,null,null,null,null,null,null,null,null,null,null,null,null,null,null,null,null,null,null,null,null,null,null,null,null,null,null,null,null,null,null,null,null,null,null,null,null,null,null,null,null,null,null,null,null,null,null,null,null,null,null,null,null,null,null,null,null,null,null,null,null,null,null,null,null,null,null,null,null,null,null,null,null,null,null,null,null,null,null,null,null,null,null,null,null,null,null,null,null,null,null,null,null,null,null,null,null,null,null,null,null,null,null,null,null,null,null,null,null,null,null,null,null,null,null,null,null,null,null,null,null,null,null,null,null,null,null,null,null,null,null,null,null,null,null,null,null,null,null,null,null,null,null,null,null,null,null,null,null,null,null,null,null,null,null,null,null,null,null,null,null,null,null,null,null,null,null,null,null,null,null,null,null,null,null,null,null,null,null,null,null,null,null,null,null,null,null,null,null,null,null,null,null,null,null,null,null,null,null,null,null,null,null,null,null,null,null,null,null,null,null,null,null,null,null,null,null,null,null,null,null,null,null,null,null,null,null,null,null,null,null,null,null,null,null,null,null,null,null,null,null,null,null,null,null,null,null,null,null,null,null,null,null,null,null,null,null,null,null,null,null,null,null,null,null,null,null,null,null,null,null,null,null,null,null,null,null,null,null,null,null,null,null,null,null,null,null,null,null,null,null,null,null,null,null,null,null,null,null,null,null,null,null,null,null,null,null,null,null,null,null,null,null,null,null,null,null,null,null,null,null,null,null,null,null,null,null,null,null,null,null,null,null,null,null,null,null,null,null,null,null,null,null,null,null,null,null,null,null,null,null,null,null,null,null,null,null,null,null,null,null,null,null,null,null,null,null,null,null,null,null,null,null,null,null,null,null,null,null,null,null,null,null,null,null,null,null,null,null,null,null,null,null,null,null,null,null,null,null,null,null,null,null,null,null,null,null,null,null,null,null,null,null,null,null,null,null,null,null,null,null,null,null,null,null,null,null,null,null,null,null,null,null,null,null,null,null,null,null,null,null,null,null,null,null,null,null,null,null,null,null,null,null,null,null,null,null,null,null,null,null,null,null,null,null,null,null,null,null,null,null,null,null,null,null,null,null,null,null,null,null,null,null,null,null,null,null,null,null,null,null,null,null,null,null,null,null,null,null,null,null,null,null,null,null,null,null,null,null,null,null,null,null,null,null,null,null,null,null,null,null,null,null,null,null,null,null,null,null,null,null,null,null,null,null,null,null,null,null,null,null,null,null,null,null,null,null,null,null,null,null,null,null,null,null,null,null,null,null,null,null,null,null,null,null,null,null,null,null,null,null,null,null,null,null,null,null,null,null,null,null,null,null,null,null,null,null,null,null,null,null,null,null,null,null,null,null,null,null,null,null,null,null,null,null,null,null,null,null,null,null,null,null,null,null,null,null,null,null,null,null,null,null,null,null,null,null,null,null,null,null,null,null,null,null,null,null,null,null,null,null,null,null,null,null,null,null,null,null,null,null,null,null,null,null,null,null,null,null,null,null,null,null,null,null,null,null,null,null,null,null,null,null,null,null,null,null,null,null,null,null,null,null,null,null,null,null,null,null,null,null,null,null,null,null,null,null,null,null,null,null,null,null,null,null,null,null,null,null,null,null,null,null,null,null,null,null,null,null,null,null,null,null,null,null,null,null,null,null,null,null,null,null,null,null,null,null,null,null,null,null,null,null,null,null,null,null,null,null,null,null,null,null,null,null,null,null,null,null,null,null,null,null,null,null,null,null,null,null,null,null,null,null,null,null,null,null,null,null,null,null,null,null,null,null,null,null,null,null,null,null,null,null,null,null,null,null,null,null,null,null,null,null,null,null,null,null,null,null,null,null,null,null,null,null,null,null,null,null,null,null,null,null,null,null,null,null,null,null,null,null,null,null,null,null,null,null,null,null,null,null,null,null,null,null,null,null,null,null,null,null],\"xaxis\":\"x\",\"y\":[11.0,0.0,18.0,4.0,145.0,21.0,300.0,5.0,215.0,4.0,4.0,10.0,12.0,0.0,11.0,4.0,18.0,31.0,0.0,62.0,41.0,30.0,3.0,15.0,12.0,3.0,15.0,23.0,9.0,19.0,14.0,4.0,0.0,15.0,6.0,11.0,0.0,1.0,0.0,0.0,13.0,2.0,12.0,0.0,13.0,3.0,0.0,10.0,0.0,0.0,5.0,0.0,0.0,0.0,14.0,0.0,2.0,null,null,null,null,null,null,null,null,null,null,null,null,null,null,null,null,null,null,null,null,null,null,null,null,null,null,null,null,null,null,null,null,null,null,null,null,null,null,null,null,null,null,null,null,null,null,null,null,null,null,null,null,null,null,null,null,null,null,null,null,null,null,null,null,null,null,null,null,null,null,null,null,null,null,null,null,null,null,null,null,null,null,null,null,null,null,null,null,null,null,null,null,null,null,null,null,null,null,null,null,null,null,null,null,null,null,null,null,null,null,null,null,null,null,null,null,null,null,null,null,null,null,null,null,null,null,null,null,null,null,null,null,null,null,null,null,null,null,null,null,null,null,null,null,null,null,null,null,null,null,null,null,null,null,null,null,null,null,null,null,null,null,null,null,null,null,null,null,null,null,null,null,null,null,null,null,null,null,null,null,null,null,null,null,null,null,null,null,null,null,null,null,null,null,null,null,null,null,null,null,null,null,null,null,null,null,null,null,null,null,null,null,null,null,null,null,null,null,null,null,null,null,null,null,null,null,null,null,null,null,null,null,null,null,null,null,null,null,null,null,null,null,null,null,null,null,null,null,null,null,null,null,null,null,null,null,null,null,null,null,null,null,null,null,null,null,null,null,null,null,null,null,null,null,null,null,null,null,null,null,null,null,null,null,null,null,null,null,null,null,null,null,null,null,null,null,null,null,null,null,null,null,null,null,null,null,null,null,null,null,null,null,null,null,null,null,null,null,null,null,null,null,null,null,null,null,null,null,null,null,null,null,null,null,null,null,null,null,null,null,null,null,null,null,null,null,null,null,null,null,null,null,null,null,null,null,null,null,null,null,null,null,null,null,null,null,null,null,null,null,null,null,null,null,null,null,null,null,null,null,null,null,null,null,null,null,null,null,null,null,null,null,null,null,null,null,null,null,null,null,null,null,null,null,null,null,null,null,null,null,null,null,null,null,null,null,null,null,null,null,null,null,null,null,null,null,null,null,null,null,null,null,null,null,null,null,null,null,null,null,null,null,null,null,null,null,null,null,null,null,null,null,null,null,null,null,null,null,null,null,null,null,null,null,null,null,null,null,null,null,null,null,null,null,null,null,null,null,null,null,null,null,null,null,null,null,null,null,null,null,null,null,null,null,null,null,null,null,null,null,null,null,null,null,null,null,null,null,null,null,null,null,null,null,null,null,null,null,null,null,null,null,null,null,null,null,null,null,null,null,null,null,null,null,null,null,null,null,null,null,null,null,null,null,null,null,null,null,null,null,null,null,null,null,null,null,null,null,null,null,null,null,null,null,null,null,null,null,null,null,null,null,null,null,null,null,null,null,null,null,null,null,null,null,null,null,null,null,null,null,null,null,null,null,null,null,null,null,null,null,null,null,null,null,null,null,null,null,null,null,null,null,null,null,null,null,null,null,null,null,null,null,null,null,null,null,null,null,null,null,null,null,null,null,null,null,null,null,null,null,null,null,null,null,null,null,null,null,null,null,null,null,null,null,null,null,null,null,null,null,null,null,null,null,null,null,null,null,null,null,null,null,null,null,null,null,null,null,null,null,null,null,null,null,null,null,null,null,null,null,null,null,null,null,null,null,null,null,null,null,null,null,null,null,null,null,null,null,null,null,null,null,null,null,null,null,null,null,null,null,null,null,null,null,null,null,null,null,null,null,null,null,null,null,null,null,null,null,null,null,null,null,null,null,null,null,null,null,null,null,null,null,null,null,null,null,null,null,null,null,null,null,null,null,null,null,null,null,null,null,null,null,null,null,null,null,null,null,null,null,null,null,null,null,null,null,null,null,null,null,null,null,null,null,null,null,null,null,null,null,null,null,null,null,null,null,null,null,null,null,null,null,null,null,null,null,null,null,null,null,null,null,null,null,null,null,null,null,null,null,null,null,null,null,null,null,null,null,null,null,null,null,null,null,null,null,null,null,null,null,null,null,null,null,null,null,null,null,null,null,null,null,null,null,null,null,null,null,null,null,null,null,null,null,null,null,null,null,null,null,null,null,null,null,null,null,null,null,null,null,null,null,null,null,null,null,null,null,null,null,null,null,null,null,null,null,null,null,null,null,null,null,null,null,null,null,null,null,null,null,null,null,null,null,null,null,null,null,null,null,null,null,null,null,null,null,null,null,null,null,null,null,null,null,null,null,null,null,null,null,null,null,null,null,null,null,null,null,null,null,null,null,null,null,null,null,null,null,null,null,null,null,null,null,null,null,null,null,null,null,null,null,null,null,null,null,null,null,null,null,null,null,null,null,null,null,null,null,null,null,null,null,null,null,null,null,null,null,null,null,null,null,null,null,null,null,null,null,null,null,null,null,null,null,null,null,null,null,null,null,null,null,null,null,null,null,null,null,null,null,null,null,null,null,null,null,null,null,null,null,null,null,null,null,null,null,null,null,null,null,null,null,null,null,null,null,null,null,null,null,null,null,null,null,null,null,null,null,null,null,null,null,null,null,null,null,null,null,null,null,null,null,null,null,null,null,null,null,null,null,null,null,null,null,null,null,null,null,null,null,null,null,null,null,null,null,null,null,null,null,null,null,null,null,null,null,null,null,null,null,null,null,null,null,null,null,null,null,null,null,null,null,null,null,null,null,null,null,null,null,null,null,null,null,null,null,null,null,null,null,null,null,null,null,null,null,null,null,null,null,null,null,null,null,null,null,null,null,null,null,null,null,null,null,null,null,null,null,null,null,null,null,null,null,null,null,null,null,null,null,null,null,null,null,null,null,null,null,null,null,null,null,null,null,null,null,null,null,null,null,null,null,null,null,null,null,null,null,null,null,null,null,null,null,null,null,null,null,null,null,null,null,null,null,null,null,null,null,null,null,null,null,null,null,null,null,null,null,null,null,null,null,null,null,null,null,null,null,null,null,null,null,null,null,null,null,null,null,null,null,null,null,null,null,null,null,null,null,null,null,null,null,null,null,null,null,null,null,null,null,null,null,null,null,null,null,null,null,null,null,null,null,null,null,null,null,null,null,null,null,null,null,null,null,null,null,null,null,null,null,null,null,null,null,null,null,null,null,null,null,null,null,null,null,null,null,null,null,null,null,null,null,null,null,null,null,null,null,null,null,null,null,null,null,null,null,null,null,null,null,null,null,null,null,null,null,null,null,null,null,null,null,null,null,null,null,null,null,null,null,null,null,null,null,null,null,null,null,null,null,null,null,null,null,null,null,null,null,null,null,null,null,null,null,null,null,null,null,null,null,null,null,null,null,null,null,null,null,null,null,null,null,null,null,null,null,null,null,null,null,null,null,null,null,null,null,null,null,null,null,null,null,null,null,null,null,null,null,null,null,null,null,null,null,null,null,null,null,null,null,null,null,null,null,null,null,null,null,null,null,null,null,null,null,null,null,null,null,null,null,null,null,null,null,null,null,null,null,null,null,null,null,null,null,null,null,null,null,null,null,null,null,null,null,null,null,null,null,null,null,null,null,null,null,null,null,null,null,null,null,null,null,null,null,null,null,null,null,null,null,null,null,null,null,null,null,null,null,null,null,null,null,null,null,null,null,null,null,null,null,null,null,null,null,null,null,null,null,null,null,null,null,null,null,null,null,null,null,null,null,null,null,null,null,null,null,null,null,null,null,null,null,null,null,null,null,null,null,null,null,null,null,null,null,null,null,null,null,null,null,null,null,null,null,null,null,null,null,null,null,null,null,null,null,null,null,null,null,null,null,null,null,null,null,null,null,null,null,null,null,null,null,null,null,null,null,null,null,null,null,null,null,null,null,null,null,null,null,null,null,null,null,null,null,null,null,null,null,null,null,null,null,null,null,null,null,null,null,null,null,null,null,null,null,null,null,null,null,null,null,null,null,null,null,null,null,null,null,null,null,null,null,null,null,null,null,null,null,null,null,null,null,null,null,null,null,null,null,null,null,null,null,null,null,null,null,null,null,null,null,null,null,null,null,null,null,null,null,null,null,null,null,null,null,null,null,null,null,null,null,null,null,null,null,null,null,null,null,null,null,null,null,null,null,null,null,null,null,null,null,null,null,null,null,null,null,null,null,null,null,null,null,null,null,null,null,null,null,null,null,null,null,null,null,null,null,null,null,null,null,null,null,null,null,null,null,null,null,null,null,null,null,null,null,null,null,null,null,null,null,null,null,null,null,null,null,null,null,null,null,null,null,null,null,null,null,null,null,null,null,null,null,null,null,null,null,null,null,null,null,null,null,null,null,null,null,null,null,null,null,null,null,null,null,null,null,null,null,null,null,null,null,null,null,null,null,null,null,null,null,null,null,null,null,null,null,null,null,null,null,null,null,null,null,null,null,null,null,null,null,null,null,null,null,null,null,null,null,null,null,null,null,null,null,null,null,null,null,null,null,null,null,null,null,null,null,null,null,null,null,null,null,null,null,null,null,null,null,null,null,null,null,null,null,null,null,null,null,null,null,null,null,null,null,null,null,null,null,null,null,null,null,null,null,null,null,null,null,null,null,null,null,null,null,null,null,null,null,null,null,null,null,null,null,null,null,null,null,null,null,null,null,null,null,null,null,null,null,null,null,null,null,null,null,null,null,null,null,null,null,null,null,null,null,null,null,null,null,null,null,null,null,null,null,null,null,null,null,null,null,null,null,null,null,null,null,null,null,null,null,null,null,null,null,null,null,null,null,null,null,null,null,null,null,null,null,null,null,null,null,null,null,null,null,null,null,null,null,null,null,null,null,null,null,null,null,null,null,null,null,null,null,null,null,null,null,null,null,null,null,null,null,null,null,null,null,null,null,null,null,null,null,null,null,null,null,null,null,null,null,null,null,null,null,null,null,null,null,null,null,null,null,null,null,null,null,null,null,null,null,null,null,null,null,null,null,null,null,null,null,null,null,null,null,null,null,null,null,null,null,null,null,null,null,null,null,null,null,null,null,null,null,null,null,null,null,null,null,null,null,null,null,null,null,null,null,null,null,null,null,null,null,null,null,null,null,null,null,null,null,null,null,null,null,null,null,null,null,null,null,null,null,null,null,null,null,null,null,null,null,null,null,null,null,null,null,null,null,null,null,null,null,null,null,null,null,null,null,null,null,null,null,null,null,null,null,null,null,null,null,null,null,null,null,null,null,null,null,null,null,null,null,null,null,null,null,null,null,null,null,null,null,null,null,null,null,null,null,null,null,null,null,null,null,null,null,null,null,null,null,null,null,null,null,null,null,null,null,null,null,null,null,null,null,null,null,null,null,null,null,null,null,null,null,null,null,null,null,null,null,null,null,null,null,null,null,null,null,null,null,null,null,null,null,null,null,null,null,null,null,null,null,null,null,null,null,null,null,null,null,null,null,null,null,null,null,null,null,null,null,null,null,null,null,null,null,null,null,null,null,null,null,null,null,null,null,null,null,null,null,null,null,null,null,null,null,null,null,null,null,null,null,null,null,null,null,null,null,null,null,null,null,null,null,null,null,null,null,null,null,null,null,null,null,null,null,null,null,null,null,null,null,null,null,null,null,null,null,null,null,null,null,null,null,null,null,null,null,null,null,null,null,null,null,null,null,null,null,null,null,null,null,null,null,null,null,null,null,null,null,null,null,null,null,null,null,null,null,null,null,null,null,null,null,null,null,null,null,null,null,null,null,null,null,null,null,null,null,null,null,null,null,null,null,null,null,null,null,null,null,null,null,null,null,null,null,null,null,null,null,null,null,null,null,null,null,null,null,null,null,null,null,null,null,null,null,null,null,null,null,null,null,null,null,null,null,null,null,null,null,null,null,null,null,null],\"yaxis\":\"y\",\"type\":\"scattergl\"}],                        {\"template\":{\"data\":{\"histogram2dcontour\":[{\"type\":\"histogram2dcontour\",\"colorbar\":{\"outlinewidth\":0,\"ticks\":\"\"},\"colorscale\":[[0.0,\"#0d0887\"],[0.1111111111111111,\"#46039f\"],[0.2222222222222222,\"#7201a8\"],[0.3333333333333333,\"#9c179e\"],[0.4444444444444444,\"#bd3786\"],[0.5555555555555556,\"#d8576b\"],[0.6666666666666666,\"#ed7953\"],[0.7777777777777778,\"#fb9f3a\"],[0.8888888888888888,\"#fdca26\"],[1.0,\"#f0f921\"]]}],\"choropleth\":[{\"type\":\"choropleth\",\"colorbar\":{\"outlinewidth\":0,\"ticks\":\"\"}}],\"histogram2d\":[{\"type\":\"histogram2d\",\"colorbar\":{\"outlinewidth\":0,\"ticks\":\"\"},\"colorscale\":[[0.0,\"#0d0887\"],[0.1111111111111111,\"#46039f\"],[0.2222222222222222,\"#7201a8\"],[0.3333333333333333,\"#9c179e\"],[0.4444444444444444,\"#bd3786\"],[0.5555555555555556,\"#d8576b\"],[0.6666666666666666,\"#ed7953\"],[0.7777777777777778,\"#fb9f3a\"],[0.8888888888888888,\"#fdca26\"],[1.0,\"#f0f921\"]]}],\"heatmap\":[{\"type\":\"heatmap\",\"colorbar\":{\"outlinewidth\":0,\"ticks\":\"\"},\"colorscale\":[[0.0,\"#0d0887\"],[0.1111111111111111,\"#46039f\"],[0.2222222222222222,\"#7201a8\"],[0.3333333333333333,\"#9c179e\"],[0.4444444444444444,\"#bd3786\"],[0.5555555555555556,\"#d8576b\"],[0.6666666666666666,\"#ed7953\"],[0.7777777777777778,\"#fb9f3a\"],[0.8888888888888888,\"#fdca26\"],[1.0,\"#f0f921\"]]}],\"heatmapgl\":[{\"type\":\"heatmapgl\",\"colorbar\":{\"outlinewidth\":0,\"ticks\":\"\"},\"colorscale\":[[0.0,\"#0d0887\"],[0.1111111111111111,\"#46039f\"],[0.2222222222222222,\"#7201a8\"],[0.3333333333333333,\"#9c179e\"],[0.4444444444444444,\"#bd3786\"],[0.5555555555555556,\"#d8576b\"],[0.6666666666666666,\"#ed7953\"],[0.7777777777777778,\"#fb9f3a\"],[0.8888888888888888,\"#fdca26\"],[1.0,\"#f0f921\"]]}],\"contourcarpet\":[{\"type\":\"contourcarpet\",\"colorbar\":{\"outlinewidth\":0,\"ticks\":\"\"}}],\"contour\":[{\"type\":\"contour\",\"colorbar\":{\"outlinewidth\":0,\"ticks\":\"\"},\"colorscale\":[[0.0,\"#0d0887\"],[0.1111111111111111,\"#46039f\"],[0.2222222222222222,\"#7201a8\"],[0.3333333333333333,\"#9c179e\"],[0.4444444444444444,\"#bd3786\"],[0.5555555555555556,\"#d8576b\"],[0.6666666666666666,\"#ed7953\"],[0.7777777777777778,\"#fb9f3a\"],[0.8888888888888888,\"#fdca26\"],[1.0,\"#f0f921\"]]}],\"surface\":[{\"type\":\"surface\",\"colorbar\":{\"outlinewidth\":0,\"ticks\":\"\"},\"colorscale\":[[0.0,\"#0d0887\"],[0.1111111111111111,\"#46039f\"],[0.2222222222222222,\"#7201a8\"],[0.3333333333333333,\"#9c179e\"],[0.4444444444444444,\"#bd3786\"],[0.5555555555555556,\"#d8576b\"],[0.6666666666666666,\"#ed7953\"],[0.7777777777777778,\"#fb9f3a\"],[0.8888888888888888,\"#fdca26\"],[1.0,\"#f0f921\"]]}],\"mesh3d\":[{\"type\":\"mesh3d\",\"colorbar\":{\"outlinewidth\":0,\"ticks\":\"\"}}],\"scatter\":[{\"fillpattern\":{\"fillmode\":\"overlay\",\"size\":10,\"solidity\":0.2},\"type\":\"scatter\"}],\"parcoords\":[{\"type\":\"parcoords\",\"line\":{\"colorbar\":{\"outlinewidth\":0,\"ticks\":\"\"}}}],\"scatterpolargl\":[{\"type\":\"scatterpolargl\",\"marker\":{\"colorbar\":{\"outlinewidth\":0,\"ticks\":\"\"}}}],\"bar\":[{\"error_x\":{\"color\":\"#2a3f5f\"},\"error_y\":{\"color\":\"#2a3f5f\"},\"marker\":{\"line\":{\"color\":\"#E5ECF6\",\"width\":0.5},\"pattern\":{\"fillmode\":\"overlay\",\"size\":10,\"solidity\":0.2}},\"type\":\"bar\"}],\"scattergeo\":[{\"type\":\"scattergeo\",\"marker\":{\"colorbar\":{\"outlinewidth\":0,\"ticks\":\"\"}}}],\"scatterpolar\":[{\"type\":\"scatterpolar\",\"marker\":{\"colorbar\":{\"outlinewidth\":0,\"ticks\":\"\"}}}],\"histogram\":[{\"marker\":{\"pattern\":{\"fillmode\":\"overlay\",\"size\":10,\"solidity\":0.2}},\"type\":\"histogram\"}],\"scattergl\":[{\"type\":\"scattergl\",\"marker\":{\"colorbar\":{\"outlinewidth\":0,\"ticks\":\"\"}}}],\"scatter3d\":[{\"type\":\"scatter3d\",\"line\":{\"colorbar\":{\"outlinewidth\":0,\"ticks\":\"\"}},\"marker\":{\"colorbar\":{\"outlinewidth\":0,\"ticks\":\"\"}}}],\"scattermapbox\":[{\"type\":\"scattermapbox\",\"marker\":{\"colorbar\":{\"outlinewidth\":0,\"ticks\":\"\"}}}],\"scatterternary\":[{\"type\":\"scatterternary\",\"marker\":{\"colorbar\":{\"outlinewidth\":0,\"ticks\":\"\"}}}],\"scattercarpet\":[{\"type\":\"scattercarpet\",\"marker\":{\"colorbar\":{\"outlinewidth\":0,\"ticks\":\"\"}}}],\"carpet\":[{\"aaxis\":{\"endlinecolor\":\"#2a3f5f\",\"gridcolor\":\"white\",\"linecolor\":\"white\",\"minorgridcolor\":\"white\",\"startlinecolor\":\"#2a3f5f\"},\"baxis\":{\"endlinecolor\":\"#2a3f5f\",\"gridcolor\":\"white\",\"linecolor\":\"white\",\"minorgridcolor\":\"white\",\"startlinecolor\":\"#2a3f5f\"},\"type\":\"carpet\"}],\"table\":[{\"cells\":{\"fill\":{\"color\":\"#EBF0F8\"},\"line\":{\"color\":\"white\"}},\"header\":{\"fill\":{\"color\":\"#C8D4E3\"},\"line\":{\"color\":\"white\"}},\"type\":\"table\"}],\"barpolar\":[{\"marker\":{\"line\":{\"color\":\"#E5ECF6\",\"width\":0.5},\"pattern\":{\"fillmode\":\"overlay\",\"size\":10,\"solidity\":0.2}},\"type\":\"barpolar\"}],\"pie\":[{\"automargin\":true,\"type\":\"pie\"}]},\"layout\":{\"autotypenumbers\":\"strict\",\"colorway\":[\"#636efa\",\"#EF553B\",\"#00cc96\",\"#ab63fa\",\"#FFA15A\",\"#19d3f3\",\"#FF6692\",\"#B6E880\",\"#FF97FF\",\"#FECB52\"],\"font\":{\"color\":\"#2a3f5f\"},\"hovermode\":\"closest\",\"hoverlabel\":{\"align\":\"left\"},\"paper_bgcolor\":\"white\",\"plot_bgcolor\":\"#E5ECF6\",\"polar\":{\"bgcolor\":\"#E5ECF6\",\"angularaxis\":{\"gridcolor\":\"white\",\"linecolor\":\"white\",\"ticks\":\"\"},\"radialaxis\":{\"gridcolor\":\"white\",\"linecolor\":\"white\",\"ticks\":\"\"}},\"ternary\":{\"bgcolor\":\"#E5ECF6\",\"aaxis\":{\"gridcolor\":\"white\",\"linecolor\":\"white\",\"ticks\":\"\"},\"baxis\":{\"gridcolor\":\"white\",\"linecolor\":\"white\",\"ticks\":\"\"},\"caxis\":{\"gridcolor\":\"white\",\"linecolor\":\"white\",\"ticks\":\"\"}},\"coloraxis\":{\"colorbar\":{\"outlinewidth\":0,\"ticks\":\"\"}},\"colorscale\":{\"sequential\":[[0.0,\"#0d0887\"],[0.1111111111111111,\"#46039f\"],[0.2222222222222222,\"#7201a8\"],[0.3333333333333333,\"#9c179e\"],[0.4444444444444444,\"#bd3786\"],[0.5555555555555556,\"#d8576b\"],[0.6666666666666666,\"#ed7953\"],[0.7777777777777778,\"#fb9f3a\"],[0.8888888888888888,\"#fdca26\"],[1.0,\"#f0f921\"]],\"sequentialminus\":[[0.0,\"#0d0887\"],[0.1111111111111111,\"#46039f\"],[0.2222222222222222,\"#7201a8\"],[0.3333333333333333,\"#9c179e\"],[0.4444444444444444,\"#bd3786\"],[0.5555555555555556,\"#d8576b\"],[0.6666666666666666,\"#ed7953\"],[0.7777777777777778,\"#fb9f3a\"],[0.8888888888888888,\"#fdca26\"],[1.0,\"#f0f921\"]],\"diverging\":[[0,\"#8e0152\"],[0.1,\"#c51b7d\"],[0.2,\"#de77ae\"],[0.3,\"#f1b6da\"],[0.4,\"#fde0ef\"],[0.5,\"#f7f7f7\"],[0.6,\"#e6f5d0\"],[0.7,\"#b8e186\"],[0.8,\"#7fbc41\"],[0.9,\"#4d9221\"],[1,\"#276419\"]]},\"xaxis\":{\"gridcolor\":\"white\",\"linecolor\":\"white\",\"ticks\":\"\",\"title\":{\"standoff\":15},\"zerolinecolor\":\"white\",\"automargin\":true,\"zerolinewidth\":2},\"yaxis\":{\"gridcolor\":\"white\",\"linecolor\":\"white\",\"ticks\":\"\",\"title\":{\"standoff\":15},\"zerolinecolor\":\"white\",\"automargin\":true,\"zerolinewidth\":2},\"scene\":{\"xaxis\":{\"backgroundcolor\":\"#E5ECF6\",\"gridcolor\":\"white\",\"linecolor\":\"white\",\"showbackground\":true,\"ticks\":\"\",\"zerolinecolor\":\"white\",\"gridwidth\":2},\"yaxis\":{\"backgroundcolor\":\"#E5ECF6\",\"gridcolor\":\"white\",\"linecolor\":\"white\",\"showbackground\":true,\"ticks\":\"\",\"zerolinecolor\":\"white\",\"gridwidth\":2},\"zaxis\":{\"backgroundcolor\":\"#E5ECF6\",\"gridcolor\":\"white\",\"linecolor\":\"white\",\"showbackground\":true,\"ticks\":\"\",\"zerolinecolor\":\"white\",\"gridwidth\":2}},\"shapedefaults\":{\"line\":{\"color\":\"#2a3f5f\"}},\"annotationdefaults\":{\"arrowcolor\":\"#2a3f5f\",\"arrowhead\":0,\"arrowwidth\":1},\"geo\":{\"bgcolor\":\"white\",\"landcolor\":\"#E5ECF6\",\"subunitcolor\":\"white\",\"showland\":true,\"showlakes\":true,\"lakecolor\":\"white\"},\"title\":{\"x\":0.05},\"mapbox\":{\"style\":\"light\"}}},\"xaxis\":{\"anchor\":\"y\",\"domain\":[0.0,1.0],\"title\":{\"text\":\"Motor vehicle theft\"}},\"yaxis\":{\"anchor\":\"x\",\"domain\":[0.0,1.0],\"title\":{\"text\":\"Arson\"}},\"legend\":{\"tracegroupgap\":0},\"margin\":{\"t\":60}},                        {\"responsive\": true}                    ).then(function(){\n",
              "                            \n",
              "var gd = document.getElementById('9e8a98dd-918b-4fc8-b8a3-42e67ed0fff2');\n",
              "var x = new MutationObserver(function (mutations, observer) {{\n",
              "        var display = window.getComputedStyle(gd).display;\n",
              "        if (!display || display === 'none') {{\n",
              "            console.log([gd, 'removed!']);\n",
              "            Plotly.purge(gd);\n",
              "            observer.disconnect();\n",
              "        }}\n",
              "}});\n",
              "\n",
              "// Listen for the removal of the full notebook cells\n",
              "var notebookContainer = gd.closest('#notebook-container');\n",
              "if (notebookContainer) {{\n",
              "    x.observe(notebookContainer, {childList: true});\n",
              "}}\n",
              "\n",
              "// Listen for the clearing of the current output cell\n",
              "var outputEl = gd.closest('.output');\n",
              "if (outputEl) {{\n",
              "    x.observe(outputEl, {childList: true});\n",
              "}}\n",
              "\n",
              "                        })                };                            </script>        </div>\n",
              "</body>\n",
              "</html>"
            ]
          },
          "metadata": {}
        }
      ]
    },
    {
      "cell_type": "markdown",
      "source": [
        "Постройте матрицу корреляции для двух числовых признаков вашего датасета."
      ],
      "metadata": {
        "id": "S-jG4a5SaFXS"
      }
    },
    {
      "cell_type": "code",
      "source": [
        "px.imshow(df.corr())"
      ],
      "metadata": {
        "id": "u_lOnPtjnfbq",
        "colab": {
          "base_uri": "https://localhost:8080/",
          "height": 631
        },
        "outputId": "320dce02-c07c-406f-c804-e97e173f3987"
      },
      "execution_count": 82,
      "outputs": [
        {
          "output_type": "stream",
          "name": "stderr",
          "text": [
            "<ipython-input-82-0dfbac1aba16>:1: FutureWarning:\n",
            "\n",
            "The default value of numeric_only in DataFrame.corr is deprecated. In a future version, it will default to False. Select only valid columns or specify the value of numeric_only to silence this warning.\n",
            "\n"
          ]
        },
        {
          "output_type": "display_data",
          "data": {
            "text/html": [
              "<html>\n",
              "<head><meta charset=\"utf-8\" /></head>\n",
              "<body>\n",
              "    <div>            <script src=\"https://cdnjs.cloudflare.com/ajax/libs/mathjax/2.7.5/MathJax.js?config=TeX-AMS-MML_SVG\"></script><script type=\"text/javascript\">if (window.MathJax && window.MathJax.Hub && window.MathJax.Hub.Config) {window.MathJax.Hub.Config({SVG: {font: \"STIX-Web\"}});}</script>                <script type=\"text/javascript\">window.PlotlyConfig = {MathJaxConfig: 'local'};</script>\n",
              "        <script charset=\"utf-8\" src=\"https://cdn.plot.ly/plotly-2.24.1.min.js\"></script>                <div id=\"35485d8e-9232-4325-9618-7c59b737662b\" class=\"plotly-graph-div\" style=\"height:525px; width:100%;\"></div>            <script type=\"text/javascript\">                                    window.PLOTLYENV=window.PLOTLYENV || {};                                    if (document.getElementById(\"35485d8e-9232-4325-9618-7c59b737662b\")) {                    Plotly.newPlot(                        \"35485d8e-9232-4325-9618-7c59b737662b\",                        [{\"coloraxis\":\"coloraxis\",\"name\":\"0\",\"x\":[\"Violent crime\",\"Murder and nonnegligent manslaughter\",\"Rape (revised definition)\",\"Rape(legacy definition)\",\"Motor vehicle theft\",\"Arson\"],\"y\":[\"Violent crime\",\"Murder and nonnegligent manslaughter\",\"Rape (revised definition)\",\"Rape(legacy definition)\",\"Motor vehicle theft\",\"Arson\"],\"z\":[[1.0,0.9444385173618886,0.9485489035571975,null,0.848444593536451,0.7428621280647242],[0.9444385173618886,1.0,0.907172959588691,null,0.8704375076254158,0.6897317656950901],[0.9485489035571975,0.907172959588691,1.0,null,0.8395585503056109,0.7402701611147259],[null,null,null,null,null,null],[0.848444593536451,0.8704375076254158,0.8395585503056109,null,1.0,0.7858531922924258],[0.7428621280647242,0.6897317656950901,0.7402701611147259,null,0.7858531922924258,1.0]],\"type\":\"heatmap\",\"xaxis\":\"x\",\"yaxis\":\"y\",\"hovertemplate\":\"x: %{x}\\u003cbr\\u003ey: %{y}\\u003cbr\\u003ecolor: %{z}\\u003cextra\\u003e\\u003c\\u002fextra\\u003e\"}],                        {\"template\":{\"data\":{\"histogram2dcontour\":[{\"type\":\"histogram2dcontour\",\"colorbar\":{\"outlinewidth\":0,\"ticks\":\"\"},\"colorscale\":[[0.0,\"#0d0887\"],[0.1111111111111111,\"#46039f\"],[0.2222222222222222,\"#7201a8\"],[0.3333333333333333,\"#9c179e\"],[0.4444444444444444,\"#bd3786\"],[0.5555555555555556,\"#d8576b\"],[0.6666666666666666,\"#ed7953\"],[0.7777777777777778,\"#fb9f3a\"],[0.8888888888888888,\"#fdca26\"],[1.0,\"#f0f921\"]]}],\"choropleth\":[{\"type\":\"choropleth\",\"colorbar\":{\"outlinewidth\":0,\"ticks\":\"\"}}],\"histogram2d\":[{\"type\":\"histogram2d\",\"colorbar\":{\"outlinewidth\":0,\"ticks\":\"\"},\"colorscale\":[[0.0,\"#0d0887\"],[0.1111111111111111,\"#46039f\"],[0.2222222222222222,\"#7201a8\"],[0.3333333333333333,\"#9c179e\"],[0.4444444444444444,\"#bd3786\"],[0.5555555555555556,\"#d8576b\"],[0.6666666666666666,\"#ed7953\"],[0.7777777777777778,\"#fb9f3a\"],[0.8888888888888888,\"#fdca26\"],[1.0,\"#f0f921\"]]}],\"heatmap\":[{\"type\":\"heatmap\",\"colorbar\":{\"outlinewidth\":0,\"ticks\":\"\"},\"colorscale\":[[0.0,\"#0d0887\"],[0.1111111111111111,\"#46039f\"],[0.2222222222222222,\"#7201a8\"],[0.3333333333333333,\"#9c179e\"],[0.4444444444444444,\"#bd3786\"],[0.5555555555555556,\"#d8576b\"],[0.6666666666666666,\"#ed7953\"],[0.7777777777777778,\"#fb9f3a\"],[0.8888888888888888,\"#fdca26\"],[1.0,\"#f0f921\"]]}],\"heatmapgl\":[{\"type\":\"heatmapgl\",\"colorbar\":{\"outlinewidth\":0,\"ticks\":\"\"},\"colorscale\":[[0.0,\"#0d0887\"],[0.1111111111111111,\"#46039f\"],[0.2222222222222222,\"#7201a8\"],[0.3333333333333333,\"#9c179e\"],[0.4444444444444444,\"#bd3786\"],[0.5555555555555556,\"#d8576b\"],[0.6666666666666666,\"#ed7953\"],[0.7777777777777778,\"#fb9f3a\"],[0.8888888888888888,\"#fdca26\"],[1.0,\"#f0f921\"]]}],\"contourcarpet\":[{\"type\":\"contourcarpet\",\"colorbar\":{\"outlinewidth\":0,\"ticks\":\"\"}}],\"contour\":[{\"type\":\"contour\",\"colorbar\":{\"outlinewidth\":0,\"ticks\":\"\"},\"colorscale\":[[0.0,\"#0d0887\"],[0.1111111111111111,\"#46039f\"],[0.2222222222222222,\"#7201a8\"],[0.3333333333333333,\"#9c179e\"],[0.4444444444444444,\"#bd3786\"],[0.5555555555555556,\"#d8576b\"],[0.6666666666666666,\"#ed7953\"],[0.7777777777777778,\"#fb9f3a\"],[0.8888888888888888,\"#fdca26\"],[1.0,\"#f0f921\"]]}],\"surface\":[{\"type\":\"surface\",\"colorbar\":{\"outlinewidth\":0,\"ticks\":\"\"},\"colorscale\":[[0.0,\"#0d0887\"],[0.1111111111111111,\"#46039f\"],[0.2222222222222222,\"#7201a8\"],[0.3333333333333333,\"#9c179e\"],[0.4444444444444444,\"#bd3786\"],[0.5555555555555556,\"#d8576b\"],[0.6666666666666666,\"#ed7953\"],[0.7777777777777778,\"#fb9f3a\"],[0.8888888888888888,\"#fdca26\"],[1.0,\"#f0f921\"]]}],\"mesh3d\":[{\"type\":\"mesh3d\",\"colorbar\":{\"outlinewidth\":0,\"ticks\":\"\"}}],\"scatter\":[{\"fillpattern\":{\"fillmode\":\"overlay\",\"size\":10,\"solidity\":0.2},\"type\":\"scatter\"}],\"parcoords\":[{\"type\":\"parcoords\",\"line\":{\"colorbar\":{\"outlinewidth\":0,\"ticks\":\"\"}}}],\"scatterpolargl\":[{\"type\":\"scatterpolargl\",\"marker\":{\"colorbar\":{\"outlinewidth\":0,\"ticks\":\"\"}}}],\"bar\":[{\"error_x\":{\"color\":\"#2a3f5f\"},\"error_y\":{\"color\":\"#2a3f5f\"},\"marker\":{\"line\":{\"color\":\"#E5ECF6\",\"width\":0.5},\"pattern\":{\"fillmode\":\"overlay\",\"size\":10,\"solidity\":0.2}},\"type\":\"bar\"}],\"scattergeo\":[{\"type\":\"scattergeo\",\"marker\":{\"colorbar\":{\"outlinewidth\":0,\"ticks\":\"\"}}}],\"scatterpolar\":[{\"type\":\"scatterpolar\",\"marker\":{\"colorbar\":{\"outlinewidth\":0,\"ticks\":\"\"}}}],\"histogram\":[{\"marker\":{\"pattern\":{\"fillmode\":\"overlay\",\"size\":10,\"solidity\":0.2}},\"type\":\"histogram\"}],\"scattergl\":[{\"type\":\"scattergl\",\"marker\":{\"colorbar\":{\"outlinewidth\":0,\"ticks\":\"\"}}}],\"scatter3d\":[{\"type\":\"scatter3d\",\"line\":{\"colorbar\":{\"outlinewidth\":0,\"ticks\":\"\"}},\"marker\":{\"colorbar\":{\"outlinewidth\":0,\"ticks\":\"\"}}}],\"scattermapbox\":[{\"type\":\"scattermapbox\",\"marker\":{\"colorbar\":{\"outlinewidth\":0,\"ticks\":\"\"}}}],\"scatterternary\":[{\"type\":\"scatterternary\",\"marker\":{\"colorbar\":{\"outlinewidth\":0,\"ticks\":\"\"}}}],\"scattercarpet\":[{\"type\":\"scattercarpet\",\"marker\":{\"colorbar\":{\"outlinewidth\":0,\"ticks\":\"\"}}}],\"carpet\":[{\"aaxis\":{\"endlinecolor\":\"#2a3f5f\",\"gridcolor\":\"white\",\"linecolor\":\"white\",\"minorgridcolor\":\"white\",\"startlinecolor\":\"#2a3f5f\"},\"baxis\":{\"endlinecolor\":\"#2a3f5f\",\"gridcolor\":\"white\",\"linecolor\":\"white\",\"minorgridcolor\":\"white\",\"startlinecolor\":\"#2a3f5f\"},\"type\":\"carpet\"}],\"table\":[{\"cells\":{\"fill\":{\"color\":\"#EBF0F8\"},\"line\":{\"color\":\"white\"}},\"header\":{\"fill\":{\"color\":\"#C8D4E3\"},\"line\":{\"color\":\"white\"}},\"type\":\"table\"}],\"barpolar\":[{\"marker\":{\"line\":{\"color\":\"#E5ECF6\",\"width\":0.5},\"pattern\":{\"fillmode\":\"overlay\",\"size\":10,\"solidity\":0.2}},\"type\":\"barpolar\"}],\"pie\":[{\"automargin\":true,\"type\":\"pie\"}]},\"layout\":{\"autotypenumbers\":\"strict\",\"colorway\":[\"#636efa\",\"#EF553B\",\"#00cc96\",\"#ab63fa\",\"#FFA15A\",\"#19d3f3\",\"#FF6692\",\"#B6E880\",\"#FF97FF\",\"#FECB52\"],\"font\":{\"color\":\"#2a3f5f\"},\"hovermode\":\"closest\",\"hoverlabel\":{\"align\":\"left\"},\"paper_bgcolor\":\"white\",\"plot_bgcolor\":\"#E5ECF6\",\"polar\":{\"bgcolor\":\"#E5ECF6\",\"angularaxis\":{\"gridcolor\":\"white\",\"linecolor\":\"white\",\"ticks\":\"\"},\"radialaxis\":{\"gridcolor\":\"white\",\"linecolor\":\"white\",\"ticks\":\"\"}},\"ternary\":{\"bgcolor\":\"#E5ECF6\",\"aaxis\":{\"gridcolor\":\"white\",\"linecolor\":\"white\",\"ticks\":\"\"},\"baxis\":{\"gridcolor\":\"white\",\"linecolor\":\"white\",\"ticks\":\"\"},\"caxis\":{\"gridcolor\":\"white\",\"linecolor\":\"white\",\"ticks\":\"\"}},\"coloraxis\":{\"colorbar\":{\"outlinewidth\":0,\"ticks\":\"\"}},\"colorscale\":{\"sequential\":[[0.0,\"#0d0887\"],[0.1111111111111111,\"#46039f\"],[0.2222222222222222,\"#7201a8\"],[0.3333333333333333,\"#9c179e\"],[0.4444444444444444,\"#bd3786\"],[0.5555555555555556,\"#d8576b\"],[0.6666666666666666,\"#ed7953\"],[0.7777777777777778,\"#fb9f3a\"],[0.8888888888888888,\"#fdca26\"],[1.0,\"#f0f921\"]],\"sequentialminus\":[[0.0,\"#0d0887\"],[0.1111111111111111,\"#46039f\"],[0.2222222222222222,\"#7201a8\"],[0.3333333333333333,\"#9c179e\"],[0.4444444444444444,\"#bd3786\"],[0.5555555555555556,\"#d8576b\"],[0.6666666666666666,\"#ed7953\"],[0.7777777777777778,\"#fb9f3a\"],[0.8888888888888888,\"#fdca26\"],[1.0,\"#f0f921\"]],\"diverging\":[[0,\"#8e0152\"],[0.1,\"#c51b7d\"],[0.2,\"#de77ae\"],[0.3,\"#f1b6da\"],[0.4,\"#fde0ef\"],[0.5,\"#f7f7f7\"],[0.6,\"#e6f5d0\"],[0.7,\"#b8e186\"],[0.8,\"#7fbc41\"],[0.9,\"#4d9221\"],[1,\"#276419\"]]},\"xaxis\":{\"gridcolor\":\"white\",\"linecolor\":\"white\",\"ticks\":\"\",\"title\":{\"standoff\":15},\"zerolinecolor\":\"white\",\"automargin\":true,\"zerolinewidth\":2},\"yaxis\":{\"gridcolor\":\"white\",\"linecolor\":\"white\",\"ticks\":\"\",\"title\":{\"standoff\":15},\"zerolinecolor\":\"white\",\"automargin\":true,\"zerolinewidth\":2},\"scene\":{\"xaxis\":{\"backgroundcolor\":\"#E5ECF6\",\"gridcolor\":\"white\",\"linecolor\":\"white\",\"showbackground\":true,\"ticks\":\"\",\"zerolinecolor\":\"white\",\"gridwidth\":2},\"yaxis\":{\"backgroundcolor\":\"#E5ECF6\",\"gridcolor\":\"white\",\"linecolor\":\"white\",\"showbackground\":true,\"ticks\":\"\",\"zerolinecolor\":\"white\",\"gridwidth\":2},\"zaxis\":{\"backgroundcolor\":\"#E5ECF6\",\"gridcolor\":\"white\",\"linecolor\":\"white\",\"showbackground\":true,\"ticks\":\"\",\"zerolinecolor\":\"white\",\"gridwidth\":2}},\"shapedefaults\":{\"line\":{\"color\":\"#2a3f5f\"}},\"annotationdefaults\":{\"arrowcolor\":\"#2a3f5f\",\"arrowhead\":0,\"arrowwidth\":1},\"geo\":{\"bgcolor\":\"white\",\"landcolor\":\"#E5ECF6\",\"subunitcolor\":\"white\",\"showland\":true,\"showlakes\":true,\"lakecolor\":\"white\"},\"title\":{\"x\":0.05},\"mapbox\":{\"style\":\"light\"}}},\"xaxis\":{\"anchor\":\"y\",\"domain\":[0.0,1.0],\"scaleanchor\":\"y\",\"constrain\":\"domain\"},\"yaxis\":{\"anchor\":\"x\",\"domain\":[0.0,1.0],\"autorange\":\"reversed\",\"constrain\":\"domain\"},\"coloraxis\":{\"colorscale\":[[0.0,\"#0d0887\"],[0.1111111111111111,\"#46039f\"],[0.2222222222222222,\"#7201a8\"],[0.3333333333333333,\"#9c179e\"],[0.4444444444444444,\"#bd3786\"],[0.5555555555555556,\"#d8576b\"],[0.6666666666666666,\"#ed7953\"],[0.7777777777777778,\"#fb9f3a\"],[0.8888888888888888,\"#fdca26\"],[1.0,\"#f0f921\"]]},\"margin\":{\"t\":60}},                        {\"responsive\": true}                    ).then(function(){\n",
              "                            \n",
              "var gd = document.getElementById('35485d8e-9232-4325-9618-7c59b737662b');\n",
              "var x = new MutationObserver(function (mutations, observer) {{\n",
              "        var display = window.getComputedStyle(gd).display;\n",
              "        if (!display || display === 'none') {{\n",
              "            console.log([gd, 'removed!']);\n",
              "            Plotly.purge(gd);\n",
              "            observer.disconnect();\n",
              "        }}\n",
              "}});\n",
              "\n",
              "// Listen for the removal of the full notebook cells\n",
              "var notebookContainer = gd.closest('#notebook-container');\n",
              "if (notebookContainer) {{\n",
              "    x.observe(notebookContainer, {childList: true});\n",
              "}}\n",
              "\n",
              "// Listen for the clearing of the current output cell\n",
              "var outputEl = gd.closest('.output');\n",
              "if (outputEl) {{\n",
              "    x.observe(outputEl, {childList: true});\n",
              "}}\n",
              "\n",
              "                        })                };                            </script>        </div>\n",
              "</body>\n",
              "</html>"
            ]
          },
          "metadata": {}
        }
      ]
    },
    {
      "cell_type": "markdown",
      "source": [
        "Какие выводы можно сделать на основе графиков и матрицы корреляции?"
      ],
      "metadata": {
        "id": "2MVHWXICaoJ4"
      }
    },
    {
      "cell_type": "markdown",
      "source": [
        "**Ответ здесь**\n",
        "\n",
        "По матрице корреляции можно сделать вывод, что многие признаки коррелируют между собой (связаны)"
      ],
      "metadata": {
        "id": "HFAFaiNzatLN"
      }
    },
    {
      "cell_type": "markdown",
      "source": [
        "##Задание для гениев*"
      ],
      "metadata": {
        "id": "K5HCSPTPbwfJ"
      }
    },
    {
      "cell_type": "markdown",
      "source": [
        "Реализовать следующие методы поиска выбросов:\n",
        "1. На основе среднего и отклонения\n",
        "2. Критерий Шовене\n",
        "3. С помощью квартилей\n",
        "4. Поиск выбросов по двум переменным\n",
        "\n",
        "[Посмотреть](http://course.omgtu.ru/wp-content/uploads/2021/04/3_%D0%92%D1%8B%D0%B1%D1%80%D0%BE%D1%81%D1%8B.pdf)\n",
        "\n",
        "P.S. в качестве возвразаемого значения методов может быть:\n",
        "1. очищенный датафрейм\n",
        "2. индексы выбросов ```df.series.index```"
      ],
      "metadata": {
        "id": "pil5bgt5b98A"
      }
    },
    {
      "cell_type": "markdown",
      "source": [
        "**На основе среднего и отклонения**"
      ],
      "metadata": {
        "id": "kVGeFohj8mIE"
      }
    },
    {
      "cell_type": "code",
      "source": [
        "class outlierMeanAndStd:\n",
        "    def __init__(self, data):\n",
        "        self.data = data\n",
        "\n",
        "    def detectOutlierMeanStd(self, column_name, threshold):\n",
        "        mean = self.data[column_name].mean()\n",
        "        std = self.data[column_name].std()\n",
        "        lower_bound = mean - threshold * std\n",
        "        upper_bound = mean + threshold * std\n",
        "\n",
        "        cleaned_data = self.data[(self.data[column_name] >= lower_bound) & (self.data[column_name] <= upper_bound)]\n",
        "        return cleaned_data"
      ],
      "metadata": {
        "id": "cDIlw5q9LE8l"
      },
      "execution_count": 114,
      "outputs": []
    },
    {
      "cell_type": "code",
      "source": [
        "data = {\n",
        "    'col1': [1, 2, 3, 4, 5, 1000]\n",
        "}\n",
        "\n",
        "df = pd.DataFrame(data)\n",
        "\n",
        "outlier_detector = outlierMeanAndStd(df)\n",
        "\n",
        "cleaned_df = outlier_detector.detectOutlierMeanStd('col1', 2)\n",
        "\n",
        "# Выводим очищенный датафрейм\n",
        "print(\"Очищенный датафрейм:\")\n",
        "print(cleaned_df)"
      ],
      "metadata": {
        "colab": {
          "base_uri": "https://localhost:8080/"
        },
        "id": "s_TOq4sbLFba",
        "outputId": "8f536cb4-8397-4f9d-a2f1-9a328e739541"
      },
      "execution_count": 115,
      "outputs": [
        {
          "output_type": "stream",
          "name": "stdout",
          "text": [
            "Очищенный датафрейм:\n",
            "   col1\n",
            "0     1\n",
            "1     2\n",
            "2     3\n",
            "3     4\n",
            "4     5\n"
          ]
        }
      ]
    },
    {
      "cell_type": "markdown",
      "source": [
        "**С помощью квартилей**"
      ],
      "metadata": {
        "id": "jeDbw7cA8bHk"
      }
    },
    {
      "cell_type": "code",
      "source": [
        "class outlierKvart:\n",
        "    def __init__(self, data):\n",
        "        self.data = data\n",
        "\n",
        "    def detectOutlierKvart(self, column_name, threshold=1.5):\n",
        "      # threshold определяет, насколько далеко за пределами межквартильного диапазона (IQR) считать точку выбросом. 1.5 - стандартное значение\n",
        "        Q1 = self.data[column_name].quantile(0.25)\n",
        "        Q3 = self.data[column_name].quantile(0.75)\n",
        "\n",
        "        IQR = Q3 - Q1\n",
        "\n",
        "        lower_threshold = Q1 - threshold * IQR\n",
        "        upper_threshold = Q3 + threshold * IQR\n",
        "\n",
        "        outliers = (self.data[column_name] < lower_threshold) | (self.data[column_name] > upper_threshold)\n",
        "\n",
        "        return self.data[outliers]"
      ],
      "metadata": {
        "id": "IXM6eoIvdCBs"
      },
      "execution_count": 110,
      "outputs": []
    },
    {
      "cell_type": "code",
      "source": [
        "data = pd.DataFrame({\n",
        "    'col1': [1, 2, 3, 4, 5, 1000]\n",
        "})\n",
        "\n",
        "outlier_detector = outlierKvart(data)\n",
        "\n",
        "outliers = outlier_detector.detectOutlierKvart('col1')\n",
        "\n",
        "print(\"Индекс/выброс\")\n",
        "print(outliers)"
      ],
      "metadata": {
        "colab": {
          "base_uri": "https://localhost:8080/"
        },
        "id": "I_tCroj_8gd0",
        "outputId": "d5c118c8-8f90-4144-dd10-7e53ce6b9493"
      },
      "execution_count": 111,
      "outputs": [
        {
          "output_type": "stream",
          "name": "stdout",
          "text": [
            "Индекс/выброс\n",
            "   col1\n",
            "5  1000\n"
          ]
        }
      ]
    },
    {
      "cell_type": "markdown",
      "source": [
        "**Шовене**"
      ],
      "metadata": {
        "id": "skZAY_eQQ5I8"
      }
    },
    {
      "cell_type": "code",
      "source": [
        "import numpy as np\n",
        "from scipy import stats\n",
        "\n",
        "class outlierShovene:\n",
        "    def __init__(self, data):\n",
        "        self.data = data\n",
        "\n",
        "    def detectOutlierShovene(self, column_name):\n",
        "        column_data = self.data[column_name]\n",
        "        mean = np.mean(column_data)\n",
        "        std_dev = np.std(column_data)\n",
        "        n = len(column_data)\n",
        "        critical_value = 1.0 / (2 * n)\n",
        "\n",
        "        z_scores = abs((column_data - mean) / std_dev)\n",
        "        p_values = 2 * (1 - stats.norm.cdf(z_scores))\n",
        "        is_outlier = p_values < critical_value\n",
        "\n",
        "        cleaned_data = self.data[~is_outlier]\n",
        "        return cleaned_data"
      ],
      "metadata": {
        "id": "ank-TODuNleo"
      },
      "execution_count": 122,
      "outputs": []
    },
    {
      "cell_type": "code",
      "source": [
        "data = {\n",
        "    'col1': [1, 2, 3, 4, 5, 1000]\n",
        "}\n",
        "\n",
        "df = pd.DataFrame(data)\n",
        "\n",
        "outlier_detector = outlierShovene(df)\n",
        "\n",
        "cleaned_df = outlier_detector.detectOutlierShovene('col1')\n",
        "\n",
        "# Выводим очищенный датафрейм\n",
        "print(\"Очищенный датафрейм:\")\n",
        "print(cleaned_df)"
      ],
      "metadata": {
        "colab": {
          "base_uri": "https://localhost:8080/"
        },
        "id": "m2UqbF28NmBz",
        "outputId": "667f184d-a53a-483f-ec69-005140d029ff"
      },
      "execution_count": 123,
      "outputs": [
        {
          "output_type": "stream",
          "name": "stdout",
          "text": [
            "Очищенный датафрейм:\n",
            "   col1\n",
            "0     1\n",
            "1     2\n",
            "2     3\n",
            "3     4\n",
            "4     5\n"
          ]
        }
      ]
    },
    {
      "cell_type": "markdown",
      "source": [
        "**По двум переменным**\n",
        "\n",
        "не понив"
      ],
      "metadata": {
        "id": "aqgWVCpsQ_S_"
      }
    },
    {
      "cell_type": "markdown",
      "source": [
        "### Пример реализации одного метода"
      ],
      "metadata": {
        "id": "dRQRyxdgD_sk"
      }
    },
    {
      "cell_type": "code",
      "source": [
        "from statistics import median, mean\n",
        "\n",
        "class Outline:\n",
        "  def __init__(self, df):\n",
        "    self.df = df\n",
        "\n",
        "  def delete_outline_by_mean(self, column_name):\n",
        "    mean_data = mean(self.df[column_name])\n",
        "    maximum = mean_data * 2\n",
        "    result = []\n",
        "\n",
        "    for item in self.df[column_name]:\n",
        "      if abs(item - mean_data) < maximum:\n",
        "        result.append(item)\n",
        "\n",
        "    return result\n",
        "\n"
      ],
      "metadata": {
        "id": "lJEOQcx0vavH"
      },
      "execution_count": null,
      "outputs": []
    },
    {
      "cell_type": "code",
      "source": [
        "data = pd.DataFrame(\n",
        "    data = {\n",
        "        \"col1\": [1, 2, 3, 4, 5, 1000],\n",
        "        \"col2\": [1, 2, 3, 2, 1, 4]\n",
        "    }\n",
        ")\n",
        "\n",
        "so = Outline(data)\n",
        "so.delete_outline_by_mean(\"col1\")"
      ],
      "metadata": {
        "colab": {
          "base_uri": "https://localhost:8080/"
        },
        "id": "1EViTEon8Rkj",
        "outputId": "5889367a-ce5b-4510-b943-5935f33c7c51"
      },
      "execution_count": null,
      "outputs": [
        {
          "output_type": "execute_result",
          "data": {
            "text/plain": [
              "[1, 2, 3, 4, 5]"
            ]
          },
          "metadata": {},
          "execution_count": 31
        }
      ]
    },
    {
      "cell_type": "code",
      "source": [],
      "metadata": {
        "id": "5AUwZHuc7_P6"
      },
      "execution_count": null,
      "outputs": []
    }
  ]
}