{
  "nbformat": 4,
  "nbformat_minor": 0,
  "metadata": {
    "colab": {
      "provenance": [],
      "include_colab_link": true
    },
    "kernelspec": {
      "name": "python3",
      "display_name": "Python 3"
    },
    "language_info": {
      "name": "python"
    }
  },
  "cells": [
    {
      "cell_type": "markdown",
      "metadata": {
        "id": "view-in-github",
        "colab_type": "text"
      },
      "source": [
        "<a href=\"https://colab.research.google.com/github/Artorius81/labs_ml_basov/blob/main/labs/%D0%97%D0%B0%D0%B4%D0%B0%D0%BD%D0%B8%D0%B5_2_%D0%91%D0%B0%D1%81%D0%BE%D0%B2_ipynb%22.ipynb\" target=\"_parent\"><img src=\"https://colab.research.google.com/assets/colab-badge.svg\" alt=\"Open In Colab\"/></a>"
      ]
    },
    {
      "cell_type": "markdown",
      "source": [
        "#Задание по практике 2"
      ],
      "metadata": {
        "id": "_dGfjiUjUNab"
      }
    },
    {
      "cell_type": "code",
      "source": [
        "!pip install pandas\n",
        "!pip install seaborn"
      ],
      "metadata": {
        "id": "wXXP-hXKrxPW"
      },
      "execution_count": null,
      "outputs": []
    },
    {
      "cell_type": "code",
      "execution_count": 1,
      "metadata": {
        "id": "7u0VPzz-UKNu"
      },
      "outputs": [],
      "source": [
        "import pandas as pd\n",
        "import seaborn as sns"
      ]
    },
    {
      "cell_type": "markdown",
      "source": [
        "##Введение в описательную статистику"
      ],
      "metadata": {
        "id": "yKPA-E-VVSS-"
      }
    },
    {
      "cell_type": "markdown",
      "source": [
        "1. Выберите категориальную целевую переменную (**Y**)\n",
        "\n",
        "2. Выберите переменную для анализа относительно категории (**X**)\n",
        "\n",
        "3. Выведитие обобщенную статистическую информацию переменной (**X**)\n",
        "\n",
        "2. Вычислите среднее, медиану, моду, минимум, максимум, стандартное отклонение относительно целевой пременной из файла Classification datasets в соответствии с вашим вариантом\n",
        "\n",
        "3. Сделайте вывод относительно полученных результатов\n",
        "\n",
        "p.s если у вас нет категориальных признаков - преобразуйте любой числовой в категориальный (https://pandas.pydata.org/docs/reference/api/pandas.cut.html). Важно **не** использовать преобразованный Y вместе с этим же X (то есть, если вы преобразовали возраст в категорию, то вы не моежет использовать возраст в качестве X и возраст категорию в качестве Y)"
      ],
      "metadata": {
        "id": "Rrr4WPcGUwOx"
      }
    },
    {
      "cell_type": "markdown",
      "source": [
        "**ВЫБОР ПЕРЕМЕННЫХ**\n",
        "1. Категориальная целевая переменная - *Metropolitan/Nonmetropolitan*\n",
        "2. Переменная для анализа относительно категории - *Motor vehicle theft*"
      ],
      "metadata": {
        "id": "h3BH9PXiymC6"
      }
    },
    {
      "cell_type": "code",
      "source": [
        "df = pd.read_csv(\"/content/ca_offenses_by_county.csv\")\n",
        "df"
      ],
      "metadata": {
        "id": "wZiCpTwgUuYw",
        "colab": {
          "base_uri": "https://localhost:8080/",
          "height": 493
        },
        "outputId": "a0140b83-b150-4f26-f065-b9215e5706c8"
      },
      "execution_count": 2,
      "outputs": [
        {
          "output_type": "execute_result",
          "data": {
            "text/plain": [
              "     Metropolitan/Nonmetropolitan        County Violent crime  \\\n",
              "0           Metropolitan Counties       Alameda           510   \n",
              "1           Metropolitan Counties        Butte3           155   \n",
              "2           Metropolitan Counties  Contra Costa           426   \n",
              "3           Metropolitan Counties    El Dorado3           252   \n",
              "4           Metropolitan Counties        Fresno           962   \n",
              "...                           ...           ...           ...   \n",
              "2587                          NaN           NaN           NaN   \n",
              "2588                          NaN           NaN           NaN   \n",
              "2589                          NaN           NaN           NaN   \n",
              "2590                          NaN           NaN           NaN   \n",
              "2591                          NaN           NaN           NaN   \n",
              "\n",
              "      Murder and nonnegligent manslaughter  Rape (revised definition)  \\\n",
              "0                                      6.0                       13.0   \n",
              "1                                      4.0                       20.0   \n",
              "2                                     14.0                       24.0   \n",
              "3                                      9.0                       46.0   \n",
              "4                                      8.0                       32.0   \n",
              "...                                    ...                        ...   \n",
              "2587                                   NaN                        NaN   \n",
              "2588                                   NaN                        NaN   \n",
              "2589                                   NaN                        NaN   \n",
              "2590                                   NaN                        NaN   \n",
              "2591                                   NaN                        NaN   \n",
              "\n",
              "      Rape(legacy definition) Robbery Aggravated assault Property crime  \\\n",
              "0                         NaN     177                314          2,077   \n",
              "1                         NaN      14                117          1,422   \n",
              "2                         NaN     153                235          2,013   \n",
              "3                         NaN      32                165          2,031   \n",
              "4                         NaN     112                810          3,810   \n",
              "...                       ...     ...                ...            ...   \n",
              "2587                      NaN     NaN                NaN            NaN   \n",
              "2588                      NaN     NaN                NaN            NaN   \n",
              "2589                      NaN     NaN                NaN            NaN   \n",
              "2590                      NaN     NaN                NaN            NaN   \n",
              "2591                      NaN     NaN                NaN            NaN   \n",
              "\n",
              "     Burglary Larceny-theft Motor vehicle theft  Arson  \n",
              "0         463           985                 629   11.0  \n",
              "1         708           693                  21    0.0  \n",
              "2         660         1,332                  21   18.0  \n",
              "3         577         1,412                  42    4.0  \n",
              "4       1,398         1,838                 574  145.0  \n",
              "...       ...           ...                 ...    ...  \n",
              "2587      NaN           NaN                 NaN    NaN  \n",
              "2588      NaN           NaN                 NaN    NaN  \n",
              "2589      NaN           NaN                 NaN    NaN  \n",
              "2590      NaN           NaN                 NaN    NaN  \n",
              "2591      NaN           NaN                 NaN    NaN  \n",
              "\n",
              "[2592 rows x 13 columns]"
            ],
            "text/html": [
              "\n",
              "  <div id=\"df-19b0fda3-3b16-418d-99f8-1d0b7d761b1b\" class=\"colab-df-container\">\n",
              "    <div>\n",
              "<style scoped>\n",
              "    .dataframe tbody tr th:only-of-type {\n",
              "        vertical-align: middle;\n",
              "    }\n",
              "\n",
              "    .dataframe tbody tr th {\n",
              "        vertical-align: top;\n",
              "    }\n",
              "\n",
              "    .dataframe thead th {\n",
              "        text-align: right;\n",
              "    }\n",
              "</style>\n",
              "<table border=\"1\" class=\"dataframe\">\n",
              "  <thead>\n",
              "    <tr style=\"text-align: right;\">\n",
              "      <th></th>\n",
              "      <th>Metropolitan/Nonmetropolitan</th>\n",
              "      <th>County</th>\n",
              "      <th>Violent crime</th>\n",
              "      <th>Murder and nonnegligent manslaughter</th>\n",
              "      <th>Rape (revised definition)</th>\n",
              "      <th>Rape(legacy definition)</th>\n",
              "      <th>Robbery</th>\n",
              "      <th>Aggravated assault</th>\n",
              "      <th>Property crime</th>\n",
              "      <th>Burglary</th>\n",
              "      <th>Larceny-theft</th>\n",
              "      <th>Motor vehicle theft</th>\n",
              "      <th>Arson</th>\n",
              "    </tr>\n",
              "  </thead>\n",
              "  <tbody>\n",
              "    <tr>\n",
              "      <th>0</th>\n",
              "      <td>Metropolitan Counties</td>\n",
              "      <td>Alameda</td>\n",
              "      <td>510</td>\n",
              "      <td>6.0</td>\n",
              "      <td>13.0</td>\n",
              "      <td>NaN</td>\n",
              "      <td>177</td>\n",
              "      <td>314</td>\n",
              "      <td>2,077</td>\n",
              "      <td>463</td>\n",
              "      <td>985</td>\n",
              "      <td>629</td>\n",
              "      <td>11.0</td>\n",
              "    </tr>\n",
              "    <tr>\n",
              "      <th>1</th>\n",
              "      <td>Metropolitan Counties</td>\n",
              "      <td>Butte3</td>\n",
              "      <td>155</td>\n",
              "      <td>4.0</td>\n",
              "      <td>20.0</td>\n",
              "      <td>NaN</td>\n",
              "      <td>14</td>\n",
              "      <td>117</td>\n",
              "      <td>1,422</td>\n",
              "      <td>708</td>\n",
              "      <td>693</td>\n",
              "      <td>21</td>\n",
              "      <td>0.0</td>\n",
              "    </tr>\n",
              "    <tr>\n",
              "      <th>2</th>\n",
              "      <td>Metropolitan Counties</td>\n",
              "      <td>Contra Costa</td>\n",
              "      <td>426</td>\n",
              "      <td>14.0</td>\n",
              "      <td>24.0</td>\n",
              "      <td>NaN</td>\n",
              "      <td>153</td>\n",
              "      <td>235</td>\n",
              "      <td>2,013</td>\n",
              "      <td>660</td>\n",
              "      <td>1,332</td>\n",
              "      <td>21</td>\n",
              "      <td>18.0</td>\n",
              "    </tr>\n",
              "    <tr>\n",
              "      <th>3</th>\n",
              "      <td>Metropolitan Counties</td>\n",
              "      <td>El Dorado3</td>\n",
              "      <td>252</td>\n",
              "      <td>9.0</td>\n",
              "      <td>46.0</td>\n",
              "      <td>NaN</td>\n",
              "      <td>32</td>\n",
              "      <td>165</td>\n",
              "      <td>2,031</td>\n",
              "      <td>577</td>\n",
              "      <td>1,412</td>\n",
              "      <td>42</td>\n",
              "      <td>4.0</td>\n",
              "    </tr>\n",
              "    <tr>\n",
              "      <th>4</th>\n",
              "      <td>Metropolitan Counties</td>\n",
              "      <td>Fresno</td>\n",
              "      <td>962</td>\n",
              "      <td>8.0</td>\n",
              "      <td>32.0</td>\n",
              "      <td>NaN</td>\n",
              "      <td>112</td>\n",
              "      <td>810</td>\n",
              "      <td>3,810</td>\n",
              "      <td>1,398</td>\n",
              "      <td>1,838</td>\n",
              "      <td>574</td>\n",
              "      <td>145.0</td>\n",
              "    </tr>\n",
              "    <tr>\n",
              "      <th>...</th>\n",
              "      <td>...</td>\n",
              "      <td>...</td>\n",
              "      <td>...</td>\n",
              "      <td>...</td>\n",
              "      <td>...</td>\n",
              "      <td>...</td>\n",
              "      <td>...</td>\n",
              "      <td>...</td>\n",
              "      <td>...</td>\n",
              "      <td>...</td>\n",
              "      <td>...</td>\n",
              "      <td>...</td>\n",
              "      <td>...</td>\n",
              "    </tr>\n",
              "    <tr>\n",
              "      <th>2587</th>\n",
              "      <td>NaN</td>\n",
              "      <td>NaN</td>\n",
              "      <td>NaN</td>\n",
              "      <td>NaN</td>\n",
              "      <td>NaN</td>\n",
              "      <td>NaN</td>\n",
              "      <td>NaN</td>\n",
              "      <td>NaN</td>\n",
              "      <td>NaN</td>\n",
              "      <td>NaN</td>\n",
              "      <td>NaN</td>\n",
              "      <td>NaN</td>\n",
              "      <td>NaN</td>\n",
              "    </tr>\n",
              "    <tr>\n",
              "      <th>2588</th>\n",
              "      <td>NaN</td>\n",
              "      <td>NaN</td>\n",
              "      <td>NaN</td>\n",
              "      <td>NaN</td>\n",
              "      <td>NaN</td>\n",
              "      <td>NaN</td>\n",
              "      <td>NaN</td>\n",
              "      <td>NaN</td>\n",
              "      <td>NaN</td>\n",
              "      <td>NaN</td>\n",
              "      <td>NaN</td>\n",
              "      <td>NaN</td>\n",
              "      <td>NaN</td>\n",
              "    </tr>\n",
              "    <tr>\n",
              "      <th>2589</th>\n",
              "      <td>NaN</td>\n",
              "      <td>NaN</td>\n",
              "      <td>NaN</td>\n",
              "      <td>NaN</td>\n",
              "      <td>NaN</td>\n",
              "      <td>NaN</td>\n",
              "      <td>NaN</td>\n",
              "      <td>NaN</td>\n",
              "      <td>NaN</td>\n",
              "      <td>NaN</td>\n",
              "      <td>NaN</td>\n",
              "      <td>NaN</td>\n",
              "      <td>NaN</td>\n",
              "    </tr>\n",
              "    <tr>\n",
              "      <th>2590</th>\n",
              "      <td>NaN</td>\n",
              "      <td>NaN</td>\n",
              "      <td>NaN</td>\n",
              "      <td>NaN</td>\n",
              "      <td>NaN</td>\n",
              "      <td>NaN</td>\n",
              "      <td>NaN</td>\n",
              "      <td>NaN</td>\n",
              "      <td>NaN</td>\n",
              "      <td>NaN</td>\n",
              "      <td>NaN</td>\n",
              "      <td>NaN</td>\n",
              "      <td>NaN</td>\n",
              "    </tr>\n",
              "    <tr>\n",
              "      <th>2591</th>\n",
              "      <td>NaN</td>\n",
              "      <td>NaN</td>\n",
              "      <td>NaN</td>\n",
              "      <td>NaN</td>\n",
              "      <td>NaN</td>\n",
              "      <td>NaN</td>\n",
              "      <td>NaN</td>\n",
              "      <td>NaN</td>\n",
              "      <td>NaN</td>\n",
              "      <td>NaN</td>\n",
              "      <td>NaN</td>\n",
              "      <td>NaN</td>\n",
              "      <td>NaN</td>\n",
              "    </tr>\n",
              "  </tbody>\n",
              "</table>\n",
              "<p>2592 rows × 13 columns</p>\n",
              "</div>\n",
              "    <div class=\"colab-df-buttons\">\n",
              "\n",
              "  <div class=\"colab-df-container\">\n",
              "    <button class=\"colab-df-convert\" onclick=\"convertToInteractive('df-19b0fda3-3b16-418d-99f8-1d0b7d761b1b')\"\n",
              "            title=\"Convert this dataframe to an interactive table.\"\n",
              "            style=\"display:none;\">\n",
              "\n",
              "  <svg xmlns=\"http://www.w3.org/2000/svg\" height=\"24px\" viewBox=\"0 -960 960 960\">\n",
              "    <path d=\"M120-120v-720h720v720H120Zm60-500h600v-160H180v160Zm220 220h160v-160H400v160Zm0 220h160v-160H400v160ZM180-400h160v-160H180v160Zm440 0h160v-160H620v160ZM180-180h160v-160H180v160Zm440 0h160v-160H620v160Z\"/>\n",
              "  </svg>\n",
              "    </button>\n",
              "\n",
              "  <style>\n",
              "    .colab-df-container {\n",
              "      display:flex;\n",
              "      gap: 12px;\n",
              "    }\n",
              "\n",
              "    .colab-df-convert {\n",
              "      background-color: #E8F0FE;\n",
              "      border: none;\n",
              "      border-radius: 50%;\n",
              "      cursor: pointer;\n",
              "      display: none;\n",
              "      fill: #1967D2;\n",
              "      height: 32px;\n",
              "      padding: 0 0 0 0;\n",
              "      width: 32px;\n",
              "    }\n",
              "\n",
              "    .colab-df-convert:hover {\n",
              "      background-color: #E2EBFA;\n",
              "      box-shadow: 0px 1px 2px rgba(60, 64, 67, 0.3), 0px 1px 3px 1px rgba(60, 64, 67, 0.15);\n",
              "      fill: #174EA6;\n",
              "    }\n",
              "\n",
              "    .colab-df-buttons div {\n",
              "      margin-bottom: 4px;\n",
              "    }\n",
              "\n",
              "    [theme=dark] .colab-df-convert {\n",
              "      background-color: #3B4455;\n",
              "      fill: #D2E3FC;\n",
              "    }\n",
              "\n",
              "    [theme=dark] .colab-df-convert:hover {\n",
              "      background-color: #434B5C;\n",
              "      box-shadow: 0px 1px 3px 1px rgba(0, 0, 0, 0.15);\n",
              "      filter: drop-shadow(0px 1px 2px rgba(0, 0, 0, 0.3));\n",
              "      fill: #FFFFFF;\n",
              "    }\n",
              "  </style>\n",
              "\n",
              "    <script>\n",
              "      const buttonEl =\n",
              "        document.querySelector('#df-19b0fda3-3b16-418d-99f8-1d0b7d761b1b button.colab-df-convert');\n",
              "      buttonEl.style.display =\n",
              "        google.colab.kernel.accessAllowed ? 'block' : 'none';\n",
              "\n",
              "      async function convertToInteractive(key) {\n",
              "        const element = document.querySelector('#df-19b0fda3-3b16-418d-99f8-1d0b7d761b1b');\n",
              "        const dataTable =\n",
              "          await google.colab.kernel.invokeFunction('convertToInteractive',\n",
              "                                                    [key], {});\n",
              "        if (!dataTable) return;\n",
              "\n",
              "        const docLinkHtml = 'Like what you see? Visit the ' +\n",
              "          '<a target=\"_blank\" href=https://colab.research.google.com/notebooks/data_table.ipynb>data table notebook</a>'\n",
              "          + ' to learn more about interactive tables.';\n",
              "        element.innerHTML = '';\n",
              "        dataTable['output_type'] = 'display_data';\n",
              "        await google.colab.output.renderOutput(dataTable, element);\n",
              "        const docLink = document.createElement('div');\n",
              "        docLink.innerHTML = docLinkHtml;\n",
              "        element.appendChild(docLink);\n",
              "      }\n",
              "    </script>\n",
              "  </div>\n",
              "\n",
              "\n",
              "<div id=\"df-17a3325d-0a43-4902-ae98-316bd344f5db\">\n",
              "  <button class=\"colab-df-quickchart\" onclick=\"quickchart('df-17a3325d-0a43-4902-ae98-316bd344f5db')\"\n",
              "            title=\"Suggest charts.\"\n",
              "            style=\"display:none;\">\n",
              "\n",
              "<svg xmlns=\"http://www.w3.org/2000/svg\" height=\"24px\"viewBox=\"0 0 24 24\"\n",
              "     width=\"24px\">\n",
              "    <g>\n",
              "        <path d=\"M19 3H5c-1.1 0-2 .9-2 2v14c0 1.1.9 2 2 2h14c1.1 0 2-.9 2-2V5c0-1.1-.9-2-2-2zM9 17H7v-7h2v7zm4 0h-2V7h2v10zm4 0h-2v-4h2v4z\"/>\n",
              "    </g>\n",
              "</svg>\n",
              "  </button>\n",
              "\n",
              "<style>\n",
              "  .colab-df-quickchart {\n",
              "      --bg-color: #E8F0FE;\n",
              "      --fill-color: #1967D2;\n",
              "      --hover-bg-color: #E2EBFA;\n",
              "      --hover-fill-color: #174EA6;\n",
              "      --disabled-fill-color: #AAA;\n",
              "      --disabled-bg-color: #DDD;\n",
              "  }\n",
              "\n",
              "  [theme=dark] .colab-df-quickchart {\n",
              "      --bg-color: #3B4455;\n",
              "      --fill-color: #D2E3FC;\n",
              "      --hover-bg-color: #434B5C;\n",
              "      --hover-fill-color: #FFFFFF;\n",
              "      --disabled-bg-color: #3B4455;\n",
              "      --disabled-fill-color: #666;\n",
              "  }\n",
              "\n",
              "  .colab-df-quickchart {\n",
              "    background-color: var(--bg-color);\n",
              "    border: none;\n",
              "    border-radius: 50%;\n",
              "    cursor: pointer;\n",
              "    display: none;\n",
              "    fill: var(--fill-color);\n",
              "    height: 32px;\n",
              "    padding: 0;\n",
              "    width: 32px;\n",
              "  }\n",
              "\n",
              "  .colab-df-quickchart:hover {\n",
              "    background-color: var(--hover-bg-color);\n",
              "    box-shadow: 0 1px 2px rgba(60, 64, 67, 0.3), 0 1px 3px 1px rgba(60, 64, 67, 0.15);\n",
              "    fill: var(--button-hover-fill-color);\n",
              "  }\n",
              "\n",
              "  .colab-df-quickchart-complete:disabled,\n",
              "  .colab-df-quickchart-complete:disabled:hover {\n",
              "    background-color: var(--disabled-bg-color);\n",
              "    fill: var(--disabled-fill-color);\n",
              "    box-shadow: none;\n",
              "  }\n",
              "\n",
              "  .colab-df-spinner {\n",
              "    border: 2px solid var(--fill-color);\n",
              "    border-color: transparent;\n",
              "    border-bottom-color: var(--fill-color);\n",
              "    animation:\n",
              "      spin 1s steps(1) infinite;\n",
              "  }\n",
              "\n",
              "  @keyframes spin {\n",
              "    0% {\n",
              "      border-color: transparent;\n",
              "      border-bottom-color: var(--fill-color);\n",
              "      border-left-color: var(--fill-color);\n",
              "    }\n",
              "    20% {\n",
              "      border-color: transparent;\n",
              "      border-left-color: var(--fill-color);\n",
              "      border-top-color: var(--fill-color);\n",
              "    }\n",
              "    30% {\n",
              "      border-color: transparent;\n",
              "      border-left-color: var(--fill-color);\n",
              "      border-top-color: var(--fill-color);\n",
              "      border-right-color: var(--fill-color);\n",
              "    }\n",
              "    40% {\n",
              "      border-color: transparent;\n",
              "      border-right-color: var(--fill-color);\n",
              "      border-top-color: var(--fill-color);\n",
              "    }\n",
              "    60% {\n",
              "      border-color: transparent;\n",
              "      border-right-color: var(--fill-color);\n",
              "    }\n",
              "    80% {\n",
              "      border-color: transparent;\n",
              "      border-right-color: var(--fill-color);\n",
              "      border-bottom-color: var(--fill-color);\n",
              "    }\n",
              "    90% {\n",
              "      border-color: transparent;\n",
              "      border-bottom-color: var(--fill-color);\n",
              "    }\n",
              "  }\n",
              "</style>\n",
              "\n",
              "  <script>\n",
              "    async function quickchart(key) {\n",
              "      const quickchartButtonEl =\n",
              "        document.querySelector('#' + key + ' button');\n",
              "      quickchartButtonEl.disabled = true;  // To prevent multiple clicks.\n",
              "      quickchartButtonEl.classList.add('colab-df-spinner');\n",
              "      try {\n",
              "        const charts = await google.colab.kernel.invokeFunction(\n",
              "            'suggestCharts', [key], {});\n",
              "      } catch (error) {\n",
              "        console.error('Error during call to suggestCharts:', error);\n",
              "      }\n",
              "      quickchartButtonEl.classList.remove('colab-df-spinner');\n",
              "      quickchartButtonEl.classList.add('colab-df-quickchart-complete');\n",
              "    }\n",
              "    (() => {\n",
              "      let quickchartButtonEl =\n",
              "        document.querySelector('#df-17a3325d-0a43-4902-ae98-316bd344f5db button');\n",
              "      quickchartButtonEl.style.display =\n",
              "        google.colab.kernel.accessAllowed ? 'block' : 'none';\n",
              "    })();\n",
              "  </script>\n",
              "</div>\n",
              "    </div>\n",
              "  </div>\n"
            ]
          },
          "metadata": {},
          "execution_count": 2
        }
      ]
    },
    {
      "cell_type": "code",
      "source": [
        "# фикс\n",
        "from numpy import nan\n",
        "\n",
        "def convert_to_float(df, column_name):\n",
        "    # Convert the column to string, replace non-numeric values and NaN with empty strings, then convert to float\n",
        "    df[column_name] = df[column_name].astype(str).str.replace('[^0-9.]', '', regex=True).replace('', nan).astype(float)\n",
        "    return df[column_name]\n",
        "\n",
        "# Example for replace the column dtype\n",
        "df['Motor vehicle theft'] = convert_to_float(df, 'Motor vehicle theft')\n",
        "df['Violent crime'] = convert_to_float(df, 'Violent crime')\n",
        "df['Motor vehicle theft']"
      ],
      "metadata": {
        "colab": {
          "base_uri": "https://localhost:8080/"
        },
        "id": "3_dP1qnEzVHy",
        "outputId": "07403a82-9385-49fd-8ec5-b76c805900be"
      },
      "execution_count": 3,
      "outputs": [
        {
          "output_type": "execute_result",
          "data": {
            "text/plain": [
              "0       629.0\n",
              "1        21.0\n",
              "2        21.0\n",
              "3        42.0\n",
              "4       574.0\n",
              "        ...  \n",
              "2587      NaN\n",
              "2588      NaN\n",
              "2589      NaN\n",
              "2590      NaN\n",
              "2591      NaN\n",
              "Name: Motor vehicle theft, Length: 2592, dtype: float64"
            ]
          },
          "metadata": {},
          "execution_count": 3
        }
      ]
    },
    {
      "cell_type": "code",
      "source": [
        "df.describe()"
      ],
      "metadata": {
        "id": "u3OeTGcGp2sY",
        "colab": {
          "base_uri": "https://localhost:8080/",
          "height": 300
        },
        "outputId": "037a1504-be73-47b9-98a0-b3f76df7178c"
      },
      "execution_count": 4,
      "outputs": [
        {
          "output_type": "execute_result",
          "data": {
            "text/plain": [
              "       Violent crime  Murder and nonnegligent manslaughter  \\\n",
              "count      57.000000                             57.000000   \n",
              "mean      438.491228                              6.614035   \n",
              "std       827.081209                             14.315020   \n",
              "min         3.000000                              0.000000   \n",
              "25%        87.000000                              1.000000   \n",
              "50%       213.000000                              3.000000   \n",
              "75%       383.000000                              6.000000   \n",
              "max      5173.000000                             98.000000   \n",
              "\n",
              "       Rape (revised definition)  Rape(legacy definition)  \\\n",
              "count                  57.000000                      0.0   \n",
              "mean                   32.385965                      NaN   \n",
              "std                    49.598659                      NaN   \n",
              "min                     0.000000                      NaN   \n",
              "25%                     7.000000                      NaN   \n",
              "50%                    18.000000                      NaN   \n",
              "75%                    32.000000                      NaN   \n",
              "max                   304.000000                      NaN   \n",
              "\n",
              "       Motor vehicle theft       Arson  \n",
              "count            57.000000   57.000000  \n",
              "mean            219.192982   20.526316  \n",
              "std             651.523721   50.934519  \n",
              "min               0.000000    0.000000  \n",
              "25%               4.000000    0.000000  \n",
              "50%              14.000000    6.000000  \n",
              "75%              51.000000   15.000000  \n",
              "max            4203.000000  300.000000  "
            ],
            "text/html": [
              "\n",
              "  <div id=\"df-ccb6fdcd-5416-4c6c-b642-969d8d27e0d8\" class=\"colab-df-container\">\n",
              "    <div>\n",
              "<style scoped>\n",
              "    .dataframe tbody tr th:only-of-type {\n",
              "        vertical-align: middle;\n",
              "    }\n",
              "\n",
              "    .dataframe tbody tr th {\n",
              "        vertical-align: top;\n",
              "    }\n",
              "\n",
              "    .dataframe thead th {\n",
              "        text-align: right;\n",
              "    }\n",
              "</style>\n",
              "<table border=\"1\" class=\"dataframe\">\n",
              "  <thead>\n",
              "    <tr style=\"text-align: right;\">\n",
              "      <th></th>\n",
              "      <th>Violent crime</th>\n",
              "      <th>Murder and nonnegligent manslaughter</th>\n",
              "      <th>Rape (revised definition)</th>\n",
              "      <th>Rape(legacy definition)</th>\n",
              "      <th>Motor vehicle theft</th>\n",
              "      <th>Arson</th>\n",
              "    </tr>\n",
              "  </thead>\n",
              "  <tbody>\n",
              "    <tr>\n",
              "      <th>count</th>\n",
              "      <td>57.000000</td>\n",
              "      <td>57.000000</td>\n",
              "      <td>57.000000</td>\n",
              "      <td>0.0</td>\n",
              "      <td>57.000000</td>\n",
              "      <td>57.000000</td>\n",
              "    </tr>\n",
              "    <tr>\n",
              "      <th>mean</th>\n",
              "      <td>438.491228</td>\n",
              "      <td>6.614035</td>\n",
              "      <td>32.385965</td>\n",
              "      <td>NaN</td>\n",
              "      <td>219.192982</td>\n",
              "      <td>20.526316</td>\n",
              "    </tr>\n",
              "    <tr>\n",
              "      <th>std</th>\n",
              "      <td>827.081209</td>\n",
              "      <td>14.315020</td>\n",
              "      <td>49.598659</td>\n",
              "      <td>NaN</td>\n",
              "      <td>651.523721</td>\n",
              "      <td>50.934519</td>\n",
              "    </tr>\n",
              "    <tr>\n",
              "      <th>min</th>\n",
              "      <td>3.000000</td>\n",
              "      <td>0.000000</td>\n",
              "      <td>0.000000</td>\n",
              "      <td>NaN</td>\n",
              "      <td>0.000000</td>\n",
              "      <td>0.000000</td>\n",
              "    </tr>\n",
              "    <tr>\n",
              "      <th>25%</th>\n",
              "      <td>87.000000</td>\n",
              "      <td>1.000000</td>\n",
              "      <td>7.000000</td>\n",
              "      <td>NaN</td>\n",
              "      <td>4.000000</td>\n",
              "      <td>0.000000</td>\n",
              "    </tr>\n",
              "    <tr>\n",
              "      <th>50%</th>\n",
              "      <td>213.000000</td>\n",
              "      <td>3.000000</td>\n",
              "      <td>18.000000</td>\n",
              "      <td>NaN</td>\n",
              "      <td>14.000000</td>\n",
              "      <td>6.000000</td>\n",
              "    </tr>\n",
              "    <tr>\n",
              "      <th>75%</th>\n",
              "      <td>383.000000</td>\n",
              "      <td>6.000000</td>\n",
              "      <td>32.000000</td>\n",
              "      <td>NaN</td>\n",
              "      <td>51.000000</td>\n",
              "      <td>15.000000</td>\n",
              "    </tr>\n",
              "    <tr>\n",
              "      <th>max</th>\n",
              "      <td>5173.000000</td>\n",
              "      <td>98.000000</td>\n",
              "      <td>304.000000</td>\n",
              "      <td>NaN</td>\n",
              "      <td>4203.000000</td>\n",
              "      <td>300.000000</td>\n",
              "    </tr>\n",
              "  </tbody>\n",
              "</table>\n",
              "</div>\n",
              "    <div class=\"colab-df-buttons\">\n",
              "\n",
              "  <div class=\"colab-df-container\">\n",
              "    <button class=\"colab-df-convert\" onclick=\"convertToInteractive('df-ccb6fdcd-5416-4c6c-b642-969d8d27e0d8')\"\n",
              "            title=\"Convert this dataframe to an interactive table.\"\n",
              "            style=\"display:none;\">\n",
              "\n",
              "  <svg xmlns=\"http://www.w3.org/2000/svg\" height=\"24px\" viewBox=\"0 -960 960 960\">\n",
              "    <path d=\"M120-120v-720h720v720H120Zm60-500h600v-160H180v160Zm220 220h160v-160H400v160Zm0 220h160v-160H400v160ZM180-400h160v-160H180v160Zm440 0h160v-160H620v160ZM180-180h160v-160H180v160Zm440 0h160v-160H620v160Z\"/>\n",
              "  </svg>\n",
              "    </button>\n",
              "\n",
              "  <style>\n",
              "    .colab-df-container {\n",
              "      display:flex;\n",
              "      gap: 12px;\n",
              "    }\n",
              "\n",
              "    .colab-df-convert {\n",
              "      background-color: #E8F0FE;\n",
              "      border: none;\n",
              "      border-radius: 50%;\n",
              "      cursor: pointer;\n",
              "      display: none;\n",
              "      fill: #1967D2;\n",
              "      height: 32px;\n",
              "      padding: 0 0 0 0;\n",
              "      width: 32px;\n",
              "    }\n",
              "\n",
              "    .colab-df-convert:hover {\n",
              "      background-color: #E2EBFA;\n",
              "      box-shadow: 0px 1px 2px rgba(60, 64, 67, 0.3), 0px 1px 3px 1px rgba(60, 64, 67, 0.15);\n",
              "      fill: #174EA6;\n",
              "    }\n",
              "\n",
              "    .colab-df-buttons div {\n",
              "      margin-bottom: 4px;\n",
              "    }\n",
              "\n",
              "    [theme=dark] .colab-df-convert {\n",
              "      background-color: #3B4455;\n",
              "      fill: #D2E3FC;\n",
              "    }\n",
              "\n",
              "    [theme=dark] .colab-df-convert:hover {\n",
              "      background-color: #434B5C;\n",
              "      box-shadow: 0px 1px 3px 1px rgba(0, 0, 0, 0.15);\n",
              "      filter: drop-shadow(0px 1px 2px rgba(0, 0, 0, 0.3));\n",
              "      fill: #FFFFFF;\n",
              "    }\n",
              "  </style>\n",
              "\n",
              "    <script>\n",
              "      const buttonEl =\n",
              "        document.querySelector('#df-ccb6fdcd-5416-4c6c-b642-969d8d27e0d8 button.colab-df-convert');\n",
              "      buttonEl.style.display =\n",
              "        google.colab.kernel.accessAllowed ? 'block' : 'none';\n",
              "\n",
              "      async function convertToInteractive(key) {\n",
              "        const element = document.querySelector('#df-ccb6fdcd-5416-4c6c-b642-969d8d27e0d8');\n",
              "        const dataTable =\n",
              "          await google.colab.kernel.invokeFunction('convertToInteractive',\n",
              "                                                    [key], {});\n",
              "        if (!dataTable) return;\n",
              "\n",
              "        const docLinkHtml = 'Like what you see? Visit the ' +\n",
              "          '<a target=\"_blank\" href=https://colab.research.google.com/notebooks/data_table.ipynb>data table notebook</a>'\n",
              "          + ' to learn more about interactive tables.';\n",
              "        element.innerHTML = '';\n",
              "        dataTable['output_type'] = 'display_data';\n",
              "        await google.colab.output.renderOutput(dataTable, element);\n",
              "        const docLink = document.createElement('div');\n",
              "        docLink.innerHTML = docLinkHtml;\n",
              "        element.appendChild(docLink);\n",
              "      }\n",
              "    </script>\n",
              "  </div>\n",
              "\n",
              "\n",
              "<div id=\"df-c15e34f0-48f1-43c0-bac8-53470b54839d\">\n",
              "  <button class=\"colab-df-quickchart\" onclick=\"quickchart('df-c15e34f0-48f1-43c0-bac8-53470b54839d')\"\n",
              "            title=\"Suggest charts.\"\n",
              "            style=\"display:none;\">\n",
              "\n",
              "<svg xmlns=\"http://www.w3.org/2000/svg\" height=\"24px\"viewBox=\"0 0 24 24\"\n",
              "     width=\"24px\">\n",
              "    <g>\n",
              "        <path d=\"M19 3H5c-1.1 0-2 .9-2 2v14c0 1.1.9 2 2 2h14c1.1 0 2-.9 2-2V5c0-1.1-.9-2-2-2zM9 17H7v-7h2v7zm4 0h-2V7h2v10zm4 0h-2v-4h2v4z\"/>\n",
              "    </g>\n",
              "</svg>\n",
              "  </button>\n",
              "\n",
              "<style>\n",
              "  .colab-df-quickchart {\n",
              "      --bg-color: #E8F0FE;\n",
              "      --fill-color: #1967D2;\n",
              "      --hover-bg-color: #E2EBFA;\n",
              "      --hover-fill-color: #174EA6;\n",
              "      --disabled-fill-color: #AAA;\n",
              "      --disabled-bg-color: #DDD;\n",
              "  }\n",
              "\n",
              "  [theme=dark] .colab-df-quickchart {\n",
              "      --bg-color: #3B4455;\n",
              "      --fill-color: #D2E3FC;\n",
              "      --hover-bg-color: #434B5C;\n",
              "      --hover-fill-color: #FFFFFF;\n",
              "      --disabled-bg-color: #3B4455;\n",
              "      --disabled-fill-color: #666;\n",
              "  }\n",
              "\n",
              "  .colab-df-quickchart {\n",
              "    background-color: var(--bg-color);\n",
              "    border: none;\n",
              "    border-radius: 50%;\n",
              "    cursor: pointer;\n",
              "    display: none;\n",
              "    fill: var(--fill-color);\n",
              "    height: 32px;\n",
              "    padding: 0;\n",
              "    width: 32px;\n",
              "  }\n",
              "\n",
              "  .colab-df-quickchart:hover {\n",
              "    background-color: var(--hover-bg-color);\n",
              "    box-shadow: 0 1px 2px rgba(60, 64, 67, 0.3), 0 1px 3px 1px rgba(60, 64, 67, 0.15);\n",
              "    fill: var(--button-hover-fill-color);\n",
              "  }\n",
              "\n",
              "  .colab-df-quickchart-complete:disabled,\n",
              "  .colab-df-quickchart-complete:disabled:hover {\n",
              "    background-color: var(--disabled-bg-color);\n",
              "    fill: var(--disabled-fill-color);\n",
              "    box-shadow: none;\n",
              "  }\n",
              "\n",
              "  .colab-df-spinner {\n",
              "    border: 2px solid var(--fill-color);\n",
              "    border-color: transparent;\n",
              "    border-bottom-color: var(--fill-color);\n",
              "    animation:\n",
              "      spin 1s steps(1) infinite;\n",
              "  }\n",
              "\n",
              "  @keyframes spin {\n",
              "    0% {\n",
              "      border-color: transparent;\n",
              "      border-bottom-color: var(--fill-color);\n",
              "      border-left-color: var(--fill-color);\n",
              "    }\n",
              "    20% {\n",
              "      border-color: transparent;\n",
              "      border-left-color: var(--fill-color);\n",
              "      border-top-color: var(--fill-color);\n",
              "    }\n",
              "    30% {\n",
              "      border-color: transparent;\n",
              "      border-left-color: var(--fill-color);\n",
              "      border-top-color: var(--fill-color);\n",
              "      border-right-color: var(--fill-color);\n",
              "    }\n",
              "    40% {\n",
              "      border-color: transparent;\n",
              "      border-right-color: var(--fill-color);\n",
              "      border-top-color: var(--fill-color);\n",
              "    }\n",
              "    60% {\n",
              "      border-color: transparent;\n",
              "      border-right-color: var(--fill-color);\n",
              "    }\n",
              "    80% {\n",
              "      border-color: transparent;\n",
              "      border-right-color: var(--fill-color);\n",
              "      border-bottom-color: var(--fill-color);\n",
              "    }\n",
              "    90% {\n",
              "      border-color: transparent;\n",
              "      border-bottom-color: var(--fill-color);\n",
              "    }\n",
              "  }\n",
              "</style>\n",
              "\n",
              "  <script>\n",
              "    async function quickchart(key) {\n",
              "      const quickchartButtonEl =\n",
              "        document.querySelector('#' + key + ' button');\n",
              "      quickchartButtonEl.disabled = true;  // To prevent multiple clicks.\n",
              "      quickchartButtonEl.classList.add('colab-df-spinner');\n",
              "      try {\n",
              "        const charts = await google.colab.kernel.invokeFunction(\n",
              "            'suggestCharts', [key], {});\n",
              "      } catch (error) {\n",
              "        console.error('Error during call to suggestCharts:', error);\n",
              "      }\n",
              "      quickchartButtonEl.classList.remove('colab-df-spinner');\n",
              "      quickchartButtonEl.classList.add('colab-df-quickchart-complete');\n",
              "    }\n",
              "    (() => {\n",
              "      let quickchartButtonEl =\n",
              "        document.querySelector('#df-c15e34f0-48f1-43c0-bac8-53470b54839d button');\n",
              "      quickchartButtonEl.style.display =\n",
              "        google.colab.kernel.accessAllowed ? 'block' : 'none';\n",
              "    })();\n",
              "  </script>\n",
              "</div>\n",
              "    </div>\n",
              "  </div>\n"
            ]
          },
          "metadata": {},
          "execution_count": 4
        }
      ]
    },
    {
      "cell_type": "code",
      "source": [
        "# среднее\n",
        "mean = df['Motor vehicle theft'].mean()\n",
        "# медиана\n",
        "median = df['Motor vehicle theft'].median()\n",
        "# мода\n",
        "mode = df.groupby([\"Metropolitan/Nonmetropolitan\"])[\"Motor vehicle theft\"].agg(pd.Series.mode)\n",
        "# минимум\n",
        "min = df['Motor vehicle theft'].min()\n",
        "# максимум\n",
        "max = df['Motor vehicle theft'].max()\n",
        "# стандартное отклонение\n",
        "std = df['Motor vehicle theft'].std()\n",
        "\n",
        "print(f'Среднее: {mean}')\n",
        "print(f'Медиана: {median}')\n",
        "print(f'Мода: {mode}')\n",
        "print(f'Минимум: {min}')\n",
        "print(f'Максимум: {max}')\n",
        "print(f'Стандартное отклонение: {std}')"
      ],
      "metadata": {
        "id": "ud5DMETOU8hS",
        "colab": {
          "base_uri": "https://localhost:8080/"
        },
        "outputId": "90e8cc94-43dd-44df-f557-c57b5f66ad72"
      },
      "execution_count": 5,
      "outputs": [
        {
          "output_type": "stream",
          "name": "stdout",
          "text": [
            "Среднее: 219.19298245614036\n",
            "Медиана: 14.0\n",
            "Мода: Metropolitan/Nonmetropolitan\n",
            "Metropolitan Counties       42.0\n",
            "Nonmetropolitan Counties     1.0\n",
            "Name: Motor vehicle theft, dtype: float64\n",
            "Минимум: 0.0\n",
            "Максимум: 4203.0\n",
            "Стандартное отклонение: 651.5237206129209\n"
          ]
        }
      ]
    },
    {
      "cell_type": "markdown",
      "source": [
        "Вычислите следующие квантили: 25%, 50% (медиана), 75% для числового признака вашего датасета. Затем найдите интерквартильный размах."
      ],
      "metadata": {
        "id": "dZEVd9QIVMyV"
      }
    },
    {
      "cell_type": "code",
      "source": [
        "# 25% квантиль\n",
        "q1 = df['Motor vehicle theft'].quantile(0.25)\n",
        "# 50% квантиль\n",
        "q2 = df['Motor vehicle theft'].quantile(0.5)\n",
        "# 75% квантиль\n",
        "q3 = df['Motor vehicle theft'].quantile(0.75)\n",
        "# интерквантильный размах\n",
        "iqr = q3 - q1\n",
        "\n",
        "print(f'25% квантиль: {q1}')\n",
        "print(f'50% квантиль: {q2}')\n",
        "print(f'75% квантиль: {q3}')\n",
        "print(f'интерквантильный размах: {iqr}')"
      ],
      "metadata": {
        "id": "2UMcBq9dVbVE",
        "colab": {
          "base_uri": "https://localhost:8080/"
        },
        "outputId": "c16958c9-2a92-4eaa-abd8-c2a651d6255c"
      },
      "execution_count": 6,
      "outputs": [
        {
          "output_type": "stream",
          "name": "stdout",
          "text": [
            "25% квантиль: 4.0\n",
            "50% квантиль: 14.0\n",
            "75% квантиль: 51.0\n",
            "интерквантильный размах: 47.0\n"
          ]
        }
      ]
    },
    {
      "cell_type": "markdown",
      "source": [
        "Какие выводы можно сделать исходя из полученных статистических данных?"
      ],
      "metadata": {
        "id": "vm0-5sY4WX2I"
      }
    },
    {
      "cell_type": "markdown",
      "source": [
        "**Ответ здесь**\n",
        "\n",
        "```\n",
        "Well, можно точно сделать вывод, что в Metropolitan Counties совершается больше хищений автомобилей, чем в Nonmetropolitans Counties.\n",
        "\n",
        "Стандартное отклонение довольно большое. Что может значить - довольно большой разброс данных.\n",
        "```\n"
      ],
      "metadata": {
        "id": "OnO1hVGyWe8D"
      }
    },
    {
      "cell_type": "markdown",
      "source": [
        "##Основы визуализации"
      ],
      "metadata": {
        "id": "zDISZbQVWk6m"
      }
    },
    {
      "cell_type": "markdown",
      "source": [
        " Постройте гистограмму переменной (X) относительно категориального признака (Y) из своего датасета."
      ],
      "metadata": {
        "id": "aU8cakZvZBuj"
      }
    },
    {
      "cell_type": "code",
      "source": [
        "import plotly.express as px\n",
        "summ = df.groupby([\"County\"])[\"Motor vehicle theft\", \"Metropolitan/Nonmetropolitan\"].agg(pd.Series.sum)\n",
        "px.histogram(summ, y='Metropolitan/Nonmetropolitan', x='Motor vehicle theft', barmode='group')"
      ],
      "metadata": {
        "id": "9-KTIzdfZLmP",
        "colab": {
          "base_uri": "https://localhost:8080/",
          "height": 577
        },
        "outputId": "26914b21-f77d-43e1-9153-8c421e6ff287"
      },
      "execution_count": 7,
      "outputs": [
        {
          "output_type": "stream",
          "name": "stderr",
          "text": [
            "<ipython-input-7-b96413338c3c>:2: FutureWarning: Indexing with multiple keys (implicitly converted to a tuple of keys) will be deprecated, use a list instead.\n",
            "  summ = df.groupby([\"County\"])[\"Motor vehicle theft\", \"Metropolitan/Nonmetropolitan\"].agg(pd.Series.sum)\n"
          ]
        },
        {
          "output_type": "display_data",
          "data": {
            "text/html": [
              "<html>\n",
              "<head><meta charset=\"utf-8\" /></head>\n",
              "<body>\n",
              "    <div>            <script src=\"https://cdnjs.cloudflare.com/ajax/libs/mathjax/2.7.5/MathJax.js?config=TeX-AMS-MML_SVG\"></script><script type=\"text/javascript\">if (window.MathJax && window.MathJax.Hub && window.MathJax.Hub.Config) {window.MathJax.Hub.Config({SVG: {font: \"STIX-Web\"}});}</script>                <script type=\"text/javascript\">window.PlotlyConfig = {MathJaxConfig: 'local'};</script>\n",
              "        <script charset=\"utf-8\" src=\"https://cdn.plot.ly/plotly-2.24.1.min.js\"></script>                <div id=\"d46a2ecd-c68e-4674-b173-b3ec6d405ff3\" class=\"plotly-graph-div\" style=\"height:525px; width:100%;\"></div>            <script type=\"text/javascript\">                                    window.PLOTLYENV=window.PLOTLYENV || {};                                    if (document.getElementById(\"d46a2ecd-c68e-4674-b173-b3ec6d405ff3\")) {                    Plotly.newPlot(                        \"d46a2ecd-c68e-4674-b173-b3ec6d405ff3\",                        [{\"alignmentgroup\":\"True\",\"bingroup\":\"y\",\"histfunc\":\"sum\",\"hovertemplate\":\"sum of Motor vehicle theft=%{x}\\u003cbr\\u003eMetropolitan\\u002fNonmetropolitan=%{y}\\u003cextra\\u003e\\u003c\\u002fextra\\u003e\",\"legendgroup\":\"\",\"marker\":{\"color\":\"#636efa\",\"pattern\":{\"shape\":\"\"}},\"name\":\"\",\"offsetgroup\":\"\",\"orientation\":\"h\",\"showlegend\":false,\"x\":[629.0,1.0,5.0,21.0,19.0,1.0,21.0,4.0,42.0,574.0,2.0,31.0,28.0,1.0,1883.0,12.0,5.0,0.0,4203.0,10.0,3.0,2.0,6.0,54.0,0.0,1.0,27.0,1.0,15.0,142.0,42.0,4.0,1479.0,126.0,10.0,1225.0,788.0,144.0,13.0,376.0,13.0,198.0,8.0,46.0,3.0,9.0,42.0,14.0,51.0,45.0,1.0,3.0,0.0,6.0,83.0,15.0,7.0],\"xaxis\":\"x\",\"y\":[\"Metropolitan Counties\",\"Nonmetropolitan Counties\",\"Nonmetropolitan Counties\",\"Metropolitan Counties\",\"Nonmetropolitan Counties\",\"Nonmetropolitan Counties\",\"Metropolitan Counties\",\"Nonmetropolitan Counties\",\"Metropolitan Counties\",\"Metropolitan Counties\",\"Nonmetropolitan Counties\",\"Nonmetropolitan Counties\",\"Metropolitan Counties\",\"Nonmetropolitan Counties\",\"Metropolitan Counties\",\"Metropolitan Counties\",\"Nonmetropolitan Counties\",\"Nonmetropolitan Counties\",\"Metropolitan Counties\",\"Metropolitan Counties\",\"Metropolitan Counties\",\"Nonmetropolitan Counties\",\"Nonmetropolitan Counties\",\"Metropolitan Counties\",\"Nonmetropolitan Counties\",\"Nonmetropolitan Counties\",\"Metropolitan Counties\",\"Metropolitan Counties\",\"Nonmetropolitan Counties\",\"Metropolitan Counties\",\"Metropolitan Counties\",\"Nonmetropolitan Counties\",\"Metropolitan Counties\",\"Metropolitan Counties\",\"Metropolitan Counties\",\"Metropolitan Counties\",\"Metropolitan Counties\",\"Metropolitan Counties\",\"Metropolitan Counties\",\"Metropolitan Counties\",\"Metropolitan Counties\",\"Metropolitan Counties\",\"Metropolitan Counties\",\"Metropolitan Counties\",\"Nonmetropolitan Counties\",\"Nonmetropolitan Counties\",\"Metropolitan Counties\",\"Metropolitan Counties\",\"Metropolitan Counties\",\"Metropolitan Counties\",\"Nonmetropolitan Counties\",\"Nonmetropolitan Counties\",\"Metropolitan Counties\",\"Nonmetropolitan Counties\",\"Metropolitan Counties\",\"Metropolitan Counties\",\"Metropolitan Counties\"],\"yaxis\":\"y\",\"type\":\"histogram\"}],                        {\"template\":{\"data\":{\"histogram2dcontour\":[{\"type\":\"histogram2dcontour\",\"colorbar\":{\"outlinewidth\":0,\"ticks\":\"\"},\"colorscale\":[[0.0,\"#0d0887\"],[0.1111111111111111,\"#46039f\"],[0.2222222222222222,\"#7201a8\"],[0.3333333333333333,\"#9c179e\"],[0.4444444444444444,\"#bd3786\"],[0.5555555555555556,\"#d8576b\"],[0.6666666666666666,\"#ed7953\"],[0.7777777777777778,\"#fb9f3a\"],[0.8888888888888888,\"#fdca26\"],[1.0,\"#f0f921\"]]}],\"choropleth\":[{\"type\":\"choropleth\",\"colorbar\":{\"outlinewidth\":0,\"ticks\":\"\"}}],\"histogram2d\":[{\"type\":\"histogram2d\",\"colorbar\":{\"outlinewidth\":0,\"ticks\":\"\"},\"colorscale\":[[0.0,\"#0d0887\"],[0.1111111111111111,\"#46039f\"],[0.2222222222222222,\"#7201a8\"],[0.3333333333333333,\"#9c179e\"],[0.4444444444444444,\"#bd3786\"],[0.5555555555555556,\"#d8576b\"],[0.6666666666666666,\"#ed7953\"],[0.7777777777777778,\"#fb9f3a\"],[0.8888888888888888,\"#fdca26\"],[1.0,\"#f0f921\"]]}],\"heatmap\":[{\"type\":\"heatmap\",\"colorbar\":{\"outlinewidth\":0,\"ticks\":\"\"},\"colorscale\":[[0.0,\"#0d0887\"],[0.1111111111111111,\"#46039f\"],[0.2222222222222222,\"#7201a8\"],[0.3333333333333333,\"#9c179e\"],[0.4444444444444444,\"#bd3786\"],[0.5555555555555556,\"#d8576b\"],[0.6666666666666666,\"#ed7953\"],[0.7777777777777778,\"#fb9f3a\"],[0.8888888888888888,\"#fdca26\"],[1.0,\"#f0f921\"]]}],\"heatmapgl\":[{\"type\":\"heatmapgl\",\"colorbar\":{\"outlinewidth\":0,\"ticks\":\"\"},\"colorscale\":[[0.0,\"#0d0887\"],[0.1111111111111111,\"#46039f\"],[0.2222222222222222,\"#7201a8\"],[0.3333333333333333,\"#9c179e\"],[0.4444444444444444,\"#bd3786\"],[0.5555555555555556,\"#d8576b\"],[0.6666666666666666,\"#ed7953\"],[0.7777777777777778,\"#fb9f3a\"],[0.8888888888888888,\"#fdca26\"],[1.0,\"#f0f921\"]]}],\"contourcarpet\":[{\"type\":\"contourcarpet\",\"colorbar\":{\"outlinewidth\":0,\"ticks\":\"\"}}],\"contour\":[{\"type\":\"contour\",\"colorbar\":{\"outlinewidth\":0,\"ticks\":\"\"},\"colorscale\":[[0.0,\"#0d0887\"],[0.1111111111111111,\"#46039f\"],[0.2222222222222222,\"#7201a8\"],[0.3333333333333333,\"#9c179e\"],[0.4444444444444444,\"#bd3786\"],[0.5555555555555556,\"#d8576b\"],[0.6666666666666666,\"#ed7953\"],[0.7777777777777778,\"#fb9f3a\"],[0.8888888888888888,\"#fdca26\"],[1.0,\"#f0f921\"]]}],\"surface\":[{\"type\":\"surface\",\"colorbar\":{\"outlinewidth\":0,\"ticks\":\"\"},\"colorscale\":[[0.0,\"#0d0887\"],[0.1111111111111111,\"#46039f\"],[0.2222222222222222,\"#7201a8\"],[0.3333333333333333,\"#9c179e\"],[0.4444444444444444,\"#bd3786\"],[0.5555555555555556,\"#d8576b\"],[0.6666666666666666,\"#ed7953\"],[0.7777777777777778,\"#fb9f3a\"],[0.8888888888888888,\"#fdca26\"],[1.0,\"#f0f921\"]]}],\"mesh3d\":[{\"type\":\"mesh3d\",\"colorbar\":{\"outlinewidth\":0,\"ticks\":\"\"}}],\"scatter\":[{\"fillpattern\":{\"fillmode\":\"overlay\",\"size\":10,\"solidity\":0.2},\"type\":\"scatter\"}],\"parcoords\":[{\"type\":\"parcoords\",\"line\":{\"colorbar\":{\"outlinewidth\":0,\"ticks\":\"\"}}}],\"scatterpolargl\":[{\"type\":\"scatterpolargl\",\"marker\":{\"colorbar\":{\"outlinewidth\":0,\"ticks\":\"\"}}}],\"bar\":[{\"error_x\":{\"color\":\"#2a3f5f\"},\"error_y\":{\"color\":\"#2a3f5f\"},\"marker\":{\"line\":{\"color\":\"#E5ECF6\",\"width\":0.5},\"pattern\":{\"fillmode\":\"overlay\",\"size\":10,\"solidity\":0.2}},\"type\":\"bar\"}],\"scattergeo\":[{\"type\":\"scattergeo\",\"marker\":{\"colorbar\":{\"outlinewidth\":0,\"ticks\":\"\"}}}],\"scatterpolar\":[{\"type\":\"scatterpolar\",\"marker\":{\"colorbar\":{\"outlinewidth\":0,\"ticks\":\"\"}}}],\"histogram\":[{\"marker\":{\"pattern\":{\"fillmode\":\"overlay\",\"size\":10,\"solidity\":0.2}},\"type\":\"histogram\"}],\"scattergl\":[{\"type\":\"scattergl\",\"marker\":{\"colorbar\":{\"outlinewidth\":0,\"ticks\":\"\"}}}],\"scatter3d\":[{\"type\":\"scatter3d\",\"line\":{\"colorbar\":{\"outlinewidth\":0,\"ticks\":\"\"}},\"marker\":{\"colorbar\":{\"outlinewidth\":0,\"ticks\":\"\"}}}],\"scattermapbox\":[{\"type\":\"scattermapbox\",\"marker\":{\"colorbar\":{\"outlinewidth\":0,\"ticks\":\"\"}}}],\"scatterternary\":[{\"type\":\"scatterternary\",\"marker\":{\"colorbar\":{\"outlinewidth\":0,\"ticks\":\"\"}}}],\"scattercarpet\":[{\"type\":\"scattercarpet\",\"marker\":{\"colorbar\":{\"outlinewidth\":0,\"ticks\":\"\"}}}],\"carpet\":[{\"aaxis\":{\"endlinecolor\":\"#2a3f5f\",\"gridcolor\":\"white\",\"linecolor\":\"white\",\"minorgridcolor\":\"white\",\"startlinecolor\":\"#2a3f5f\"},\"baxis\":{\"endlinecolor\":\"#2a3f5f\",\"gridcolor\":\"white\",\"linecolor\":\"white\",\"minorgridcolor\":\"white\",\"startlinecolor\":\"#2a3f5f\"},\"type\":\"carpet\"}],\"table\":[{\"cells\":{\"fill\":{\"color\":\"#EBF0F8\"},\"line\":{\"color\":\"white\"}},\"header\":{\"fill\":{\"color\":\"#C8D4E3\"},\"line\":{\"color\":\"white\"}},\"type\":\"table\"}],\"barpolar\":[{\"marker\":{\"line\":{\"color\":\"#E5ECF6\",\"width\":0.5},\"pattern\":{\"fillmode\":\"overlay\",\"size\":10,\"solidity\":0.2}},\"type\":\"barpolar\"}],\"pie\":[{\"automargin\":true,\"type\":\"pie\"}]},\"layout\":{\"autotypenumbers\":\"strict\",\"colorway\":[\"#636efa\",\"#EF553B\",\"#00cc96\",\"#ab63fa\",\"#FFA15A\",\"#19d3f3\",\"#FF6692\",\"#B6E880\",\"#FF97FF\",\"#FECB52\"],\"font\":{\"color\":\"#2a3f5f\"},\"hovermode\":\"closest\",\"hoverlabel\":{\"align\":\"left\"},\"paper_bgcolor\":\"white\",\"plot_bgcolor\":\"#E5ECF6\",\"polar\":{\"bgcolor\":\"#E5ECF6\",\"angularaxis\":{\"gridcolor\":\"white\",\"linecolor\":\"white\",\"ticks\":\"\"},\"radialaxis\":{\"gridcolor\":\"white\",\"linecolor\":\"white\",\"ticks\":\"\"}},\"ternary\":{\"bgcolor\":\"#E5ECF6\",\"aaxis\":{\"gridcolor\":\"white\",\"linecolor\":\"white\",\"ticks\":\"\"},\"baxis\":{\"gridcolor\":\"white\",\"linecolor\":\"white\",\"ticks\":\"\"},\"caxis\":{\"gridcolor\":\"white\",\"linecolor\":\"white\",\"ticks\":\"\"}},\"coloraxis\":{\"colorbar\":{\"outlinewidth\":0,\"ticks\":\"\"}},\"colorscale\":{\"sequential\":[[0.0,\"#0d0887\"],[0.1111111111111111,\"#46039f\"],[0.2222222222222222,\"#7201a8\"],[0.3333333333333333,\"#9c179e\"],[0.4444444444444444,\"#bd3786\"],[0.5555555555555556,\"#d8576b\"],[0.6666666666666666,\"#ed7953\"],[0.7777777777777778,\"#fb9f3a\"],[0.8888888888888888,\"#fdca26\"],[1.0,\"#f0f921\"]],\"sequentialminus\":[[0.0,\"#0d0887\"],[0.1111111111111111,\"#46039f\"],[0.2222222222222222,\"#7201a8\"],[0.3333333333333333,\"#9c179e\"],[0.4444444444444444,\"#bd3786\"],[0.5555555555555556,\"#d8576b\"],[0.6666666666666666,\"#ed7953\"],[0.7777777777777778,\"#fb9f3a\"],[0.8888888888888888,\"#fdca26\"],[1.0,\"#f0f921\"]],\"diverging\":[[0,\"#8e0152\"],[0.1,\"#c51b7d\"],[0.2,\"#de77ae\"],[0.3,\"#f1b6da\"],[0.4,\"#fde0ef\"],[0.5,\"#f7f7f7\"],[0.6,\"#e6f5d0\"],[0.7,\"#b8e186\"],[0.8,\"#7fbc41\"],[0.9,\"#4d9221\"],[1,\"#276419\"]]},\"xaxis\":{\"gridcolor\":\"white\",\"linecolor\":\"white\",\"ticks\":\"\",\"title\":{\"standoff\":15},\"zerolinecolor\":\"white\",\"automargin\":true,\"zerolinewidth\":2},\"yaxis\":{\"gridcolor\":\"white\",\"linecolor\":\"white\",\"ticks\":\"\",\"title\":{\"standoff\":15},\"zerolinecolor\":\"white\",\"automargin\":true,\"zerolinewidth\":2},\"scene\":{\"xaxis\":{\"backgroundcolor\":\"#E5ECF6\",\"gridcolor\":\"white\",\"linecolor\":\"white\",\"showbackground\":true,\"ticks\":\"\",\"zerolinecolor\":\"white\",\"gridwidth\":2},\"yaxis\":{\"backgroundcolor\":\"#E5ECF6\",\"gridcolor\":\"white\",\"linecolor\":\"white\",\"showbackground\":true,\"ticks\":\"\",\"zerolinecolor\":\"white\",\"gridwidth\":2},\"zaxis\":{\"backgroundcolor\":\"#E5ECF6\",\"gridcolor\":\"white\",\"linecolor\":\"white\",\"showbackground\":true,\"ticks\":\"\",\"zerolinecolor\":\"white\",\"gridwidth\":2}},\"shapedefaults\":{\"line\":{\"color\":\"#2a3f5f\"}},\"annotationdefaults\":{\"arrowcolor\":\"#2a3f5f\",\"arrowhead\":0,\"arrowwidth\":1},\"geo\":{\"bgcolor\":\"white\",\"landcolor\":\"#E5ECF6\",\"subunitcolor\":\"white\",\"showland\":true,\"showlakes\":true,\"lakecolor\":\"white\"},\"title\":{\"x\":0.05},\"mapbox\":{\"style\":\"light\"}}},\"xaxis\":{\"anchor\":\"y\",\"domain\":[0.0,1.0],\"title\":{\"text\":\"sum of Motor vehicle theft\"}},\"yaxis\":{\"anchor\":\"x\",\"domain\":[0.0,1.0],\"title\":{\"text\":\"Metropolitan\\u002fNonmetropolitan\"}},\"legend\":{\"tracegroupgap\":0},\"margin\":{\"t\":60},\"barmode\":\"group\"},                        {\"responsive\": true}                    ).then(function(){\n",
              "                            \n",
              "var gd = document.getElementById('d46a2ecd-c68e-4674-b173-b3ec6d405ff3');\n",
              "var x = new MutationObserver(function (mutations, observer) {{\n",
              "        var display = window.getComputedStyle(gd).display;\n",
              "        if (!display || display === 'none') {{\n",
              "            console.log([gd, 'removed!']);\n",
              "            Plotly.purge(gd);\n",
              "            observer.disconnect();\n",
              "        }}\n",
              "}});\n",
              "\n",
              "// Listen for the removal of the full notebook cells\n",
              "var notebookContainer = gd.closest('#notebook-container');\n",
              "if (notebookContainer) {{\n",
              "    x.observe(notebookContainer, {childList: true});\n",
              "}}\n",
              "\n",
              "// Listen for the clearing of the current output cell\n",
              "var outputEl = gd.closest('.output');\n",
              "if (outputEl) {{\n",
              "    x.observe(outputEl, {childList: true});\n",
              "}}\n",
              "\n",
              "                        })                };                            </script>        </div>\n",
              "</body>\n",
              "</html>"
            ]
          },
          "metadata": {}
        }
      ]
    },
    {
      "cell_type": "markdown",
      "source": [
        "**ФОТО ГРАФИКА plot express**\n",
        "\n",
        "![image_2023-10-12_16-18-06.png](data:image/png;base64,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)"
      ],
      "metadata": {
        "id": "qsWPwYFfiMmX"
      }
    },
    {
      "cell_type": "markdown",
      "source": [
        "**По графику можно сделать вывод, что в Metropolitan Counties совершается больше хищений автомобилей, чем в Nonmetropolitan.**"
      ],
      "metadata": {
        "id": "ksEJhPewM6wF"
      }
    },
    {
      "cell_type": "markdown",
      "source": [],
      "metadata": {
        "id": "WtTS7Ss5Mrt2"
      }
    },
    {
      "cell_type": "markdown",
      "source": [
        "Постройте boxplot любого признака из своего датасета.\n",
        "\n",
        "1) boxplot числовой переменной;\n",
        "\n",
        "2) boxplot числовой переменной относительно категориальный переменной;\n",
        "\n",
        "*p.s. Если у вас только один числовой признак, преобразуйте категориальный при помощи LabelEncoder (https://scikit-learn.org/stable/modules/generated/sklearn.preprocessing.LabelEncoder.html)*"
      ],
      "metadata": {
        "id": "zPsEO4m1ZWDy"
      }
    },
    {
      "cell_type": "code",
      "source": [
        "px.box(df['Violent crime'])"
      ],
      "metadata": {
        "id": "ccJLh1r-Zdne",
        "colab": {
          "base_uri": "https://localhost:8080/",
          "height": 542
        },
        "outputId": "231b5cc3-af78-472f-b322-3871ac741b17"
      },
      "execution_count": 8,
      "outputs": [
        {
          "output_type": "display_data",
          "data": {
            "text/html": [
              "<html>\n",
              "<head><meta charset=\"utf-8\" /></head>\n",
              "<body>\n",
              "    <div>            <script src=\"https://cdnjs.cloudflare.com/ajax/libs/mathjax/2.7.5/MathJax.js?config=TeX-AMS-MML_SVG\"></script><script type=\"text/javascript\">if (window.MathJax && window.MathJax.Hub && window.MathJax.Hub.Config) {window.MathJax.Hub.Config({SVG: {font: \"STIX-Web\"}});}</script>                <script type=\"text/javascript\">window.PlotlyConfig = {MathJaxConfig: 'local'};</script>\n",
              "        <script charset=\"utf-8\" src=\"https://cdn.plot.ly/plotly-2.24.1.min.js\"></script>                <div id=\"bace1863-2bdf-4f3d-a3af-e92761710d86\" class=\"plotly-graph-div\" style=\"height:525px; width:100%;\"></div>            <script type=\"text/javascript\">                                    window.PLOTLYENV=window.PLOTLYENV || {};                                    if (document.getElementById(\"bace1863-2bdf-4f3d-a3af-e92761710d86\")) {                    Plotly.newPlot(                        \"bace1863-2bdf-4f3d-a3af-e92761710d86\",                        [{\"alignmentgroup\":\"True\",\"hovertemplate\":\"variable=%{x}\\u003cbr\\u003evalue=%{y}\\u003cextra\\u003e\\u003c\\u002fextra\\u003e\",\"legendgroup\":\"\",\"marker\":{\"color\":\"#636efa\"},\"name\":\"\",\"notched\":false,\"offsetgroup\":\"\",\"orientation\":\"v\",\"showlegend\":false,\"x\":[\"Violent crime\",\"Violent crime\",\"Violent crime\",\"Violent crime\",\"Violent crime\",\"Violent crime\",\"Violent crime\",\"Violent crime\",\"Violent crime\",\"Violent crime\",\"Violent crime\",\"Violent crime\",\"Violent crime\",\"Violent crime\",\"Violent crime\",\"Violent crime\",\"Violent crime\",\"Violent crime\",\"Violent crime\",\"Violent crime\",\"Violent crime\",\"Violent crime\",\"Violent crime\",\"Violent crime\",\"Violent crime\",\"Violent crime\",\"Violent crime\",\"Violent crime\",\"Violent crime\",\"Violent crime\",\"Violent crime\",\"Violent crime\",\"Violent crime\",\"Violent crime\",\"Violent crime\",\"Violent crime\",\"Violent crime\",\"Violent crime\",\"Violent crime\",\"Violent crime\",\"Violent crime\",\"Violent crime\",\"Violent crime\",\"Violent crime\",\"Violent crime\",\"Violent crime\",\"Violent crime\",\"Violent crime\",\"Violent crime\",\"Violent crime\",\"Violent crime\",\"Violent crime\",\"Violent crime\",\"Violent crime\",\"Violent crime\",\"Violent crime\",\"Violent crime\",\"Violent crime\",\"Violent crime\",\"Violent crime\",\"Violent crime\",\"Violent crime\",\"Violent crime\",\"Violent crime\",\"Violent crime\",\"Violent crime\",\"Violent crime\",\"Violent crime\",\"Violent crime\",\"Violent crime\",\"Violent crime\",\"Violent crime\",\"Violent crime\",\"Violent crime\",\"Violent crime\",\"Violent crime\",\"Violent crime\",\"Violent crime\",\"Violent crime\",\"Violent crime\",\"Violent crime\",\"Violent crime\",\"Violent crime\",\"Violent crime\",\"Violent crime\",\"Violent crime\",\"Violent crime\",\"Violent crime\",\"Violent crime\",\"Violent crime\",\"Violent crime\",\"Violent crime\",\"Violent crime\",\"Violent crime\",\"Violent crime\",\"Violent crime\",\"Violent crime\",\"Violent crime\",\"Violent crime\",\"Violent crime\",\"Violent crime\",\"Violent crime\",\"Violent crime\",\"Violent crime\",\"Violent crime\",\"Violent crime\",\"Violent crime\",\"Violent crime\",\"Violent crime\",\"Violent crime\",\"Violent crime\",\"Violent crime\",\"Violent crime\",\"Violent crime\",\"Violent crime\",\"Violent crime\",\"Violent crime\",\"Violent crime\",\"Violent crime\",\"Violent crime\",\"Violent crime\",\"Violent crime\",\"Violent crime\",\"Violent crime\",\"Violent crime\",\"Violent crime\",\"Violent crime\",\"Violent crime\",\"Violent crime\",\"Violent crime\",\"Violent crime\",\"Violent crime\",\"Violent crime\",\"Violent crime\",\"Violent crime\",\"Violent crime\",\"Violent crime\",\"Violent crime\",\"Violent crime\",\"Violent crime\",\"Violent crime\",\"Violent crime\",\"Violent crime\",\"Violent crime\",\"Violent crime\",\"Violent crime\",\"Violent crime\",\"Violent crime\",\"Violent crime\",\"Violent crime\",\"Violent crime\",\"Violent crime\",\"Violent crime\",\"Violent crime\",\"Violent crime\",\"Violent crime\",\"Violent crime\",\"Violent crime\",\"Violent crime\",\"Violent crime\",\"Violent crime\",\"Violent crime\",\"Violent crime\",\"Violent crime\",\"Violent crime\",\"Violent crime\",\"Violent crime\",\"Violent crime\",\"Violent crime\",\"Violent crime\",\"Violent crime\",\"Violent crime\",\"Violent crime\",\"Violent crime\",\"Violent crime\",\"Violent crime\",\"Violent crime\",\"Violent crime\",\"Violent crime\",\"Violent crime\",\"Violent crime\",\"Violent crime\",\"Violent crime\",\"Violent crime\",\"Violent crime\",\"Violent crime\",\"Violent crime\",\"Violent crime\",\"Violent crime\",\"Violent crime\",\"Violent crime\",\"Violent crime\",\"Violent crime\",\"Violent crime\",\"Violent crime\",\"Violent crime\",\"Violent crime\",\"Violent crime\",\"Violent crime\",\"Violent crime\",\"Violent crime\",\"Violent crime\",\"Violent crime\",\"Violent crime\",\"Violent crime\",\"Violent crime\",\"Violent crime\",\"Violent crime\",\"Violent crime\",\"Violent crime\",\"Violent crime\",\"Violent crime\",\"Violent crime\",\"Violent crime\",\"Violent crime\",\"Violent crime\",\"Violent crime\",\"Violent crime\",\"Violent crime\",\"Violent crime\",\"Violent crime\",\"Violent crime\",\"Violent crime\",\"Violent crime\",\"Violent crime\",\"Violent crime\",\"Violent crime\",\"Violent crime\",\"Violent crime\",\"Violent crime\",\"Violent crime\",\"Violent crime\",\"Violent crime\",\"Violent crime\",\"Violent crime\",\"Violent crime\",\"Violent crime\",\"Violent crime\",\"Violent crime\",\"Violent crime\",\"Violent crime\",\"Violent crime\",\"Violent crime\",\"Violent crime\",\"Violent crime\",\"Violent crime\",\"Violent crime\",\"Violent crime\",\"Violent crime\",\"Violent crime\",\"Violent crime\",\"Violent crime\",\"Violent crime\",\"Violent crime\",\"Violent crime\",\"Violent crime\",\"Violent crime\",\"Violent crime\",\"Violent crime\",\"Violent crime\",\"Violent crime\",\"Violent crime\",\"Violent crime\",\"Violent crime\",\"Violent crime\",\"Violent crime\",\"Violent crime\",\"Violent crime\",\"Violent crime\",\"Violent crime\",\"Violent crime\",\"Violent crime\",\"Violent crime\",\"Violent crime\",\"Violent crime\",\"Violent crime\",\"Violent crime\",\"Violent crime\",\"Violent crime\",\"Violent crime\",\"Violent crime\",\"Violent crime\",\"Violent crime\",\"Violent crime\",\"Violent crime\",\"Violent crime\",\"Violent crime\",\"Violent crime\",\"Violent crime\",\"Violent crime\",\"Violent crime\",\"Violent crime\",\"Violent crime\",\"Violent crime\",\"Violent crime\",\"Violent crime\",\"Violent crime\",\"Violent crime\",\"Violent crime\",\"Violent crime\",\"Violent crime\",\"Violent crime\",\"Violent crime\",\"Violent crime\",\"Violent crime\",\"Violent crime\",\"Violent crime\",\"Violent crime\",\"Violent crime\",\"Violent crime\",\"Violent crime\",\"Violent crime\",\"Violent crime\",\"Violent crime\",\"Violent crime\",\"Violent crime\",\"Violent crime\",\"Violent crime\",\"Violent crime\",\"Violent crime\",\"Violent crime\",\"Violent crime\",\"Violent crime\",\"Violent crime\",\"Violent crime\",\"Violent crime\",\"Violent crime\",\"Violent crime\",\"Violent crime\",\"Violent crime\",\"Violent crime\",\"Violent crime\",\"Violent crime\",\"Violent crime\",\"Violent crime\",\"Violent crime\",\"Violent crime\",\"Violent crime\",\"Violent crime\",\"Violent crime\",\"Violent crime\",\"Violent crime\",\"Violent crime\",\"Violent crime\",\"Violent crime\",\"Violent crime\",\"Violent crime\",\"Violent crime\",\"Violent crime\",\"Violent crime\",\"Violent crime\",\"Violent crime\",\"Violent crime\",\"Violent crime\",\"Violent crime\",\"Violent crime\",\"Violent crime\",\"Violent crime\",\"Violent crime\",\"Violent crime\",\"Violent crime\",\"Violent crime\",\"Violent crime\",\"Violent crime\",\"Violent crime\",\"Violent crime\",\"Violent crime\",\"Violent crime\",\"Violent crime\",\"Violent crime\",\"Violent crime\",\"Violent crime\",\"Violent crime\",\"Violent crime\",\"Violent crime\",\"Violent crime\",\"Violent crime\",\"Violent crime\",\"Violent crime\",\"Violent crime\",\"Violent crime\",\"Violent crime\",\"Violent crime\",\"Violent crime\",\"Violent crime\",\"Violent crime\",\"Violent crime\",\"Violent crime\",\"Violent crime\",\"Violent crime\",\"Violent crime\",\"Violent crime\",\"Violent crime\",\"Violent crime\",\"Violent crime\",\"Violent crime\",\"Violent crime\",\"Violent crime\",\"Violent crime\",\"Violent crime\",\"Violent crime\",\"Violent crime\",\"Violent crime\",\"Violent crime\",\"Violent crime\",\"Violent crime\",\"Violent crime\",\"Violent crime\",\"Violent crime\",\"Violent crime\",\"Violent crime\",\"Violent crime\",\"Violent crime\",\"Violent crime\",\"Violent crime\",\"Violent crime\",\"Violent crime\",\"Violent crime\",\"Violent crime\",\"Violent crime\",\"Violent crime\",\"Violent crime\",\"Violent crime\",\"Violent crime\",\"Violent crime\",\"Violent crime\",\"Violent crime\",\"Violent crime\",\"Violent crime\",\"Violent crime\",\"Violent crime\",\"Violent crime\",\"Violent crime\",\"Violent crime\",\"Violent crime\",\"Violent crime\",\"Violent crime\",\"Violent crime\",\"Violent crime\",\"Violent crime\",\"Violent crime\",\"Violent crime\",\"Violent crime\",\"Violent crime\",\"Violent crime\",\"Violent crime\",\"Violent crime\",\"Violent crime\",\"Violent crime\",\"Violent crime\",\"Violent crime\",\"Violent crime\",\"Violent crime\",\"Violent crime\",\"Violent crime\",\"Violent crime\",\"Violent crime\",\"Violent crime\",\"Violent crime\",\"Violent crime\",\"Violent crime\",\"Violent crime\",\"Violent crime\",\"Violent crime\",\"Violent crime\",\"Violent crime\",\"Violent crime\",\"Violent crime\",\"Violent crime\",\"Violent crime\",\"Violent crime\",\"Violent crime\",\"Violent crime\",\"Violent crime\",\"Violent crime\",\"Violent crime\",\"Violent crime\",\"Violent crime\",\"Violent crime\",\"Violent crime\",\"Violent crime\",\"Violent crime\",\"Violent crime\",\"Violent crime\",\"Violent crime\",\"Violent crime\",\"Violent crime\",\"Violent crime\",\"Violent crime\",\"Violent crime\",\"Violent crime\",\"Violent crime\",\"Violent crime\",\"Violent crime\",\"Violent crime\",\"Violent crime\",\"Violent crime\",\"Violent crime\",\"Violent crime\",\"Violent crime\",\"Violent crime\",\"Violent crime\",\"Violent crime\",\"Violent crime\",\"Violent crime\",\"Violent crime\",\"Violent crime\",\"Violent crime\",\"Violent crime\",\"Violent crime\",\"Violent crime\",\"Violent crime\",\"Violent crime\",\"Violent crime\",\"Violent crime\",\"Violent crime\",\"Violent crime\",\"Violent crime\",\"Violent crime\",\"Violent crime\",\"Violent crime\",\"Violent crime\",\"Violent crime\",\"Violent crime\",\"Violent crime\",\"Violent crime\",\"Violent crime\",\"Violent crime\",\"Violent crime\",\"Violent crime\",\"Violent crime\",\"Violent crime\",\"Violent crime\",\"Violent crime\",\"Violent crime\",\"Violent crime\",\"Violent crime\",\"Violent crime\",\"Violent crime\",\"Violent crime\",\"Violent crime\",\"Violent crime\",\"Violent crime\",\"Violent crime\",\"Violent crime\",\"Violent crime\",\"Violent crime\",\"Violent crime\",\"Violent crime\",\"Violent crime\",\"Violent crime\",\"Violent crime\",\"Violent crime\",\"Violent crime\",\"Violent crime\",\"Violent crime\",\"Violent crime\",\"Violent crime\",\"Violent crime\",\"Violent crime\",\"Violent crime\",\"Violent crime\",\"Violent crime\",\"Violent crime\",\"Violent crime\",\"Violent crime\",\"Violent crime\",\"Violent crime\",\"Violent crime\",\"Violent crime\",\"Violent crime\",\"Violent crime\",\"Violent crime\",\"Violent crime\",\"Violent crime\",\"Violent crime\",\"Violent crime\",\"Violent crime\",\"Violent crime\",\"Violent crime\",\"Violent crime\",\"Violent crime\",\"Violent crime\",\"Violent crime\",\"Violent crime\",\"Violent crime\",\"Violent crime\",\"Violent crime\",\"Violent crime\",\"Violent crime\",\"Violent crime\",\"Violent crime\",\"Violent crime\",\"Violent crime\",\"Violent crime\",\"Violent crime\",\"Violent crime\",\"Violent crime\",\"Violent crime\",\"Violent crime\",\"Violent crime\",\"Violent crime\",\"Violent crime\",\"Violent crime\",\"Violent crime\",\"Violent crime\",\"Violent crime\",\"Violent crime\",\"Violent crime\",\"Violent crime\",\"Violent crime\",\"Violent crime\",\"Violent crime\",\"Violent crime\",\"Violent crime\",\"Violent crime\",\"Violent crime\",\"Violent crime\",\"Violent crime\",\"Violent crime\",\"Violent crime\",\"Violent crime\",\"Violent crime\",\"Violent crime\",\"Violent crime\",\"Violent crime\",\"Violent crime\",\"Violent crime\",\"Violent crime\",\"Violent crime\",\"Violent crime\",\"Violent crime\",\"Violent crime\",\"Violent crime\",\"Violent crime\",\"Violent crime\",\"Violent crime\",\"Violent crime\",\"Violent crime\",\"Violent crime\",\"Violent crime\",\"Violent crime\",\"Violent crime\",\"Violent crime\",\"Violent crime\",\"Violent crime\",\"Violent crime\",\"Violent crime\",\"Violent crime\",\"Violent crime\",\"Violent crime\",\"Violent crime\",\"Violent crime\",\"Violent crime\",\"Violent crime\",\"Violent crime\",\"Violent crime\",\"Violent crime\",\"Violent crime\",\"Violent crime\",\"Violent crime\",\"Violent crime\",\"Violent crime\",\"Violent crime\",\"Violent crime\",\"Violent crime\",\"Violent crime\",\"Violent crime\",\"Violent crime\",\"Violent crime\",\"Violent crime\",\"Violent crime\",\"Violent crime\",\"Violent crime\",\"Violent crime\",\"Violent crime\",\"Violent crime\",\"Violent crime\",\"Violent crime\",\"Violent crime\",\"Violent crime\",\"Violent crime\",\"Violent crime\",\"Violent crime\",\"Violent crime\",\"Violent crime\",\"Violent crime\",\"Violent crime\",\"Violent crime\",\"Violent crime\",\"Violent crime\",\"Violent crime\",\"Violent crime\",\"Violent crime\",\"Violent crime\",\"Violent crime\",\"Violent crime\",\"Violent crime\",\"Violent crime\",\"Violent crime\",\"Violent crime\",\"Violent crime\",\"Violent crime\",\"Violent crime\",\"Violent crime\",\"Violent crime\",\"Violent crime\",\"Violent crime\",\"Violent crime\",\"Violent crime\",\"Violent crime\",\"Violent crime\",\"Violent crime\",\"Violent crime\",\"Violent crime\",\"Violent crime\",\"Violent crime\",\"Violent crime\",\"Violent crime\",\"Violent crime\",\"Violent crime\",\"Violent crime\",\"Violent crime\",\"Violent crime\",\"Violent crime\",\"Violent crime\",\"Violent crime\",\"Violent crime\",\"Violent crime\",\"Violent crime\",\"Violent crime\",\"Violent crime\",\"Violent crime\",\"Violent crime\",\"Violent crime\",\"Violent crime\",\"Violent crime\",\"Violent crime\",\"Violent crime\",\"Violent crime\",\"Violent crime\",\"Violent crime\",\"Violent crime\",\"Violent crime\",\"Violent crime\",\"Violent crime\",\"Violent crime\",\"Violent crime\",\"Violent crime\",\"Violent crime\",\"Violent crime\",\"Violent crime\",\"Violent crime\",\"Violent crime\",\"Violent crime\",\"Violent crime\",\"Violent crime\",\"Violent crime\",\"Violent crime\",\"Violent crime\",\"Violent crime\",\"Violent crime\",\"Violent crime\",\"Violent crime\",\"Violent crime\",\"Violent crime\",\"Violent crime\",\"Violent crime\",\"Violent crime\",\"Violent crime\",\"Violent crime\",\"Violent crime\",\"Violent crime\",\"Violent crime\",\"Violent crime\",\"Violent crime\",\"Violent crime\",\"Violent crime\",\"Violent crime\",\"Violent crime\",\"Violent crime\",\"Violent crime\",\"Violent crime\",\"Violent crime\",\"Violent crime\",\"Violent crime\",\"Violent crime\",\"Violent crime\",\"Violent crime\",\"Violent crime\",\"Violent crime\",\"Violent crime\",\"Violent crime\",\"Violent crime\",\"Violent crime\",\"Violent crime\",\"Violent crime\",\"Violent crime\",\"Violent crime\",\"Violent crime\",\"Violent crime\",\"Violent crime\",\"Violent crime\",\"Violent crime\",\"Violent crime\",\"Violent crime\",\"Violent crime\",\"Violent crime\",\"Violent crime\",\"Violent crime\",\"Violent crime\",\"Violent crime\",\"Violent crime\",\"Violent crime\",\"Violent crime\",\"Violent crime\",\"Violent crime\",\"Violent crime\",\"Violent crime\",\"Violent crime\",\"Violent crime\",\"Violent crime\",\"Violent crime\",\"Violent crime\",\"Violent crime\",\"Violent crime\",\"Violent crime\",\"Violent crime\",\"Violent crime\",\"Violent crime\",\"Violent crime\",\"Violent crime\",\"Violent crime\",\"Violent crime\",\"Violent crime\",\"Violent crime\",\"Violent crime\",\"Violent crime\",\"Violent crime\",\"Violent crime\",\"Violent crime\",\"Violent crime\",\"Violent crime\",\"Violent crime\",\"Violent crime\",\"Violent crime\",\"Violent crime\",\"Violent crime\",\"Violent crime\",\"Violent crime\",\"Violent crime\",\"Violent crime\",\"Violent crime\",\"Violent crime\",\"Violent crime\",\"Violent crime\",\"Violent crime\",\"Violent crime\",\"Violent crime\",\"Violent crime\",\"Violent crime\",\"Violent crime\",\"Violent crime\",\"Violent crime\",\"Violent crime\",\"Violent crime\",\"Violent crime\",\"Violent crime\",\"Violent crime\",\"Violent crime\",\"Violent crime\",\"Violent crime\",\"Violent crime\",\"Violent crime\",\"Violent crime\",\"Violent crime\",\"Violent crime\",\"Violent crime\",\"Violent crime\",\"Violent crime\",\"Violent crime\",\"Violent crime\",\"Violent crime\",\"Violent crime\",\"Violent crime\",\"Violent crime\",\"Violent crime\",\"Violent crime\",\"Violent crime\",\"Violent crime\",\"Violent crime\",\"Violent crime\",\"Violent crime\",\"Violent crime\",\"Violent crime\",\"Violent crime\",\"Violent crime\",\"Violent crime\",\"Violent crime\",\"Violent crime\",\"Violent crime\",\"Violent crime\",\"Violent crime\",\"Violent crime\",\"Violent crime\",\"Violent crime\",\"Violent crime\",\"Violent crime\",\"Violent crime\",\"Violent crime\",\"Violent crime\",\"Violent crime\",\"Violent crime\",\"Violent crime\",\"Violent crime\",\"Violent crime\",\"Violent crime\",\"Violent crime\",\"Violent crime\",\"Violent crime\",\"Violent crime\",\"Violent crime\",\"Violent crime\",\"Violent crime\",\"Violent crime\",\"Violent crime\",\"Violent crime\",\"Violent crime\",\"Violent crime\",\"Violent crime\",\"Violent crime\",\"Violent crime\",\"Violent crime\",\"Violent crime\",\"Violent crime\",\"Violent crime\",\"Violent crime\",\"Violent crime\",\"Violent crime\",\"Violent crime\",\"Violent crime\",\"Violent crime\",\"Violent crime\",\"Violent crime\",\"Violent crime\",\"Violent crime\",\"Violent crime\",\"Violent crime\",\"Violent crime\",\"Violent crime\",\"Violent crime\",\"Violent crime\",\"Violent crime\",\"Violent crime\",\"Violent crime\",\"Violent crime\",\"Violent crime\",\"Violent crime\",\"Violent crime\",\"Violent crime\",\"Violent crime\",\"Violent crime\",\"Violent crime\",\"Violent crime\",\"Violent crime\",\"Violent crime\",\"Violent crime\",\"Violent crime\",\"Violent crime\",\"Violent crime\",\"Violent crime\",\"Violent crime\",\"Violent crime\",\"Violent crime\",\"Violent crime\",\"Violent crime\",\"Violent crime\",\"Violent crime\",\"Violent crime\",\"Violent crime\",\"Violent crime\",\"Violent crime\",\"Violent crime\",\"Violent crime\",\"Violent crime\",\"Violent crime\",\"Violent crime\",\"Violent crime\",\"Violent crime\",\"Violent crime\",\"Violent crime\",\"Violent crime\",\"Violent crime\",\"Violent crime\",\"Violent crime\",\"Violent crime\",\"Violent crime\",\"Violent crime\",\"Violent crime\",\"Violent crime\",\"Violent crime\",\"Violent crime\",\"Violent crime\",\"Violent crime\",\"Violent crime\",\"Violent crime\",\"Violent crime\",\"Violent crime\",\"Violent crime\",\"Violent crime\",\"Violent crime\",\"Violent crime\",\"Violent crime\",\"Violent crime\",\"Violent crime\",\"Violent crime\",\"Violent crime\",\"Violent crime\",\"Violent crime\",\"Violent crime\",\"Violent crime\",\"Violent crime\",\"Violent crime\",\"Violent crime\",\"Violent crime\",\"Violent crime\",\"Violent crime\",\"Violent crime\",\"Violent crime\",\"Violent crime\",\"Violent crime\",\"Violent crime\",\"Violent crime\",\"Violent crime\",\"Violent crime\",\"Violent crime\",\"Violent crime\",\"Violent crime\",\"Violent crime\",\"Violent crime\",\"Violent crime\",\"Violent crime\",\"Violent crime\",\"Violent crime\",\"Violent crime\",\"Violent crime\",\"Violent crime\",\"Violent crime\",\"Violent crime\",\"Violent crime\",\"Violent crime\",\"Violent crime\",\"Violent crime\",\"Violent crime\",\"Violent crime\",\"Violent crime\",\"Violent crime\",\"Violent crime\",\"Violent crime\",\"Violent crime\",\"Violent crime\",\"Violent crime\",\"Violent crime\",\"Violent crime\",\"Violent crime\",\"Violent crime\",\"Violent crime\",\"Violent crime\",\"Violent crime\",\"Violent crime\",\"Violent crime\",\"Violent crime\",\"Violent crime\",\"Violent crime\",\"Violent crime\",\"Violent crime\",\"Violent crime\",\"Violent crime\",\"Violent crime\",\"Violent crime\",\"Violent crime\",\"Violent crime\",\"Violent crime\",\"Violent crime\",\"Violent crime\",\"Violent crime\",\"Violent crime\",\"Violent crime\",\"Violent crime\",\"Violent crime\",\"Violent crime\",\"Violent crime\",\"Violent crime\",\"Violent crime\",\"Violent crime\",\"Violent crime\",\"Violent crime\",\"Violent crime\",\"Violent crime\",\"Violent crime\",\"Violent crime\",\"Violent crime\",\"Violent crime\",\"Violent crime\",\"Violent crime\",\"Violent crime\",\"Violent crime\",\"Violent crime\",\"Violent crime\",\"Violent crime\",\"Violent crime\",\"Violent crime\",\"Violent crime\",\"Violent crime\",\"Violent crime\",\"Violent crime\",\"Violent crime\",\"Violent crime\",\"Violent crime\",\"Violent crime\",\"Violent crime\",\"Violent crime\",\"Violent crime\",\"Violent crime\",\"Violent crime\",\"Violent crime\",\"Violent crime\",\"Violent crime\",\"Violent crime\",\"Violent crime\",\"Violent crime\",\"Violent crime\",\"Violent crime\",\"Violent crime\",\"Violent crime\",\"Violent crime\",\"Violent crime\",\"Violent crime\",\"Violent crime\",\"Violent crime\",\"Violent crime\",\"Violent crime\",\"Violent crime\",\"Violent crime\",\"Violent crime\",\"Violent crime\",\"Violent crime\",\"Violent crime\",\"Violent crime\",\"Violent crime\",\"Violent crime\",\"Violent crime\",\"Violent crime\",\"Violent crime\",\"Violent crime\",\"Violent crime\",\"Violent crime\",\"Violent crime\",\"Violent crime\",\"Violent crime\",\"Violent crime\",\"Violent crime\",\"Violent crime\",\"Violent crime\",\"Violent crime\",\"Violent crime\",\"Violent crime\",\"Violent crime\",\"Violent crime\",\"Violent crime\",\"Violent crime\",\"Violent crime\",\"Violent crime\",\"Violent crime\",\"Violent crime\",\"Violent crime\",\"Violent crime\",\"Violent crime\",\"Violent crime\",\"Violent crime\",\"Violent crime\",\"Violent crime\",\"Violent crime\",\"Violent crime\",\"Violent crime\",\"Violent crime\",\"Violent crime\",\"Violent crime\",\"Violent crime\",\"Violent crime\",\"Violent crime\",\"Violent crime\",\"Violent crime\",\"Violent crime\",\"Violent crime\",\"Violent crime\",\"Violent crime\",\"Violent crime\",\"Violent crime\",\"Violent crime\",\"Violent crime\",\"Violent crime\",\"Violent crime\",\"Violent crime\",\"Violent crime\",\"Violent crime\",\"Violent crime\",\"Violent crime\",\"Violent crime\",\"Violent crime\",\"Violent crime\",\"Violent crime\",\"Violent crime\",\"Violent crime\",\"Violent crime\",\"Violent crime\",\"Violent crime\",\"Violent crime\",\"Violent crime\",\"Violent crime\",\"Violent crime\",\"Violent crime\",\"Violent crime\",\"Violent crime\",\"Violent crime\",\"Violent crime\",\"Violent crime\",\"Violent crime\",\"Violent crime\",\"Violent crime\",\"Violent crime\",\"Violent crime\",\"Violent crime\",\"Violent crime\",\"Violent crime\",\"Violent crime\",\"Violent crime\",\"Violent crime\",\"Violent crime\",\"Violent crime\",\"Violent crime\",\"Violent crime\",\"Violent crime\",\"Violent crime\",\"Violent crime\",\"Violent crime\",\"Violent crime\",\"Violent crime\",\"Violent crime\",\"Violent crime\",\"Violent crime\",\"Violent crime\",\"Violent crime\",\"Violent crime\",\"Violent crime\",\"Violent crime\",\"Violent crime\",\"Violent crime\",\"Violent crime\",\"Violent crime\",\"Violent crime\",\"Violent crime\",\"Violent crime\",\"Violent crime\",\"Violent crime\",\"Violent crime\",\"Violent crime\",\"Violent crime\",\"Violent crime\",\"Violent crime\",\"Violent crime\",\"Violent crime\",\"Violent crime\",\"Violent crime\",\"Violent crime\",\"Violent crime\",\"Violent crime\",\"Violent crime\",\"Violent crime\",\"Violent crime\",\"Violent crime\",\"Violent crime\",\"Violent crime\",\"Violent crime\",\"Violent crime\",\"Violent crime\",\"Violent crime\",\"Violent crime\",\"Violent crime\",\"Violent crime\",\"Violent crime\",\"Violent crime\",\"Violent crime\",\"Violent crime\",\"Violent crime\",\"Violent crime\",\"Violent crime\",\"Violent crime\",\"Violent crime\",\"Violent crime\",\"Violent crime\",\"Violent crime\",\"Violent crime\",\"Violent crime\",\"Violent crime\",\"Violent crime\",\"Violent crime\",\"Violent crime\",\"Violent crime\",\"Violent crime\",\"Violent crime\",\"Violent crime\",\"Violent crime\",\"Violent crime\",\"Violent crime\",\"Violent crime\",\"Violent crime\",\"Violent crime\",\"Violent crime\",\"Violent crime\",\"Violent crime\",\"Violent crime\",\"Violent crime\",\"Violent crime\",\"Violent crime\",\"Violent crime\",\"Violent crime\",\"Violent crime\",\"Violent crime\",\"Violent crime\",\"Violent crime\",\"Violent crime\",\"Violent crime\",\"Violent crime\",\"Violent crime\",\"Violent crime\",\"Violent crime\",\"Violent crime\",\"Violent crime\",\"Violent crime\",\"Violent crime\",\"Violent crime\",\"Violent crime\",\"Violent crime\",\"Violent crime\",\"Violent crime\",\"Violent crime\",\"Violent crime\",\"Violent crime\",\"Violent crime\",\"Violent crime\",\"Violent crime\",\"Violent crime\",\"Violent crime\",\"Violent crime\",\"Violent crime\",\"Violent crime\",\"Violent crime\",\"Violent crime\",\"Violent crime\",\"Violent crime\",\"Violent crime\",\"Violent crime\",\"Violent crime\",\"Violent crime\",\"Violent crime\",\"Violent crime\",\"Violent crime\",\"Violent crime\",\"Violent crime\",\"Violent crime\",\"Violent crime\",\"Violent crime\",\"Violent crime\",\"Violent crime\",\"Violent crime\",\"Violent crime\",\"Violent crime\",\"Violent crime\",\"Violent crime\",\"Violent crime\",\"Violent crime\",\"Violent crime\",\"Violent crime\",\"Violent crime\",\"Violent crime\",\"Violent crime\",\"Violent crime\",\"Violent crime\",\"Violent crime\",\"Violent crime\",\"Violent crime\",\"Violent crime\",\"Violent crime\",\"Violent crime\",\"Violent crime\",\"Violent crime\",\"Violent crime\",\"Violent crime\",\"Violent crime\",\"Violent crime\",\"Violent crime\",\"Violent crime\",\"Violent crime\",\"Violent crime\",\"Violent crime\",\"Violent crime\",\"Violent crime\",\"Violent crime\",\"Violent crime\",\"Violent crime\",\"Violent crime\",\"Violent crime\",\"Violent crime\",\"Violent crime\",\"Violent crime\",\"Violent crime\",\"Violent crime\",\"Violent crime\",\"Violent crime\",\"Violent crime\",\"Violent crime\",\"Violent crime\",\"Violent crime\",\"Violent crime\",\"Violent crime\",\"Violent crime\",\"Violent crime\",\"Violent crime\",\"Violent crime\",\"Violent crime\",\"Violent crime\",\"Violent crime\",\"Violent crime\",\"Violent crime\",\"Violent crime\",\"Violent crime\",\"Violent crime\",\"Violent crime\",\"Violent crime\",\"Violent crime\",\"Violent crime\",\"Violent crime\",\"Violent crime\",\"Violent crime\",\"Violent crime\",\"Violent crime\",\"Violent crime\",\"Violent crime\",\"Violent crime\",\"Violent crime\",\"Violent crime\",\"Violent crime\",\"Violent crime\",\"Violent crime\",\"Violent crime\",\"Violent crime\",\"Violent crime\",\"Violent crime\",\"Violent crime\",\"Violent crime\",\"Violent crime\",\"Violent crime\",\"Violent crime\",\"Violent crime\",\"Violent crime\",\"Violent crime\",\"Violent crime\",\"Violent crime\",\"Violent crime\",\"Violent crime\",\"Violent crime\",\"Violent crime\",\"Violent crime\",\"Violent crime\",\"Violent crime\",\"Violent crime\",\"Violent crime\",\"Violent crime\",\"Violent crime\",\"Violent crime\",\"Violent crime\",\"Violent crime\",\"Violent crime\",\"Violent crime\",\"Violent crime\",\"Violent crime\",\"Violent crime\",\"Violent crime\",\"Violent crime\",\"Violent crime\",\"Violent crime\",\"Violent crime\",\"Violent crime\",\"Violent crime\",\"Violent crime\",\"Violent crime\",\"Violent crime\",\"Violent crime\",\"Violent crime\",\"Violent crime\",\"Violent crime\",\"Violent crime\",\"Violent crime\",\"Violent crime\",\"Violent crime\",\"Violent crime\",\"Violent crime\",\"Violent crime\",\"Violent crime\",\"Violent crime\",\"Violent crime\",\"Violent crime\",\"Violent crime\",\"Violent crime\",\"Violent crime\",\"Violent crime\",\"Violent crime\",\"Violent crime\",\"Violent crime\",\"Violent crime\",\"Violent crime\",\"Violent crime\",\"Violent crime\",\"Violent crime\",\"Violent crime\",\"Violent crime\",\"Violent crime\",\"Violent crime\",\"Violent crime\",\"Violent crime\",\"Violent crime\",\"Violent crime\",\"Violent crime\",\"Violent crime\",\"Violent crime\",\"Violent crime\",\"Violent crime\",\"Violent crime\",\"Violent crime\",\"Violent crime\",\"Violent crime\",\"Violent crime\",\"Violent crime\",\"Violent crime\",\"Violent crime\",\"Violent crime\",\"Violent crime\",\"Violent crime\",\"Violent crime\",\"Violent crime\",\"Violent crime\",\"Violent crime\",\"Violent crime\",\"Violent crime\",\"Violent crime\",\"Violent crime\",\"Violent crime\",\"Violent crime\",\"Violent crime\",\"Violent crime\",\"Violent crime\",\"Violent crime\",\"Violent crime\",\"Violent crime\",\"Violent crime\",\"Violent crime\",\"Violent crime\",\"Violent crime\",\"Violent crime\",\"Violent crime\",\"Violent crime\",\"Violent crime\",\"Violent crime\",\"Violent crime\",\"Violent crime\",\"Violent crime\",\"Violent crime\",\"Violent crime\",\"Violent crime\",\"Violent crime\",\"Violent crime\",\"Violent crime\",\"Violent crime\",\"Violent crime\",\"Violent crime\",\"Violent crime\",\"Violent crime\",\"Violent crime\",\"Violent crime\",\"Violent crime\",\"Violent crime\",\"Violent crime\",\"Violent crime\",\"Violent crime\",\"Violent crime\",\"Violent crime\",\"Violent crime\",\"Violent crime\",\"Violent crime\",\"Violent crime\",\"Violent crime\",\"Violent crime\",\"Violent crime\",\"Violent crime\",\"Violent crime\",\"Violent crime\",\"Violent crime\",\"Violent crime\",\"Violent crime\",\"Violent crime\",\"Violent crime\",\"Violent crime\",\"Violent crime\",\"Violent crime\",\"Violent crime\",\"Violent crime\",\"Violent crime\",\"Violent crime\",\"Violent crime\",\"Violent crime\",\"Violent crime\",\"Violent crime\",\"Violent crime\",\"Violent crime\",\"Violent crime\",\"Violent crime\",\"Violent crime\",\"Violent crime\",\"Violent crime\",\"Violent crime\",\"Violent crime\",\"Violent crime\",\"Violent crime\",\"Violent crime\",\"Violent crime\",\"Violent crime\",\"Violent crime\",\"Violent crime\",\"Violent crime\",\"Violent crime\",\"Violent crime\",\"Violent crime\",\"Violent crime\",\"Violent crime\",\"Violent crime\",\"Violent crime\",\"Violent crime\",\"Violent crime\",\"Violent crime\",\"Violent crime\",\"Violent crime\",\"Violent crime\",\"Violent crime\",\"Violent crime\",\"Violent crime\",\"Violent crime\",\"Violent crime\",\"Violent crime\",\"Violent crime\",\"Violent crime\",\"Violent crime\",\"Violent crime\",\"Violent crime\",\"Violent crime\",\"Violent crime\",\"Violent crime\",\"Violent crime\",\"Violent crime\",\"Violent crime\",\"Violent crime\",\"Violent crime\",\"Violent crime\",\"Violent crime\",\"Violent crime\",\"Violent crime\",\"Violent crime\",\"Violent crime\",\"Violent crime\",\"Violent crime\",\"Violent crime\",\"Violent crime\",\"Violent crime\",\"Violent crime\",\"Violent crime\",\"Violent crime\",\"Violent crime\",\"Violent crime\",\"Violent crime\",\"Violent crime\",\"Violent crime\",\"Violent crime\",\"Violent crime\",\"Violent crime\",\"Violent crime\",\"Violent crime\",\"Violent crime\",\"Violent crime\",\"Violent crime\",\"Violent crime\",\"Violent crime\",\"Violent crime\",\"Violent crime\",\"Violent crime\",\"Violent crime\",\"Violent crime\",\"Violent crime\",\"Violent crime\",\"Violent crime\",\"Violent crime\",\"Violent crime\",\"Violent crime\",\"Violent crime\",\"Violent crime\",\"Violent crime\",\"Violent crime\",\"Violent crime\",\"Violent crime\",\"Violent crime\",\"Violent crime\",\"Violent crime\",\"Violent crime\",\"Violent crime\",\"Violent crime\",\"Violent crime\",\"Violent crime\",\"Violent crime\",\"Violent crime\",\"Violent crime\",\"Violent crime\",\"Violent crime\",\"Violent crime\",\"Violent crime\",\"Violent crime\",\"Violent crime\",\"Violent crime\",\"Violent crime\",\"Violent crime\",\"Violent crime\",\"Violent crime\",\"Violent crime\",\"Violent crime\",\"Violent crime\",\"Violent crime\",\"Violent crime\",\"Violent crime\",\"Violent crime\",\"Violent crime\",\"Violent crime\",\"Violent crime\",\"Violent crime\",\"Violent crime\",\"Violent crime\",\"Violent crime\",\"Violent crime\",\"Violent crime\",\"Violent crime\",\"Violent crime\",\"Violent crime\",\"Violent crime\",\"Violent crime\",\"Violent crime\",\"Violent crime\",\"Violent crime\",\"Violent crime\",\"Violent crime\",\"Violent crime\",\"Violent crime\",\"Violent crime\",\"Violent crime\",\"Violent crime\",\"Violent crime\",\"Violent crime\",\"Violent crime\",\"Violent crime\",\"Violent crime\",\"Violent crime\",\"Violent crime\",\"Violent crime\",\"Violent crime\",\"Violent crime\",\"Violent crime\",\"Violent crime\",\"Violent crime\",\"Violent crime\",\"Violent crime\",\"Violent crime\",\"Violent crime\",\"Violent crime\",\"Violent crime\",\"Violent crime\",\"Violent crime\",\"Violent crime\",\"Violent crime\",\"Violent crime\",\"Violent crime\",\"Violent crime\",\"Violent crime\",\"Violent crime\",\"Violent crime\",\"Violent crime\",\"Violent crime\",\"Violent crime\",\"Violent crime\",\"Violent crime\",\"Violent crime\",\"Violent crime\",\"Violent crime\",\"Violent crime\",\"Violent crime\",\"Violent crime\",\"Violent crime\",\"Violent crime\",\"Violent crime\",\"Violent crime\",\"Violent crime\",\"Violent crime\",\"Violent crime\",\"Violent crime\",\"Violent crime\",\"Violent crime\",\"Violent crime\",\"Violent crime\",\"Violent crime\",\"Violent crime\",\"Violent crime\",\"Violent crime\",\"Violent crime\",\"Violent crime\",\"Violent crime\",\"Violent crime\",\"Violent crime\",\"Violent crime\",\"Violent crime\",\"Violent crime\",\"Violent crime\",\"Violent crime\",\"Violent crime\",\"Violent crime\",\"Violent crime\",\"Violent crime\",\"Violent crime\",\"Violent crime\",\"Violent crime\",\"Violent crime\",\"Violent crime\",\"Violent crime\",\"Violent crime\",\"Violent crime\",\"Violent crime\",\"Violent crime\",\"Violent crime\",\"Violent crime\",\"Violent crime\",\"Violent crime\",\"Violent crime\",\"Violent crime\",\"Violent crime\",\"Violent crime\",\"Violent crime\",\"Violent crime\",\"Violent crime\",\"Violent crime\",\"Violent crime\",\"Violent crime\",\"Violent crime\",\"Violent crime\",\"Violent crime\",\"Violent crime\",\"Violent crime\",\"Violent crime\",\"Violent crime\",\"Violent crime\",\"Violent crime\",\"Violent crime\",\"Violent crime\",\"Violent crime\",\"Violent crime\",\"Violent crime\",\"Violent crime\",\"Violent crime\",\"Violent crime\",\"Violent crime\",\"Violent crime\",\"Violent crime\",\"Violent crime\",\"Violent crime\",\"Violent crime\",\"Violent crime\",\"Violent crime\",\"Violent crime\",\"Violent crime\",\"Violent crime\",\"Violent crime\",\"Violent crime\",\"Violent crime\",\"Violent crime\",\"Violent crime\",\"Violent crime\",\"Violent crime\",\"Violent crime\",\"Violent crime\",\"Violent crime\",\"Violent crime\",\"Violent crime\",\"Violent crime\",\"Violent crime\",\"Violent crime\",\"Violent crime\",\"Violent crime\",\"Violent crime\",\"Violent crime\",\"Violent crime\",\"Violent crime\",\"Violent crime\",\"Violent crime\",\"Violent crime\",\"Violent crime\",\"Violent crime\",\"Violent crime\",\"Violent crime\",\"Violent crime\",\"Violent crime\",\"Violent crime\",\"Violent crime\",\"Violent crime\",\"Violent crime\",\"Violent crime\",\"Violent crime\",\"Violent crime\",\"Violent crime\",\"Violent crime\",\"Violent crime\",\"Violent crime\",\"Violent crime\",\"Violent crime\",\"Violent crime\",\"Violent crime\",\"Violent crime\",\"Violent crime\",\"Violent crime\",\"Violent crime\",\"Violent crime\",\"Violent crime\",\"Violent crime\",\"Violent crime\",\"Violent crime\",\"Violent crime\",\"Violent crime\",\"Violent crime\",\"Violent crime\",\"Violent crime\",\"Violent crime\",\"Violent crime\",\"Violent crime\",\"Violent crime\",\"Violent crime\",\"Violent crime\",\"Violent crime\",\"Violent crime\",\"Violent crime\",\"Violent crime\",\"Violent crime\",\"Violent crime\",\"Violent crime\",\"Violent crime\",\"Violent crime\",\"Violent crime\",\"Violent crime\",\"Violent crime\",\"Violent crime\",\"Violent crime\",\"Violent crime\",\"Violent crime\",\"Violent crime\",\"Violent crime\",\"Violent crime\",\"Violent crime\",\"Violent crime\",\"Violent crime\",\"Violent crime\",\"Violent crime\",\"Violent crime\",\"Violent crime\",\"Violent crime\",\"Violent crime\",\"Violent crime\",\"Violent crime\",\"Violent crime\",\"Violent crime\",\"Violent crime\",\"Violent crime\",\"Violent crime\",\"Violent crime\",\"Violent crime\",\"Violent crime\",\"Violent crime\",\"Violent crime\",\"Violent crime\",\"Violent crime\",\"Violent crime\",\"Violent crime\",\"Violent crime\",\"Violent crime\",\"Violent crime\",\"Violent crime\",\"Violent crime\",\"Violent crime\",\"Violent crime\",\"Violent crime\",\"Violent crime\",\"Violent crime\",\"Violent crime\",\"Violent crime\",\"Violent crime\",\"Violent crime\",\"Violent crime\",\"Violent crime\",\"Violent crime\",\"Violent crime\",\"Violent crime\",\"Violent crime\",\"Violent crime\",\"Violent crime\",\"Violent crime\",\"Violent crime\",\"Violent crime\",\"Violent crime\",\"Violent crime\",\"Violent crime\",\"Violent crime\",\"Violent crime\",\"Violent crime\",\"Violent crime\",\"Violent crime\",\"Violent crime\",\"Violent crime\",\"Violent crime\",\"Violent crime\",\"Violent crime\",\"Violent crime\",\"Violent crime\",\"Violent crime\",\"Violent crime\",\"Violent crime\",\"Violent crime\",\"Violent crime\",\"Violent crime\",\"Violent crime\",\"Violent crime\",\"Violent crime\",\"Violent crime\",\"Violent crime\",\"Violent crime\",\"Violent crime\",\"Violent crime\",\"Violent crime\",\"Violent crime\",\"Violent crime\",\"Violent crime\",\"Violent crime\",\"Violent crime\",\"Violent crime\",\"Violent crime\",\"Violent crime\",\"Violent crime\",\"Violent crime\",\"Violent crime\",\"Violent crime\",\"Violent crime\",\"Violent crime\",\"Violent crime\",\"Violent crime\",\"Violent crime\",\"Violent crime\",\"Violent crime\",\"Violent crime\",\"Violent crime\",\"Violent crime\",\"Violent crime\",\"Violent crime\",\"Violent crime\",\"Violent crime\",\"Violent crime\",\"Violent crime\",\"Violent crime\",\"Violent crime\",\"Violent crime\",\"Violent crime\",\"Violent crime\",\"Violent crime\",\"Violent crime\",\"Violent crime\",\"Violent crime\",\"Violent crime\",\"Violent crime\",\"Violent crime\",\"Violent crime\",\"Violent crime\",\"Violent crime\",\"Violent crime\",\"Violent crime\",\"Violent crime\",\"Violent crime\",\"Violent crime\",\"Violent crime\",\"Violent crime\",\"Violent crime\",\"Violent crime\",\"Violent crime\",\"Violent crime\",\"Violent crime\",\"Violent crime\",\"Violent crime\",\"Violent crime\",\"Violent crime\",\"Violent crime\",\"Violent crime\",\"Violent crime\",\"Violent crime\",\"Violent crime\",\"Violent crime\",\"Violent crime\",\"Violent crime\",\"Violent crime\",\"Violent crime\",\"Violent crime\",\"Violent crime\",\"Violent crime\",\"Violent crime\",\"Violent crime\",\"Violent crime\",\"Violent crime\",\"Violent crime\",\"Violent crime\",\"Violent crime\",\"Violent crime\",\"Violent crime\",\"Violent crime\",\"Violent crime\",\"Violent crime\",\"Violent crime\",\"Violent crime\",\"Violent crime\",\"Violent crime\",\"Violent crime\",\"Violent crime\",\"Violent crime\",\"Violent crime\",\"Violent crime\",\"Violent crime\",\"Violent crime\",\"Violent crime\",\"Violent crime\",\"Violent crime\",\"Violent crime\",\"Violent crime\",\"Violent crime\",\"Violent crime\",\"Violent crime\",\"Violent crime\",\"Violent crime\",\"Violent crime\",\"Violent crime\",\"Violent crime\",\"Violent crime\",\"Violent crime\",\"Violent crime\",\"Violent crime\",\"Violent crime\",\"Violent crime\",\"Violent crime\",\"Violent crime\",\"Violent crime\",\"Violent crime\",\"Violent crime\",\"Violent crime\",\"Violent crime\",\"Violent crime\",\"Violent crime\",\"Violent crime\",\"Violent crime\",\"Violent crime\",\"Violent crime\",\"Violent crime\",\"Violent crime\",\"Violent crime\",\"Violent crime\",\"Violent crime\",\"Violent crime\",\"Violent crime\",\"Violent crime\",\"Violent crime\",\"Violent crime\",\"Violent crime\",\"Violent crime\",\"Violent crime\",\"Violent crime\",\"Violent crime\",\"Violent crime\",\"Violent crime\",\"Violent crime\",\"Violent crime\",\"Violent crime\",\"Violent crime\",\"Violent crime\",\"Violent crime\",\"Violent crime\",\"Violent crime\",\"Violent crime\",\"Violent crime\",\"Violent crime\",\"Violent crime\",\"Violent crime\",\"Violent crime\",\"Violent crime\",\"Violent crime\",\"Violent crime\",\"Violent crime\",\"Violent crime\",\"Violent crime\",\"Violent crime\",\"Violent crime\",\"Violent crime\",\"Violent crime\",\"Violent crime\",\"Violent crime\",\"Violent crime\",\"Violent crime\",\"Violent crime\",\"Violent crime\",\"Violent crime\",\"Violent crime\",\"Violent crime\",\"Violent crime\",\"Violent crime\",\"Violent crime\",\"Violent crime\",\"Violent crime\",\"Violent crime\",\"Violent crime\",\"Violent crime\",\"Violent crime\",\"Violent crime\",\"Violent crime\",\"Violent crime\",\"Violent crime\",\"Violent crime\",\"Violent crime\",\"Violent crime\",\"Violent crime\",\"Violent crime\",\"Violent crime\",\"Violent crime\",\"Violent crime\",\"Violent crime\",\"Violent crime\",\"Violent crime\",\"Violent crime\",\"Violent crime\",\"Violent crime\",\"Violent crime\",\"Violent crime\",\"Violent crime\",\"Violent crime\",\"Violent crime\",\"Violent crime\",\"Violent crime\",\"Violent crime\",\"Violent crime\",\"Violent crime\",\"Violent crime\",\"Violent crime\",\"Violent crime\",\"Violent crime\",\"Violent crime\",\"Violent crime\",\"Violent crime\",\"Violent crime\",\"Violent crime\",\"Violent crime\",\"Violent crime\",\"Violent crime\",\"Violent crime\",\"Violent crime\",\"Violent crime\",\"Violent crime\",\"Violent crime\",\"Violent crime\",\"Violent crime\",\"Violent crime\",\"Violent crime\",\"Violent crime\",\"Violent crime\",\"Violent crime\",\"Violent crime\",\"Violent crime\",\"Violent crime\",\"Violent crime\",\"Violent crime\",\"Violent crime\",\"Violent crime\",\"Violent crime\",\"Violent crime\",\"Violent crime\",\"Violent crime\",\"Violent crime\",\"Violent crime\",\"Violent crime\",\"Violent crime\",\"Violent crime\",\"Violent crime\",\"Violent crime\",\"Violent crime\",\"Violent crime\",\"Violent crime\",\"Violent crime\",\"Violent crime\",\"Violent crime\",\"Violent crime\",\"Violent crime\",\"Violent crime\",\"Violent crime\",\"Violent crime\",\"Violent crime\",\"Violent crime\",\"Violent crime\",\"Violent crime\",\"Violent crime\",\"Violent crime\",\"Violent crime\",\"Violent crime\",\"Violent crime\",\"Violent crime\",\"Violent crime\",\"Violent crime\",\"Violent crime\",\"Violent crime\",\"Violent crime\",\"Violent crime\",\"Violent crime\",\"Violent crime\",\"Violent crime\",\"Violent crime\",\"Violent crime\",\"Violent crime\",\"Violent crime\",\"Violent crime\",\"Violent crime\",\"Violent crime\",\"Violent crime\",\"Violent crime\",\"Violent crime\",\"Violent crime\",\"Violent crime\",\"Violent crime\",\"Violent crime\",\"Violent crime\",\"Violent crime\",\"Violent crime\",\"Violent crime\",\"Violent crime\",\"Violent crime\",\"Violent crime\",\"Violent crime\",\"Violent crime\",\"Violent crime\",\"Violent crime\",\"Violent crime\",\"Violent crime\",\"Violent crime\",\"Violent crime\",\"Violent crime\",\"Violent crime\",\"Violent crime\",\"Violent crime\",\"Violent crime\",\"Violent crime\",\"Violent crime\",\"Violent crime\",\"Violent crime\",\"Violent crime\",\"Violent crime\",\"Violent crime\",\"Violent crime\",\"Violent crime\",\"Violent crime\",\"Violent crime\",\"Violent crime\",\"Violent crime\",\"Violent crime\",\"Violent crime\",\"Violent crime\",\"Violent crime\",\"Violent crime\",\"Violent crime\",\"Violent crime\",\"Violent crime\",\"Violent crime\",\"Violent crime\",\"Violent crime\",\"Violent crime\",\"Violent crime\",\"Violent crime\",\"Violent crime\",\"Violent crime\",\"Violent crime\",\"Violent crime\",\"Violent crime\",\"Violent crime\",\"Violent crime\",\"Violent crime\",\"Violent crime\",\"Violent crime\",\"Violent crime\",\"Violent crime\",\"Violent crime\",\"Violent crime\",\"Violent crime\",\"Violent crime\",\"Violent crime\",\"Violent crime\",\"Violent crime\",\"Violent crime\",\"Violent crime\",\"Violent crime\",\"Violent crime\",\"Violent crime\",\"Violent crime\",\"Violent crime\",\"Violent crime\",\"Violent crime\",\"Violent crime\",\"Violent crime\",\"Violent crime\",\"Violent crime\",\"Violent crime\",\"Violent crime\",\"Violent crime\",\"Violent crime\",\"Violent crime\",\"Violent crime\",\"Violent crime\",\"Violent crime\",\"Violent crime\",\"Violent crime\",\"Violent crime\",\"Violent crime\",\"Violent crime\",\"Violent crime\",\"Violent crime\",\"Violent crime\",\"Violent crime\",\"Violent crime\",\"Violent crime\",\"Violent crime\",\"Violent crime\",\"Violent crime\",\"Violent crime\",\"Violent crime\",\"Violent crime\",\"Violent crime\",\"Violent crime\",\"Violent crime\",\"Violent crime\",\"Violent crime\",\"Violent crime\",\"Violent crime\",\"Violent crime\",\"Violent crime\",\"Violent crime\",\"Violent crime\",\"Violent crime\",\"Violent crime\",\"Violent crime\",\"Violent crime\",\"Violent crime\",\"Violent crime\",\"Violent crime\",\"Violent crime\",\"Violent crime\",\"Violent crime\",\"Violent crime\",\"Violent crime\",\"Violent crime\",\"Violent crime\",\"Violent crime\",\"Violent crime\",\"Violent crime\",\"Violent crime\",\"Violent crime\",\"Violent crime\",\"Violent crime\",\"Violent crime\",\"Violent crime\",\"Violent crime\",\"Violent crime\",\"Violent crime\",\"Violent crime\",\"Violent crime\",\"Violent crime\",\"Violent crime\",\"Violent crime\",\"Violent crime\",\"Violent crime\",\"Violent crime\",\"Violent crime\",\"Violent crime\",\"Violent crime\",\"Violent crime\",\"Violent crime\",\"Violent crime\",\"Violent crime\",\"Violent crime\",\"Violent crime\",\"Violent crime\",\"Violent crime\",\"Violent crime\",\"Violent crime\",\"Violent crime\",\"Violent crime\",\"Violent crime\",\"Violent crime\",\"Violent crime\",\"Violent crime\",\"Violent crime\",\"Violent crime\",\"Violent crime\",\"Violent crime\",\"Violent crime\",\"Violent crime\",\"Violent crime\",\"Violent crime\",\"Violent crime\",\"Violent crime\",\"Violent crime\",\"Violent crime\",\"Violent crime\",\"Violent crime\",\"Violent crime\",\"Violent crime\",\"Violent crime\",\"Violent crime\",\"Violent crime\",\"Violent crime\",\"Violent crime\",\"Violent crime\",\"Violent crime\",\"Violent crime\",\"Violent crime\",\"Violent crime\",\"Violent crime\",\"Violent crime\",\"Violent crime\",\"Violent crime\",\"Violent crime\",\"Violent crime\",\"Violent crime\",\"Violent crime\",\"Violent crime\",\"Violent crime\",\"Violent crime\",\"Violent crime\",\"Violent crime\",\"Violent crime\",\"Violent crime\",\"Violent crime\",\"Violent crime\",\"Violent crime\",\"Violent crime\",\"Violent crime\",\"Violent crime\",\"Violent crime\",\"Violent crime\",\"Violent crime\",\"Violent crime\",\"Violent crime\",\"Violent crime\",\"Violent crime\",\"Violent crime\",\"Violent crime\",\"Violent crime\",\"Violent crime\",\"Violent crime\",\"Violent crime\",\"Violent crime\",\"Violent crime\",\"Violent crime\",\"Violent crime\",\"Violent crime\",\"Violent crime\",\"Violent crime\"],\"x0\":\" \",\"xaxis\":\"x\",\"y\":[510.0,155.0,426.0,252.0,962.0,219.0,2235.0,122.0,5173.0,334.0,95.0,432.0,244.0,79.0,213.0,299.0,885.0,3117.0,41.0,920.0,1161.0,845.0,324.0,330.0,266.0,232.0,295.0,697.0,101.0,638.0,394.0,104.0,383.0,169.0,87.0,227.0,9.0,50.0,111.0,33.0,101.0,44.0,265.0,58.0,200.0,47.0,89.0,324.0,34.0,14.0,139.0,82.0,3.0,39.0,167.0,34.0,185.0,null,null,null,null,null,null,null,null,null,null,null,null,null,null,null,null,null,null,null,null,null,null,null,null,null,null,null,null,null,null,null,null,null,null,null,null,null,null,null,null,null,null,null,null,null,null,null,null,null,null,null,null,null,null,null,null,null,null,null,null,null,null,null,null,null,null,null,null,null,null,null,null,null,null,null,null,null,null,null,null,null,null,null,null,null,null,null,null,null,null,null,null,null,null,null,null,null,null,null,null,null,null,null,null,null,null,null,null,null,null,null,null,null,null,null,null,null,null,null,null,null,null,null,null,null,null,null,null,null,null,null,null,null,null,null,null,null,null,null,null,null,null,null,null,null,null,null,null,null,null,null,null,null,null,null,null,null,null,null,null,null,null,null,null,null,null,null,null,null,null,null,null,null,null,null,null,null,null,null,null,null,null,null,null,null,null,null,null,null,null,null,null,null,null,null,null,null,null,null,null,null,null,null,null,null,null,null,null,null,null,null,null,null,null,null,null,null,null,null,null,null,null,null,null,null,null,null,null,null,null,null,null,null,null,null,null,null,null,null,null,null,null,null,null,null,null,null,null,null,null,null,null,null,null,null,null,null,null,null,null,null,null,null,null,null,null,null,null,null,null,null,null,null,null,null,null,null,null,null,null,null,null,null,null,null,null,null,null,null,null,null,null,null,null,null,null,null,null,null,null,null,null,null,null,null,null,null,null,null,null,null,null,null,null,null,null,null,null,null,null,null,null,null,null,null,null,null,null,null,null,null,null,null,null,null,null,null,null,null,null,null,null,null,null,null,null,null,null,null,null,null,null,null,null,null,null,null,null,null,null,null,null,null,null,null,null,null,null,null,null,null,null,null,null,null,null,null,null,null,null,null,null,null,null,null,null,null,null,null,null,null,null,null,null,null,null,null,null,null,null,null,null,null,null,null,null,null,null,null,null,null,null,null,null,null,null,null,null,null,null,null,null,null,null,null,null,null,null,null,null,null,null,null,null,null,null,null,null,null,null,null,null,null,null,null,null,null,null,null,null,null,null,null,null,null,null,null,null,null,null,null,null,null,null,null,null,null,null,null,null,null,null,null,null,null,null,null,null,null,null,null,null,null,null,null,null,null,null,null,null,null,null,null,null,null,null,null,null,null,null,null,null,null,null,null,null,null,null,null,null,null,null,null,null,null,null,null,null,null,null,null,null,null,null,null,null,null,null,null,null,null,null,null,null,null,null,null,null,null,null,null,null,null,null,null,null,null,null,null,null,null,null,null,null,null,null,null,null,null,null,null,null,null,null,null,null,null,null,null,null,null,null,null,null,null,null,null,null,null,null,null,null,null,null,null,null,null,null,null,null,null,null,null,null,null,null,null,null,null,null,null,null,null,null,null,null,null,null,null,null,null,null,null,null,null,null,null,null,null,null,null,null,null,null,null,null,null,null,null,null,null,null,null,null,null,null,null,null,null,null,null,null,null,null,null,null,null,null,null,null,null,null,null,null,null,null,null,null,null,null,null,null,null,null,null,null,null,null,null,null,null,null,null,null,null,null,null,null,null,null,null,null,null,null,null,null,null,null,null,null,null,null,null,null,null,null,null,null,null,null,null,null,null,null,null,null,null,null,null,null,null,null,null,null,null,null,null,null,null,null,null,null,null,null,null,null,null,null,null,null,null,null,null,null,null,null,null,null,null,null,null,null,null,null,null,null,null,null,null,null,null,null,null,null,null,null,null,null,null,null,null,null,null,null,null,null,null,null,null,null,null,null,null,null,null,null,null,null,null,null,null,null,null,null,null,null,null,null,null,null,null,null,null,null,null,null,null,null,null,null,null,null,null,null,null,null,null,null,null,null,null,null,null,null,null,null,null,null,null,null,null,null,null,null,null,null,null,null,null,null,null,null,null,null,null,null,null,null,null,null,null,null,null,null,null,null,null,null,null,null,null,null,null,null,null,null,null,null,null,null,null,null,null,null,null,null,null,null,null,null,null,null,null,null,null,null,null,null,null,null,null,null,null,null,null,null,null,null,null,null,null,null,null,null,null,null,null,null,null,null,null,null,null,null,null,null,null,null,null,null,null,null,null,null,null,null,null,null,null,null,null,null,null,null,null,null,null,null,null,null,null,null,null,null,null,null,null,null,null,null,null,null,null,null,null,null,null,null,null,null,null,null,null,null,null,null,null,null,null,null,null,null,null,null,null,null,null,null,null,null,null,null,null,null,null,null,null,null,null,null,null,null,null,null,null,null,null,null,null,null,null,null,null,null,null,null,null,null,null,null,null,null,null,null,null,null,null,null,null,null,null,null,null,null,null,null,null,null,null,null,null,null,null,null,null,null,null,null,null,null,null,null,null,null,null,null,null,null,null,null,null,null,null,null,null,null,null,null,null,null,null,null,null,null,null,null,null,null,null,null,null,null,null,null,null,null,null,null,null,null,null,null,null,null,null,null,null,null,null,null,null,null,null,null,null,null,null,null,null,null,null,null,null,null,null,null,null,null,null,null,null,null,null,null,null,null,null,null,null,null,null,null,null,null,null,null,null,null,null,null,null,null,null,null,null,null,null,null,null,null,null,null,null,null,null,null,null,null,null,null,null,null,null,null,null,null,null,null,null,null,null,null,null,null,null,null,null,null,null,null,null,null,null,null,null,null,null,null,null,null,null,null,null,null,null,null,null,null,null,null,null,null,null,null,null,null,null,null,null,null,null,null,null,null,null,null,null,null,null,null,null,null,null,null,null,null,null,null,null,null,null,null,null,null,null,null,null,null,null,null,null,null,null,null,null,null,null,null,null,null,null,null,null,null,null,null,null,null,null,null,null,null,null,null,null,null,null,null,null,null,null,null,null,null,null,null,null,null,null,null,null,null,null,null,null,null,null,null,null,null,null,null,null,null,null,null,null,null,null,null,null,null,null,null,null,null,null,null,null,null,null,null,null,null,null,null,null,null,null,null,null,null,null,null,null,null,null,null,null,null,null,null,null,null,null,null,null,null,null,null,null,null,null,null,null,null,null,null,null,null,null,null,null,null,null,null,null,null,null,null,null,null,null,null,null,null,null,null,null,null,null,null,null,null,null,null,null,null,null,null,null,null,null,null,null,null,null,null,null,null,null,null,null,null,null,null,null,null,null,null,null,null,null,null,null,null,null,null,null,null,null,null,null,null,null,null,null,null,null,null,null,null,null,null,null,null,null,null,null,null,null,null,null,null,null,null,null,null,null,null,null,null,null,null,null,null,null,null,null,null,null,null,null,null,null,null,null,null,null,null,null,null,null,null,null,null,null,null,null,null,null,null,null,null,null,null,null,null,null,null,null,null,null,null,null,null,null,null,null,null,null,null,null,null,null,null,null,null,null,null,null,null,null,null,null,null,null,null,null,null,null,null,null,null,null,null,null,null,null,null,null,null,null,null,null,null,null,null,null,null,null,null,null,null,null,null,null,null,null,null,null,null,null,null,null,null,null,null,null,null,null,null,null,null,null,null,null,null,null,null,null,null,null,null,null,null,null,null,null,null,null,null,null,null,null,null,null,null,null,null,null,null,null,null,null,null,null,null,null,null,null,null,null,null,null,null,null,null,null,null,null,null,null,null,null,null,null,null,null,null,null,null,null,null,null,null,null,null,null,null,null,null,null,null,null,null,null,null,null,null,null,null,null,null,null,null,null,null,null,null,null,null,null,null,null,null,null,null,null,null,null,null,null,null,null,null,null,null,null,null,null,null,null,null,null,null,null,null,null,null,null,null,null,null,null,null,null,null,null,null,null,null,null,null,null,null,null,null,null,null,null,null,null,null,null,null,null,null,null,null,null,null,null,null,null,null,null,null,null,null,null,null,null,null,null,null,null,null,null,null,null,null,null,null,null,null,null,null,null,null,null,null,null,null,null,null,null,null,null,null,null,null,null,null,null,null,null,null,null,null,null,null,null,null,null,null,null,null,null,null,null,null,null,null,null,null,null,null,null,null,null,null,null,null,null,null,null,null,null,null,null,null,null,null,null,null,null,null,null,null,null,null,null,null,null,null,null,null,null,null,null,null,null,null,null,null,null,null,null,null,null,null,null,null,null,null,null,null,null,null,null,null,null,null,null,null,null,null,null,null,null,null,null,null,null,null,null,null,null,null,null,null,null,null,null,null,null,null,null,null,null,null,null,null,null,null,null,null,null,null,null,null,null,null,null,null,null,null,null,null,null,null,null,null,null,null,null,null,null,null,null,null,null,null,null,null,null,null,null,null,null,null,null,null,null,null,null,null,null,null,null,null,null,null,null,null,null,null,null,null,null,null,null,null,null,null,null,null,null,null,null,null,null,null,null,null,null,null,null,null,null,null,null,null,null,null,null,null,null,null,null,null,null,null,null,null,null,null,null,null,null,null,null,null,null,null,null,null,null,null,null,null,null,null,null,null,null,null,null,null,null,null,null,null,null,null,null,null,null,null,null,null,null,null,null,null,null,null,null,null,null,null,null,null,null,null,null,null,null,null,null,null,null,null,null,null,null,null,null,null,null,null,null,null,null,null,null,null,null,null,null,null,null,null,null,null,null,null,null,null,null,null,null,null,null,null,null,null,null,null,null,null,null,null,null,null,null,null,null,null,null,null,null,null,null,null,null,null,null,null,null,null,null,null,null,null,null,null,null,null,null,null,null,null,null,null,null,null,null,null,null,null,null,null,null,null,null,null,null,null,null,null,null,null,null,null,null,null,null,null,null,null,null,null,null,null,null,null,null,null,null,null,null,null,null,null,null,null,null,null,null,null,null,null,null,null,null,null,null,null,null,null,null,null,null,null,null,null,null,null,null,null,null,null,null,null,null,null,null,null,null,null,null,null,null,null,null,null,null,null,null,null,null,null,null,null,null,null,null,null,null,null,null,null,null,null,null,null,null,null,null,null,null,null,null,null,null,null,null,null,null,null,null,null,null,null,null,null,null,null,null,null,null,null,null,null,null,null,null,null,null,null,null,null,null,null,null,null,null,null,null,null,null,null,null,null,null,null,null,null,null,null,null,null,null,null,null,null,null,null,null,null,null,null,null,null,null,null,null,null,null,null,null,null,null,null,null,null,null,null,null,null,null,null,null,null,null,null,null,null,null,null,null,null,null,null,null,null,null,null,null,null,null,null,null,null,null,null,null,null,null,null,null,null,null,null,null,null,null,null,null,null,null,null,null,null,null,null,null,null,null,null,null,null,null,null,null,null,null,null,null,null,null,null,null,null,null,null,null,null,null,null,null,null,null,null,null,null,null,null,null,null,null,null,null,null,null,null,null,null,null,null,null,null,null,null,null,null,null,null,null,null,null,null,null,null,null,null,null,null,null,null,null,null,null,null,null,null,null,null,null,null,null,null,null,null,null,null,null,null,null,null,null,null,null,null,null,null,null,null,null,null,null,null,null,null,null,null,null,null,null,null,null,null,null,null,null,null,null,null,null,null,null,null,null,null,null,null,null,null,null,null,null,null,null,null,null,null,null,null,null,null,null,null,null,null,null,null,null,null,null,null,null,null,null,null,null,null,null,null,null,null,null,null,null,null,null,null,null,null,null,null,null,null,null,null,null,null,null,null,null,null,null,null,null,null,null,null,null,null,null,null,null,null,null,null,null,null,null,null,null,null,null,null,null,null,null,null,null,null,null,null,null,null,null,null,null,null,null,null,null,null,null,null,null,null,null,null,null,null,null,null,null,null,null,null,null,null,null,null,null,null,null,null,null,null,null,null,null,null,null,null,null,null,null],\"y0\":\" \",\"yaxis\":\"y\",\"type\":\"box\"}],                        {\"template\":{\"data\":{\"histogram2dcontour\":[{\"type\":\"histogram2dcontour\",\"colorbar\":{\"outlinewidth\":0,\"ticks\":\"\"},\"colorscale\":[[0.0,\"#0d0887\"],[0.1111111111111111,\"#46039f\"],[0.2222222222222222,\"#7201a8\"],[0.3333333333333333,\"#9c179e\"],[0.4444444444444444,\"#bd3786\"],[0.5555555555555556,\"#d8576b\"],[0.6666666666666666,\"#ed7953\"],[0.7777777777777778,\"#fb9f3a\"],[0.8888888888888888,\"#fdca26\"],[1.0,\"#f0f921\"]]}],\"choropleth\":[{\"type\":\"choropleth\",\"colorbar\":{\"outlinewidth\":0,\"ticks\":\"\"}}],\"histogram2d\":[{\"type\":\"histogram2d\",\"colorbar\":{\"outlinewidth\":0,\"ticks\":\"\"},\"colorscale\":[[0.0,\"#0d0887\"],[0.1111111111111111,\"#46039f\"],[0.2222222222222222,\"#7201a8\"],[0.3333333333333333,\"#9c179e\"],[0.4444444444444444,\"#bd3786\"],[0.5555555555555556,\"#d8576b\"],[0.6666666666666666,\"#ed7953\"],[0.7777777777777778,\"#fb9f3a\"],[0.8888888888888888,\"#fdca26\"],[1.0,\"#f0f921\"]]}],\"heatmap\":[{\"type\":\"heatmap\",\"colorbar\":{\"outlinewidth\":0,\"ticks\":\"\"},\"colorscale\":[[0.0,\"#0d0887\"],[0.1111111111111111,\"#46039f\"],[0.2222222222222222,\"#7201a8\"],[0.3333333333333333,\"#9c179e\"],[0.4444444444444444,\"#bd3786\"],[0.5555555555555556,\"#d8576b\"],[0.6666666666666666,\"#ed7953\"],[0.7777777777777778,\"#fb9f3a\"],[0.8888888888888888,\"#fdca26\"],[1.0,\"#f0f921\"]]}],\"heatmapgl\":[{\"type\":\"heatmapgl\",\"colorbar\":{\"outlinewidth\":0,\"ticks\":\"\"},\"colorscale\":[[0.0,\"#0d0887\"],[0.1111111111111111,\"#46039f\"],[0.2222222222222222,\"#7201a8\"],[0.3333333333333333,\"#9c179e\"],[0.4444444444444444,\"#bd3786\"],[0.5555555555555556,\"#d8576b\"],[0.6666666666666666,\"#ed7953\"],[0.7777777777777778,\"#fb9f3a\"],[0.8888888888888888,\"#fdca26\"],[1.0,\"#f0f921\"]]}],\"contourcarpet\":[{\"type\":\"contourcarpet\",\"colorbar\":{\"outlinewidth\":0,\"ticks\":\"\"}}],\"contour\":[{\"type\":\"contour\",\"colorbar\":{\"outlinewidth\":0,\"ticks\":\"\"},\"colorscale\":[[0.0,\"#0d0887\"],[0.1111111111111111,\"#46039f\"],[0.2222222222222222,\"#7201a8\"],[0.3333333333333333,\"#9c179e\"],[0.4444444444444444,\"#bd3786\"],[0.5555555555555556,\"#d8576b\"],[0.6666666666666666,\"#ed7953\"],[0.7777777777777778,\"#fb9f3a\"],[0.8888888888888888,\"#fdca26\"],[1.0,\"#f0f921\"]]}],\"surface\":[{\"type\":\"surface\",\"colorbar\":{\"outlinewidth\":0,\"ticks\":\"\"},\"colorscale\":[[0.0,\"#0d0887\"],[0.1111111111111111,\"#46039f\"],[0.2222222222222222,\"#7201a8\"],[0.3333333333333333,\"#9c179e\"],[0.4444444444444444,\"#bd3786\"],[0.5555555555555556,\"#d8576b\"],[0.6666666666666666,\"#ed7953\"],[0.7777777777777778,\"#fb9f3a\"],[0.8888888888888888,\"#fdca26\"],[1.0,\"#f0f921\"]]}],\"mesh3d\":[{\"type\":\"mesh3d\",\"colorbar\":{\"outlinewidth\":0,\"ticks\":\"\"}}],\"scatter\":[{\"fillpattern\":{\"fillmode\":\"overlay\",\"size\":10,\"solidity\":0.2},\"type\":\"scatter\"}],\"parcoords\":[{\"type\":\"parcoords\",\"line\":{\"colorbar\":{\"outlinewidth\":0,\"ticks\":\"\"}}}],\"scatterpolargl\":[{\"type\":\"scatterpolargl\",\"marker\":{\"colorbar\":{\"outlinewidth\":0,\"ticks\":\"\"}}}],\"bar\":[{\"error_x\":{\"color\":\"#2a3f5f\"},\"error_y\":{\"color\":\"#2a3f5f\"},\"marker\":{\"line\":{\"color\":\"#E5ECF6\",\"width\":0.5},\"pattern\":{\"fillmode\":\"overlay\",\"size\":10,\"solidity\":0.2}},\"type\":\"bar\"}],\"scattergeo\":[{\"type\":\"scattergeo\",\"marker\":{\"colorbar\":{\"outlinewidth\":0,\"ticks\":\"\"}}}],\"scatterpolar\":[{\"type\":\"scatterpolar\",\"marker\":{\"colorbar\":{\"outlinewidth\":0,\"ticks\":\"\"}}}],\"histogram\":[{\"marker\":{\"pattern\":{\"fillmode\":\"overlay\",\"size\":10,\"solidity\":0.2}},\"type\":\"histogram\"}],\"scattergl\":[{\"type\":\"scattergl\",\"marker\":{\"colorbar\":{\"outlinewidth\":0,\"ticks\":\"\"}}}],\"scatter3d\":[{\"type\":\"scatter3d\",\"line\":{\"colorbar\":{\"outlinewidth\":0,\"ticks\":\"\"}},\"marker\":{\"colorbar\":{\"outlinewidth\":0,\"ticks\":\"\"}}}],\"scattermapbox\":[{\"type\":\"scattermapbox\",\"marker\":{\"colorbar\":{\"outlinewidth\":0,\"ticks\":\"\"}}}],\"scatterternary\":[{\"type\":\"scatterternary\",\"marker\":{\"colorbar\":{\"outlinewidth\":0,\"ticks\":\"\"}}}],\"scattercarpet\":[{\"type\":\"scattercarpet\",\"marker\":{\"colorbar\":{\"outlinewidth\":0,\"ticks\":\"\"}}}],\"carpet\":[{\"aaxis\":{\"endlinecolor\":\"#2a3f5f\",\"gridcolor\":\"white\",\"linecolor\":\"white\",\"minorgridcolor\":\"white\",\"startlinecolor\":\"#2a3f5f\"},\"baxis\":{\"endlinecolor\":\"#2a3f5f\",\"gridcolor\":\"white\",\"linecolor\":\"white\",\"minorgridcolor\":\"white\",\"startlinecolor\":\"#2a3f5f\"},\"type\":\"carpet\"}],\"table\":[{\"cells\":{\"fill\":{\"color\":\"#EBF0F8\"},\"line\":{\"color\":\"white\"}},\"header\":{\"fill\":{\"color\":\"#C8D4E3\"},\"line\":{\"color\":\"white\"}},\"type\":\"table\"}],\"barpolar\":[{\"marker\":{\"line\":{\"color\":\"#E5ECF6\",\"width\":0.5},\"pattern\":{\"fillmode\":\"overlay\",\"size\":10,\"solidity\":0.2}},\"type\":\"barpolar\"}],\"pie\":[{\"automargin\":true,\"type\":\"pie\"}]},\"layout\":{\"autotypenumbers\":\"strict\",\"colorway\":[\"#636efa\",\"#EF553B\",\"#00cc96\",\"#ab63fa\",\"#FFA15A\",\"#19d3f3\",\"#FF6692\",\"#B6E880\",\"#FF97FF\",\"#FECB52\"],\"font\":{\"color\":\"#2a3f5f\"},\"hovermode\":\"closest\",\"hoverlabel\":{\"align\":\"left\"},\"paper_bgcolor\":\"white\",\"plot_bgcolor\":\"#E5ECF6\",\"polar\":{\"bgcolor\":\"#E5ECF6\",\"angularaxis\":{\"gridcolor\":\"white\",\"linecolor\":\"white\",\"ticks\":\"\"},\"radialaxis\":{\"gridcolor\":\"white\",\"linecolor\":\"white\",\"ticks\":\"\"}},\"ternary\":{\"bgcolor\":\"#E5ECF6\",\"aaxis\":{\"gridcolor\":\"white\",\"linecolor\":\"white\",\"ticks\":\"\"},\"baxis\":{\"gridcolor\":\"white\",\"linecolor\":\"white\",\"ticks\":\"\"},\"caxis\":{\"gridcolor\":\"white\",\"linecolor\":\"white\",\"ticks\":\"\"}},\"coloraxis\":{\"colorbar\":{\"outlinewidth\":0,\"ticks\":\"\"}},\"colorscale\":{\"sequential\":[[0.0,\"#0d0887\"],[0.1111111111111111,\"#46039f\"],[0.2222222222222222,\"#7201a8\"],[0.3333333333333333,\"#9c179e\"],[0.4444444444444444,\"#bd3786\"],[0.5555555555555556,\"#d8576b\"],[0.6666666666666666,\"#ed7953\"],[0.7777777777777778,\"#fb9f3a\"],[0.8888888888888888,\"#fdca26\"],[1.0,\"#f0f921\"]],\"sequentialminus\":[[0.0,\"#0d0887\"],[0.1111111111111111,\"#46039f\"],[0.2222222222222222,\"#7201a8\"],[0.3333333333333333,\"#9c179e\"],[0.4444444444444444,\"#bd3786\"],[0.5555555555555556,\"#d8576b\"],[0.6666666666666666,\"#ed7953\"],[0.7777777777777778,\"#fb9f3a\"],[0.8888888888888888,\"#fdca26\"],[1.0,\"#f0f921\"]],\"diverging\":[[0,\"#8e0152\"],[0.1,\"#c51b7d\"],[0.2,\"#de77ae\"],[0.3,\"#f1b6da\"],[0.4,\"#fde0ef\"],[0.5,\"#f7f7f7\"],[0.6,\"#e6f5d0\"],[0.7,\"#b8e186\"],[0.8,\"#7fbc41\"],[0.9,\"#4d9221\"],[1,\"#276419\"]]},\"xaxis\":{\"gridcolor\":\"white\",\"linecolor\":\"white\",\"ticks\":\"\",\"title\":{\"standoff\":15},\"zerolinecolor\":\"white\",\"automargin\":true,\"zerolinewidth\":2},\"yaxis\":{\"gridcolor\":\"white\",\"linecolor\":\"white\",\"ticks\":\"\",\"title\":{\"standoff\":15},\"zerolinecolor\":\"white\",\"automargin\":true,\"zerolinewidth\":2},\"scene\":{\"xaxis\":{\"backgroundcolor\":\"#E5ECF6\",\"gridcolor\":\"white\",\"linecolor\":\"white\",\"showbackground\":true,\"ticks\":\"\",\"zerolinecolor\":\"white\",\"gridwidth\":2},\"yaxis\":{\"backgroundcolor\":\"#E5ECF6\",\"gridcolor\":\"white\",\"linecolor\":\"white\",\"showbackground\":true,\"ticks\":\"\",\"zerolinecolor\":\"white\",\"gridwidth\":2},\"zaxis\":{\"backgroundcolor\":\"#E5ECF6\",\"gridcolor\":\"white\",\"linecolor\":\"white\",\"showbackground\":true,\"ticks\":\"\",\"zerolinecolor\":\"white\",\"gridwidth\":2}},\"shapedefaults\":{\"line\":{\"color\":\"#2a3f5f\"}},\"annotationdefaults\":{\"arrowcolor\":\"#2a3f5f\",\"arrowhead\":0,\"arrowwidth\":1},\"geo\":{\"bgcolor\":\"white\",\"landcolor\":\"#E5ECF6\",\"subunitcolor\":\"white\",\"showland\":true,\"showlakes\":true,\"lakecolor\":\"white\"},\"title\":{\"x\":0.05},\"mapbox\":{\"style\":\"light\"}}},\"xaxis\":{\"anchor\":\"y\",\"domain\":[0.0,1.0],\"title\":{\"text\":\"variable\"}},\"yaxis\":{\"anchor\":\"x\",\"domain\":[0.0,1.0],\"title\":{\"text\":\"value\"}},\"legend\":{\"tracegroupgap\":0},\"margin\":{\"t\":60},\"boxmode\":\"group\"},                        {\"responsive\": true}                    ).then(function(){\n",
              "                            \n",
              "var gd = document.getElementById('bace1863-2bdf-4f3d-a3af-e92761710d86');\n",
              "var x = new MutationObserver(function (mutations, observer) {{\n",
              "        var display = window.getComputedStyle(gd).display;\n",
              "        if (!display || display === 'none') {{\n",
              "            console.log([gd, 'removed!']);\n",
              "            Plotly.purge(gd);\n",
              "            observer.disconnect();\n",
              "        }}\n",
              "}});\n",
              "\n",
              "// Listen for the removal of the full notebook cells\n",
              "var notebookContainer = gd.closest('#notebook-container');\n",
              "if (notebookContainer) {{\n",
              "    x.observe(notebookContainer, {childList: true});\n",
              "}}\n",
              "\n",
              "// Listen for the clearing of the current output cell\n",
              "var outputEl = gd.closest('.output');\n",
              "if (outputEl) {{\n",
              "    x.observe(outputEl, {childList: true});\n",
              "}}\n",
              "\n",
              "                        })                };                            </script>        </div>\n",
              "</body>\n",
              "</html>"
            ]
          },
          "metadata": {}
        }
      ]
    },
    {
      "cell_type": "markdown",
      "source": [
        "**ФОТО ГРАФИКА plot express**\n",
        "\n",
        "![image_2023-10-12_16-19-03.png](data:image/png;base64,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)"
      ],
      "metadata": {
        "id": "AaBd9SzYif1I"
      }
    },
    {
      "cell_type": "markdown",
      "source": [
        "**По графику видно, что особо размаха значений не наблюдается. Существует несколько \"аномально\" высоких значений в сравнении в основной выборкой.**"
      ],
      "metadata": {
        "id": "eUAmVxmDPtkQ"
      }
    },
    {
      "cell_type": "code",
      "source": [
        "px.box(df, x='Metropolitan/Nonmetropolitan', y='Motor vehicle theft')"
      ],
      "metadata": {
        "id": "9ZRV3jjlq9NN",
        "colab": {
          "base_uri": "https://localhost:8080/",
          "height": 542
        },
        "outputId": "1042f431-ca26-45ee-e7e6-bdfc68f04e9e"
      },
      "execution_count": 9,
      "outputs": [
        {
          "output_type": "display_data",
          "data": {
            "text/html": [
              "<html>\n",
              "<head><meta charset=\"utf-8\" /></head>\n",
              "<body>\n",
              "    <div>            <script src=\"https://cdnjs.cloudflare.com/ajax/libs/mathjax/2.7.5/MathJax.js?config=TeX-AMS-MML_SVG\"></script><script type=\"text/javascript\">if (window.MathJax && window.MathJax.Hub && window.MathJax.Hub.Config) {window.MathJax.Hub.Config({SVG: {font: \"STIX-Web\"}});}</script>                <script type=\"text/javascript\">window.PlotlyConfig = {MathJaxConfig: 'local'};</script>\n",
              "        <script charset=\"utf-8\" src=\"https://cdn.plot.ly/plotly-2.24.1.min.js\"></script>                <div id=\"1e138315-4d62-4a01-bd63-2c005d66c108\" class=\"plotly-graph-div\" style=\"height:525px; width:100%;\"></div>            <script type=\"text/javascript\">                                    window.PLOTLYENV=window.PLOTLYENV || {};                                    if (document.getElementById(\"1e138315-4d62-4a01-bd63-2c005d66c108\")) {                    Plotly.newPlot(                        \"1e138315-4d62-4a01-bd63-2c005d66c108\",                        [{\"alignmentgroup\":\"True\",\"hovertemplate\":\"Metropolitan\\u002fNonmetropolitan=%{x}\\u003cbr\\u003eMotor vehicle theft=%{y}\\u003cextra\\u003e\\u003c\\u002fextra\\u003e\",\"legendgroup\":\"\",\"marker\":{\"color\":\"#636efa\"},\"name\":\"\",\"notched\":false,\"offsetgroup\":\"\",\"orientation\":\"v\",\"showlegend\":false,\"x\":[\"Metropolitan Counties\",\"Metropolitan Counties\",\"Metropolitan Counties\",\"Metropolitan Counties\",\"Metropolitan Counties\",\"Metropolitan Counties\",\"Metropolitan Counties\",\"Metropolitan Counties\",\"Metropolitan Counties\",\"Metropolitan Counties\",\"Metropolitan Counties\",\"Metropolitan Counties\",\"Metropolitan Counties\",\"Metropolitan Counties\",\"Metropolitan Counties\",\"Metropolitan Counties\",\"Metropolitan Counties\",\"Metropolitan Counties\",\"Metropolitan Counties\",\"Metropolitan Counties\",\"Metropolitan Counties\",\"Metropolitan Counties\",\"Metropolitan Counties\",\"Metropolitan Counties\",\"Metropolitan Counties\",\"Metropolitan Counties\",\"Metropolitan Counties\",\"Metropolitan Counties\",\"Metropolitan Counties\",\"Metropolitan Counties\",\"Metropolitan Counties\",\"Metropolitan Counties\",\"Metropolitan Counties\",\"Metropolitan Counties\",\"Metropolitan Counties\",\"Metropolitan Counties\",\"Nonmetropolitan Counties\",\"Nonmetropolitan Counties\",\"Nonmetropolitan Counties\",\"Nonmetropolitan Counties\",\"Nonmetropolitan Counties\",\"Nonmetropolitan Counties\",\"Nonmetropolitan Counties\",\"Nonmetropolitan Counties\",\"Nonmetropolitan Counties\",\"Nonmetropolitan Counties\",\"Nonmetropolitan Counties\",\"Nonmetropolitan Counties\",\"Nonmetropolitan Counties\",\"Nonmetropolitan Counties\",\"Nonmetropolitan Counties\",\"Nonmetropolitan Counties\",\"Nonmetropolitan Counties\",\"Nonmetropolitan Counties\",\"Nonmetropolitan Counties\",\"Nonmetropolitan Counties\",\"Nonmetropolitan Counties\",null,null,null,null,null,null,null,null,null,null,null,null,null,null,null,null,null,null,null,null,null,null,null,null,null,null,null,null,null,null,null,null,null,null,null,null,null,null,null,null,null,null,null,null,null,null,null,null,null,null,null,null,null,null,null,null,null,null,null,null,null,null,null,null,null,null,null,null,null,null,null,null,null,null,null,null,null,null,null,null,null,null,null,null,null,null,null,null,null,null,null,null,null,null,null,null,null,null,null,null,null,null,null,null,null,null,null,null,null,null,null,null,null,null,null,null,null,null,null,null,null,null,null,null,null,null,null,null,null,null,null,null,null,null,null,null,null,null,null,null,null,null,null,null,null,null,null,null,null,null,null,null,null,null,null,null,null,null,null,null,null,null,null,null,null,null,null,null,null,null,null,null,null,null,null,null,null,null,null,null,null,null,null,null,null,null,null,null,null,null,null,null,null,null,null,null,null,null,null,null,null,null,null,null,null,null,null,null,null,null,null,null,null,null,null,null,null,null,null,null,null,null,null,null,null,null,null,null,null,null,null,null,null,null,null,null,null,null,null,null,null,null,null,null,null,null,null,null,null,null,null,null,null,null,null,null,null,null,null,null,null,null,null,null,null,null,null,null,null,null,null,null,null,null,null,null,null,null,null,null,null,null,null,null,null,null,null,null,null,null,null,null,null,null,null,null,null,null,null,null,null,null,null,null,null,null,null,null,null,null,null,null,null,null,null,null,null,null,null,null,null,null,null,null,null,null,null,null,null,null,null,null,null,null,null,null,null,null,null,null,null,null,null,null,null,null,null,null,null,null,null,null,null,null,null,null,null,null,null,null,null,null,null,null,null,null,null,null,null,null,null,null,null,null,null,null,null,null,null,null,null,null,null,null,null,null,null,null,null,null,null,null,null,null,null,null,null,null,null,null,null,null,null,null,null,null,null,null,null,null,null,null,null,null,null,null,null,null,null,null,null,null,null,null,null,null,null,null,null,null,null,null,null,null,null,null,null,null,null,null,null,null,null,null,null,null,null,null,null,null,null,null,null,null,null,null,null,null,null,null,null,null,null,null,null,null,null,null,null,null,null,null,null,null,null,null,null,null,null,null,null,null,null,null,null,null,null,null,null,null,null,null,null,null,null,null,null,null,null,null,null,null,null,null,null,null,null,null,null,null,null,null,null,null,null,null,null,null,null,null,null,null,null,null,null,null,null,null,null,null,null,null,null,null,null,null,null,null,null,null,null,null,null,null,null,null,null,null,null,null,null,null,null,null,null,null,null,null,null,null,null,null,null,null,null,null,null,null,null,null,null,null,null,null,null,null,null,null,null,null,null,null,null,null,null,null,null,null,null,null,null,null,null,null,null,null,null,null,null,null,null,null,null,null,null,null,null,null,null,null,null,null,null,null,null,null,null,null,null,null,null,null,null,null,null,null,null,null,null,null,null,null,null,null,null,null,null,null,null,null,null,null,null,null,null,null,null,null,null,null,null,null,null,null,null,null,null,null,null,null,null,null,null,null,null,null,null,null,null,null,null,null,null,null,null,null,null,null,null,null,null,null,null,null,null,null,null,null,null,null,null,null,null,null,null,null,null,null,null,null,null,null,null,null,null,null,null,null,null,null,null,null,null,null,null,null,null,null,null,null,null,null,null,null,null,null,null,null,null,null,null,null,null,null,null,null,null,null,null,null,null,null,null,null,null,null,null,null,null,null,null,null,null,null,null,null,null,null,null,null,null,null,null,null,null,null,null,null,null,null,null,null,null,null,null,null,null,null,null,null,null,null,null,null,null,null,null,null,null,null,null,null,null,null,null,null,null,null,null,null,null,null,null,null,null,null,null,null,null,null,null,null,null,null,null,null,null,null,null,null,null,null,null,null,null,null,null,null,null,null,null,null,null,null,null,null,null,null,null,null,null,null,null,null,null,null,null,null,null,null,null,null,null,null,null,null,null,null,null,null,null,null,null,null,null,null,null,null,null,null,null,null,null,null,null,null,null,null,null,null,null,null,null,null,null,null,null,null,null,null,null,null,null,null,null,null,null,null,null,null,null,null,null,null,null,null,null,null,null,null,null,null,null,null,null,null,null,null,null,null,null,null,null,null,null,null,null,null,null,null,null,null,null,null,null,null,null,null,null,null,null,null,null,null,null,null,null,null,null,null,null,null,null,null,null,null,null,null,null,null,null,null,null,null,null,null,null,null,null,null,null,null,null,null,null,null,null,null,null,null,null,null,null,null,null,null,null,null,null,null,null,null,null,null,null,null,null,null,null,null,null,null,null,null,null,null,null,null,null,null,null,null,null,null,null,null,null,null,null,null,null,null,null,null,null,null,null,null,null,null,null,null,null,null,null,null,null,null,null,null,null,null,null,null,null,null,null,null,null,null,null,null,null,null,null,null,null,null,null,null,null,null,null,null,null,null,null,null,null,null,null,null,null,null,null,null,null,null,null,null,null,null,null,null,null,null,null,null,null,null,null,null,null,null,null,null,null,null,null,null,null,null,null,null,null,null,null,null,null,null,null,null,null,null,null,null,null,null,null,null,null,null,null,null,null,null,null,null,null,null,null,null,null,null,null,null,null,null,null,null,null,null,null,null,null,null,null,null,null,null,null,null,null,null,null,null,null,null,null,null,null,null,null,null,null,null,null,null,null,null,null,null,null,null,null,null,null,null,null,null,null,null,null,null,null,null,null,null,null,null,null,null,null,null,null,null,null,null,null,null,null,null,null,null,null,null,null,null,null,null,null,null,null,null,null,null,null,null,null,null,null,null,null,null,null,null,null,null,null,null,null,null,null,null,null,null,null,null,null,null,null,null,null,null,null,null,null,null,null,null,null,null,null,null,null,null,null,null,null,null,null,null,null,null,null,null,null,null,null,null,null,null,null,null,null,null,null,null,null,null,null,null,null,null,null,null,null,null,null,null,null,null,null,null,null,null,null,null,null,null,null,null,null,null,null,null,null,null,null,null,null,null,null,null,null,null,null,null,null,null,null,null,null,null,null,null,null,null,null,null,null,null,null,null,null,null,null,null,null,null,null,null,null,null,null,null,null,null,null,null,null,null,null,null,null,null,null,null,null,null,null,null,null,null,null,null,null,null,null,null,null,null,null,null,null,null,null,null,null,null,null,null,null,null,null,null,null,null,null,null,null,null,null,null,null,null,null,null,null,null,null,null,null,null,null,null,null,null,null,null,null,null,null,null,null,null,null,null,null,null,null,null,null,null,null,null,null,null,null,null,null,null,null,null,null,null,null,null,null,null,null,null,null,null,null,null,null,null,null,null,null,null,null,null,null,null,null,null,null,null,null,null,null,null,null,null,null,null,null,null,null,null,null,null,null,null,null,null,null,null,null,null,null,null,null,null,null,null,null,null,null,null,null,null,null,null,null,null,null,null,null,null,null,null,null,null,null,null,null,null,null,null,null,null,null,null,null,null,null,null,null,null,null,null,null,null,null,null,null,null,null,null,null,null,null,null,null,null,null,null,null,null,null,null,null,null,null,null,null,null,null,null,null,null,null,null,null,null,null,null,null,null,null,null,null,null,null,null,null,null,null,null,null,null,null,null,null,null,null,null,null,null,null,null,null,null,null,null,null,null,null,null,null,null,null,null,null,null,null,null,null,null,null,null,null,null,null,null,null,null,null,null,null,null,null,null,null,null,null,null,null,null,null,null,null,null,null,null,null,null,null,null,null,null,null,null,null,null,null,null,null,null,null,null,null,null,null,null,null,null,null,null,null,null,null,null,null,null,null,null,null,null,null,null,null,null,null,null,null,null,null,null,null,null,null,null,null,null,null,null,null,null,null,null,null,null,null,null,null,null,null,null,null,null,null,null,null,null,null,null,null,null,null,null,null,null,null,null,null,null,null,null,null,null,null,null,null,null,null,null,null,null,null,null,null,null,null,null,null,null,null,null,null,null,null,null,null,null,null,null,null,null,null,null,null,null,null,null,null,null,null,null,null,null,null,null,null,null,null,null,null,null,null,null,null,null,null,null,null,null,null,null,null,null,null,null,null,null,null,null,null,null,null,null,null,null,null,null,null,null,null,null,null,null,null,null,null,null,null,null,null,null,null,null,null,null,null,null,null,null,null,null,null,null,null,null,null,null,null,null,null,null,null,null,null,null,null,null,null,null,null,null,null,null,null,null,null,null,null,null,null,null,null,null,null,null,null,null,null,null,null,null,null,null,null,null,null,null,null,null,null,null,null,null,null,null,null,null,null,null,null,null,null,null,null,null,null,null,null,null,null,null,null,null,null,null,null,null,null,null,null,null,null,null,null,null,null,null,null,null,null,null,null,null,null,null,null,null,null,null,null,null,null,null,null,null,null,null,null,null,null,null,null,null,null,null,null,null,null,null,null,null,null,null,null,null,null,null,null,null,null,null,null,null,null,null,null,null,null,null,null,null,null,null,null,null,null,null,null,null,null,null,null,null,null,null,null,null,null,null,null,null,null,null,null,null,null,null,null,null,null,null,null,null,null,null,null,null,null,null,null,null,null,null,null,null,null,null,null,null,null,null,null,null,null,null,null,null,null,null,null,null,null,null,null,null,null,null,null,null,null,null,null,null,null,null,null,null,null,null,null,null,null,null,null,null,null,null,null,null,null,null,null,null,null,null,null,null,null,null,null,null,null,null,null,null,null,null,null,null,null,null,null,null,null,null,null,null,null,null,null,null,null,null,null,null,null,null,null,null,null,null,null,null,null,null,null,null,null,null,null,null,null,null,null,null,null,null,null,null,null,null,null,null,null,null,null,null,null,null,null,null,null,null,null,null,null,null,null,null,null,null,null,null,null,null,null,null,null,null,null,null,null,null,null,null,null,null,null,null,null,null,null,null,null,null,null,null,null,null,null,null,null,null,null,null,null,null,null,null,null,null,null,null,null,null,null,null,null,null,null,null,null,null,null,null,null,null,null,null,null,null,null,null,null,null,null,null,null,null,null,null,null,null,null,null,null,null,null,null,null,null,null,null,null,null,null,null,null,null,null,null,null,null,null,null,null,null,null,null,null,null,null,null,null,null,null,null,null,null,null,null,null,null,null,null,null,null,null,null,null,null,null,null,null,null,null,null,null,null,null,null,null,null,null,null,null,null,null,null,null,null,null,null,null,null,null,null,null,null,null,null,null,null,null,null,null,null,null,null,null,null,null,null,null,null,null,null,null,null,null,null,null,null,null,null,null,null,null,null,null,null,null,null,null,null,null,null,null,null,null,null,null,null,null,null,null,null,null,null,null,null,null,null,null,null,null,null,null,null,null,null,null,null,null,null,null,null,null,null,null,null,null,null,null,null,null,null,null,null,null,null,null,null,null,null,null,null,null,null,null,null,null,null,null,null,null,null,null,null,null,null,null,null,null,null,null,null,null,null,null,null,null,null,null,null,null,null,null,null,null,null,null,null,null,null,null,null,null,null,null,null,null,null,null,null,null,null,null,null,null,null,null,null,null,null,null,null,null,null,null,null,null,null,null,null,null,null,null,null,null,null,null,null,null,null,null,null,null,null,null,null,null,null,null,null,null,null,null,null,null,null,null,null,null,null,null,null,null,null,null,null,null,null,null,null,null,null,null,null,null,null,null,null,null,null,null,null,null,null,null,null,null,null,null,null,null,null,null,null,null,null,null,null,null,null,null,null,null,null,null,null,null,null,null,null,null,null,null,null,null,null,null,null,null,null,null,null,null,null,null,null,null,null,null,null,null,null,null,null,null,null,null,null,null],\"x0\":\" \",\"xaxis\":\"x\",\"y\":[629.0,21.0,21.0,42.0,574.0,28.0,1883.0,12.0,4203.0,10.0,3.0,54.0,27.0,1.0,142.0,42.0,1479.0,126.0,10.0,1225.0,788.0,144.0,13.0,376.0,13.0,198.0,8.0,46.0,42.0,14.0,51.0,45.0,0.0,83.0,15.0,7.0,1.0,5.0,19.0,1.0,4.0,2.0,31.0,1.0,5.0,0.0,2.0,6.0,0.0,1.0,15.0,4.0,3.0,9.0,1.0,3.0,6.0,null,null,null,null,null,null,null,null,null,null,null,null,null,null,null,null,null,null,null,null,null,null,null,null,null,null,null,null,null,null,null,null,null,null,null,null,null,null,null,null,null,null,null,null,null,null,null,null,null,null,null,null,null,null,null,null,null,null,null,null,null,null,null,null,null,null,null,null,null,null,null,null,null,null,null,null,null,null,null,null,null,null,null,null,null,null,null,null,null,null,null,null,null,null,null,null,null,null,null,null,null,null,null,null,null,null,null,null,null,null,null,null,null,null,null,null,null,null,null,null,null,null,null,null,null,null,null,null,null,null,null,null,null,null,null,null,null,null,null,null,null,null,null,null,null,null,null,null,null,null,null,null,null,null,null,null,null,null,null,null,null,null,null,null,null,null,null,null,null,null,null,null,null,null,null,null,null,null,null,null,null,null,null,null,null,null,null,null,null,null,null,null,null,null,null,null,null,null,null,null,null,null,null,null,null,null,null,null,null,null,null,null,null,null,null,null,null,null,null,null,null,null,null,null,null,null,null,null,null,null,null,null,null,null,null,null,null,null,null,null,null,null,null,null,null,null,null,null,null,null,null,null,null,null,null,null,null,null,null,null,null,null,null,null,null,null,null,null,null,null,null,null,null,null,null,null,null,null,null,null,null,null,null,null,null,null,null,null,null,null,null,null,null,null,null,null,null,null,null,null,null,null,null,null,null,null,null,null,null,null,null,null,null,null,null,null,null,null,null,null,null,null,null,null,null,null,null,null,null,null,null,null,null,null,null,null,null,null,null,null,null,null,null,null,null,null,null,null,null,null,null,null,null,null,null,null,null,null,null,null,null,null,null,null,null,null,null,null,null,null,null,null,null,null,null,null,null,null,null,null,null,null,null,null,null,null,null,null,null,null,null,null,null,null,null,null,null,null,null,null,null,null,null,null,null,null,null,null,null,null,null,null,null,null,null,null,null,null,null,null,null,null,null,null,null,null,null,null,null,null,null,null,null,null,null,null,null,null,null,null,null,null,null,null,null,null,null,null,null,null,null,null,null,null,null,null,null,null,null,null,null,null,null,null,null,null,null,null,null,null,null,null,null,null,null,null,null,null,null,null,null,null,null,null,null,null,null,null,null,null,null,null,null,null,null,null,null,null,null,null,null,null,null,null,null,null,null,null,null,null,null,null,null,null,null,null,null,null,null,null,null,null,null,null,null,null,null,null,null,null,null,null,null,null,null,null,null,null,null,null,null,null,null,null,null,null,null,null,null,null,null,null,null,null,null,null,null,null,null,null,null,null,null,null,null,null,null,null,null,null,null,null,null,null,null,null,null,null,null,null,null,null,null,null,null,null,null,null,null,null,null,null,null,null,null,null,null,null,null,null,null,null,null,null,null,null,null,null,null,null,null,null,null,null,null,null,null,null,null,null,null,null,null,null,null,null,null,null,null,null,null,null,null,null,null,null,null,null,null,null,null,null,null,null,null,null,null,null,null,null,null,null,null,null,null,null,null,null,null,null,null,null,null,null,null,null,null,null,null,null,null,null,null,null,null,null,null,null,null,null,null,null,null,null,null,null,null,null,null,null,null,null,null,null,null,null,null,null,null,null,null,null,null,null,null,null,null,null,null,null,null,null,null,null,null,null,null,null,null,null,null,null,null,null,null,null,null,null,null,null,null,null,null,null,null,null,null,null,null,null,null,null,null,null,null,null,null,null,null,null,null,null,null,null,null,null,null,null,null,null,null,null,null,null,null,null,null,null,null,null,null,null,null,null,null,null,null,null,null,null,null,null,null,null,null,null,null,null,null,null,null,null,null,null,null,null,null,null,null,null,null,null,null,null,null,null,null,null,null,null,null,null,null,null,null,null,null,null,null,null,null,null,null,null,null,null,null,null,null,null,null,null,null,null,null,null,null,null,null,null,null,null,null,null,null,null,null,null,null,null,null,null,null,null,null,null,null,null,null,null,null,null,null,null,null,null,null,null,null,null,null,null,null,null,null,null,null,null,null,null,null,null,null,null,null,null,null,null,null,null,null,null,null,null,null,null,null,null,null,null,null,null,null,null,null,null,null,null,null,null,null,null,null,null,null,null,null,null,null,null,null,null,null,null,null,null,null,null,null,null,null,null,null,null,null,null,null,null,null,null,null,null,null,null,null,null,null,null,null,null,null,null,null,null,null,null,null,null,null,null,null,null,null,null,null,null,null,null,null,null,null,null,null,null,null,null,null,null,null,null,null,null,null,null,null,null,null,null,null,null,null,null,null,null,null,null,null,null,null,null,null,null,null,null,null,null,null,null,null,null,null,null,null,null,null,null,null,null,null,null,null,null,null,null,null,null,null,null,null,null,null,null,null,null,null,null,null,null,null,null,null,null,null,null,null,null,null,null,null,null,null,null,null,null,null,null,null,null,null,null,null,null,null,null,null,null,null,null,null,null,null,null,null,null,null,null,null,null,null,null,null,null,null,null,null,null,null,null,null,null,null,null,null,null,null,null,null,null,null,null,null,null,null,null,null,null,null,null,null,null,null,null,null,null,null,null,null,null,null,null,null,null,null,null,null,null,null,null,null,null,null,null,null,null,null,null,null,null,null,null,null,null,null,null,null,null,null,null,null,null,null,null,null,null,null,null,null,null,null,null,null,null,null,null,null,null,null,null,null,null,null,null,null,null,null,null,null,null,null,null,null,null,null,null,null,null,null,null,null,null,null,null,null,null,null,null,null,null,null,null,null,null,null,null,null,null,null,null,null,null,null,null,null,null,null,null,null,null,null,null,null,null,null,null,null,null,null,null,null,null,null,null,null,null,null,null,null,null,null,null,null,null,null,null,null,null,null,null,null,null,null,null,null,null,null,null,null,null,null,null,null,null,null,null,null,null,null,null,null,null,null,null,null,null,null,null,null,null,null,null,null,null,null,null,null,null,null,null,null,null,null,null,null,null,null,null,null,null,null,null,null,null,null,null,null,null,null,null,null,null,null,null,null,null,null,null,null,null,null,null,null,null,null,null,null,null,null,null,null,null,null,null,null,null,null,null,null,null,null,null,null,null,null,null,null,null,null,null,null,null,null,null,null,null,null,null,null,null,null,null,null,null,null,null,null,null,null,null,null,null,null,null,null,null,null,null,null,null,null,null,null,null,null,null,null,null,null,null,null,null,null,null,null,null,null,null,null,null,null,null,null,null,null,null,null,null,null,null,null,null,null,null,null,null,null,null,null,null,null,null,null,null,null,null,null,null,null,null,null,null,null,null,null,null,null,null,null,null,null,null,null,null,null,null,null,null,null,null,null,null,null,null,null,null,null,null,null,null,null,null,null,null,null,null,null,null,null,null,null,null,null,null,null,null,null,null,null,null,null,null,null,null,null,null,null,null,null,null,null,null,null,null,null,null,null,null,null,null,null,null,null,null,null,null,null,null,null,null,null,null,null,null,null,null,null,null,null,null,null,null,null,null,null,null,null,null,null,null,null,null,null,null,null,null,null,null,null,null,null,null,null,null,null,null,null,null,null,null,null,null,null,null,null,null,null,null,null,null,null,null,null,null,null,null,null,null,null,null,null,null,null,null,null,null,null,null,null,null,null,null,null,null,null,null,null,null,null,null,null,null,null,null,null,null,null,null,null,null,null,null,null,null,null,null,null,null,null,null,null,null,null,null,null,null,null,null,null,null,null,null,null,null,null,null,null,null,null,null,null,null,null,null,null,null,null,null,null,null,null,null,null,null,null,null,null,null,null,null,null,null,null,null,null,null,null,null,null,null,null,null,null,null,null,null,null,null,null,null,null,null,null,null,null,null,null,null,null,null,null,null,null,null,null,null,null,null,null,null,null,null,null,null,null,null,null,null,null,null,null,null,null,null,null,null,null,null,null,null,null,null,null,null,null,null,null,null,null,null,null,null,null,null,null,null,null,null,null,null,null,null,null,null,null,null,null,null,null,null,null,null,null,null,null,null,null,null,null,null,null,null,null,null,null,null,null,null,null,null,null,null,null,null,null,null,null,null,null,null,null,null,null,null,null,null,null,null,null,null,null,null,null,null,null,null,null,null,null,null,null,null,null,null,null,null,null,null,null,null,null,null,null,null,null,null,null,null,null,null,null,null,null,null,null,null,null,null,null,null,null,null,null,null,null,null,null,null,null,null,null,null,null,null,null,null,null,null,null,null,null,null,null,null,null,null,null,null,null,null,null,null,null,null,null,null,null,null,null,null,null,null,null,null,null,null,null,null,null,null,null,null,null,null,null,null,null,null,null,null,null,null,null,null,null,null,null,null,null,null,null,null,null,null,null,null,null,null,null,null,null,null,null,null,null,null,null,null,null,null,null,null,null,null,null,null,null,null,null,null,null,null,null,null,null,null,null,null,null,null,null,null,null,null,null,null,null,null,null,null,null,null,null,null,null,null,null,null,null,null,null,null,null,null,null,null,null,null,null,null,null,null,null,null,null,null,null,null,null,null,null,null,null,null,null,null,null,null,null,null,null,null,null,null,null,null,null,null,null,null,null,null,null,null,null,null,null,null,null,null,null,null,null,null,null,null,null,null,null,null,null,null,null,null,null,null,null,null,null,null,null,null,null,null,null,null,null,null,null,null,null,null,null,null,null,null,null,null,null,null,null,null,null,null,null,null,null,null,null,null,null,null,null,null,null,null,null,null,null,null,null,null,null,null,null,null,null,null,null,null,null,null,null,null,null,null,null,null,null,null,null,null,null,null,null,null,null,null,null,null,null,null,null,null,null,null,null,null,null,null,null,null,null,null,null,null,null,null,null,null,null,null,null,null,null,null,null,null,null,null,null,null,null,null,null,null,null,null,null,null,null,null,null,null,null,null,null,null,null,null,null,null,null,null,null,null,null,null,null,null,null,null,null,null,null,null,null,null,null,null,null,null,null,null,null,null,null,null,null,null,null,null,null,null,null,null,null,null,null,null,null,null,null,null,null,null,null,null,null,null,null,null,null,null,null,null,null,null,null,null,null,null,null,null,null,null,null,null,null,null,null,null,null,null,null,null,null,null,null,null,null,null,null,null,null,null,null,null,null,null,null,null,null,null,null,null,null,null,null,null,null,null,null,null,null,null,null,null,null,null,null,null,null,null,null,null,null,null,null,null,null,null,null,null,null,null,null,null,null,null,null,null,null,null,null,null,null,null,null,null,null,null,null,null,null,null,null,null,null,null,null,null,null,null,null,null,null,null,null,null,null,null,null,null,null,null,null,null,null,null,null,null,null,null,null,null,null,null,null,null,null,null,null,null,null,null,null,null,null,null,null,null,null,null,null,null,null,null,null,null,null,null,null,null,null,null,null,null,null,null,null,null,null,null,null,null,null,null,null,null,null,null,null,null,null,null,null,null,null,null,null,null,null,null,null,null,null,null,null,null,null,null,null,null,null,null,null,null,null,null,null,null,null,null,null,null,null,null,null,null,null,null,null,null,null,null,null,null,null,null,null,null,null,null,null,null,null,null,null,null,null,null,null,null,null,null,null,null,null,null,null,null,null,null,null,null,null,null,null,null,null,null,null,null,null,null,null,null,null,null,null,null,null,null,null,null,null,null,null,null,null,null,null,null,null,null,null,null,null,null,null,null,null,null,null,null,null,null,null,null,null,null,null,null,null,null,null,null,null,null,null,null,null,null,null,null,null,null,null,null,null,null,null,null,null,null,null,null,null,null,null,null,null,null,null,null,null,null,null,null,null,null,null,null,null,null,null,null,null,null,null,null,null,null,null,null,null],\"y0\":\" \",\"yaxis\":\"y\",\"type\":\"box\"}],                        {\"template\":{\"data\":{\"histogram2dcontour\":[{\"type\":\"histogram2dcontour\",\"colorbar\":{\"outlinewidth\":0,\"ticks\":\"\"},\"colorscale\":[[0.0,\"#0d0887\"],[0.1111111111111111,\"#46039f\"],[0.2222222222222222,\"#7201a8\"],[0.3333333333333333,\"#9c179e\"],[0.4444444444444444,\"#bd3786\"],[0.5555555555555556,\"#d8576b\"],[0.6666666666666666,\"#ed7953\"],[0.7777777777777778,\"#fb9f3a\"],[0.8888888888888888,\"#fdca26\"],[1.0,\"#f0f921\"]]}],\"choropleth\":[{\"type\":\"choropleth\",\"colorbar\":{\"outlinewidth\":0,\"ticks\":\"\"}}],\"histogram2d\":[{\"type\":\"histogram2d\",\"colorbar\":{\"outlinewidth\":0,\"ticks\":\"\"},\"colorscale\":[[0.0,\"#0d0887\"],[0.1111111111111111,\"#46039f\"],[0.2222222222222222,\"#7201a8\"],[0.3333333333333333,\"#9c179e\"],[0.4444444444444444,\"#bd3786\"],[0.5555555555555556,\"#d8576b\"],[0.6666666666666666,\"#ed7953\"],[0.7777777777777778,\"#fb9f3a\"],[0.8888888888888888,\"#fdca26\"],[1.0,\"#f0f921\"]]}],\"heatmap\":[{\"type\":\"heatmap\",\"colorbar\":{\"outlinewidth\":0,\"ticks\":\"\"},\"colorscale\":[[0.0,\"#0d0887\"],[0.1111111111111111,\"#46039f\"],[0.2222222222222222,\"#7201a8\"],[0.3333333333333333,\"#9c179e\"],[0.4444444444444444,\"#bd3786\"],[0.5555555555555556,\"#d8576b\"],[0.6666666666666666,\"#ed7953\"],[0.7777777777777778,\"#fb9f3a\"],[0.8888888888888888,\"#fdca26\"],[1.0,\"#f0f921\"]]}],\"heatmapgl\":[{\"type\":\"heatmapgl\",\"colorbar\":{\"outlinewidth\":0,\"ticks\":\"\"},\"colorscale\":[[0.0,\"#0d0887\"],[0.1111111111111111,\"#46039f\"],[0.2222222222222222,\"#7201a8\"],[0.3333333333333333,\"#9c179e\"],[0.4444444444444444,\"#bd3786\"],[0.5555555555555556,\"#d8576b\"],[0.6666666666666666,\"#ed7953\"],[0.7777777777777778,\"#fb9f3a\"],[0.8888888888888888,\"#fdca26\"],[1.0,\"#f0f921\"]]}],\"contourcarpet\":[{\"type\":\"contourcarpet\",\"colorbar\":{\"outlinewidth\":0,\"ticks\":\"\"}}],\"contour\":[{\"type\":\"contour\",\"colorbar\":{\"outlinewidth\":0,\"ticks\":\"\"},\"colorscale\":[[0.0,\"#0d0887\"],[0.1111111111111111,\"#46039f\"],[0.2222222222222222,\"#7201a8\"],[0.3333333333333333,\"#9c179e\"],[0.4444444444444444,\"#bd3786\"],[0.5555555555555556,\"#d8576b\"],[0.6666666666666666,\"#ed7953\"],[0.7777777777777778,\"#fb9f3a\"],[0.8888888888888888,\"#fdca26\"],[1.0,\"#f0f921\"]]}],\"surface\":[{\"type\":\"surface\",\"colorbar\":{\"outlinewidth\":0,\"ticks\":\"\"},\"colorscale\":[[0.0,\"#0d0887\"],[0.1111111111111111,\"#46039f\"],[0.2222222222222222,\"#7201a8\"],[0.3333333333333333,\"#9c179e\"],[0.4444444444444444,\"#bd3786\"],[0.5555555555555556,\"#d8576b\"],[0.6666666666666666,\"#ed7953\"],[0.7777777777777778,\"#fb9f3a\"],[0.8888888888888888,\"#fdca26\"],[1.0,\"#f0f921\"]]}],\"mesh3d\":[{\"type\":\"mesh3d\",\"colorbar\":{\"outlinewidth\":0,\"ticks\":\"\"}}],\"scatter\":[{\"fillpattern\":{\"fillmode\":\"overlay\",\"size\":10,\"solidity\":0.2},\"type\":\"scatter\"}],\"parcoords\":[{\"type\":\"parcoords\",\"line\":{\"colorbar\":{\"outlinewidth\":0,\"ticks\":\"\"}}}],\"scatterpolargl\":[{\"type\":\"scatterpolargl\",\"marker\":{\"colorbar\":{\"outlinewidth\":0,\"ticks\":\"\"}}}],\"bar\":[{\"error_x\":{\"color\":\"#2a3f5f\"},\"error_y\":{\"color\":\"#2a3f5f\"},\"marker\":{\"line\":{\"color\":\"#E5ECF6\",\"width\":0.5},\"pattern\":{\"fillmode\":\"overlay\",\"size\":10,\"solidity\":0.2}},\"type\":\"bar\"}],\"scattergeo\":[{\"type\":\"scattergeo\",\"marker\":{\"colorbar\":{\"outlinewidth\":0,\"ticks\":\"\"}}}],\"scatterpolar\":[{\"type\":\"scatterpolar\",\"marker\":{\"colorbar\":{\"outlinewidth\":0,\"ticks\":\"\"}}}],\"histogram\":[{\"marker\":{\"pattern\":{\"fillmode\":\"overlay\",\"size\":10,\"solidity\":0.2}},\"type\":\"histogram\"}],\"scattergl\":[{\"type\":\"scattergl\",\"marker\":{\"colorbar\":{\"outlinewidth\":0,\"ticks\":\"\"}}}],\"scatter3d\":[{\"type\":\"scatter3d\",\"line\":{\"colorbar\":{\"outlinewidth\":0,\"ticks\":\"\"}},\"marker\":{\"colorbar\":{\"outlinewidth\":0,\"ticks\":\"\"}}}],\"scattermapbox\":[{\"type\":\"scattermapbox\",\"marker\":{\"colorbar\":{\"outlinewidth\":0,\"ticks\":\"\"}}}],\"scatterternary\":[{\"type\":\"scatterternary\",\"marker\":{\"colorbar\":{\"outlinewidth\":0,\"ticks\":\"\"}}}],\"scattercarpet\":[{\"type\":\"scattercarpet\",\"marker\":{\"colorbar\":{\"outlinewidth\":0,\"ticks\":\"\"}}}],\"carpet\":[{\"aaxis\":{\"endlinecolor\":\"#2a3f5f\",\"gridcolor\":\"white\",\"linecolor\":\"white\",\"minorgridcolor\":\"white\",\"startlinecolor\":\"#2a3f5f\"},\"baxis\":{\"endlinecolor\":\"#2a3f5f\",\"gridcolor\":\"white\",\"linecolor\":\"white\",\"minorgridcolor\":\"white\",\"startlinecolor\":\"#2a3f5f\"},\"type\":\"carpet\"}],\"table\":[{\"cells\":{\"fill\":{\"color\":\"#EBF0F8\"},\"line\":{\"color\":\"white\"}},\"header\":{\"fill\":{\"color\":\"#C8D4E3\"},\"line\":{\"color\":\"white\"}},\"type\":\"table\"}],\"barpolar\":[{\"marker\":{\"line\":{\"color\":\"#E5ECF6\",\"width\":0.5},\"pattern\":{\"fillmode\":\"overlay\",\"size\":10,\"solidity\":0.2}},\"type\":\"barpolar\"}],\"pie\":[{\"automargin\":true,\"type\":\"pie\"}]},\"layout\":{\"autotypenumbers\":\"strict\",\"colorway\":[\"#636efa\",\"#EF553B\",\"#00cc96\",\"#ab63fa\",\"#FFA15A\",\"#19d3f3\",\"#FF6692\",\"#B6E880\",\"#FF97FF\",\"#FECB52\"],\"font\":{\"color\":\"#2a3f5f\"},\"hovermode\":\"closest\",\"hoverlabel\":{\"align\":\"left\"},\"paper_bgcolor\":\"white\",\"plot_bgcolor\":\"#E5ECF6\",\"polar\":{\"bgcolor\":\"#E5ECF6\",\"angularaxis\":{\"gridcolor\":\"white\",\"linecolor\":\"white\",\"ticks\":\"\"},\"radialaxis\":{\"gridcolor\":\"white\",\"linecolor\":\"white\",\"ticks\":\"\"}},\"ternary\":{\"bgcolor\":\"#E5ECF6\",\"aaxis\":{\"gridcolor\":\"white\",\"linecolor\":\"white\",\"ticks\":\"\"},\"baxis\":{\"gridcolor\":\"white\",\"linecolor\":\"white\",\"ticks\":\"\"},\"caxis\":{\"gridcolor\":\"white\",\"linecolor\":\"white\",\"ticks\":\"\"}},\"coloraxis\":{\"colorbar\":{\"outlinewidth\":0,\"ticks\":\"\"}},\"colorscale\":{\"sequential\":[[0.0,\"#0d0887\"],[0.1111111111111111,\"#46039f\"],[0.2222222222222222,\"#7201a8\"],[0.3333333333333333,\"#9c179e\"],[0.4444444444444444,\"#bd3786\"],[0.5555555555555556,\"#d8576b\"],[0.6666666666666666,\"#ed7953\"],[0.7777777777777778,\"#fb9f3a\"],[0.8888888888888888,\"#fdca26\"],[1.0,\"#f0f921\"]],\"sequentialminus\":[[0.0,\"#0d0887\"],[0.1111111111111111,\"#46039f\"],[0.2222222222222222,\"#7201a8\"],[0.3333333333333333,\"#9c179e\"],[0.4444444444444444,\"#bd3786\"],[0.5555555555555556,\"#d8576b\"],[0.6666666666666666,\"#ed7953\"],[0.7777777777777778,\"#fb9f3a\"],[0.8888888888888888,\"#fdca26\"],[1.0,\"#f0f921\"]],\"diverging\":[[0,\"#8e0152\"],[0.1,\"#c51b7d\"],[0.2,\"#de77ae\"],[0.3,\"#f1b6da\"],[0.4,\"#fde0ef\"],[0.5,\"#f7f7f7\"],[0.6,\"#e6f5d0\"],[0.7,\"#b8e186\"],[0.8,\"#7fbc41\"],[0.9,\"#4d9221\"],[1,\"#276419\"]]},\"xaxis\":{\"gridcolor\":\"white\",\"linecolor\":\"white\",\"ticks\":\"\",\"title\":{\"standoff\":15},\"zerolinecolor\":\"white\",\"automargin\":true,\"zerolinewidth\":2},\"yaxis\":{\"gridcolor\":\"white\",\"linecolor\":\"white\",\"ticks\":\"\",\"title\":{\"standoff\":15},\"zerolinecolor\":\"white\",\"automargin\":true,\"zerolinewidth\":2},\"scene\":{\"xaxis\":{\"backgroundcolor\":\"#E5ECF6\",\"gridcolor\":\"white\",\"linecolor\":\"white\",\"showbackground\":true,\"ticks\":\"\",\"zerolinecolor\":\"white\",\"gridwidth\":2},\"yaxis\":{\"backgroundcolor\":\"#E5ECF6\",\"gridcolor\":\"white\",\"linecolor\":\"white\",\"showbackground\":true,\"ticks\":\"\",\"zerolinecolor\":\"white\",\"gridwidth\":2},\"zaxis\":{\"backgroundcolor\":\"#E5ECF6\",\"gridcolor\":\"white\",\"linecolor\":\"white\",\"showbackground\":true,\"ticks\":\"\",\"zerolinecolor\":\"white\",\"gridwidth\":2}},\"shapedefaults\":{\"line\":{\"color\":\"#2a3f5f\"}},\"annotationdefaults\":{\"arrowcolor\":\"#2a3f5f\",\"arrowhead\":0,\"arrowwidth\":1},\"geo\":{\"bgcolor\":\"white\",\"landcolor\":\"#E5ECF6\",\"subunitcolor\":\"white\",\"showland\":true,\"showlakes\":true,\"lakecolor\":\"white\"},\"title\":{\"x\":0.05},\"mapbox\":{\"style\":\"light\"}}},\"xaxis\":{\"anchor\":\"y\",\"domain\":[0.0,1.0],\"title\":{\"text\":\"Metropolitan\\u002fNonmetropolitan\"}},\"yaxis\":{\"anchor\":\"x\",\"domain\":[0.0,1.0],\"title\":{\"text\":\"Motor vehicle theft\"}},\"legend\":{\"tracegroupgap\":0},\"margin\":{\"t\":60},\"boxmode\":\"group\"},                        {\"responsive\": true}                    ).then(function(){\n",
              "                            \n",
              "var gd = document.getElementById('1e138315-4d62-4a01-bd63-2c005d66c108');\n",
              "var x = new MutationObserver(function (mutations, observer) {{\n",
              "        var display = window.getComputedStyle(gd).display;\n",
              "        if (!display || display === 'none') {{\n",
              "            console.log([gd, 'removed!']);\n",
              "            Plotly.purge(gd);\n",
              "            observer.disconnect();\n",
              "        }}\n",
              "}});\n",
              "\n",
              "// Listen for the removal of the full notebook cells\n",
              "var notebookContainer = gd.closest('#notebook-container');\n",
              "if (notebookContainer) {{\n",
              "    x.observe(notebookContainer, {childList: true});\n",
              "}}\n",
              "\n",
              "// Listen for the clearing of the current output cell\n",
              "var outputEl = gd.closest('.output');\n",
              "if (outputEl) {{\n",
              "    x.observe(outputEl, {childList: true});\n",
              "}}\n",
              "\n",
              "                        })                };                            </script>        </div>\n",
              "</body>\n",
              "</html>"
            ]
          },
          "metadata": {}
        }
      ]
    },
    {
      "cell_type": "markdown",
      "source": [
        "**ФОТО ГРАФИКА plot express**\n",
        "\n",
        "![image_2023-10-12_16-19-46.png](data:image/png;base64,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)"
      ],
      "metadata": {
        "id": "K4Uyheq-ioCf"
      }
    },
    {
      "cell_type": "markdown",
      "source": [
        "**Относительно категориальной переменной мы видим несколько значений из выборки (Metropolitan Counties), которые выбиваются. Однако в Nonmetropolitan Counties таких значений почти нет (вероятно потому что данных по MC > NMC)**"
      ],
      "metadata": {
        "id": "EXHNWRbkQUTS"
      }
    },
    {
      "cell_type": "markdown",
      "source": [
        "Постройте диаграмму рассеивания для числовых признаков вашего датасета.\n",
        "\n",
        "*p.s. Если у вас только один числовой признак, преобразуйте категориальный при помощи LabelEncoder (https://scikit-learn.org/stable/modules/generated/sklearn.preprocessing.LabelEncoder.html)*"
      ],
      "metadata": {
        "id": "mj8cdITDZh53"
      }
    },
    {
      "cell_type": "code",
      "source": [
        "px.scatter(df, x = 'Motor vehicle theft', y = 'Arson')"
      ],
      "metadata": {
        "id": "V2-ZoNUcZ_2l",
        "colab": {
          "base_uri": "https://localhost:8080/",
          "height": 542
        },
        "outputId": "11469b9e-0e21-432d-c868-f981afa71b13"
      },
      "execution_count": 10,
      "outputs": [
        {
          "output_type": "display_data",
          "data": {
            "text/html": [
              "<html>\n",
              "<head><meta charset=\"utf-8\" /></head>\n",
              "<body>\n",
              "    <div>            <script src=\"https://cdnjs.cloudflare.com/ajax/libs/mathjax/2.7.5/MathJax.js?config=TeX-AMS-MML_SVG\"></script><script type=\"text/javascript\">if (window.MathJax && window.MathJax.Hub && window.MathJax.Hub.Config) {window.MathJax.Hub.Config({SVG: {font: \"STIX-Web\"}});}</script>                <script type=\"text/javascript\">window.PlotlyConfig = {MathJaxConfig: 'local'};</script>\n",
              "        <script charset=\"utf-8\" src=\"https://cdn.plot.ly/plotly-2.24.1.min.js\"></script>                <div id=\"d0e2f2d2-5c0e-44a3-8066-f5cff000b57f\" class=\"plotly-graph-div\" style=\"height:525px; width:100%;\"></div>            <script type=\"text/javascript\">                                    window.PLOTLYENV=window.PLOTLYENV || {};                                    if (document.getElementById(\"d0e2f2d2-5c0e-44a3-8066-f5cff000b57f\")) {                    Plotly.newPlot(                        \"d0e2f2d2-5c0e-44a3-8066-f5cff000b57f\",                        [{\"hovertemplate\":\"Motor vehicle theft=%{x}\\u003cbr\\u003eArson=%{y}\\u003cextra\\u003e\\u003c\\u002fextra\\u003e\",\"legendgroup\":\"\",\"marker\":{\"color\":\"#636efa\",\"symbol\":\"circle\"},\"mode\":\"markers\",\"name\":\"\",\"showlegend\":false,\"x\":[629.0,21.0,21.0,42.0,574.0,28.0,1883.0,12.0,4203.0,10.0,3.0,54.0,27.0,1.0,142.0,42.0,1479.0,126.0,10.0,1225.0,788.0,144.0,13.0,376.0,13.0,198.0,8.0,46.0,42.0,14.0,51.0,45.0,0.0,83.0,15.0,7.0,1.0,5.0,19.0,1.0,4.0,2.0,31.0,1.0,5.0,0.0,2.0,6.0,0.0,1.0,15.0,4.0,3.0,9.0,1.0,3.0,6.0,null,null,null,null,null,null,null,null,null,null,null,null,null,null,null,null,null,null,null,null,null,null,null,null,null,null,null,null,null,null,null,null,null,null,null,null,null,null,null,null,null,null,null,null,null,null,null,null,null,null,null,null,null,null,null,null,null,null,null,null,null,null,null,null,null,null,null,null,null,null,null,null,null,null,null,null,null,null,null,null,null,null,null,null,null,null,null,null,null,null,null,null,null,null,null,null,null,null,null,null,null,null,null,null,null,null,null,null,null,null,null,null,null,null,null,null,null,null,null,null,null,null,null,null,null,null,null,null,null,null,null,null,null,null,null,null,null,null,null,null,null,null,null,null,null,null,null,null,null,null,null,null,null,null,null,null,null,null,null,null,null,null,null,null,null,null,null,null,null,null,null,null,null,null,null,null,null,null,null,null,null,null,null,null,null,null,null,null,null,null,null,null,null,null,null,null,null,null,null,null,null,null,null,null,null,null,null,null,null,null,null,null,null,null,null,null,null,null,null,null,null,null,null,null,null,null,null,null,null,null,null,null,null,null,null,null,null,null,null,null,null,null,null,null,null,null,null,null,null,null,null,null,null,null,null,null,null,null,null,null,null,null,null,null,null,null,null,null,null,null,null,null,null,null,null,null,null,null,null,null,null,null,null,null,null,null,null,null,null,null,null,null,null,null,null,null,null,null,null,null,null,null,null,null,null,null,null,null,null,null,null,null,null,null,null,null,null,null,null,null,null,null,null,null,null,null,null,null,null,null,null,null,null,null,null,null,null,null,null,null,null,null,null,null,null,null,null,null,null,null,null,null,null,null,null,null,null,null,null,null,null,null,null,null,null,null,null,null,null,null,null,null,null,null,null,null,null,null,null,null,null,null,null,null,null,null,null,null,null,null,null,null,null,null,null,null,null,null,null,null,null,null,null,null,null,null,null,null,null,null,null,null,null,null,null,null,null,null,null,null,null,null,null,null,null,null,null,null,null,null,null,null,null,null,null,null,null,null,null,null,null,null,null,null,null,null,null,null,null,null,null,null,null,null,null,null,null,null,null,null,null,null,null,null,null,null,null,null,null,null,null,null,null,null,null,null,null,null,null,null,null,null,null,null,null,null,null,null,null,null,null,null,null,null,null,null,null,null,null,null,null,null,null,null,null,null,null,null,null,null,null,null,null,null,null,null,null,null,null,null,null,null,null,null,null,null,null,null,null,null,null,null,null,null,null,null,null,null,null,null,null,null,null,null,null,null,null,null,null,null,null,null,null,null,null,null,null,null,null,null,null,null,null,null,null,null,null,null,null,null,null,null,null,null,null,null,null,null,null,null,null,null,null,null,null,null,null,null,null,null,null,null,null,null,null,null,null,null,null,null,null,null,null,null,null,null,null,null,null,null,null,null,null,null,null,null,null,null,null,null,null,null,null,null,null,null,null,null,null,null,null,null,null,null,null,null,null,null,null,null,null,null,null,null,null,null,null,null,null,null,null,null,null,null,null,null,null,null,null,null,null,null,null,null,null,null,null,null,null,null,null,null,null,null,null,null,null,null,null,null,null,null,null,null,null,null,null,null,null,null,null,null,null,null,null,null,null,null,null,null,null,null,null,null,null,null,null,null,null,null,null,null,null,null,null,null,null,null,null,null,null,null,null,null,null,null,null,null,null,null,null,null,null,null,null,null,null,null,null,null,null,null,null,null,null,null,null,null,null,null,null,null,null,null,null,null,null,null,null,null,null,null,null,null,null,null,null,null,null,null,null,null,null,null,null,null,null,null,null,null,null,null,null,null,null,null,null,null,null,null,null,null,null,null,null,null,null,null,null,null,null,null,null,null,null,null,null,null,null,null,null,null,null,null,null,null,null,null,null,null,null,null,null,null,null,null,null,null,null,null,null,null,null,null,null,null,null,null,null,null,null,null,null,null,null,null,null,null,null,null,null,null,null,null,null,null,null,null,null,null,null,null,null,null,null,null,null,null,null,null,null,null,null,null,null,null,null,null,null,null,null,null,null,null,null,null,null,null,null,null,null,null,null,null,null,null,null,null,null,null,null,null,null,null,null,null,null,null,null,null,null,null,null,null,null,null,null,null,null,null,null,null,null,null,null,null,null,null,null,null,null,null,null,null,null,null,null,null,null,null,null,null,null,null,null,null,null,null,null,null,null,null,null,null,null,null,null,null,null,null,null,null,null,null,null,null,null,null,null,null,null,null,null,null,null,null,null,null,null,null,null,null,null,null,null,null,null,null,null,null,null,null,null,null,null,null,null,null,null,null,null,null,null,null,null,null,null,null,null,null,null,null,null,null,null,null,null,null,null,null,null,null,null,null,null,null,null,null,null,null,null,null,null,null,null,null,null,null,null,null,null,null,null,null,null,null,null,null,null,null,null,null,null,null,null,null,null,null,null,null,null,null,null,null,null,null,null,null,null,null,null,null,null,null,null,null,null,null,null,null,null,null,null,null,null,null,null,null,null,null,null,null,null,null,null,null,null,null,null,null,null,null,null,null,null,null,null,null,null,null,null,null,null,null,null,null,null,null,null,null,null,null,null,null,null,null,null,null,null,null,null,null,null,null,null,null,null,null,null,null,null,null,null,null,null,null,null,null,null,null,null,null,null,null,null,null,null,null,null,null,null,null,null,null,null,null,null,null,null,null,null,null,null,null,null,null,null,null,null,null,null,null,null,null,null,null,null,null,null,null,null,null,null,null,null,null,null,null,null,null,null,null,null,null,null,null,null,null,null,null,null,null,null,null,null,null,null,null,null,null,null,null,null,null,null,null,null,null,null,null,null,null,null,null,null,null,null,null,null,null,null,null,null,null,null,null,null,null,null,null,null,null,null,null,null,null,null,null,null,null,null,null,null,null,null,null,null,null,null,null,null,null,null,null,null,null,null,null,null,null,null,null,null,null,null,null,null,null,null,null,null,null,null,null,null,null,null,null,null,null,null,null,null,null,null,null,null,null,null,null,null,null,null,null,null,null,null,null,null,null,null,null,null,null,null,null,null,null,null,null,null,null,null,null,null,null,null,null,null,null,null,null,null,null,null,null,null,null,null,null,null,null,null,null,null,null,null,null,null,null,null,null,null,null,null,null,null,null,null,null,null,null,null,null,null,null,null,null,null,null,null,null,null,null,null,null,null,null,null,null,null,null,null,null,null,null,null,null,null,null,null,null,null,null,null,null,null,null,null,null,null,null,null,null,null,null,null,null,null,null,null,null,null,null,null,null,null,null,null,null,null,null,null,null,null,null,null,null,null,null,null,null,null,null,null,null,null,null,null,null,null,null,null,null,null,null,null,null,null,null,null,null,null,null,null,null,null,null,null,null,null,null,null,null,null,null,null,null,null,null,null,null,null,null,null,null,null,null,null,null,null,null,null,null,null,null,null,null,null,null,null,null,null,null,null,null,null,null,null,null,null,null,null,null,null,null,null,null,null,null,null,null,null,null,null,null,null,null,null,null,null,null,null,null,null,null,null,null,null,null,null,null,null,null,null,null,null,null,null,null,null,null,null,null,null,null,null,null,null,null,null,null,null,null,null,null,null,null,null,null,null,null,null,null,null,null,null,null,null,null,null,null,null,null,null,null,null,null,null,null,null,null,null,null,null,null,null,null,null,null,null,null,null,null,null,null,null,null,null,null,null,null,null,null,null,null,null,null,null,null,null,null,null,null,null,null,null,null,null,null,null,null,null,null,null,null,null,null,null,null,null,null,null,null,null,null,null,null,null,null,null,null,null,null,null,null,null,null,null,null,null,null,null,null,null,null,null,null,null,null,null,null,null,null,null,null,null,null,null,null,null,null,null,null,null,null,null,null,null,null,null,null,null,null,null,null,null,null,null,null,null,null,null,null,null,null,null,null,null,null,null,null,null,null,null,null,null,null,null,null,null,null,null,null,null,null,null,null,null,null,null,null,null,null,null,null,null,null,null,null,null,null,null,null,null,null,null,null,null,null,null,null,null,null,null,null,null,null,null,null,null,null,null,null,null,null,null,null,null,null,null,null,null,null,null,null,null,null,null,null,null,null,null,null,null,null,null,null,null,null,null,null,null,null,null,null,null,null,null,null,null,null,null,null,null,null,null,null,null,null,null,null,null,null,null,null,null,null,null,null,null,null,null,null,null,null,null,null,null,null,null,null,null,null,null,null,null,null,null,null,null,null,null,null,null,null,null,null,null,null,null,null,null,null,null,null,null,null,null,null,null,null,null,null,null,null,null,null,null,null,null,null,null,null,null,null,null,null,null,null,null,null,null,null,null,null,null,null,null,null,null,null,null,null,null,null,null,null,null,null,null,null,null,null,null,null,null,null,null,null,null,null,null,null,null,null,null,null,null,null,null,null,null,null,null,null,null,null,null,null,null,null,null,null,null,null,null,null,null,null,null,null,null,null,null,null,null,null,null,null,null,null,null,null,null,null,null,null,null,null,null,null,null,null,null,null,null,null,null,null,null,null,null,null,null,null,null,null,null,null,null,null,null,null,null,null,null,null,null,null,null,null,null,null,null,null,null,null,null,null,null,null,null,null,null,null,null,null,null,null,null,null,null,null,null,null,null,null,null,null,null,null,null,null,null,null,null,null,null,null,null,null,null,null,null,null,null,null,null,null,null,null,null,null,null,null,null,null,null,null,null,null,null,null,null,null,null,null,null,null,null,null,null,null,null,null,null,null,null,null,null,null,null,null,null,null,null,null,null,null,null,null,null,null,null,null,null,null,null,null,null,null,null,null,null,null,null,null,null,null,null,null,null,null,null,null,null,null,null,null,null,null,null,null,null,null,null,null,null,null,null,null,null,null,null,null,null,null,null,null,null,null,null,null,null,null,null,null,null,null,null,null,null,null,null,null,null,null,null,null,null,null,null,null,null,null,null,null,null,null,null,null,null,null,null,null,null,null,null,null,null,null,null,null,null,null,null,null,null,null,null,null,null,null,null,null,null,null,null,null,null,null,null,null,null,null,null,null,null,null,null,null,null,null,null,null,null,null,null,null,null,null,null,null,null,null,null,null,null,null,null,null,null,null,null,null,null,null,null,null,null,null,null,null,null,null,null,null,null,null,null,null,null,null,null,null,null,null,null,null,null,null,null,null,null,null,null,null,null,null,null,null,null,null,null,null,null,null,null,null,null,null,null,null,null,null,null,null,null,null,null,null,null,null,null,null,null,null,null,null,null,null,null,null,null,null,null,null,null,null,null,null,null,null,null,null,null,null,null,null,null,null,null,null,null,null,null,null,null,null,null,null,null,null,null,null,null,null,null,null,null,null,null,null,null,null,null,null,null,null,null,null,null,null,null,null,null,null,null,null,null,null,null,null,null,null,null,null,null,null,null,null,null,null,null,null,null,null,null,null,null,null,null,null,null,null,null,null,null,null,null,null,null,null,null,null,null,null,null,null,null,null,null,null,null,null,null,null,null,null,null,null,null,null,null,null,null,null,null,null,null,null,null,null,null,null,null,null,null,null,null,null,null,null,null,null,null,null,null,null,null,null,null,null,null,null,null,null,null,null,null,null,null,null,null,null,null,null,null,null,null,null,null,null,null,null,null,null,null,null,null,null,null,null,null,null,null,null,null,null,null,null,null,null,null,null,null,null,null,null,null,null,null,null,null,null,null,null,null,null,null,null,null,null,null,null,null,null,null,null,null,null,null,null,null,null,null,null,null,null,null,null,null,null,null,null,null,null,null,null,null,null,null,null,null,null,null,null,null,null,null,null,null,null,null],\"xaxis\":\"x\",\"y\":[11.0,0.0,18.0,4.0,145.0,21.0,300.0,5.0,215.0,4.0,4.0,10.0,12.0,0.0,11.0,4.0,18.0,31.0,0.0,62.0,41.0,30.0,3.0,15.0,12.0,3.0,15.0,23.0,9.0,19.0,14.0,4.0,0.0,15.0,6.0,11.0,0.0,1.0,0.0,0.0,13.0,2.0,12.0,0.0,13.0,3.0,0.0,10.0,0.0,0.0,5.0,0.0,0.0,0.0,14.0,0.0,2.0,null,null,null,null,null,null,null,null,null,null,null,null,null,null,null,null,null,null,null,null,null,null,null,null,null,null,null,null,null,null,null,null,null,null,null,null,null,null,null,null,null,null,null,null,null,null,null,null,null,null,null,null,null,null,null,null,null,null,null,null,null,null,null,null,null,null,null,null,null,null,null,null,null,null,null,null,null,null,null,null,null,null,null,null,null,null,null,null,null,null,null,null,null,null,null,null,null,null,null,null,null,null,null,null,null,null,null,null,null,null,null,null,null,null,null,null,null,null,null,null,null,null,null,null,null,null,null,null,null,null,null,null,null,null,null,null,null,null,null,null,null,null,null,null,null,null,null,null,null,null,null,null,null,null,null,null,null,null,null,null,null,null,null,null,null,null,null,null,null,null,null,null,null,null,null,null,null,null,null,null,null,null,null,null,null,null,null,null,null,null,null,null,null,null,null,null,null,null,null,null,null,null,null,null,null,null,null,null,null,null,null,null,null,null,null,null,null,null,null,null,null,null,null,null,null,null,null,null,null,null,null,null,null,null,null,null,null,null,null,null,null,null,null,null,null,null,null,null,null,null,null,null,null,null,null,null,null,null,null,null,null,null,null,null,null,null,null,null,null,null,null,null,null,null,null,null,null,null,null,null,null,null,null,null,null,null,null,null,null,null,null,null,null,null,null,null,null,null,null,null,null,null,null,null,null,null,null,null,null,null,null,null,null,null,null,null,null,null,null,null,null,null,null,null,null,null,null,null,null,null,null,null,null,null,null,null,null,null,null,null,null,null,null,null,null,null,null,null,null,null,null,null,null,null,null,null,null,null,null,null,null,null,null,null,null,null,null,null,null,null,null,null,null,null,null,null,null,null,null,null,null,null,null,null,null,null,null,null,null,null,null,null,null,null,null,null,null,null,null,null,null,null,null,null,null,null,null,null,null,null,null,null,null,null,null,null,null,null,null,null,null,null,null,null,null,null,null,null,null,null,null,null,null,null,null,null,null,null,null,null,null,null,null,null,null,null,null,null,null,null,null,null,null,null,null,null,null,null,null,null,null,null,null,null,null,null,null,null,null,null,null,null,null,null,null,null,null,null,null,null,null,null,null,null,null,null,null,null,null,null,null,null,null,null,null,null,null,null,null,null,null,null,null,null,null,null,null,null,null,null,null,null,null,null,null,null,null,null,null,null,null,null,null,null,null,null,null,null,null,null,null,null,null,null,null,null,null,null,null,null,null,null,null,null,null,null,null,null,null,null,null,null,null,null,null,null,null,null,null,null,null,null,null,null,null,null,null,null,null,null,null,null,null,null,null,null,null,null,null,null,null,null,null,null,null,null,null,null,null,null,null,null,null,null,null,null,null,null,null,null,null,null,null,null,null,null,null,null,null,null,null,null,null,null,null,null,null,null,null,null,null,null,null,null,null,null,null,null,null,null,null,null,null,null,null,null,null,null,null,null,null,null,null,null,null,null,null,null,null,null,null,null,null,null,null,null,null,null,null,null,null,null,null,null,null,null,null,null,null,null,null,null,null,null,null,null,null,null,null,null,null,null,null,null,null,null,null,null,null,null,null,null,null,null,null,null,null,null,null,null,null,null,null,null,null,null,null,null,null,null,null,null,null,null,null,null,null,null,null,null,null,null,null,null,null,null,null,null,null,null,null,null,null,null,null,null,null,null,null,null,null,null,null,null,null,null,null,null,null,null,null,null,null,null,null,null,null,null,null,null,null,null,null,null,null,null,null,null,null,null,null,null,null,null,null,null,null,null,null,null,null,null,null,null,null,null,null,null,null,null,null,null,null,null,null,null,null,null,null,null,null,null,null,null,null,null,null,null,null,null,null,null,null,null,null,null,null,null,null,null,null,null,null,null,null,null,null,null,null,null,null,null,null,null,null,null,null,null,null,null,null,null,null,null,null,null,null,null,null,null,null,null,null,null,null,null,null,null,null,null,null,null,null,null,null,null,null,null,null,null,null,null,null,null,null,null,null,null,null,null,null,null,null,null,null,null,null,null,null,null,null,null,null,null,null,null,null,null,null,null,null,null,null,null,null,null,null,null,null,null,null,null,null,null,null,null,null,null,null,null,null,null,null,null,null,null,null,null,null,null,null,null,null,null,null,null,null,null,null,null,null,null,null,null,null,null,null,null,null,null,null,null,null,null,null,null,null,null,null,null,null,null,null,null,null,null,null,null,null,null,null,null,null,null,null,null,null,null,null,null,null,null,null,null,null,null,null,null,null,null,null,null,null,null,null,null,null,null,null,null,null,null,null,null,null,null,null,null,null,null,null,null,null,null,null,null,null,null,null,null,null,null,null,null,null,null,null,null,null,null,null,null,null,null,null,null,null,null,null,null,null,null,null,null,null,null,null,null,null,null,null,null,null,null,null,null,null,null,null,null,null,null,null,null,null,null,null,null,null,null,null,null,null,null,null,null,null,null,null,null,null,null,null,null,null,null,null,null,null,null,null,null,null,null,null,null,null,null,null,null,null,null,null,null,null,null,null,null,null,null,null,null,null,null,null,null,null,null,null,null,null,null,null,null,null,null,null,null,null,null,null,null,null,null,null,null,null,null,null,null,null,null,null,null,null,null,null,null,null,null,null,null,null,null,null,null,null,null,null,null,null,null,null,null,null,null,null,null,null,null,null,null,null,null,null,null,null,null,null,null,null,null,null,null,null,null,null,null,null,null,null,null,null,null,null,null,null,null,null,null,null,null,null,null,null,null,null,null,null,null,null,null,null,null,null,null,null,null,null,null,null,null,null,null,null,null,null,null,null,null,null,null,null,null,null,null,null,null,null,null,null,null,null,null,null,null,null,null,null,null,null,null,null,null,null,null,null,null,null,null,null,null,null,null,null,null,null,null,null,null,null,null,null,null,null,null,null,null,null,null,null,null,null,null,null,null,null,null,null,null,null,null,null,null,null,null,null,null,null,null,null,null,null,null,null,null,null,null,null,null,null,null,null,null,null,null,null,null,null,null,null,null,null,null,null,null,null,null,null,null,null,null,null,null,null,null,null,null,null,null,null,null,null,null,null,null,null,null,null,null,null,null,null,null,null,null,null,null,null,null,null,null,null,null,null,null,null,null,null,null,null,null,null,null,null,null,null,null,null,null,null,null,null,null,null,null,null,null,null,null,null,null,null,null,null,null,null,null,null,null,null,null,null,null,null,null,null,null,null,null,null,null,null,null,null,null,null,null,null,null,null,null,null,null,null,null,null,null,null,null,null,null,null,null,null,null,null,null,null,null,null,null,null,null,null,null,null,null,null,null,null,null,null,null,null,null,null,null,null,null,null,null,null,null,null,null,null,null,null,null,null,null,null,null,null,null,null,null,null,null,null,null,null,null,null,null,null,null,null,null,null,null,null,null,null,null,null,null,null,null,null,null,null,null,null,null,null,null,null,null,null,null,null,null,null,null,null,null,null,null,null,null,null,null,null,null,null,null,null,null,null,null,null,null,null,null,null,null,null,null,null,null,null,null,null,null,null,null,null,null,null,null,null,null,null,null,null,null,null,null,null,null,null,null,null,null,null,null,null,null,null,null,null,null,null,null,null,null,null,null,null,null,null,null,null,null,null,null,null,null,null,null,null,null,null,null,null,null,null,null,null,null,null,null,null,null,null,null,null,null,null,null,null,null,null,null,null,null,null,null,null,null,null,null,null,null,null,null,null,null,null,null,null,null,null,null,null,null,null,null,null,null,null,null,null,null,null,null,null,null,null,null,null,null,null,null,null,null,null,null,null,null,null,null,null,null,null,null,null,null,null,null,null,null,null,null,null,null,null,null,null,null,null,null,null,null,null,null,null,null,null,null,null,null,null,null,null,null,null,null,null,null,null,null,null,null,null,null,null,null,null,null,null,null,null,null,null,null,null,null,null,null,null,null,null,null,null,null,null,null,null,null,null,null,null,null,null,null,null,null,null,null,null,null,null,null,null,null,null,null,null,null,null,null,null,null,null,null,null,null,null,null,null,null,null,null,null,null,null,null,null,null,null,null,null,null,null,null,null,null,null,null,null,null,null,null,null,null,null,null,null,null,null,null,null,null,null,null,null,null,null,null,null,null,null,null,null,null,null,null,null,null,null,null,null,null,null,null,null,null,null,null,null,null,null,null,null,null,null,null,null,null,null,null,null,null,null,null,null,null,null,null,null,null,null,null,null,null,null,null,null,null,null,null,null,null,null,null,null,null,null,null,null,null,null,null,null,null,null,null,null,null,null,null,null,null,null,null,null,null,null,null,null,null,null,null,null,null,null,null,null,null,null,null,null,null,null,null,null,null,null,null,null,null,null,null,null,null,null,null,null,null,null,null,null,null,null,null,null,null,null,null,null,null,null,null,null,null,null,null,null,null,null,null,null,null,null,null,null,null,null,null,null,null,null,null,null,null,null,null,null,null,null,null,null,null,null,null,null,null,null,null,null,null,null,null,null,null,null,null,null,null,null,null,null,null,null,null,null,null,null,null,null,null,null,null,null,null,null,null,null,null,null,null,null,null,null,null,null,null,null,null,null,null,null,null,null,null,null,null,null,null,null,null,null,null,null,null,null,null,null,null,null,null,null,null,null,null,null,null,null,null,null,null,null,null,null,null,null,null,null,null,null,null,null,null,null,null,null,null,null,null,null,null,null,null,null,null,null,null,null,null,null,null,null,null,null,null,null,null,null,null,null,null,null,null,null,null,null,null,null,null,null,null,null,null,null,null,null,null,null,null,null,null,null,null,null,null,null,null,null,null,null,null,null,null,null,null,null,null,null,null,null,null,null,null,null,null,null,null,null,null,null,null,null,null,null,null,null,null,null,null,null,null,null,null,null,null,null,null,null,null,null,null,null,null,null,null,null,null,null,null,null,null,null,null,null,null,null,null,null,null,null,null,null,null,null,null,null,null,null,null,null,null,null,null,null,null,null,null,null,null,null,null,null,null,null,null,null,null,null,null,null,null,null,null,null,null,null,null,null,null,null,null,null,null,null,null,null,null,null,null,null,null,null,null,null,null,null,null,null,null,null,null,null,null,null,null,null,null,null,null,null,null,null,null,null,null,null,null,null,null,null,null,null,null,null,null,null,null,null,null,null,null,null,null,null,null,null,null,null,null,null,null,null,null,null,null,null,null,null,null,null,null,null,null,null,null,null,null,null,null,null,null,null,null,null,null,null,null,null,null,null,null,null,null,null,null,null,null,null,null,null,null,null,null,null,null,null,null,null,null,null,null,null,null,null,null,null,null,null,null,null,null,null,null,null,null,null,null,null,null,null,null,null,null,null,null,null,null,null,null,null,null,null,null,null,null,null,null,null,null,null,null,null,null,null,null,null,null,null,null,null,null,null,null,null,null,null,null,null,null,null,null,null,null,null,null,null,null,null,null,null,null,null,null,null,null,null,null,null,null,null,null,null,null,null,null,null,null,null,null,null,null,null,null,null,null,null,null,null,null,null,null,null,null,null,null,null,null,null,null,null,null,null,null,null,null,null,null,null,null,null,null,null,null,null,null,null,null,null,null,null,null,null,null,null,null,null,null,null,null,null,null,null,null,null,null,null,null,null,null,null,null,null,null,null,null,null,null,null,null,null,null,null,null,null,null,null,null,null,null,null,null,null,null,null,null,null,null,null,null,null,null,null,null,null,null,null,null,null,null,null,null,null,null,null,null,null,null,null,null,null,null,null,null,null,null,null,null,null,null,null,null,null,null,null,null,null,null,null,null,null,null,null],\"yaxis\":\"y\",\"type\":\"scattergl\"}],                        {\"template\":{\"data\":{\"histogram2dcontour\":[{\"type\":\"histogram2dcontour\",\"colorbar\":{\"outlinewidth\":0,\"ticks\":\"\"},\"colorscale\":[[0.0,\"#0d0887\"],[0.1111111111111111,\"#46039f\"],[0.2222222222222222,\"#7201a8\"],[0.3333333333333333,\"#9c179e\"],[0.4444444444444444,\"#bd3786\"],[0.5555555555555556,\"#d8576b\"],[0.6666666666666666,\"#ed7953\"],[0.7777777777777778,\"#fb9f3a\"],[0.8888888888888888,\"#fdca26\"],[1.0,\"#f0f921\"]]}],\"choropleth\":[{\"type\":\"choropleth\",\"colorbar\":{\"outlinewidth\":0,\"ticks\":\"\"}}],\"histogram2d\":[{\"type\":\"histogram2d\",\"colorbar\":{\"outlinewidth\":0,\"ticks\":\"\"},\"colorscale\":[[0.0,\"#0d0887\"],[0.1111111111111111,\"#46039f\"],[0.2222222222222222,\"#7201a8\"],[0.3333333333333333,\"#9c179e\"],[0.4444444444444444,\"#bd3786\"],[0.5555555555555556,\"#d8576b\"],[0.6666666666666666,\"#ed7953\"],[0.7777777777777778,\"#fb9f3a\"],[0.8888888888888888,\"#fdca26\"],[1.0,\"#f0f921\"]]}],\"heatmap\":[{\"type\":\"heatmap\",\"colorbar\":{\"outlinewidth\":0,\"ticks\":\"\"},\"colorscale\":[[0.0,\"#0d0887\"],[0.1111111111111111,\"#46039f\"],[0.2222222222222222,\"#7201a8\"],[0.3333333333333333,\"#9c179e\"],[0.4444444444444444,\"#bd3786\"],[0.5555555555555556,\"#d8576b\"],[0.6666666666666666,\"#ed7953\"],[0.7777777777777778,\"#fb9f3a\"],[0.8888888888888888,\"#fdca26\"],[1.0,\"#f0f921\"]]}],\"heatmapgl\":[{\"type\":\"heatmapgl\",\"colorbar\":{\"outlinewidth\":0,\"ticks\":\"\"},\"colorscale\":[[0.0,\"#0d0887\"],[0.1111111111111111,\"#46039f\"],[0.2222222222222222,\"#7201a8\"],[0.3333333333333333,\"#9c179e\"],[0.4444444444444444,\"#bd3786\"],[0.5555555555555556,\"#d8576b\"],[0.6666666666666666,\"#ed7953\"],[0.7777777777777778,\"#fb9f3a\"],[0.8888888888888888,\"#fdca26\"],[1.0,\"#f0f921\"]]}],\"contourcarpet\":[{\"type\":\"contourcarpet\",\"colorbar\":{\"outlinewidth\":0,\"ticks\":\"\"}}],\"contour\":[{\"type\":\"contour\",\"colorbar\":{\"outlinewidth\":0,\"ticks\":\"\"},\"colorscale\":[[0.0,\"#0d0887\"],[0.1111111111111111,\"#46039f\"],[0.2222222222222222,\"#7201a8\"],[0.3333333333333333,\"#9c179e\"],[0.4444444444444444,\"#bd3786\"],[0.5555555555555556,\"#d8576b\"],[0.6666666666666666,\"#ed7953\"],[0.7777777777777778,\"#fb9f3a\"],[0.8888888888888888,\"#fdca26\"],[1.0,\"#f0f921\"]]}],\"surface\":[{\"type\":\"surface\",\"colorbar\":{\"outlinewidth\":0,\"ticks\":\"\"},\"colorscale\":[[0.0,\"#0d0887\"],[0.1111111111111111,\"#46039f\"],[0.2222222222222222,\"#7201a8\"],[0.3333333333333333,\"#9c179e\"],[0.4444444444444444,\"#bd3786\"],[0.5555555555555556,\"#d8576b\"],[0.6666666666666666,\"#ed7953\"],[0.7777777777777778,\"#fb9f3a\"],[0.8888888888888888,\"#fdca26\"],[1.0,\"#f0f921\"]]}],\"mesh3d\":[{\"type\":\"mesh3d\",\"colorbar\":{\"outlinewidth\":0,\"ticks\":\"\"}}],\"scatter\":[{\"fillpattern\":{\"fillmode\":\"overlay\",\"size\":10,\"solidity\":0.2},\"type\":\"scatter\"}],\"parcoords\":[{\"type\":\"parcoords\",\"line\":{\"colorbar\":{\"outlinewidth\":0,\"ticks\":\"\"}}}],\"scatterpolargl\":[{\"type\":\"scatterpolargl\",\"marker\":{\"colorbar\":{\"outlinewidth\":0,\"ticks\":\"\"}}}],\"bar\":[{\"error_x\":{\"color\":\"#2a3f5f\"},\"error_y\":{\"color\":\"#2a3f5f\"},\"marker\":{\"line\":{\"color\":\"#E5ECF6\",\"width\":0.5},\"pattern\":{\"fillmode\":\"overlay\",\"size\":10,\"solidity\":0.2}},\"type\":\"bar\"}],\"scattergeo\":[{\"type\":\"scattergeo\",\"marker\":{\"colorbar\":{\"outlinewidth\":0,\"ticks\":\"\"}}}],\"scatterpolar\":[{\"type\":\"scatterpolar\",\"marker\":{\"colorbar\":{\"outlinewidth\":0,\"ticks\":\"\"}}}],\"histogram\":[{\"marker\":{\"pattern\":{\"fillmode\":\"overlay\",\"size\":10,\"solidity\":0.2}},\"type\":\"histogram\"}],\"scattergl\":[{\"type\":\"scattergl\",\"marker\":{\"colorbar\":{\"outlinewidth\":0,\"ticks\":\"\"}}}],\"scatter3d\":[{\"type\":\"scatter3d\",\"line\":{\"colorbar\":{\"outlinewidth\":0,\"ticks\":\"\"}},\"marker\":{\"colorbar\":{\"outlinewidth\":0,\"ticks\":\"\"}}}],\"scattermapbox\":[{\"type\":\"scattermapbox\",\"marker\":{\"colorbar\":{\"outlinewidth\":0,\"ticks\":\"\"}}}],\"scatterternary\":[{\"type\":\"scatterternary\",\"marker\":{\"colorbar\":{\"outlinewidth\":0,\"ticks\":\"\"}}}],\"scattercarpet\":[{\"type\":\"scattercarpet\",\"marker\":{\"colorbar\":{\"outlinewidth\":0,\"ticks\":\"\"}}}],\"carpet\":[{\"aaxis\":{\"endlinecolor\":\"#2a3f5f\",\"gridcolor\":\"white\",\"linecolor\":\"white\",\"minorgridcolor\":\"white\",\"startlinecolor\":\"#2a3f5f\"},\"baxis\":{\"endlinecolor\":\"#2a3f5f\",\"gridcolor\":\"white\",\"linecolor\":\"white\",\"minorgridcolor\":\"white\",\"startlinecolor\":\"#2a3f5f\"},\"type\":\"carpet\"}],\"table\":[{\"cells\":{\"fill\":{\"color\":\"#EBF0F8\"},\"line\":{\"color\":\"white\"}},\"header\":{\"fill\":{\"color\":\"#C8D4E3\"},\"line\":{\"color\":\"white\"}},\"type\":\"table\"}],\"barpolar\":[{\"marker\":{\"line\":{\"color\":\"#E5ECF6\",\"width\":0.5},\"pattern\":{\"fillmode\":\"overlay\",\"size\":10,\"solidity\":0.2}},\"type\":\"barpolar\"}],\"pie\":[{\"automargin\":true,\"type\":\"pie\"}]},\"layout\":{\"autotypenumbers\":\"strict\",\"colorway\":[\"#636efa\",\"#EF553B\",\"#00cc96\",\"#ab63fa\",\"#FFA15A\",\"#19d3f3\",\"#FF6692\",\"#B6E880\",\"#FF97FF\",\"#FECB52\"],\"font\":{\"color\":\"#2a3f5f\"},\"hovermode\":\"closest\",\"hoverlabel\":{\"align\":\"left\"},\"paper_bgcolor\":\"white\",\"plot_bgcolor\":\"#E5ECF6\",\"polar\":{\"bgcolor\":\"#E5ECF6\",\"angularaxis\":{\"gridcolor\":\"white\",\"linecolor\":\"white\",\"ticks\":\"\"},\"radialaxis\":{\"gridcolor\":\"white\",\"linecolor\":\"white\",\"ticks\":\"\"}},\"ternary\":{\"bgcolor\":\"#E5ECF6\",\"aaxis\":{\"gridcolor\":\"white\",\"linecolor\":\"white\",\"ticks\":\"\"},\"baxis\":{\"gridcolor\":\"white\",\"linecolor\":\"white\",\"ticks\":\"\"},\"caxis\":{\"gridcolor\":\"white\",\"linecolor\":\"white\",\"ticks\":\"\"}},\"coloraxis\":{\"colorbar\":{\"outlinewidth\":0,\"ticks\":\"\"}},\"colorscale\":{\"sequential\":[[0.0,\"#0d0887\"],[0.1111111111111111,\"#46039f\"],[0.2222222222222222,\"#7201a8\"],[0.3333333333333333,\"#9c179e\"],[0.4444444444444444,\"#bd3786\"],[0.5555555555555556,\"#d8576b\"],[0.6666666666666666,\"#ed7953\"],[0.7777777777777778,\"#fb9f3a\"],[0.8888888888888888,\"#fdca26\"],[1.0,\"#f0f921\"]],\"sequentialminus\":[[0.0,\"#0d0887\"],[0.1111111111111111,\"#46039f\"],[0.2222222222222222,\"#7201a8\"],[0.3333333333333333,\"#9c179e\"],[0.4444444444444444,\"#bd3786\"],[0.5555555555555556,\"#d8576b\"],[0.6666666666666666,\"#ed7953\"],[0.7777777777777778,\"#fb9f3a\"],[0.8888888888888888,\"#fdca26\"],[1.0,\"#f0f921\"]],\"diverging\":[[0,\"#8e0152\"],[0.1,\"#c51b7d\"],[0.2,\"#de77ae\"],[0.3,\"#f1b6da\"],[0.4,\"#fde0ef\"],[0.5,\"#f7f7f7\"],[0.6,\"#e6f5d0\"],[0.7,\"#b8e186\"],[0.8,\"#7fbc41\"],[0.9,\"#4d9221\"],[1,\"#276419\"]]},\"xaxis\":{\"gridcolor\":\"white\",\"linecolor\":\"white\",\"ticks\":\"\",\"title\":{\"standoff\":15},\"zerolinecolor\":\"white\",\"automargin\":true,\"zerolinewidth\":2},\"yaxis\":{\"gridcolor\":\"white\",\"linecolor\":\"white\",\"ticks\":\"\",\"title\":{\"standoff\":15},\"zerolinecolor\":\"white\",\"automargin\":true,\"zerolinewidth\":2},\"scene\":{\"xaxis\":{\"backgroundcolor\":\"#E5ECF6\",\"gridcolor\":\"white\",\"linecolor\":\"white\",\"showbackground\":true,\"ticks\":\"\",\"zerolinecolor\":\"white\",\"gridwidth\":2},\"yaxis\":{\"backgroundcolor\":\"#E5ECF6\",\"gridcolor\":\"white\",\"linecolor\":\"white\",\"showbackground\":true,\"ticks\":\"\",\"zerolinecolor\":\"white\",\"gridwidth\":2},\"zaxis\":{\"backgroundcolor\":\"#E5ECF6\",\"gridcolor\":\"white\",\"linecolor\":\"white\",\"showbackground\":true,\"ticks\":\"\",\"zerolinecolor\":\"white\",\"gridwidth\":2}},\"shapedefaults\":{\"line\":{\"color\":\"#2a3f5f\"}},\"annotationdefaults\":{\"arrowcolor\":\"#2a3f5f\",\"arrowhead\":0,\"arrowwidth\":1},\"geo\":{\"bgcolor\":\"white\",\"landcolor\":\"#E5ECF6\",\"subunitcolor\":\"white\",\"showland\":true,\"showlakes\":true,\"lakecolor\":\"white\"},\"title\":{\"x\":0.05},\"mapbox\":{\"style\":\"light\"}}},\"xaxis\":{\"anchor\":\"y\",\"domain\":[0.0,1.0],\"title\":{\"text\":\"Motor vehicle theft\"}},\"yaxis\":{\"anchor\":\"x\",\"domain\":[0.0,1.0],\"title\":{\"text\":\"Arson\"}},\"legend\":{\"tracegroupgap\":0},\"margin\":{\"t\":60}},                        {\"responsive\": true}                    ).then(function(){\n",
              "                            \n",
              "var gd = document.getElementById('d0e2f2d2-5c0e-44a3-8066-f5cff000b57f');\n",
              "var x = new MutationObserver(function (mutations, observer) {{\n",
              "        var display = window.getComputedStyle(gd).display;\n",
              "        if (!display || display === 'none') {{\n",
              "            console.log([gd, 'removed!']);\n",
              "            Plotly.purge(gd);\n",
              "            observer.disconnect();\n",
              "        }}\n",
              "}});\n",
              "\n",
              "// Listen for the removal of the full notebook cells\n",
              "var notebookContainer = gd.closest('#notebook-container');\n",
              "if (notebookContainer) {{\n",
              "    x.observe(notebookContainer, {childList: true});\n",
              "}}\n",
              "\n",
              "// Listen for the clearing of the current output cell\n",
              "var outputEl = gd.closest('.output');\n",
              "if (outputEl) {{\n",
              "    x.observe(outputEl, {childList: true});\n",
              "}}\n",
              "\n",
              "                        })                };                            </script>        </div>\n",
              "</body>\n",
              "</html>"
            ]
          },
          "metadata": {}
        }
      ]
    },
    {
      "cell_type": "markdown",
      "source": [
        "**ФОТО ГРАФИКА plot express**\n",
        "\n",
        "![image_2023-10-12_16-20-29.png](data:image/png;base64,iVBORw0KGgoAAAANSUhEUgAABwgAAAINCAYAAAAqZiuSAAAA4WlDQ1BzUkdCAAAYlWNgYDzNAARMDgwMuXklRUHuTgoRkVEKDEggMbm4gAE3YGRg+HYNRDIwXNYNLGHlx6MWG+AsAloIpD8AsUg6mM3IAmInQdgSIHZ5SUEJkK0DYicXFIHYQBcz8BSFBDkD2T5AtkI6EjsJiZ2SWpwMZOcA2fEIv+XPZ2Cw+MLAwDwRIZY0jYFhezsDg8QdhJjKQgYG/lYGhm2XEWKf/cH+ZRQ7VJJaUQIS8dN3ZChILEoESzODAjQtjYHh03IGBt5IBgbhCwwMXNEQd4ABazEwoEkMJ0IAAHLYNoSjH0ezAAAACXBIWXMAAA7DAAAOwwHHb6hkAAAgAElEQVR4nOzde5SdZWHv8d+eSUImGChmhssQCIRgiTHHgGBQECJEJdpqa6rLS2PDaqtgF55Ta5rVVUtP7R81Kz3rrB7a02JbiUZbWoy3XlAJMuEYMBohNMR4IYHAEMQZECUXSDJ7nz9mcplMLoSEPfPm+XzWylq877Mn+2H7wMT58jxv7dJLL20EAAAAAAAAKMKo3X9x7733Duc8AAAAAAAAgCZoGe4JAAAAAAAAAM0jEAIAAAAAAEBBBEIAAAAAAAAoiEAIAAAAAAAABREIAQAAAAAAoCACIQAAAAAAABREIAQAAAAAAICCCIQAAAAAAABQEIEQAAAAAAAACiIQAgAAAAAAQEEEQgAAAAAAACiIQAgAAAAAAAAFEQgBAAAAAACgIAIhAAAAAAAAFEQgBAAAAAAAgIIIhAAAAAAAAFAQgRAAAAAAAAAKIhACAAAAAABAQQRCAAAAAAAAKIhACAAAAAAAAAURCAEAAAAAAKAgAiEAAAAAAAAURCAEAAAAAACAggiEAAAAAAAAUBCBEAAAAAAAAAoiEAIAAAAAAEBBBEIAAAAAAAAoiEAIAAAAAAAABREIAQAAAAAAoCACIQAAAAAAABREIAQAAAAAAICCCIQAAAAAAABQEIEQAAAAAAAACiIQAgAAAAAAQEEEQgAAAAAAACiIQAgAAAAAAAAFEQgBAAAAAACgIAIhAAAAAAAAFEQgBAAAAAAAgIIIhAAAAAAAAFAQgRAAAAAAAAAKIhACAAAAAABAQQRCAAAAAAAAKIhACAAAAAAAAAURCAEAAAAAAKAgAiEAAAAAAAAURCAEAAAAAACAggiEAAAAAAAAUBCBEAAAAAAAAAoiEAIAAAAAAEBBBEIAAAAAAAAoiEAIAAAAAAAABREIAQAAAAAAoCACIQAAAAAAABREIAQAAAAAAICCCIQAAAAAAABQEIEQAAAAAAAACiIQAgAAAAAAQEEEQgAAAAAAACjIqOGewPFi81Pbh3sKx53OCW1JfLZUT+eENuuWyrFuqSprlyqybqkqa5cqsm6pKmuXKrJuabbdDYEXxw5CAAAAAAAAKIhACAAAAAAAAAURCAEAAAAAAKAgAiEAAAAAAAAURCAEAAAAAACAggiEAAAAAAAAUBCBEAAAAAAAAAoiEAIAAAAAAEBBBEIAAAAAAAAoiEAIAAAAAAAABREIAQAAAAAAoCACIQAAAAAAABREIAQAAAAAAICCCIQAAAAAAABQEIEQAAAAAAAACiIQAgAAAAAAQEEEQgAAAAAAAChImYFw7dJMmzV/z6/rb+/ZZ7AnyxbuHVu8Ni9wDAAAAAAAAEa+IgPhmlycdV1LBn4tzuyuBXtiX+/tN2f5rMUDYwuTG5ZmTQ4/BgAAAAAAAFVQZCCcMX3qPlcdOe/c3X/dkxVdyeyLOwaup+bahZtyx9rDjQEAAMOpry/5j6+15C8Wj8o/3NKaDRtrwz0lAAAAGLGKDISDrc8dt07J5NOTpDcbV03KeR2DX7Gxu+cwYwAAwHD6539tzarvtGT79uTRx2r5zOda8/hmkRAAAAAOZNRwT2C4rPm7+Xn/rUlydT7f9fHM2D0wszMT93ld+8RJuXtl72HGOtI5oa0Jsy6Tz5Yqsm6pIuuWqrJ2qdeTH/1455D7jz82OpdMbx2GGR2edUtVWbtUkXVLVVm7VJF1C9VRbCCccd2SrLsuSdZn8az5ueOmJVkwPcmqzelO0j7wut7uTbli0jVJeg8xlmx+anuT/w6Of7u/mfhsqZrOCW3WLZVj3VJV1i5JfyA80P+1eXbbrmx+akfT53M41i1VZe1SRdYtVWXtUkXWLc0mSB8dR4xmahbcdHWWrFyfpD2TZ27Khv1ODZ08seMwYwAAwHBpaUlecX5jyP0LfnnoPQAAAEAgTJKsWXlnrpjUnqQjV85Klq/eXQHX55ZFGXg+4aHGAACA4fTed/dl5mvraWtLzj6rkd/6zb6c2SkQAgAAwIEUeMTo+iyetShL9r31noVZN6d/J2D7nA9l9sIFmbaof2j+TUsyd2CT4KHGAACA4dPamrztmnredk19uKcCAAAAI16BgXBqFnQtyYKDjndk7qIlmXvEYwAAAAAAADDyOWIUAAAAAAAACiIQAgAAAAAAQEEEQgAAAAAAACiIQAgAAAAAAAAFEQgBAAAAAACgIAIhAAAAAAAAFEQgBAAAAAAAgIIIhAAAAAAAAFAQgRAAAAAAAAAKIhACAAAAAABAQQRCAAAAAAAAKIhACAAAAAAAAAURCAEAAAAAAKAgAiEAAAAAAAAURCAEAAAAAACAggiEAAAAAAAAUBCBEAAAAAAAAAoiEAIAAAAAAEBBBEIAAAAAAAAoiEAIAAAAAAAABREIAQAAAAAAoCACIQAAAAAAABREIAQAAAAAAICCCIQAAAAAAABQEIEQAAAAAAAACiIQAgAAAAAAQEEEQgAAAAAAACiIQAgAAAAAAAAFEQgBAAAAAACgIAIhAAAAAAAAFEQgBAAAAAAAgIIIhAAAAAAAAFAQgRAAAAAAAAAKIhACAAAAAABAQQRCAAAAAAAAKIhACAAAAAAAAAURCAEAAAAAAKAgAiEAAAAAAAAURCAEAAAAAACAggiEAAAAAAAAUBCBEAAAAAAAAAoiEAIAAAAAAEBBBEIAAAAAAAAoiEAIAAAAAAAABREIAQAAAAAAoCACIQAAAAAAABREIAQAAAAAAICCjBruCQyLnjtz/buW5u6ByysWLs7fzunov1i7NNNuuHPva2fOy4pFV6e9/wuzbOGC3Liqf2j+TUuyYHrzpg0AAAAAAABHq8hAuGZ18uddS/aJfjdn2cUfz9yOpLd700HDX+/tN2f5rMVZt6gjyfosnrU0a7rmZUZzpw8AAAAAAAAvWpFHjM6Ys3tHYJJ05LxzH8rGnxzuq3qyoiuZffHATsNMzbULN+WOtS/RJAEAAAAAAOAlUGQgHKwnGx6eksmn9191b3ooS26Yn2mz+n9df3vPwOt6s3HVpJzXMfirN3b3BAAAAAAAAKqiyCNG99V7+8258dy5WTcQ/mZctyTrrts92v/MwcUTB44cndmZift8bfvESbl7ZW+SjnROaGvqvEvis6WKrFuqyLqlqqxdqsi6paqsXarIuqWqrF2qyLqF6ig7EK5dmiu7XpcVi6Ye5AUduXLWlCzv7kmmJ1m1Od3JnuNJe7s35YpJ1yRJNj+1vQkTLsvubyY+W6qmc0KbdUvlWLdUlbVLFVm3VJW1SxVZt1SVtUsVWbc0myB9dMo9YnTt0kz7XGdWLNr3eYSH0p7JMzdlw34nik6e2HHglwMAAAAAAMAIVGYgfMFxcH1uWZTMvrgj/bsJk+WrewaN7X52IQAAAAAAAFRBgUeM9mTZ5+5MViVXzlq69/Z7Fmbdde1ZtnBBbly1++aUfOK2j2fuwCbB9jkfyuyFCzJtUf/1/JuW7BkDAAAAAACAKigwEHZk7qIlmXuQ0UONHe5rAQAAAAAAYKQr84hRAAAAAAAAKJRACAAAAAAAAAURCAEAAAAAAKAgAiEAAAAAAAAURCAEAAAAAACAggiEAAAAAAAAUBCBEAAAAAAAAAoiEAIAAAAAAEBBBEIAAAAAAAAoiEAIAAAAAAAABREIAQAAAAAAoCACIQAAAAAAABREIAQAAAAAAICCCIQAAAAAAABQEIEQAAAAAAAACiIQAgAAAAAAQEEEQgAAAAAAACiIQAgAAAAAAAAFEQgBAAAAAACgIAIhAAAAAAAAFEQgBAAAAAAAgIIIhAAAAAAAAFAQgRAAAAAAAAAKIhACAAAAAABAQQRCAAAAAAAAKIhACAAAAAAAAAURCAEAAAAAAKAgAiEAAAAAAAAURCAEAAAAAACAggiEAAAAAAAAUBCBEAAAAAAAAAoyargnAAAAAAAAcLx54ie1rPpuS3p7k7MmNnLVrHpGjx7uWUE/gRAAAAAAAOAY2rI1+ftPt2bXrv7rRx+r5bHuWn7n2r7hnRgMcMQoAAAAAADAMbT6ey174uBujz5Wy/PPD898YH8CIQAAAAAAwDHUaBzZfWg2gRAAAAAAAOAYmvHqoSXwjNMbGTt2GCYDByAQAgAAAAAAHEOn/FIj136gL51nNNJSS141rZ557/f8QUaOUcM9AQAAAAAAgOPNuec0ct3vioKMTHYQAgAAAAAAQEEEQgAAAAAAACiIQAgAAAAAAAAFEQgBAAAAAACgIAIhAAAAAAAAFEQgBAAAAAAAgIIIhAAAAAAAAFAQgRAAAAAAAAAKUmYg7Lkz18+an2kDv66/vWffwSxbuHds8dq8wDEAAAAAAAAY+YoMhGtWJ3/etSTrupZkXdfizO66OcsGGmHv7Tdn+azFA2MLkxuWZk0OPwYAAAAAAABVUGQgnDHn6rTvuerIeec+lI0/SZKerOhKZl/cMTA2Ndcu3JQ71h5uDAAAAAAAAKqhyEA4WE82PDwlk09Pkt5sXDUp53UMfsXG7p7DjAEAAAAAAEA1jBruCQy33ttvzo3nzs263eFvZmcm7jPePnFS7l7Ze5ixjnROaGvOhAvks6WKrFuqyLqlqqxdqsi6paqsXarIuqWqrF2qyLqF6ig7EK5dmiu7XpcVi6buvbdqc7qTPUeQ9nZvyhWTrknSe4ixZPNT25s370Ls/mbis6VqOie0WbdUjnVLVVm7VJF1S1VZu1SRdUtVWbtUkXVLswnSR6fcI0bXLs20z3VmxaJ9n0fYnskzN2XDfqeGTp7YcZgxAAAAAAAAqIYyA+EB42CSdOTKWcny1bsr4PrcsigDzyc81BgAAAAAAABUQ4FHjPZk2efuTFYlV85auvf2exZm3XVT0z7nQ5m9cEGmLeq/Pf+mJZk7sEnwUGMAAAAAAABQBQUGwo7MXbQkc1/U+OG+FgAAAAAAAEa2Mo8YBQAAAAAAgEIJhAAAAAAAAFAQgRAAAAAAAAAKIhACAAAAAABAQQRCAAAAAAAAKIhACAAAAAAAAAURCAEAAAAAAKAgAiEAAAAAAAAURCAEAAAAAACAggiEAAAAAAAAUBCBEAAAAAAAAAoiEAIAAAAAAEBBBEIAAAAAAAAoiEAIAAAAAAAABREIAQAAAAAAoCACIQAAAAAAABREIAQAAAAAAICCCIQAAAAAAABQEIEQAAAAAAAACiIQAgAAAAAAQEEEQgAAAAAAACiIQAgAAAAAAAAFEQgBAAAAAACgIAIhAAAAAAAAFEQgBAAAAAAAgIIIhAAAAAAAAFAQgRAAAAAAAAAKIhACAAAAAABAQQRCAAAAAAAAKIhACAAAAAAAAAURCAEAAAAAAKAgAiEAAAAAAAAURCAEAAAAAACAgoxq9hs2Go088dOns6n7J0PGThgzOq+6YHLGjG76tAAAAAAAAKAITS1xjUYjX/7at/J//nFZXveaaek8vX3Q+EnjT8wvn3e2QAgAAAAAAAAvkaaWuC1bt+db31mbTy3+WM4/d2Iz3xoAAAAAAABIk59BuKuvL62tLWl/+cnNfFsAAAAAAABgQFMD4cvGteWMUyfkZ88828y3BQAAAAAAAAY09YjR1tbW/OqbX59Ff/PPufryi3LWmacOGj9hzOi86oLJnkEIAAAAAAAAL5Gmlrhnt2zL333mq/n5s1vzxdv/35Dxiad35E9+/0yBEAAAAAAAAF4iTS1xJ590Yv7yT69v5lsCAAAAAAAA+2jqMwgBAAAAAACA4dX0szzr9UZWfndtbvrHL2bdjx5Jkkx7xTm54bffmcsumZ6WllqzpwQAAAAAAADFaHog/Lc77snXu76b//mxa3PGaS9Pkjzx5NP561u+lKefeTbveMtlzZ4SAAAAAAAAFKOpR4xu3fZcVj/wg/zRDe/LK18xKaecPD6nnDw+r3zFpPzRDe/L6gd+kK3bnmvmlAAAAAAAAKAoTQ2EO3buzPM7duZlJ7YNGXvZiW15fsfO7Ni5s5lTAgAAAAAAgKI0NRC2nXBC2saekCeefHrI2BNPPp22sSek7YQTmjklAAAAAAAAKEpTn0E4duyYzLlqZv7gz/5vfn3O5Zk+dXKSZO36jfm3O+7NjR/9QMaOHdOk2azP4lmLsuQ9C7Puuql7b69dmmk33Ln3eua8rFh0ddqTJD1ZtnBBblzVPzT/piVZML1J0wUAAAAAAIBjoKmBMEkuveiV+fvFH8vnv7Q8f/UPyzKqtTWvv3ha/m7RR3Pm6e3NmcTapZl2Q/L52+Zl47LBQ73dmw4a/npvvznLZy3OukUd6Q+MS7Oma15mNGXSAAAAAAAAcPSaHgiTZGJnRxb+3nuH4637TZ+XdV1Jeu483Cv30ZMVXcnsj3UMXE/NtQuX5Za1yQy7CAEAAAAAAKiIpj6DsNFo5J+/fGcefvSJJElfX1+WfuEbuejNv5t3zP/jbHhkczOnc0Ddmx7KkhvmZ9qs/l/X394zMNKbjasm5byOwa/f2N0z5PcAAAAAAACAkaqpOwi3bN2eB3/wcK66/KIkyYZHNuee1Q/mP5Z+Mhsf3Zxbv/LN/OGH35PRo4dlY2OSZMZ1S7Luut1X/c8cXDxx4MjRmZ2ZuM9r2ydOyt0re5N0pHNCW9PnWgqfLVVk3VJF1i1VZe1SRdYtVWXtUkXWLVVl7VJF1i1UR1NL3K6+vuzctStjRo9Ko9HIXfesya+++bKccdqEjB07Jl/5+sps2bY9p5w8vpnTOoSOXDlrSpZ39yTTk6zanO4ku5+U2Nu9KVdMuiZJsvmp7cM1yePW7m8mPluqpnNCm3VL5Vi3VJW1SxVZt1SVtUsVWbdUlbVLFVm3NJsgfXSaesTomNGjM65tbJ5/fmee7PlZ/mv9hky/4NxmTuEotGfyzE3ZsN+JopMndhz45QAAAAAAADACNXUH4YnjxubCV52f+f/jk3l+x4585LfnZuIZ/YGtp/eZjD9xXMa1jW3mlA5jfW5ZlMy+rX+OV85K/mR1T+bO6dgzNvm2YZ0gUKAf/LCWhx+ppVZLzp/SyHmTG8M9JQAAAAAAKqTpD/t7+5tfn6suuzBJ8rIT21Kr1ZIkZ595Wj76oXfnhDGjmz2lffQ/c/DGVbuvp+QTt308cwc2CbbP+VBmL1yQaYv6r+fftGTPGEAzrH2wltu+2Lrn+p5vJ/Pe15fzp4iEAAAAAAC8ME0NhFu3PZf/WH5vrrr8orS//ORBY2PHjmnmVPp1XJ2/vW7QjcxdtCRzD/4FhxkHeGl9487WIfe+d19NIAQAAAAA4AVr6jMId+3qy31rf5yWgV2DAByZbduG3tv+nH+nAgAAAADwwjU1EJ40flzOnzwxK779QBoNu10AjtRrLqwPuWf3IAAAAAAAR6KpR4zu3NWX6Recm9v+rSt3rFidV/7yOYPGTxp/Yua+9YqcOG5sM6cFUBlz3lLPc88nax7o/+87Lp1Zz+WvHxoNAQAAAADgYJobCHfuyg82PJZJZ53ezLcFOG7Uask731HPO98hCgIAAAAA8OI0NRCeOG5sPvAbb27mWwIAAAAAAAD7aOozCA9m2/bn8s2V9+WPP/kP+dnPnx3u6QAAAAAAAMBxq6k7CPdVrzfy44e78/kv3pGv3fWdXHrRK/Nb774mJ49/2XBNCQAAAAAAAI57TQ+Ez27dnuV3r85nb/t6nvnFlkw45eTc9qk/y6SJpzV7KgAAAAAAAFCcpgTCer2R+x/8cZZ+4RtZ+4ON+dU3vT5/9ec35GXj2vLJv/mnnDR+XDOmAQAAAAAAAMVrSiD8+bNb8pd/e2vOOvPU/OP/+sOcfeZpaWmped4gAAAAAAAANFlTAuEpJ4/Pp/5yQZbfvTq//6d/nSSZ+7YrM/Oiqc14ewAAAAAAAGBA055BOP7Etvz6nDfk1665PI8/0Zt//feufOAjf5GxJ4zOA+s25A0zp6e1tbVZ0wEAAAAAAIAitTT7DWu1WiZ2duSjH3xX7vrC/86f/P4H8ulb/zNvfu+CLP3CN7Jj565mTwkAAAAAAACK0bQdhAcy9oQxueqyi/LG11+Yx5/ozV333J/t25/PmNHDOi0AAAAAAAA4bo2IErd7V+G833jzcE8FAAAAAAAAjmtNP2IUAAAAAAAAGD4CIQAAAAAAABREIAQAAAAAAICCCIQAAAAAAABQEIEQAAAAAAAACiIQAgAAAAAAQEEEQgAAAAAAACiIQAgAAAAAAAAFEQgBAAAAAACgIAIhAAAAAAAAFEQgBAAAAAAAgIIIhAAAAAAAAFAQgRAAAAAAAAAKIhACAAAAAABAQQRCAAAAAAAAKIhACAAAAAAAAAURCAEAAAAAAKAgAiEAAAAAAAAURCAEAAAAAACAggiEAAAAAAAAUBCBEAAAAAAAAAoiEAIAAAAAAEBBBEIAAAAAAAAoiEAIAAAAAAAABREIAQAAAAAAoCACIQAAAAAAABREIAQAAAAAAICCCIQAAAAAAABQEIEQAAAAAAAACiIQAgAAAAAAQEEEQgAAAAAAAChIwYFwfRbPmp9pf7d+v/s9WbZwfqbN6v+1eO0LHQMAAAAAAICRr8xAuHZpps1anTfdNi9X7DfUe/vNWT5rcdZ1Lcm6roXJDUuz5gWMAQAAAAAAQBWUGQinz8u6rnmZMWSgJyu6ktkXdwxcT821CzfljrWHGwMAAAAAAIBqKDMQHlRvNq6alPM6Bt/d2N1zmDEAAAAAAACohlHDPYERZ2ZnJu5z2T5xUu5e2XuYsY50Tmhr4iTL4rOliqxbqsi6paqsXarIuqWqrF2qyLqlqqxdqsi6heoQCPe3anO6k7QPXPZ2b8oVk65J0nuIsWTzU9ubP9fj3O5vJj5bqqZzQpt1S+VYt1SVtUsVWbdUlbVLFVm3VJW1SxVZtzSbIH10HDE6SHsmz9yUDfudGjp5YsdhxgAAAAAAAKAaBMJBOnLlrGT56t0VcH1uWZRMPv1wYwAAAAAAAFANjhjdT/ucD2X2wgWZtqj/ev5NSzK34/BjAAAAAAAAUAVlB8KOq/O31w25mbmLlmTugb/gEGMAAAAAAAAw8jliFAAAAAAAAAoiEAIAAAAAAEBBBEIAAAAAAAAoiEAIAAAAAAAABREIAQAAAAAAoCACIQAAAAAAABREIAQAAAAAAICCCIQAAAAAAABQEIEQAAAAAAAACiIQAgAAAAAAQEEEQgAAAAAAACiIQAgAAAAAAAAFEQgBAAAAAACgIAIhAAAAAAAAFEQgBAAAAAAAgIIIhAAAAAAAAFAQgRAAAAAAAAAKIhACAAAAAABAQQRCAAAAAAAAKIhACAAAAAAAAAURCAEAAAAAAKAgAiEAAAAAAAAURCAEAAAAAACAggiEAAAAAAAAUBCBEAAAAAAAAAoiEAIAAAAAAEBBBEIAAAAAAAAoiEAIAAAAAAAABREIAQAAAAAAoCACIQAAAAAAABREIAQAAAAAAICCCIQAAAAAAABQEIEQAAAAAAAACiIQAgAAAAAAQEEEQgAAAAAAACjIqOGeAABAFd3/QC13LG/N9ueS11xUz9uuqadWG+5ZAQAAAMDhCYQAAEdo3fpavvSV1j3X3/luS3burOXX3943jLMCAAAAgBfGEaMAAEfokU1Dtwrev8b2QQAAAACqQSAEADhCLQdogS3+VAUAAABARfhRFgDAETp/SmPIvcteVx+GmQAAAADAkfMMQgCAIzTlvEbmva8v9z/Qkuee6w+Gr5spEAIAAABQDQIhAMCLcP6URs6f0jfc0wAAAACAI+aIUQAAAAAAACiIQAgAAAAAAAAFEQgBAAAAAACgIAIhAAAAAAAAFEQgBAAAAAAAgIKMGu4JjDhrl2baDXfuvZ45LysWXZ32JElPli1ckBtX9Q/Nv2lJFkwfhjkCAAAAAADAiyQQ7qe3e9NBw1/v7Tdn+azFWbeoI8n6LJ61NGu65mVG02cJAAAAAAAAL44jRl+wnqzoSmZf3DFwPTXXLtyUO9YO55wAAAAAAADgyAiE++ne9FCW3DA/02b1/7r+9p6Bkd5sXDUp53UMfv3G7p4hvwcAAAAAAACMVI4Y3c+M65Zk3XW7r/qfObh44sCRozM7M3Gf17ZPnJS7V/Ym6UjnhLamz7UUPluqyLqliqxbqsrapYqsW6rK2qWKrFuqytqliqxbqA6B8JA6cuWsKVne3ZNMT7Jqc7qTtA+M9nZvyhWTrkmSbH5q+3BN8ri1+5uJz5aq6ZzQZt1SOdYtVWXtUkXWLVVl7VJF1i1VZe1SRdYtzSZIHx1HjL5g7Zk8c1M27Hei6OSJHQd+OQAAAAAAAIxAAuEhrc8ti5LZF3ekfzdhsnx1z6CxyacP4/QAAAAAAADgCDlidJD+Zw7euGr39ZR84raPZ+7AJsH2OR/K7IULMm1R//X8m5bsGQMAAAAAAIAqEAgH6cjcRUsy90WPAwAAAAAAwMjmiFEAAAAAAAAoiEAIwHFt+/akXh/uWQAAAAAAjByOGAXguLTx4Vr+6V9as2NH//Xsq+q54nKlEAAAAADADkIAjjuNRvL5W/fGwSRZ/s2WPPxIbfgmBQAAAAAwQgiEABx3tmxNdu4cev+RTQIhAAAAAIBACMBxp23sge+feGKjuRMBAAAAABiBBEIAjjujRiWXvnbw8wbP7GzkktcIhAAAAAAAo4Z7AgDwUnjrNfWce04jP3mylra2ZOYl9dScMAoAAAAAIBACcPyaekEjUy+waxAAAAAAYF+OGAUAAAAAAICCCIQAAAAAAABQEIEQAAAAAAAACiIQAgAAAAAAQEFGDfcEoOqe3ZJ87Rut+f76WiZObORNV9Vz9lmN4Z4WAAAAAADAAdlBCEfps59rzdoHa+nrSzZtquXTn2nNs1v6x+5fU8u/LmvNl77Skoc21IZ3ogAAAAAAALGDEI7KM8/U8uRPB4e/ej353n0tGTMm+do3djf4Wu5/IPnA+/sy5Ty7CwEAAAAAgOFjByEchdpBNgXWasmddw39x2vtg3YRAgAAAAAAw0sghFCYRKcAABzCSURBVKNw8smNdHYO3hE4enRyyWvq2bVr6Ot37hIIAQAAAACA4eWIUThK8+f15a6ulmx6tJZTT01eN7OeceOSiy6s53v3DW7w559XH6ZZAgAAAAAA9BMI4SiNPSGZ85ah4e/tb+2/d9/9LRk1Krn6jfVcOMPzBwEAAAAAgOElEMJLpNaSvONX6nnHr9g1CAAAAAAAjByeQQgAAAAAAAAFsYOQ486uXckdd7bk4UdqefnLk0tfW885kxztCQAAAAAAkAiEHIeW/lNrHn6kliT5yZPJ99e35iMf3pX29mGeGAAAAAAAwAjgiFEqq15PvnVPS77Z1ZLv3de/lHftyp44uK+16yx1AAAAAACAxA5CKqrRSD716dZs3rw3Bq7/YS3veXffMM4KAAAAAABg5LOtisrYujX54Y9qefbZWtY8UBsUB5PkRz+uZdvWHPB5g9NeWW/WNAEAAAAAAEY0OwiphJX3tuTrd+zt2SedNDQCJskvnq1l3vv6cvs3WrL2wZacdmojV82q59SOZs0UADiWtj+XjB6VjPKnVgAAAIBjxo9aGPG2bcugOJgkv/jF0OcMtrYmZ5zeSGtr8va31fP2t9k1CABV1f14Lbf+a2t+8Wz/9X97VT2/8U7f2wEAAACOBUeMMuJ1Pz40Bu6vrS2Z976+tLY2YUIAwEvuC19q2RMHk+S/HmzJ9+7zR1cAAACAY8EOQka8M8448HGie8ZPb+T6D/Y1aTYAwEut0UiefnrofyD09M+GYTIAAAAAxyGBkBHtp72NdN3dkhPGJM/vOPBr2tuP/n127Ei+2dWS7sdr6eho5HWvbeTUUw8dJmmOlfe25McP1TJ2bHLRjHpecb7/XQCOd7Va0tKS1Pc7UbTVn1wBAAAAjgk/ZmFE2rCxlntW1rNyVV+e3TL4OLFarX9nQdL/w8PXvfbAzyPasSP51j0tef75ZNy45A2X1dNykJPJbvlsax7f3L9T4dHHanlwXfIH/31Xxo49Zn9LvAhfv6MlK+/d+z/a99e35gPv78uU80RCgOPdO36lni99de/3gFNOaeT1l3oGIQAAAMCxIBAy4vzwR7V8/tbWJAc+NvQ976rnJ0/2//VrLqznpJOGvqbRSP7+06158qd7jyf78UO1/M61Q3/Pn/88e+Lgbs8/n3xndUuuuNwPIofTPd8eWnR//FBNIAQowIUz6pnw8kY2PFzLqFHJpTPrGe1PrgAAAADHhB+zMOLcteIg2/wGjBrdyBuvbGTXrmT1fS157rn+IHje5EbOPqs/HN3/QG1QHEz6dwb29NbS0T44LvUdpAHuf6wZzdc4QAc80D0Ajk9nn93I2Wf7Fz8AAADAsSYQMuL8/Be1Q44v/Xxr3v4r9XStaMkvnt17/64VycxL6nnbnHq2bDnw77F1a9Kx3zMLX35KcmpHIz/t2fs1tVr/7sSj9fTPkq1bazmzs3HQ4005uAtn1HP/msEf3Lnn+EHxsfbU07Vs3550nmGdAgAAAACUQCBkxLnw1fV8655DV4qv/vuBx1d9tyVvuKyeC2fUs/ybg18zZkxy1lkHjksfeH9f/vPrrVn/g/6Y95Y31TN+/Iubf9K/y+2Wz7bmkU21Pe897319mWQXxBH5tV+t54Qx/TtFx7U18qbZ9Uy9wGd4rPT1JZ/+TGse6+5fp+Paknnv78uZnT5jAAAAAIDjmUDIiPOmq+t5fHMtDz9y6J2EB/PEk7X88vmN/NZv9uW2L7Zm27b++319/c+vu+AVQ+PHSScl73nXgZ95+GKsvLdlTxxMkh07kmVfbs1HP7LrmL1HCWq15K3X1PPWa5z3+lK4+1ste+Jgkmzbnnz5qy35veuO3T8LAAAAAACMPA6TY8Sp1fp39L1Y/3Jba278xKjceVfLnjiY9AfCf7q1Nc89dwwmeRhbtw6998wzL/37wpHYcoB1uv+zOwEAAAAAOP4IhFTOmDHJb763L6effuBjEHcNbNLrfvzAoWPji9yZeCTGjBl6b+zYl/xt4Yi0tQ29d/JJzZ8HAAAAAADN5YhRRqSWg6TrS17TyFvn9KW1JXnF+X158qe1bNvW/8y/H/6olntXHb55v/yUYzzZA7j89fV8f31t0G6sd73TsY2MLJddWs+6dbU89fTedfprb7dOAQAAAACOdwIhI1Ktlrzr11pz25cHx4paSyNdK1oyfVojp57ayGmn7t1FuOnRw+8MPPecRk4/7cA7D4+l0aOTD3+oL9+7vyVbtySvfnUjv3TyS/++cCTa2pIbPtyX1d+rZftztVw0o57x44d7VgAAAAAAvNQEQkast7yxJZ2n1fJfP9iRDRtrefSxWr7z3f4dgnd/K/ngb/flzM690W3mJfV8+zst2b597+/xqmmNnHtOI1u2JONfllz8mnrT5l+rJRdf1Lz3gxejpSV57SWNJAI2AAAAAEApBEJGrJ89kzz+RCONRvLoY4N3BzYayf1raoMC4bhxyYc/uCuf/uyo/OxnyfjxyZuurueUXxI+AAAA4P+3d/dBUpV3vsC/w4C8yZsyQHAMkaDJBBHkYsCXKxjIGmtzk92wmlezeLMbtSrZ3LwYcveuVipa2UVSSZnsrppkXa6YSqKQbDauJAo34EpQQ6LAAsYgiAKBmZE3EQQc+v4xMEzPjAMoMD3051NFlaef030eun7+6O7vOc8BAIBDBISUpJWrKvLjOfsPbrV9X8EdO1uHhvfPrcy2bY3bL7+cfOvblfnzDzbkwtGdPyQ8cCCpr69I79ML6d2ro2cDAAAAAAB0VgJCSs6a5yry4zmVR9yvssUuj/26S17c0Po+hD/9WWVGj3otXdrOGTuF59dX5Ac/rMzefY3bNe8s5KPXNLT/JAAAAAAAgDZ04sikI9Rl7vRpGTmp8c/MFR09n1NPoZD84EdHDgeTZPCg4qsC9+9/nR2T7N7z+mOdwQNzD4eDSbL6mYr89nf+9wUAAAAAAI6dhOEY1M+7O/MnzczKhbOycuH05LOz83RHT+oUs3t30nCUF8ZN/O8Hira7d297v4qKpFfPNzmxDtTQkLy8q/Xj23ee/LkAAAAAAACdn4DwqNVl0cJkyriqg9s1uW76+jziKsLjqkePo9/3jn/sWnQV3aUXH8iwt7a+1+DVHzrQqZcXraxMm/PvenQXWgIAAAAAABRxD8KjVp+1TwzLe6uKH127oS4ZVdX2UzhmlZVJ376F7NzZ+l6CLW3bnvzswS6pqEjGXth4NeGnpjXkhRcrsnVrclr35Jy3FdLzGELHUvWhDzZkzk8PJ4JDBhdy6cUH2nkGAAAAAABA2wSEx2L80FQ32xxYPSyPLq5PUpWhZ3biNSxLyPadyc6d7dxMsA2rV1fm/VMOry869MzjPauON3RSMvLcQp5afiB9Tq/IxEu7dOqrIsuBnkBnpG7prNQunZG6pbNSu3RG6pbOSu3SGalb6DwEhMfiiU3ZkGTgwc36Detz+bD3deSMKCNnn1WRs8+yrigAAAAAAPDmCAiP2sAMH78+z9UlY5qtKDq8unFj00t7Omhep57BgyqzpfbIS4weUlPTkE0vHdtVh3AiDT2zp55Ap6Nu6azULp2RuqWzUrt0RuqWzkrt0hmpW042V6y+ORYpPGpVmTgpmb+07uD26vzrjGT4kI6c06np2o835B3nFZq2u3UrpGvXpHv35NKLD2TYWwvp0iUZ0D/54PsPNN1/EAAAAAAAgCNzBeExGHjV9Zky/aaMnNG4Pe07szK1qv3ncOz69kk+/pGGpvTfWScAAAAAAADHj4DwmFRl6oxZmdrR0wAAAAAAAIA3yBKjAAAAAAAAUEYEhAAAAAAAAFBGBIQAAAAAAABQRgSEAAAAAAAAUEYEhAAAAAAAAFBGBIQAAAAAAABQRgSEAAAAAAAAUEYEhAAAAAAAAFBGBIQAAAAAAABQRgSEAAAAAAAAUEYEhAAAAAAAAFBGBIQAAAAAAABQRgSEAAAAAAAAUEYEhAAAAAAAAFBGBIQAAAAAAABQRgSEAAAAAAAAUEYEhAAAAAAAAFBGBIQAAAAAAABQRiomTJhQSJIlS5Z09FwAAAAAAACAE8wVhAAAAAAAAFBGBIQAAAAAAABQRgSEAAAAAAAAUEYEhJSgusydPi0jJzX+mbmio+cDhxTXZqv6XDH78Nj0BalvNvT0XYefc+O8upM9ccpU/bzbMnLSbZnbsuTeYK2qY06O1Zk5aVpG3rW6+OHmdduydusW5Mamsdl5uvnz2huD46LF54MWfVXPpWS16Kuv+7lWz6WkHPycoOfSyTR+N9Nz6cTqFuTGlr8v6LnQ+U2YMKEwYcKEApSKuoduLdzwUO3BrVWF2yfeW3iqQ2cEh6wq3P7l+YW61xtrVqtFdbz83sK77lx1cKS2MOfLtxbm1Lb1GnC81BbmfPkvCzc8VFt46s6W9fYGa1UdczIsv7fwron3Fp6qnV+4oaneGtU9dGvh9uVtPekYarVoDI6T5fOL+mF7n2X1XEpHbWHOQ837Yeta1XMpSctXFf0+UPfQrc3qTM+lVNUWnlrevKhWFW6feLjO9FxKX21hzpfvLdxe9PuCngunAlcQUmLqsmhhMmVc1cHtmlw3fX0ecRUhpW7F0sz6yLiMObg58KqpGb5weeqTPL14QaZdWnNwpCpTPzEs85c6Q4oTqSpTZ8zKnVdVtR56g7WqjjkpRl2blQuvbarPo1K3PPNzcSYeKvdR78vX1i1tPIO6vTE4XkZNztRm7XZg9bA8uv7g+dN6LiWrKlOvqmm2PTDDx6/Pc0cqMz2XjjaqpuhzwsDqYYc39FxKVlXGjGr+3Wxgho8/iqfpuZSI+nl3Z/6kcRm+rtmDei6cEgSElJj6rH1iWN7e4jfttRv8Q0EJqNuUtU/MzsQ2lvCo37A+lw8bWLz/E5uyIXV5bt2IDB9SPNT0wyGcZG+sVtUxHW/D+jWZ9dk2lqLZvCmPnjM0xVV98Efu9sbgBGneZ/VcOo/i72F6Lp3F04sX6Ll0PnXLM1/PpbOoW5CbF16cW68qrjY9F04NXTt6AtDK+KGpbrY5sHpYHl1cn6SNK2HgZKqanDsXTj68vWJ2Rk5fkEUzGh8bXt3yjMBDH85bhN5DhubydZtSn5oWH+bh5Dj2Wh3Yzpg65uQYc8OsrLzh0FZd5k6/KTOrZ+WmpMUX06q8/Zw1eWRz49brjvlYwYlQtyA3zxiW6xceLjA9l87g6btmZO30mU1XAei5lLQVszPyswuSJNO+Myt3jjo8pOdSuhp76S1PJBl/bRYtvLapvvRcSldd5n5jSaZ86e8yMK3TZz0XOj9XEFJ6ntiUDc022zwjBUrBqHGZ1qxei690bX4Wdouz+No80w9OnjdWq+qYUlKViZNGNNVy8RmnxWeltjcGx9fqzLx6SaY8ULxMrp5Lqaufd1s+nultL02eRM+l5Iy6NisXzsrKhbPy3sXTMvKu1U1Dei6lq/E2ECsXzsrKLyU3T7otc9u82k/PpXQ0Li16fdFy+s3pudD5CQgpMW3f+6L4jBQoPUX3Gzpk/NBUHzyLb+3m4iGhNx3ljdWqOqaENZ1x2tzBL6btjcFxtTozJ83N8Af+7vXvR3iInksJqZ93Wyaun5qVN9QceedEz6XkjLlheqb9qPG+a3ounUbV5Nw6PUe+75qeS4eqy6KFa/LojJsOLn97U255Yk1uubpxGVw9F04NAkJKTFUmTmr+IWl1/nVGnAFFSaqfN/fwDZlHjWv6Yto0dvAMqDGXTs6sxYfOaq3L3PsWCL3pOG+wVtUxpaXx88GUcVVJ1QWZkiVZdOijw4pf5JYcXK68vTE4btoOB5PouZS0ow8H9VxK2IqlmXXoNiV6Lp1GY/DSdp3puZSKZle9LpyVlQtn5mvjR+RrD8xqXHVAz4VTQsWECRMKSbJkyZKOngsc1Gxd9jTeU+CmUe0/A06KZve6SJJ8ZHrxDyrNx8dfm0UzJjctkfD0XdPy8R81/vfl02e2s4QTHF9P33Vbnpva4kfrN1ir6piTpm5Bbpw7NHc29djizwbJiHyteRhTtyA3Xj07jyZJJucHC5st8djeGBwH9fNuy8QZa1o82qzW9FxK0urMnDQjs1o82lhr0XMpWc17Y6MWdabnUoqKemOjw3Xmcy6dRV3mTr87+VKz+tRzodMTEAIAAAAAAEAZscQoAAAAAAAAlBEBIQAAAAAAAJQRASEAAAAAAACUEQEhAAAAAAAAlBEBIQAAAAAAAJQRASEAAAAAAACUEQEhAAAAAAAAlBEBIQAAAAAAAJQRASEAAAAAAACUEQEhAAAAAAAAlBEBIQAAAAAAAJQRASEAAAAAAACUEQEhAAAAAAAAlBEBIQAAAAAAAJQRASEAAAAAAACUEQEhAAAAAAAAlBEBIQAAQJnZtuPl3PiVb2bt+k2vu8/Lu3Zn1bPr09DQ8KZf63jP7Uj27X8t37nnJxn7J3+d9/zF5/PMmheOy9wAAABOFQJCAACAg36z7JmMnDQtd8/+eQqFQqvxx55ckdFTPpWfPPToUb/mlvptuf2ff5RXX913PKd6wv1h3Yb84z0/ye4TPO/Zcx7Ob5Y9c1xfc9mqNVnz/MYs+um3M//+b+Ydbz/7hBwHAACgsxIQAgAANPPuC2uy8vfrsm3HrqLHGxoa8uTTz2TihNHH9Hpb6rZmx85dR96xxIwddV7++R8+nz69e56wY+zf/1rWPL/xuL/uixtrM6x6SPr07pkuXSry2msNJ+Q4AAAAnVXXjp4AAABAKRk4oG969Dgtq559Ppe9e1TT45u2vJQ/bnkpo0eOKNp/+85dufvef8+//XJx9u7dl2s+cEVu+OQH0r/v6Xn8d6vyjTt/nI2b6/OHdRvz1qGDcvPnP5m+fXrl10v/K3d8b25WPvt8zhtenS/d+OFcMu78VFRU5DfLnsl/Pr48l08YnZtvvydnDuibf/r6/0q/vr2TJK++ui+3fOOe/OmUi4sCy0WPL8v8R5fm5s//ZQ4cOJD75j6Sf/nhQ63mdcgzz72Y2+6YnSd+t7rNOTzw84X52pf+Z3r0OC2v7t2X+3++MP/3/l9kc+3WjB9bk69/5a/TvXu3ovejUCjk10v/K9+488d5du2GjB9bky/e8OGMPO9tRfu9svvV3PH9OXl40dL8dvmzOb13z1z34avy7gvfecS5vd4x3jH87Mye+3D+bd5j2b5zV558anU++meTs/L361od58pJFx2XegEAAOiMBIQAAADNVHSpyOXjR2fBY7/L+Atr0q1b49emx55ckbGjzs0fa7dmQL/GkG3f/tfy7e/PzbnnVGfRT+5I18rK/HTef+br374vX/3itEwY+65M/8xHi4K2JFm26rnc88N5mXnLjRlWPTiba7fm5pn3JEkuvagxlFy0ZFmS5Ed33pI+p/dKRcXhOfbocVomXXJhFj+5IpdddH4qKyvT0NCQxU+uyMXjzk+3rpX5lx/+Mnv27G2a15wHF+a79z2YL15/dZJk+45deXTJsnzrq59Jv76988yaF/LNux/IueecnUED+xe9J4VCIffNfSRr1m3MT75/a/r26ZWdL+/O6b17ZOeu3UX7Ll+9Nvc+8HDu/IcvZMigM5pe97bpnyp63d69euQLn74m23fuytX/Y1IuGt0YDG7b8fIR59beMa778FXp16d3nt+wJV/4dOPf9cqJF7U6DgAAQDmzxCgAAEALo2qGZ9eu3dlctzVJsnvPq1n17PMZf2FN0X7PPb8xL26qzZVXvDundeuaLl0q8r4r3t3ukpYNDQ35j/lL8qdTJmRY9eAkyZBBZ+QTU9+bhxctzf79ryVJunSpyMf+fEr69e2dLl0qUtE8IUwy6p3n5PkXt6R+284kSf22nXlxU20uqBmebTt25Zk/vJBrPnhF07wuuej8rHthU9P+Xbp0ydT3X950VeKw6sE5o3+fbK57qdWca1/aniVLV+bTn3h/+vXtnYqKivTr2zuVlZVF+xUKhfxq8VP52IemZMigM5Ikbx82NG8ZfEZWr1l/1O9/e3M7XscAAAAoZ64gBAAAaKFf394ZcU51HntyRT76Z5Pz7HMb0rVr11QPHVS0367dezKgf5/06tG96bHevXqkeuigrFm3MRfUvL3Va+/f35DtO3fl7LOKX+vst1Sltn5bdu3ekyQ5d3h10XKgLQ2pOiNvGdx49dzggQOybOWanD10UN4y6Iys37Aly1atyXv+4vNFzxk6+My88sqenNa/T/r26ZUz+/dtGqtIRQ4UDmTvvv2tjvXKK3ty2mldM6B/n3betWTv3v3ZtKU+3/vBg63GRr+r9Xvxetqb2/E6BgAAQDkTEAIAALRQkYpcccmYzHrgl/nA7lez6PFlmXzZ2JzWrXS+QnXr1jXvuWxsFj+5IuPH1GTJb1dl8mVjm67qG3HOWbn/u1/NgH6tQ71tO14+oXObdcdXTvhSnifjGAAAAKcqS4wCAAC0oXpoVfbv259Fjy/LCxu35LzhZ7fa58z+fbNr157sfnVv02Ov7H41GzbVZsQ5Z7X5ut27d8vQwQPz4sbaosdf/GNdBg0ckNN79TzqOdaMGJYt9duy4vdrU1u/rWmOp/fulb379qeufvtRv1Z7evfumX37Xsu27e0Hi926VWbgGf2zZl3by6seDyfjGAAAAKc6ASEAAEAbevXskSsuG5s7vjcn5w0/O1Vn9mu1T/XQQRk86Iw8tODx7Nv/Wg4cKOQXv3oyXbtWZsTbGgPC7qd1S/3WHdm5a3eSpKKiIldcemH+/ZeL8/yLm5Mkm2u35r65j+RPJo5Lt2O4SvHMAX1y1pCq/PzhX+fcc6qb5lh1Zr9cMu78fO8HD+alg/cc3L//tbywcUsaGhqO+b0YOKBvxo1+R2bPfSQ7dr6SQqGQrdt2Zk+zYDRJKisrc+WkizLnwUV5euWaFAqFHDhQyObardn1yp5Wr1tZ2SU9e3TPCxtqUygUjmoux3qMN3ocAACAU5mAEAAA4HVcUDM8Z/Tvk8snXJCKiopW46d165ovXn9Ndrz8SiZ+6HMZ975P5w/rNuRv/+YT6dWzR5LknSOG5cLzz837PnZTpn3u77Nj5yu5oGZ4/uavpuaWmfdk5KRpufEr38y0a67MJePOP6b5VVZW5opLx+SRR3+bSRePaZpjRUVFPnn1lflvo9+Ra67/akZOmpb3f/J/51eLn8qBA8cekFVWVua6j1yV6iED84Fpf5vzr7guX/jqP2Xbjl1tvmf/53OfyDfvvj/nX3FdLv3gZ/Kt7z6Q3Xv2ttq3W7eu+fAH3pMf/+z/Zcx7/yr/Mf/xo5rPsRzjzRwHAADgVFUxYcKEQpIsWbKko+cCAAAAAAAAnGCuIAQAAAAAAIAyIiAEAAAAAACAMiIgBAAAAAAAgDIiIAQAAAAAAIAyIiAEAAAAAACAMiIgBAAAAAAAgDIiIAQAAAAAAIAyIiAEAAAAAACAMiIgBAAAAAAAgDIiIAQAAAAAAIAyIiAEAAAAAACAMiIgBAAAAAAAgDIiIAQAAAAAAIAyIiAEAAAAAACAMiIgBAAAAAAAgDIiIAQAAAAAAIAyIiAEAAAAAACAMiIgBAAAAAAAgDIiIAQAAAAAAIAyIiAEAAAAAACAMiIgBAAAAAAAgDIiIAQAAAAAAIAyIiAEAAAAAACAMiIgBAAAAAAAgDIiIAQAAAAAAIAyIiAEAAAAAACAMiIgBAAAAAAAgDIiIAQAAAAAAIAyIiAEAAAAAACAMiIgBAAAAAAAgDIiIAQAAAAAAIAyIiAEAAAAAACAMiIgBAAAAAAAgDIiIAQAAAAAAIAyIiAEAAAAAACAMiIgBAAAAAAAgDIiIAQAAAAAAIAy8v8BIwWqF376KHcAAAAASUVORK5CYII=)"
      ],
      "metadata": {
        "id": "EtE2OU31i0ho"
      }
    },
    {
      "cell_type": "markdown",
      "source": [
        "**По графику видно, что c увеличением числа Arson (поджогов) немного растет число хищений авто (Motor vehicle theft).**"
      ],
      "metadata": {
        "id": "cVqLFoDNTO6z"
      }
    },
    {
      "cell_type": "markdown",
      "source": [
        "Постройте матрицу корреляции для двух числовых признаков вашего датасета."
      ],
      "metadata": {
        "id": "S-jG4a5SaFXS"
      }
    },
    {
      "cell_type": "code",
      "source": [
        "px.imshow(df.corr())"
      ],
      "metadata": {
        "id": "u_lOnPtjnfbq",
        "colab": {
          "base_uri": "https://localhost:8080/",
          "height": 631
        },
        "outputId": "96902d5c-b069-489a-8387-f55ad0d9455a"
      },
      "execution_count": 11,
      "outputs": [
        {
          "output_type": "stream",
          "name": "stderr",
          "text": [
            "<ipython-input-11-0dfbac1aba16>:1: FutureWarning:\n",
            "\n",
            "The default value of numeric_only in DataFrame.corr is deprecated. In a future version, it will default to False. Select only valid columns or specify the value of numeric_only to silence this warning.\n",
            "\n"
          ]
        },
        {
          "output_type": "display_data",
          "data": {
            "text/html": [
              "<html>\n",
              "<head><meta charset=\"utf-8\" /></head>\n",
              "<body>\n",
              "    <div>            <script src=\"https://cdnjs.cloudflare.com/ajax/libs/mathjax/2.7.5/MathJax.js?config=TeX-AMS-MML_SVG\"></script><script type=\"text/javascript\">if (window.MathJax && window.MathJax.Hub && window.MathJax.Hub.Config) {window.MathJax.Hub.Config({SVG: {font: \"STIX-Web\"}});}</script>                <script type=\"text/javascript\">window.PlotlyConfig = {MathJaxConfig: 'local'};</script>\n",
              "        <script charset=\"utf-8\" src=\"https://cdn.plot.ly/plotly-2.24.1.min.js\"></script>                <div id=\"27789688-b432-4b30-9644-e49a099c3612\" class=\"plotly-graph-div\" style=\"height:525px; width:100%;\"></div>            <script type=\"text/javascript\">                                    window.PLOTLYENV=window.PLOTLYENV || {};                                    if (document.getElementById(\"27789688-b432-4b30-9644-e49a099c3612\")) {                    Plotly.newPlot(                        \"27789688-b432-4b30-9644-e49a099c3612\",                        [{\"coloraxis\":\"coloraxis\",\"name\":\"0\",\"x\":[\"Violent crime\",\"Murder and nonnegligent manslaughter\",\"Rape (revised definition)\",\"Rape(legacy definition)\",\"Motor vehicle theft\",\"Arson\"],\"y\":[\"Violent crime\",\"Murder and nonnegligent manslaughter\",\"Rape (revised definition)\",\"Rape(legacy definition)\",\"Motor vehicle theft\",\"Arson\"],\"z\":[[1.0,0.9444385173618886,0.9485489035571975,null,0.848444593536451,0.7428621280647242],[0.9444385173618886,1.0,0.907172959588691,null,0.8704375076254158,0.6897317656950901],[0.9485489035571975,0.907172959588691,1.0,null,0.8395585503056109,0.7402701611147259],[null,null,null,null,null,null],[0.848444593536451,0.8704375076254158,0.8395585503056109,null,1.0,0.7858531922924258],[0.7428621280647242,0.6897317656950901,0.7402701611147259,null,0.7858531922924258,1.0]],\"type\":\"heatmap\",\"xaxis\":\"x\",\"yaxis\":\"y\",\"hovertemplate\":\"x: %{x}\\u003cbr\\u003ey: %{y}\\u003cbr\\u003ecolor: %{z}\\u003cextra\\u003e\\u003c\\u002fextra\\u003e\"}],                        {\"template\":{\"data\":{\"histogram2dcontour\":[{\"type\":\"histogram2dcontour\",\"colorbar\":{\"outlinewidth\":0,\"ticks\":\"\"},\"colorscale\":[[0.0,\"#0d0887\"],[0.1111111111111111,\"#46039f\"],[0.2222222222222222,\"#7201a8\"],[0.3333333333333333,\"#9c179e\"],[0.4444444444444444,\"#bd3786\"],[0.5555555555555556,\"#d8576b\"],[0.6666666666666666,\"#ed7953\"],[0.7777777777777778,\"#fb9f3a\"],[0.8888888888888888,\"#fdca26\"],[1.0,\"#f0f921\"]]}],\"choropleth\":[{\"type\":\"choropleth\",\"colorbar\":{\"outlinewidth\":0,\"ticks\":\"\"}}],\"histogram2d\":[{\"type\":\"histogram2d\",\"colorbar\":{\"outlinewidth\":0,\"ticks\":\"\"},\"colorscale\":[[0.0,\"#0d0887\"],[0.1111111111111111,\"#46039f\"],[0.2222222222222222,\"#7201a8\"],[0.3333333333333333,\"#9c179e\"],[0.4444444444444444,\"#bd3786\"],[0.5555555555555556,\"#d8576b\"],[0.6666666666666666,\"#ed7953\"],[0.7777777777777778,\"#fb9f3a\"],[0.8888888888888888,\"#fdca26\"],[1.0,\"#f0f921\"]]}],\"heatmap\":[{\"type\":\"heatmap\",\"colorbar\":{\"outlinewidth\":0,\"ticks\":\"\"},\"colorscale\":[[0.0,\"#0d0887\"],[0.1111111111111111,\"#46039f\"],[0.2222222222222222,\"#7201a8\"],[0.3333333333333333,\"#9c179e\"],[0.4444444444444444,\"#bd3786\"],[0.5555555555555556,\"#d8576b\"],[0.6666666666666666,\"#ed7953\"],[0.7777777777777778,\"#fb9f3a\"],[0.8888888888888888,\"#fdca26\"],[1.0,\"#f0f921\"]]}],\"heatmapgl\":[{\"type\":\"heatmapgl\",\"colorbar\":{\"outlinewidth\":0,\"ticks\":\"\"},\"colorscale\":[[0.0,\"#0d0887\"],[0.1111111111111111,\"#46039f\"],[0.2222222222222222,\"#7201a8\"],[0.3333333333333333,\"#9c179e\"],[0.4444444444444444,\"#bd3786\"],[0.5555555555555556,\"#d8576b\"],[0.6666666666666666,\"#ed7953\"],[0.7777777777777778,\"#fb9f3a\"],[0.8888888888888888,\"#fdca26\"],[1.0,\"#f0f921\"]]}],\"contourcarpet\":[{\"type\":\"contourcarpet\",\"colorbar\":{\"outlinewidth\":0,\"ticks\":\"\"}}],\"contour\":[{\"type\":\"contour\",\"colorbar\":{\"outlinewidth\":0,\"ticks\":\"\"},\"colorscale\":[[0.0,\"#0d0887\"],[0.1111111111111111,\"#46039f\"],[0.2222222222222222,\"#7201a8\"],[0.3333333333333333,\"#9c179e\"],[0.4444444444444444,\"#bd3786\"],[0.5555555555555556,\"#d8576b\"],[0.6666666666666666,\"#ed7953\"],[0.7777777777777778,\"#fb9f3a\"],[0.8888888888888888,\"#fdca26\"],[1.0,\"#f0f921\"]]}],\"surface\":[{\"type\":\"surface\",\"colorbar\":{\"outlinewidth\":0,\"ticks\":\"\"},\"colorscale\":[[0.0,\"#0d0887\"],[0.1111111111111111,\"#46039f\"],[0.2222222222222222,\"#7201a8\"],[0.3333333333333333,\"#9c179e\"],[0.4444444444444444,\"#bd3786\"],[0.5555555555555556,\"#d8576b\"],[0.6666666666666666,\"#ed7953\"],[0.7777777777777778,\"#fb9f3a\"],[0.8888888888888888,\"#fdca26\"],[1.0,\"#f0f921\"]]}],\"mesh3d\":[{\"type\":\"mesh3d\",\"colorbar\":{\"outlinewidth\":0,\"ticks\":\"\"}}],\"scatter\":[{\"fillpattern\":{\"fillmode\":\"overlay\",\"size\":10,\"solidity\":0.2},\"type\":\"scatter\"}],\"parcoords\":[{\"type\":\"parcoords\",\"line\":{\"colorbar\":{\"outlinewidth\":0,\"ticks\":\"\"}}}],\"scatterpolargl\":[{\"type\":\"scatterpolargl\",\"marker\":{\"colorbar\":{\"outlinewidth\":0,\"ticks\":\"\"}}}],\"bar\":[{\"error_x\":{\"color\":\"#2a3f5f\"},\"error_y\":{\"color\":\"#2a3f5f\"},\"marker\":{\"line\":{\"color\":\"#E5ECF6\",\"width\":0.5},\"pattern\":{\"fillmode\":\"overlay\",\"size\":10,\"solidity\":0.2}},\"type\":\"bar\"}],\"scattergeo\":[{\"type\":\"scattergeo\",\"marker\":{\"colorbar\":{\"outlinewidth\":0,\"ticks\":\"\"}}}],\"scatterpolar\":[{\"type\":\"scatterpolar\",\"marker\":{\"colorbar\":{\"outlinewidth\":0,\"ticks\":\"\"}}}],\"histogram\":[{\"marker\":{\"pattern\":{\"fillmode\":\"overlay\",\"size\":10,\"solidity\":0.2}},\"type\":\"histogram\"}],\"scattergl\":[{\"type\":\"scattergl\",\"marker\":{\"colorbar\":{\"outlinewidth\":0,\"ticks\":\"\"}}}],\"scatter3d\":[{\"type\":\"scatter3d\",\"line\":{\"colorbar\":{\"outlinewidth\":0,\"ticks\":\"\"}},\"marker\":{\"colorbar\":{\"outlinewidth\":0,\"ticks\":\"\"}}}],\"scattermapbox\":[{\"type\":\"scattermapbox\",\"marker\":{\"colorbar\":{\"outlinewidth\":0,\"ticks\":\"\"}}}],\"scatterternary\":[{\"type\":\"scatterternary\",\"marker\":{\"colorbar\":{\"outlinewidth\":0,\"ticks\":\"\"}}}],\"scattercarpet\":[{\"type\":\"scattercarpet\",\"marker\":{\"colorbar\":{\"outlinewidth\":0,\"ticks\":\"\"}}}],\"carpet\":[{\"aaxis\":{\"endlinecolor\":\"#2a3f5f\",\"gridcolor\":\"white\",\"linecolor\":\"white\",\"minorgridcolor\":\"white\",\"startlinecolor\":\"#2a3f5f\"},\"baxis\":{\"endlinecolor\":\"#2a3f5f\",\"gridcolor\":\"white\",\"linecolor\":\"white\",\"minorgridcolor\":\"white\",\"startlinecolor\":\"#2a3f5f\"},\"type\":\"carpet\"}],\"table\":[{\"cells\":{\"fill\":{\"color\":\"#EBF0F8\"},\"line\":{\"color\":\"white\"}},\"header\":{\"fill\":{\"color\":\"#C8D4E3\"},\"line\":{\"color\":\"white\"}},\"type\":\"table\"}],\"barpolar\":[{\"marker\":{\"line\":{\"color\":\"#E5ECF6\",\"width\":0.5},\"pattern\":{\"fillmode\":\"overlay\",\"size\":10,\"solidity\":0.2}},\"type\":\"barpolar\"}],\"pie\":[{\"automargin\":true,\"type\":\"pie\"}]},\"layout\":{\"autotypenumbers\":\"strict\",\"colorway\":[\"#636efa\",\"#EF553B\",\"#00cc96\",\"#ab63fa\",\"#FFA15A\",\"#19d3f3\",\"#FF6692\",\"#B6E880\",\"#FF97FF\",\"#FECB52\"],\"font\":{\"color\":\"#2a3f5f\"},\"hovermode\":\"closest\",\"hoverlabel\":{\"align\":\"left\"},\"paper_bgcolor\":\"white\",\"plot_bgcolor\":\"#E5ECF6\",\"polar\":{\"bgcolor\":\"#E5ECF6\",\"angularaxis\":{\"gridcolor\":\"white\",\"linecolor\":\"white\",\"ticks\":\"\"},\"radialaxis\":{\"gridcolor\":\"white\",\"linecolor\":\"white\",\"ticks\":\"\"}},\"ternary\":{\"bgcolor\":\"#E5ECF6\",\"aaxis\":{\"gridcolor\":\"white\",\"linecolor\":\"white\",\"ticks\":\"\"},\"baxis\":{\"gridcolor\":\"white\",\"linecolor\":\"white\",\"ticks\":\"\"},\"caxis\":{\"gridcolor\":\"white\",\"linecolor\":\"white\",\"ticks\":\"\"}},\"coloraxis\":{\"colorbar\":{\"outlinewidth\":0,\"ticks\":\"\"}},\"colorscale\":{\"sequential\":[[0.0,\"#0d0887\"],[0.1111111111111111,\"#46039f\"],[0.2222222222222222,\"#7201a8\"],[0.3333333333333333,\"#9c179e\"],[0.4444444444444444,\"#bd3786\"],[0.5555555555555556,\"#d8576b\"],[0.6666666666666666,\"#ed7953\"],[0.7777777777777778,\"#fb9f3a\"],[0.8888888888888888,\"#fdca26\"],[1.0,\"#f0f921\"]],\"sequentialminus\":[[0.0,\"#0d0887\"],[0.1111111111111111,\"#46039f\"],[0.2222222222222222,\"#7201a8\"],[0.3333333333333333,\"#9c179e\"],[0.4444444444444444,\"#bd3786\"],[0.5555555555555556,\"#d8576b\"],[0.6666666666666666,\"#ed7953\"],[0.7777777777777778,\"#fb9f3a\"],[0.8888888888888888,\"#fdca26\"],[1.0,\"#f0f921\"]],\"diverging\":[[0,\"#8e0152\"],[0.1,\"#c51b7d\"],[0.2,\"#de77ae\"],[0.3,\"#f1b6da\"],[0.4,\"#fde0ef\"],[0.5,\"#f7f7f7\"],[0.6,\"#e6f5d0\"],[0.7,\"#b8e186\"],[0.8,\"#7fbc41\"],[0.9,\"#4d9221\"],[1,\"#276419\"]]},\"xaxis\":{\"gridcolor\":\"white\",\"linecolor\":\"white\",\"ticks\":\"\",\"title\":{\"standoff\":15},\"zerolinecolor\":\"white\",\"automargin\":true,\"zerolinewidth\":2},\"yaxis\":{\"gridcolor\":\"white\",\"linecolor\":\"white\",\"ticks\":\"\",\"title\":{\"standoff\":15},\"zerolinecolor\":\"white\",\"automargin\":true,\"zerolinewidth\":2},\"scene\":{\"xaxis\":{\"backgroundcolor\":\"#E5ECF6\",\"gridcolor\":\"white\",\"linecolor\":\"white\",\"showbackground\":true,\"ticks\":\"\",\"zerolinecolor\":\"white\",\"gridwidth\":2},\"yaxis\":{\"backgroundcolor\":\"#E5ECF6\",\"gridcolor\":\"white\",\"linecolor\":\"white\",\"showbackground\":true,\"ticks\":\"\",\"zerolinecolor\":\"white\",\"gridwidth\":2},\"zaxis\":{\"backgroundcolor\":\"#E5ECF6\",\"gridcolor\":\"white\",\"linecolor\":\"white\",\"showbackground\":true,\"ticks\":\"\",\"zerolinecolor\":\"white\",\"gridwidth\":2}},\"shapedefaults\":{\"line\":{\"color\":\"#2a3f5f\"}},\"annotationdefaults\":{\"arrowcolor\":\"#2a3f5f\",\"arrowhead\":0,\"arrowwidth\":1},\"geo\":{\"bgcolor\":\"white\",\"landcolor\":\"#E5ECF6\",\"subunitcolor\":\"white\",\"showland\":true,\"showlakes\":true,\"lakecolor\":\"white\"},\"title\":{\"x\":0.05},\"mapbox\":{\"style\":\"light\"}}},\"xaxis\":{\"anchor\":\"y\",\"domain\":[0.0,1.0],\"scaleanchor\":\"y\",\"constrain\":\"domain\"},\"yaxis\":{\"anchor\":\"x\",\"domain\":[0.0,1.0],\"autorange\":\"reversed\",\"constrain\":\"domain\"},\"coloraxis\":{\"colorscale\":[[0.0,\"#0d0887\"],[0.1111111111111111,\"#46039f\"],[0.2222222222222222,\"#7201a8\"],[0.3333333333333333,\"#9c179e\"],[0.4444444444444444,\"#bd3786\"],[0.5555555555555556,\"#d8576b\"],[0.6666666666666666,\"#ed7953\"],[0.7777777777777778,\"#fb9f3a\"],[0.8888888888888888,\"#fdca26\"],[1.0,\"#f0f921\"]]},\"margin\":{\"t\":60}},                        {\"responsive\": true}                    ).then(function(){\n",
              "                            \n",
              "var gd = document.getElementById('27789688-b432-4b30-9644-e49a099c3612');\n",
              "var x = new MutationObserver(function (mutations, observer) {{\n",
              "        var display = window.getComputedStyle(gd).display;\n",
              "        if (!display || display === 'none') {{\n",
              "            console.log([gd, 'removed!']);\n",
              "            Plotly.purge(gd);\n",
              "            observer.disconnect();\n",
              "        }}\n",
              "}});\n",
              "\n",
              "// Listen for the removal of the full notebook cells\n",
              "var notebookContainer = gd.closest('#notebook-container');\n",
              "if (notebookContainer) {{\n",
              "    x.observe(notebookContainer, {childList: true});\n",
              "}}\n",
              "\n",
              "// Listen for the clearing of the current output cell\n",
              "var outputEl = gd.closest('.output');\n",
              "if (outputEl) {{\n",
              "    x.observe(outputEl, {childList: true});\n",
              "}}\n",
              "\n",
              "                        })                };                            </script>        </div>\n",
              "</body>\n",
              "</html>"
            ]
          },
          "metadata": {}
        }
      ]
    },
    {
      "cell_type": "markdown",
      "source": [
        "**ФОТО ГРАФИКА plot express**\n",
        "\n",
        "![image_2023-10-12_16-21-05.png](data:image/png;base64,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)"
      ],
      "metadata": {
        "id": "sC3bLn5pi7Z3"
      }
    },
    {
      "cell_type": "markdown",
      "source": [
        "Какие выводы можно сделать на основе графиков и матрицы корреляции?"
      ],
      "metadata": {
        "id": "2MVHWXICaoJ4"
      }
    },
    {
      "cell_type": "markdown",
      "source": [
        "**Ответ здесь**\n",
        "\n",
        "По матрице корреляции можно сделать вывод, что многие признаки коррелируют между собой (связаны)"
      ],
      "metadata": {
        "id": "HFAFaiNzatLN"
      }
    },
    {
      "cell_type": "markdown",
      "source": [
        "##Задание для гениев*"
      ],
      "metadata": {
        "id": "K5HCSPTPbwfJ"
      }
    },
    {
      "cell_type": "markdown",
      "source": [
        "Реализовать следующие методы поиска выбросов:\n",
        "1. На основе среднего и отклонения\n",
        "2. Критерий Шовене\n",
        "3. С помощью квартилей\n",
        "4. Поиск выбросов по двум переменным\n",
        "\n",
        "[Посмотреть](http://course.omgtu.ru/wp-content/uploads/2021/04/3_%D0%92%D1%8B%D0%B1%D1%80%D0%BE%D1%81%D1%8B.pdf)\n",
        "\n",
        "P.S. в качестве возвразаемого значения методов может быть:\n",
        "1. очищенный датафрейм\n",
        "2. индексы выбросов ```df.series.index```"
      ],
      "metadata": {
        "id": "pil5bgt5b98A"
      }
    },
    {
      "cell_type": "markdown",
      "source": [],
      "metadata": {
        "id": "kVGeFohj8mIE"
      }
    },
    {
      "cell_type": "markdown",
      "source": [
        "**ОБЩИЙ КЛАСС**"
      ],
      "metadata": {
        "id": "BB75hqn3oru3"
      }
    },
    {
      "cell_type": "code",
      "source": [
        "import numpy as np\n",
        "from sklearn.cluster import DBSCAN\n",
        "from scipy import stats\n",
        "\n",
        "class Outline:\n",
        "    def __init__(self, data):\n",
        "      self.data = data\n",
        "\n",
        "    # среднее и отклонение\n",
        "    def detect_outlier_mean_std(self, column_name, threshold=1.5):\n",
        "      mean = self.data[column_name].mean()\n",
        "      std = self.data[column_name].std()\n",
        "      lower_bound = mean - threshold * std\n",
        "      upper_bound = mean + threshold * std\n",
        "\n",
        "      outliers = (self.data[column_name] >= lower_bound) & (self.data[column_name] >= upper_bound)\n",
        "      return self.data[outliers]\n",
        "\n",
        "    # квартили\n",
        "    def detect_outlier_kvart(self, column_name, threshold=1.5):\n",
        "      # threshold определяет, насколько далеко за пределами межквартильного диапазона (IQR) считать точку выбросом. 1.5 - стандартное значение\n",
        "      Q1 = self.data[column_name].quantile(0.25)\n",
        "      Q3 = self.data[column_name].quantile(0.75)\n",
        "\n",
        "      IQR = Q3 - Q1\n",
        "\n",
        "      lower_threshold = Q1 - threshold * IQR\n",
        "      upper_threshold = Q3 + threshold * IQR\n",
        "\n",
        "      outliers = (self.data[column_name] < lower_threshold) | (self.data[column_name] > upper_threshold)\n",
        "\n",
        "      return self.data[outliers]\n",
        "\n",
        "    # Шовене\n",
        "    def detect_outlier_shovene(self, column_name):\n",
        "      column_data = self.data[column_name]\n",
        "      mean = np.mean(column_data)\n",
        "      std_dev = np.std(column_data)\n",
        "      n = len(column_data)\n",
        "      critical_value = 1.0 / (2 * n)\n",
        "\n",
        "      z_scores = abs((column_data - mean) / std_dev)\n",
        "      p_values = 2 * (1 - stats.norm.cdf(z_scores))\n",
        "      is_outlier = p_values < critical_value\n",
        "\n",
        "      outliers = self.data[is_outlier]\n",
        "      return outliers\n",
        "\n",
        "    # по двум переменным (подсказали про кластеризацию и dbscan на паре)\n",
        "    def detect_outlier_dbscan(self, col1, col2, eps, min_samples):\n",
        "        column_data = self.data[[col1, col2]].to_numpy()\n",
        "\n",
        "        dbscan = DBSCAN(eps=eps, min_samples=min_samples).fit(column_data)\n",
        "        labels = dbscan.labels_\n",
        "\n",
        "        # Вычисление количества элементов в каждом кластере\n",
        "        unique, counts = np.unique(labels, return_counts=True)\n",
        "        clusters_counts = dict(zip(unique, counts))\n",
        "\n",
        "        # Поиск кластеров с количеством элементов <= 2\n",
        "        small_clusters = [cluster for cluster, count in clusters_counts.items() if count <= 2]\n",
        "\n",
        "        # Возвращение индексов строк для этих кластеров\n",
        "        outlier_indices = self.data.index[np.isin(labels, small_clusters)].tolist()\n",
        "\n",
        "        return outlier_indices\n"
      ],
      "metadata": {
        "id": "cDIlw5q9LE8l"
      },
      "execution_count": 173,
      "outputs": []
    },
    {
      "cell_type": "markdown",
      "source": [
        "**НА ОСНОВЕ СРЕДНЕГО И ОТКЛОНЕНИЯ**"
      ],
      "metadata": {
        "id": "-fixa1InjItI"
      }
    },
    {
      "cell_type": "code",
      "source": [
        "data = pd.DataFrame(\n",
        "    data = {\n",
        "        \"col1\": [1, 2, 1000, 4, 5, 1000, 6, 7]\n",
        "    }\n",
        ")\n",
        "\n",
        "outlier_detector = Outline(data)\n",
        "\n",
        "outliers = outlier_detector.detect_outlier_mean_std('col1')\n",
        "\n",
        "# Выводим очищенный датафрейм\n",
        "print(\"Индекс/выброс:\")\n",
        "print(outliers)"
      ],
      "metadata": {
        "colab": {
          "base_uri": "https://localhost:8080/"
        },
        "id": "s_TOq4sbLFba",
        "outputId": "d947cb3f-efc9-4829-a5e5-c04b53b410b1"
      },
      "execution_count": 85,
      "outputs": [
        {
          "output_type": "stream",
          "name": "stdout",
          "text": [
            "Индекс/выброс:\n",
            "   col1\n",
            "2  1000\n",
            "5  1000\n"
          ]
        }
      ]
    },
    {
      "cell_type": "markdown",
      "source": [
        "**С ПОМОЩЬЮ КВАРТИЛЕЙ**"
      ],
      "metadata": {
        "id": "QvQ7twFOjNmY"
      }
    },
    {
      "cell_type": "code",
      "source": [
        "data = pd.DataFrame(\n",
        "    data = {\n",
        "        \"col1\": [1000, 2, 1, 1000, 5, 4, 6, 7]\n",
        "    }\n",
        ")\n",
        "\n",
        "outlier_detector = Outline(data)\n",
        "\n",
        "outliers = outlier_detector.detect_outlier_kvart('col1')\n",
        "\n",
        "print(\"Индекс/выброс\")\n",
        "print(outliers)"
      ],
      "metadata": {
        "colab": {
          "base_uri": "https://localhost:8080/"
        },
        "id": "I_tCroj_8gd0",
        "outputId": "5602552a-ceb7-458c-f6e2-4934bcbd3ac0"
      },
      "execution_count": 129,
      "outputs": [
        {
          "output_type": "stream",
          "name": "stdout",
          "text": [
            "Индекс/выброс\n",
            "   col1\n",
            "0  1000\n",
            "3  1000\n"
          ]
        }
      ]
    },
    {
      "cell_type": "markdown",
      "source": [
        "**КРИТЕРИЙ ШОВЕНЕ**"
      ],
      "metadata": {
        "id": "H_RjDml9jSo_"
      }
    },
    {
      "cell_type": "code",
      "source": [
        "data = pd.DataFrame(\n",
        "    data = {\n",
        "        \"col1\": [1, 2, 1000, 4, 5, 6, 7]\n",
        "    }\n",
        ")\n",
        "\n",
        "outlier_detector = Outline(data)\n",
        "\n",
        "outliers = outlier_detector.detect_outlier_shovene('col1')\n",
        "\n",
        "print(\"Индекс/выброс:\")\n",
        "print(outliers)"
      ],
      "metadata": {
        "colab": {
          "base_uri": "https://localhost:8080/"
        },
        "id": "m2UqbF28NmBz",
        "outputId": "6bf8d0e8-6de7-4e09-ba93-3f83bce34ec3"
      },
      "execution_count": 174,
      "outputs": [
        {
          "output_type": "stream",
          "name": "stdout",
          "text": [
            "Индекс/выброс:\n",
            "   col1\n",
            "2  1000\n"
          ]
        }
      ]
    },
    {
      "cell_type": "markdown",
      "source": [
        "**ПО ДВУМ ПЕРЕМЕННЫМ (DBSCAN, КЛАСТЕРИЗАЦИЯ)**"
      ],
      "metadata": {
        "id": "7SZiOgPsolnv"
      }
    },
    {
      "cell_type": "code",
      "source": [
        "data = pd.DataFrame(\n",
        "    data = {\n",
        "        \"col1\": [1000, 2, 1, 1000, 5, 4, 6, 7],\n",
        "        \"col2\": [1000, 2, 1, 5, 1, 4, 6, 7]\n",
        "    }\n",
        ")\n",
        "\n",
        "outlier_detector = Outline(data)\n",
        "\n",
        "df_indices_outliers = outlier_detector.detect_outlier_dbscan('col1', 'col2', eps = 10, min_samples = 2)\n",
        "\n",
        "print(\"Индексы выбросов:\")\n",
        "print(df_indices_outliers)"
      ],
      "metadata": {
        "colab": {
          "base_uri": "https://localhost:8080/"
        },
        "id": "wAv_AdOSmRo_",
        "outputId": "2da5a4c6-521a-45c9-c2c9-be2c205858fd"
      },
      "execution_count": 167,
      "outputs": [
        {
          "output_type": "stream",
          "name": "stdout",
          "text": [
            "Индексы выбросов:\n",
            "[0, 3]\n"
          ]
        }
      ]
    },
    {
      "cell_type": "markdown",
      "source": [
        "### Пример реализации одного метода"
      ],
      "metadata": {
        "id": "dRQRyxdgD_sk"
      }
    },
    {
      "cell_type": "code",
      "source": [
        "from statistics import median, mean\n",
        "\n",
        "class Outline:\n",
        "  def __init__(self, df):\n",
        "    self.df = df\n",
        "\n",
        "  def delete_outline_by_mean(self, column_name):\n",
        "    mean_data = mean(self.df[column_name])\n",
        "    maximum = mean_data * 2\n",
        "    result = []\n",
        "\n",
        "    for item in self.df[column_name]:\n",
        "      if abs(item - mean_data) < maximum:\n",
        "        result.append(item)\n",
        "\n",
        "    return result\n",
        "\n"
      ],
      "metadata": {
        "id": "lJEOQcx0vavH"
      },
      "execution_count": 29,
      "outputs": []
    },
    {
      "cell_type": "code",
      "source": [
        "data = pd.DataFrame(\n",
        "    data = {\n",
        "        \"col1\": [1, 2, 3, 4, 5, 1000],\n",
        "        \"col2\": [1, 2, 3, 2, 1, 4]\n",
        "    }\n",
        ")\n",
        "\n",
        "so = Outline(data)\n",
        "so.delete_outline_by_mean(\"col1\")"
      ],
      "metadata": {
        "colab": {
          "base_uri": "https://localhost:8080/"
        },
        "id": "1EViTEon8Rkj",
        "outputId": "d37c5b59-7c15-4966-fc49-463d95ccf080"
      },
      "execution_count": 30,
      "outputs": [
        {
          "output_type": "execute_result",
          "data": {
            "text/plain": [
              "[1, 2, 3, 4, 5]"
            ]
          },
          "metadata": {},
          "execution_count": 30
        }
      ]
    },
    {
      "cell_type": "code",
      "source": [],
      "metadata": {
        "id": "5AUwZHuc7_P6"
      },
      "execution_count": null,
      "outputs": []
    }
  ]
}